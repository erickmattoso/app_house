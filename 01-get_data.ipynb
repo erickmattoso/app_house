{
 "cells": [
  {
   "cell_type": "markdown",
   "metadata": {},
   "source": [
    "# imports"
   ]
  },
  {
   "cell_type": "code",
   "execution_count": 1,
   "metadata": {},
   "outputs": [],
   "source": [
    "from bs4 import BeautifulSoup\n",
    "from datetime import date\n",
    "from requests import get\n",
    "import pandas as pd\n",
    "today = date.today()"
   ]
  },
  {
   "cell_type": "markdown",
   "metadata": {},
   "source": [
    "# crawler"
   ]
  },
  {
   "cell_type": "markdown",
   "metadata": {},
   "source": [
    "## defining url"
   ]
  },
  {
   "cell_type": "code",
   "execution_count": 2,
   "metadata": {},
   "outputs": [],
   "source": [
    "url = 'https://www.pararius.com/apartments/nederland/page-'\n",
    "response = get(url+'1')\n",
    "html_soup = BeautifulSoup(response.text, 'html.parser')"
   ]
  },
  {
   "cell_type": "markdown",
   "metadata": {},
   "source": [
    "## get numbers to define iteractions"
   ]
  },
  {
   "cell_type": "code",
   "execution_count": 3,
   "metadata": {},
   "outputs": [],
   "source": [
    "num_pages = html_soup.find_all('a',{\"class\":\"pagination__link\"})[4].text\n",
    "num_pages = int(num_pages)\n",
    "\n",
    "num_rents = html_soup.find_all('div',{\"class\":\"pagination__summary\"})[0].text\n",
    "num_rents = int(num_rents.split()[-2])"
   ]
  },
  {
   "cell_type": "code",
   "execution_count": 4,
   "metadata": {},
   "outputs": [
    {
     "name": "stdout",
     "output_type": "stream",
     "text": [
      "https://www.pararius.com/apartments/nederland/page-1\n",
      "180\n",
      "5382\n"
     ]
    }
   ],
   "source": [
    "print(url+'1')\n",
    "print(num_pages)\n",
    "print(num_rents)"
   ]
  },
  {
   "cell_type": "markdown",
   "metadata": {},
   "source": [
    "## get total html soup"
   ]
  },
  {
   "cell_type": "code",
   "execution_count": 5,
   "metadata": {
    "scrolled": true
   },
   "outputs": [],
   "source": [
    "houses = []\n",
    "for count in range(1, num_pages+1):\n",
    "    try:\n",
    "        response = get(url + str(count))\n",
    "        html_soup = BeautifulSoup(response.text, 'html.parser')\n",
    "        house_data = html_soup.find_all('li', class_=\"search-list__item search-list__item--listing\")\n",
    "        houses.append(house_data)\n",
    "    except:\n",
    "        pass"
   ]
  },
  {
   "cell_type": "markdown",
   "metadata": {},
   "source": [
    "## get data"
   ]
  },
  {
   "cell_type": "code",
   "execution_count": 6,
   "metadata": {},
   "outputs": [],
   "source": [
    "# description_=[]\n",
    "price_=[]\n",
    "address_=[]\n",
    "street_=[]\n",
    "agency_=[]\n",
    "irl_=[]\n",
    "image_=[]\n",
    "description_2=[]\n",
    "\n",
    "for n_pages in range (num_pages):\n",
    "    n_pages_len = len(houses[n_pages])\n",
    "    for n_rents in range (n_pages_len):\n",
    "        num = (houses[n_pages][n_rents])\n",
    "        list_li = num.find_all('li',{\"class\":\"illustrated-features__item\"})\n",
    "        description_1={}\n",
    "        \n",
    "        try:\n",
    "            p5_value = num.find_all('span',{\"class\":\"listing-label listing-label--under-option\"})[0].text\n",
    "        except:\n",
    "            p5_value = None\n",
    "        \n",
    "        for i in range(len(list_li)):\n",
    "            a = (list_li[i][\"class\"][1][28:])\n",
    "            b = (list_li[i].text)\n",
    "            description_1.update({\n",
    "                a:b,\n",
    "                'status':p5_value,\n",
    "            })\n",
    "        description_2.append(description_1)\n",
    "        \n",
    "        price = num.find_all('div',{\"class\":\"listing-search-item__price\"})[0].text\n",
    "        price_.append(price)\n",
    "\n",
    "        address = num.find('div',{\"class\":\"listing-search-item__location\"}).text\n",
    "        address_.append(address)\n",
    "\n",
    "        street = num.find_all('a',{\"class\":\"listing-search-item__link listing-search-item__link--title\"})[0].text\n",
    "        street_.append(street)\n",
    "\n",
    "        irl = num.find_all('a',{\"class\":\"listing-search-item__link listing-search-item__link--title\"})[0]['href']\n",
    "        irl_.append(irl)\n",
    "        \n",
    "        image = num.find_all('img')[0]['src']\n",
    "        image_.append(image)\n",
    "\n",
    "        agency = num.find_all('a', href=True)[2].text\n",
    "        agency_.append(agency)"
   ]
  },
  {
   "cell_type": "markdown",
   "metadata": {},
   "source": [
    "# Into DataFrame"
   ]
  },
  {
   "cell_type": "code",
   "execution_count": 7,
   "metadata": {},
   "outputs": [],
   "source": [
    "df_pararius_1 = pd.DataFrame({\n",
    "    'price':price_,\n",
    "    'address':address_,\n",
    "    'street':street_,\n",
    "    'agency':agency_,\n",
    "    'irl':irl_,\n",
    "    'image':image_,\n",
    "})\n",
    "df_pararius_2 = pd.DataFrame(description_2)"
   ]
  },
  {
   "cell_type": "markdown",
   "metadata": {},
   "source": [
    "## Unify dataframes"
   ]
  },
  {
   "cell_type": "code",
   "execution_count": 8,
   "metadata": {},
   "outputs": [
    {
     "name": "stderr",
     "output_type": "stream",
     "text": [
      "<ipython-input-8-22791b88bcc6>:1: FutureWarning: In a future version of pandas all arguments of concat except for the argument 'objs' will be keyword-only\n",
      "  df_pararius = pd.concat([df_pararius_1, df_pararius_2],1)\n"
     ]
    }
   ],
   "source": [
    "df_pararius = pd.concat([df_pararius_1, df_pararius_2],1)"
   ]
  },
  {
   "cell_type": "markdown",
   "metadata": {},
   "source": [
    "# fixing text"
   ]
  },
  {
   "cell_type": "code",
   "execution_count": 9,
   "metadata": {},
   "outputs": [],
   "source": [
    "df_pararius['surface-area']        = df_pararius['surface-area'].str.replace(\"\\D\",\"\",regex=True)\n",
    "df_pararius['number-of-rooms']     = df_pararius['number-of-rooms'].str.replace(\"\\D\",\"\",regex=True)\n",
    "df_pararius['garden-surface-area'] = df_pararius['garden-surface-area'].str.replace(\"\\D\",\"\",regex=True)\n",
    "df_pararius['plot-size']           = df_pararius['plot-size'].str.replace(\"\\D\",\"\",regex=True)"
   ]
  },
  {
   "cell_type": "code",
   "execution_count": 10,
   "metadata": {},
   "outputs": [],
   "source": [
    "df_pararius = df_pararius.dropna(axis=1, how='all')\n",
    "df_pararius['price'] = df_pararius['price'].str.replace(\"\\D\",\"\",regex=True)\n",
    "df_pararius['address'] = df_pararius['address'].str.replace('\\n|new|  ',\"\",regex=True)\n",
    "df_pararius['postcode'] = df_pararius['address'].str.replace(\"\\s\",\"\",regex=True).str[0:6]\n",
    "df_pararius['status'] = df_pararius['status'].str.replace('\\n',\"\",regex=True)\n",
    "df_pararius['date'] = str(today)"
   ]
  },
  {
   "cell_type": "code",
   "execution_count": 11,
   "metadata": {},
   "outputs": [],
   "source": [
    "df_pararius = df_pararius.drop_duplicates(subset=['irl']).reset_index(drop=True)"
   ]
  },
  {
   "cell_type": "markdown",
   "metadata": {},
   "source": [
    "# save data"
   ]
  },
  {
   "cell_type": "code",
   "execution_count": 12,
   "metadata": {},
   "outputs": [],
   "source": [
    "today_csv = (\"df_pararius_\"+ str(today)+'.csv')\n",
    "df_pararius.to_csv(f'data/temp/{today_csv}')"
   ]
  },
  {
   "cell_type": "code",
   "execution_count": 13,
   "metadata": {},
   "outputs": [
    {
     "data": {
      "text/html": [
       "<div>\n",
       "<style scoped>\n",
       "    .dataframe tbody tr th:only-of-type {\n",
       "        vertical-align: middle;\n",
       "    }\n",
       "\n",
       "    .dataframe tbody tr th {\n",
       "        vertical-align: top;\n",
       "    }\n",
       "\n",
       "    .dataframe thead th {\n",
       "        text-align: right;\n",
       "    }\n",
       "</style>\n",
       "<table border=\"1\" class=\"dataframe\">\n",
       "  <thead>\n",
       "    <tr style=\"text-align: right;\">\n",
       "      <th></th>\n",
       "      <th>price</th>\n",
       "      <th>address</th>\n",
       "      <th>street</th>\n",
       "      <th>agency</th>\n",
       "      <th>irl</th>\n",
       "      <th>image</th>\n",
       "      <th>surface-area</th>\n",
       "      <th>status</th>\n",
       "      <th>number-of-rooms</th>\n",
       "      <th>interior</th>\n",
       "      <th>construction-period</th>\n",
       "      <th>garden-surface-area</th>\n",
       "      <th>plot-size</th>\n",
       "      <th>postcode</th>\n",
       "      <th>date</th>\n",
       "    </tr>\n",
       "  </thead>\n",
       "  <tbody>\n",
       "    <tr>\n",
       "      <th>0</th>\n",
       "      <td>1300</td>\n",
       "      <td>3051 VN Rotterdam (Hillegersberg Zuid)</td>\n",
       "      <td>House Robijnstraat</td>\n",
       "      <td>Rotsvast Rotterdam</td>\n",
       "      <td>/house-for-rent/rotterdam/67104a9d/robijnstraat</td>\n",
       "      <td>https://casco-media-prod.global.ssl.fastly.net...</td>\n",
       "      <td>78</td>\n",
       "      <td>None</td>\n",
       "      <td>3</td>\n",
       "      <td>Upholstered</td>\n",
       "      <td>NaN</td>\n",
       "      <td>NaN</td>\n",
       "      <td>NaN</td>\n",
       "      <td>3051VN</td>\n",
       "      <td>2021-10-19</td>\n",
       "    </tr>\n",
       "    <tr>\n",
       "      <th>1</th>\n",
       "      <td>1315</td>\n",
       "      <td>3015 BA Rotterdam (Oude Westen)</td>\n",
       "      <td>Apartment Nieuwe Binnenweg</td>\n",
       "      <td>Rotsvast Rotterdam</td>\n",
       "      <td>/apartment-for-rent/rotterdam/b45b5d17/nieuwe-...</td>\n",
       "      <td>https://casco-media-prod.global.ssl.fastly.net...</td>\n",
       "      <td>76</td>\n",
       "      <td>None</td>\n",
       "      <td>3</td>\n",
       "      <td>Upholstered</td>\n",
       "      <td>NaN</td>\n",
       "      <td>NaN</td>\n",
       "      <td>NaN</td>\n",
       "      <td>3015BA</td>\n",
       "      <td>2021-10-19</td>\n",
       "    </tr>\n",
       "    <tr>\n",
       "      <th>2</th>\n",
       "      <td>925</td>\n",
       "      <td>3081 SC Rotterdam (Tarwewijk)</td>\n",
       "      <td>Apartment Geervlietstraat 37 B</td>\n",
       "      <td>Huurwoning in Rotterdam</td>\n",
       "      <td>/apartment-for-rent/rotterdam/623c4dee/geervli...</td>\n",
       "      <td>https://media.pararius.nl/image/PR0001659000/P...</td>\n",
       "      <td>46</td>\n",
       "      <td>None</td>\n",
       "      <td>2</td>\n",
       "      <td>Upholstered</td>\n",
       "      <td>NaN</td>\n",
       "      <td>NaN</td>\n",
       "      <td>NaN</td>\n",
       "      <td>3081SC</td>\n",
       "      <td>2021-10-19</td>\n",
       "    </tr>\n",
       "    <tr>\n",
       "      <th>3</th>\n",
       "      <td>1100</td>\n",
       "      <td>3037 PB Rotterdam (Liskwartier)</td>\n",
       "      <td>Apartment Berkelselaan 25 B02</td>\n",
       "      <td>Huurwoning in Rotterdam</td>\n",
       "      <td>/apartment-for-rent/rotterdam/75566f85/berkels...</td>\n",
       "      <td>https://media.pararius.nl/image/PR0001659000/P...</td>\n",
       "      <td>65</td>\n",
       "      <td>None</td>\n",
       "      <td>2</td>\n",
       "      <td>Upholstered</td>\n",
       "      <td>NaN</td>\n",
       "      <td>NaN</td>\n",
       "      <td>NaN</td>\n",
       "      <td>3037PB</td>\n",
       "      <td>2021-10-19</td>\n",
       "    </tr>\n",
       "    <tr>\n",
       "      <th>4</th>\n",
       "      <td>950</td>\n",
       "      <td>3021 TP Rotterdam (Middelland)</td>\n",
       "      <td>Apartment Jan Porcellisstraat 35 C01</td>\n",
       "      <td>Huurwoning in Rotterdam</td>\n",
       "      <td>/apartment-for-rent/rotterdam/4946a8a7/jan-por...</td>\n",
       "      <td>https://media.pararius.nl/image/PR0001659000/P...</td>\n",
       "      <td>51</td>\n",
       "      <td>None</td>\n",
       "      <td>2</td>\n",
       "      <td>Upholstered</td>\n",
       "      <td>NaN</td>\n",
       "      <td>NaN</td>\n",
       "      <td>NaN</td>\n",
       "      <td>3021TP</td>\n",
       "      <td>2021-10-19</td>\n",
       "    </tr>\n",
       "    <tr>\n",
       "      <th>...</th>\n",
       "      <td>...</td>\n",
       "      <td>...</td>\n",
       "      <td>...</td>\n",
       "      <td>...</td>\n",
       "      <td>...</td>\n",
       "      <td>...</td>\n",
       "      <td>...</td>\n",
       "      <td>...</td>\n",
       "      <td>...</td>\n",
       "      <td>...</td>\n",
       "      <td>...</td>\n",
       "      <td>...</td>\n",
       "      <td>...</td>\n",
       "      <td>...</td>\n",
       "      <td>...</td>\n",
       "    </tr>\n",
       "    <tr>\n",
       "      <th>5378</th>\n",
       "      <td>1500</td>\n",
       "      <td>1505 TJ Zaandam (Bomenbuurt)</td>\n",
       "      <td>House Lijsterbesstraat</td>\n",
       "      <td>Uw Partner in Onroerende Zaken</td>\n",
       "      <td>/house-for-rent/zaandam/1b23bcc5/lijsterbesstraat</td>\n",
       "      <td>https://casco-media-prod.global.ssl.fastly.net...</td>\n",
       "      <td>86</td>\n",
       "      <td>Under option</td>\n",
       "      <td>4</td>\n",
       "      <td>Upholstered</td>\n",
       "      <td>NaN</td>\n",
       "      <td>NaN</td>\n",
       "      <td>NaN</td>\n",
       "      <td>1505TJ</td>\n",
       "      <td>2021-10-19</td>\n",
       "    </tr>\n",
       "    <tr>\n",
       "      <th>5379</th>\n",
       "      <td>3450</td>\n",
       "      <td>3045 LJ Rotterdam (Zestienhoven)</td>\n",
       "      <td>House Overschiese Kleiweg</td>\n",
       "      <td>BenHousing</td>\n",
       "      <td>/house-for-rent/rotterdam/e5d0ae4e/overschiese...</td>\n",
       "      <td>https://casco-media-prod.global.ssl.fastly.net...</td>\n",
       "      <td>294</td>\n",
       "      <td>Under option</td>\n",
       "      <td>6</td>\n",
       "      <td>Upholstered or furnished</td>\n",
       "      <td>NaN</td>\n",
       "      <td>NaN</td>\n",
       "      <td>NaN</td>\n",
       "      <td>3045LJ</td>\n",
       "      <td>2021-10-19</td>\n",
       "    </tr>\n",
       "    <tr>\n",
       "      <th>5380</th>\n",
       "      <td>960</td>\n",
       "      <td>3762 GK Soest (Klaarwater)</td>\n",
       "      <td>Apartment Wiardi Beckmanstraat</td>\n",
       "      <td>Regio Vastgoedmakelaars</td>\n",
       "      <td>/apartment-for-rent/soest/2e33b708/wiardi-beck...</td>\n",
       "      <td>https://casco-media-prod.global.ssl.fastly.net...</td>\n",
       "      <td>90</td>\n",
       "      <td>Under option</td>\n",
       "      <td>4</td>\n",
       "      <td>Shell</td>\n",
       "      <td>NaN</td>\n",
       "      <td>NaN</td>\n",
       "      <td>NaN</td>\n",
       "      <td>3762GK</td>\n",
       "      <td>2021-10-19</td>\n",
       "    </tr>\n",
       "    <tr>\n",
       "      <th>5381</th>\n",
       "      <td>1350</td>\n",
       "      <td>1567 LD Assendelft (Parkrijk)</td>\n",
       "      <td>Apartment Wisselwachter</td>\n",
       "      <td>Uw Partner in Onroerende Zaken</td>\n",
       "      <td>/apartment-for-rent/assendelft/829433fa/wissel...</td>\n",
       "      <td>https://casco-media-prod.global.ssl.fastly.net...</td>\n",
       "      <td>76</td>\n",
       "      <td>Under option</td>\n",
       "      <td>3</td>\n",
       "      <td>Upholstered</td>\n",
       "      <td>NaN</td>\n",
       "      <td>NaN</td>\n",
       "      <td>NaN</td>\n",
       "      <td>1567LD</td>\n",
       "      <td>2021-10-19</td>\n",
       "    </tr>\n",
       "    <tr>\n",
       "      <th>5382</th>\n",
       "      <td>1500</td>\n",
       "      <td>1501 AG Zaandam (Burgemeestersbuurt)</td>\n",
       "      <td>House Prins Hendrikkade</td>\n",
       "      <td>Uw Partner in Onroerende Zaken</td>\n",
       "      <td>/house-for-rent/zaandam/d7324a83/prins-hendrik...</td>\n",
       "      <td>https://casco-media-prod.global.ssl.fastly.net...</td>\n",
       "      <td>100</td>\n",
       "      <td>Under option</td>\n",
       "      <td>3</td>\n",
       "      <td>Upholstered or furnished</td>\n",
       "      <td>NaN</td>\n",
       "      <td>NaN</td>\n",
       "      <td>NaN</td>\n",
       "      <td>1501AG</td>\n",
       "      <td>2021-10-19</td>\n",
       "    </tr>\n",
       "  </tbody>\n",
       "</table>\n",
       "<p>5383 rows × 15 columns</p>\n",
       "</div>"
      ],
      "text/plain": [
       "     price                                 address  \\\n",
       "0     1300  3051 VN Rotterdam (Hillegersberg Zuid)   \n",
       "1     1315         3015 BA Rotterdam (Oude Westen)   \n",
       "2      925           3081 SC Rotterdam (Tarwewijk)   \n",
       "3     1100         3037 PB Rotterdam (Liskwartier)   \n",
       "4      950          3021 TP Rotterdam (Middelland)   \n",
       "...    ...                                     ...   \n",
       "5378  1500            1505 TJ Zaandam (Bomenbuurt)   \n",
       "5379  3450        3045 LJ Rotterdam (Zestienhoven)   \n",
       "5380   960              3762 GK Soest (Klaarwater)   \n",
       "5381  1350           1567 LD Assendelft (Parkrijk)   \n",
       "5382  1500    1501 AG Zaandam (Burgemeestersbuurt)   \n",
       "\n",
       "                                    street                          agency  \\\n",
       "0                       House Robijnstraat              Rotsvast Rotterdam   \n",
       "1               Apartment Nieuwe Binnenweg              Rotsvast Rotterdam   \n",
       "2           Apartment Geervlietstraat 37 B         Huurwoning in Rotterdam   \n",
       "3            Apartment Berkelselaan 25 B02         Huurwoning in Rotterdam   \n",
       "4     Apartment Jan Porcellisstraat 35 C01         Huurwoning in Rotterdam   \n",
       "...                                    ...                             ...   \n",
       "5378                House Lijsterbesstraat  Uw Partner in Onroerende Zaken   \n",
       "5379             House Overschiese Kleiweg                      BenHousing   \n",
       "5380        Apartment Wiardi Beckmanstraat         Regio Vastgoedmakelaars   \n",
       "5381               Apartment Wisselwachter  Uw Partner in Onroerende Zaken   \n",
       "5382               House Prins Hendrikkade  Uw Partner in Onroerende Zaken   \n",
       "\n",
       "                                                    irl  \\\n",
       "0       /house-for-rent/rotterdam/67104a9d/robijnstraat   \n",
       "1     /apartment-for-rent/rotterdam/b45b5d17/nieuwe-...   \n",
       "2     /apartment-for-rent/rotterdam/623c4dee/geervli...   \n",
       "3     /apartment-for-rent/rotterdam/75566f85/berkels...   \n",
       "4     /apartment-for-rent/rotterdam/4946a8a7/jan-por...   \n",
       "...                                                 ...   \n",
       "5378  /house-for-rent/zaandam/1b23bcc5/lijsterbesstraat   \n",
       "5379  /house-for-rent/rotterdam/e5d0ae4e/overschiese...   \n",
       "5380  /apartment-for-rent/soest/2e33b708/wiardi-beck...   \n",
       "5381  /apartment-for-rent/assendelft/829433fa/wissel...   \n",
       "5382  /house-for-rent/zaandam/d7324a83/prins-hendrik...   \n",
       "\n",
       "                                                  image surface-area  \\\n",
       "0     https://casco-media-prod.global.ssl.fastly.net...           78   \n",
       "1     https://casco-media-prod.global.ssl.fastly.net...           76   \n",
       "2     https://media.pararius.nl/image/PR0001659000/P...           46   \n",
       "3     https://media.pararius.nl/image/PR0001659000/P...           65   \n",
       "4     https://media.pararius.nl/image/PR0001659000/P...           51   \n",
       "...                                                 ...          ...   \n",
       "5378  https://casco-media-prod.global.ssl.fastly.net...           86   \n",
       "5379  https://casco-media-prod.global.ssl.fastly.net...          294   \n",
       "5380  https://casco-media-prod.global.ssl.fastly.net...           90   \n",
       "5381  https://casco-media-prod.global.ssl.fastly.net...           76   \n",
       "5382  https://casco-media-prod.global.ssl.fastly.net...          100   \n",
       "\n",
       "                        status number-of-rooms                  interior  \\\n",
       "0                         None               3               Upholstered   \n",
       "1                         None               3               Upholstered   \n",
       "2                         None               2               Upholstered   \n",
       "3                         None               2               Upholstered   \n",
       "4                         None               2               Upholstered   \n",
       "...                        ...             ...                       ...   \n",
       "5378          Under option                   4               Upholstered   \n",
       "5379          Under option                   6  Upholstered or furnished   \n",
       "5380          Under option                   4                     Shell   \n",
       "5381          Under option                   3               Upholstered   \n",
       "5382          Under option                   3  Upholstered or furnished   \n",
       "\n",
       "     construction-period garden-surface-area plot-size postcode        date  \n",
       "0                    NaN                 NaN       NaN   3051VN  2021-10-19  \n",
       "1                    NaN                 NaN       NaN   3015BA  2021-10-19  \n",
       "2                    NaN                 NaN       NaN   3081SC  2021-10-19  \n",
       "3                    NaN                 NaN       NaN   3037PB  2021-10-19  \n",
       "4                    NaN                 NaN       NaN   3021TP  2021-10-19  \n",
       "...                  ...                 ...       ...      ...         ...  \n",
       "5378                 NaN                 NaN       NaN   1505TJ  2021-10-19  \n",
       "5379                 NaN                 NaN       NaN   3045LJ  2021-10-19  \n",
       "5380                 NaN                 NaN       NaN   3762GK  2021-10-19  \n",
       "5381                 NaN                 NaN       NaN   1567LD  2021-10-19  \n",
       "5382                 NaN                 NaN       NaN   1501AG  2021-10-19  \n",
       "\n",
       "[5383 rows x 15 columns]"
      ]
     },
     "execution_count": 13,
     "metadata": {},
     "output_type": "execute_result"
    }
   ],
   "source": [
    "df_pararius"
   ]
  }
 ],
 "metadata": {
  "kernelspec": {
   "display_name": "Python 3",
   "language": "python",
   "name": "python3"
  },
  "language_info": {
   "codemirror_mode": {
    "name": "ipython",
    "version": 3
   },
   "file_extension": ".py",
   "mimetype": "text/x-python",
   "name": "python",
   "nbconvert_exporter": "python",
   "pygments_lexer": "ipython3",
   "version": "3.8.5"
  }
 },
 "nbformat": 4,
 "nbformat_minor": 4
}
