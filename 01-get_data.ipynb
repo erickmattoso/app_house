{
 "cells": [
  {
   "cell_type": "markdown",
   "metadata": {},
   "source": [
    "# imports"
   ]
  },
  {
   "cell_type": "code",
   "execution_count": 1,
   "metadata": {},
   "outputs": [],
   "source": [
    "import requests\n",
    "from fake_useragent import UserAgent\n",
    "import time\n",
    "from bs4 import BeautifulSoup\n",
    "from datetime import date\n",
    "import requests\n",
    "from requests import get\n",
    "import pandas as pd\n",
    "today = date.today()"
   ]
  },
  {
   "cell_type": "markdown",
   "metadata": {},
   "source": [
    "# crawler"
   ]
  },
  {
   "cell_type": "markdown",
   "metadata": {},
   "source": [
    "## defining url"
   ]
  },
  {
   "cell_type": "code",
   "execution_count": 2,
   "metadata": {},
   "outputs": [],
   "source": [
    "def scrape_web(url):    \n",
    "    headers = {'User-Agent': 'Mozilla/5.0 (Macintosh; Intel Mac OS X 10_10_1) AppleWebKit/537.36 (KHTML, like Gecko) Chrome/39.0.2171.95 Safari/537.36'}\n",
    "    ua=UserAgent()\n",
    "    hdr = {'User-Agent': ua.random,\n",
    "          'Accept': 'text/html,application/xhtml+xml,application/xml;q=0.9,*/*;q=0.8',\n",
    "          'Accept-Charset': 'ISO-8859-1,utf-8;q=0.7,*;q=0.3',\n",
    "          'Accept-Encoding': 'none',\n",
    "          'Accept-Language': 'en-US,en;q=0.8',\n",
    "          'Connection': 'keep-alive'}\n",
    "    time.sleep(2)\n",
    "    response = requests.get(url, headers=hdr)\n",
    "    time.sleep(4)\n",
    "    html_soup = BeautifulSoup(response.content,\"lxml\")   \n",
    "    return html_soup"
   ]
  },
  {
   "cell_type": "code",
   "execution_count": 3,
   "metadata": {
    "scrolled": true
   },
   "outputs": [],
   "source": [
    "url = 'https://www.pararius.com/apartments/nederland/page-'\n",
    "html_soup = scrape_web(url+'1')"
   ]
  },
  {
   "cell_type": "markdown",
   "metadata": {},
   "source": [
    "## get numbers to define iteractions"
   ]
  },
  {
   "cell_type": "code",
   "execution_count": 4,
   "metadata": {},
   "outputs": [],
   "source": [
    "num_pages = html_soup.find_all('a',{\"class\":\"pagination__link\"})[4].text\n",
    "num_pages = int(num_pages)\n",
    "\n",
    "num_rents = html_soup.find_all('div',{\"class\":\"pagination__summary\"})[0].text\n",
    "num_rents = int(num_rents.split()[-2])"
   ]
  },
  {
   "cell_type": "code",
   "execution_count": 5,
   "metadata": {},
   "outputs": [
    {
     "name": "stdout",
     "output_type": "stream",
     "text": [
      "174\n",
      "5220\n"
     ]
    }
   ],
   "source": [
    "print(num_pages)\n",
    "print(num_rents)"
   ]
  },
  {
   "cell_type": "markdown",
   "metadata": {},
   "source": [
    "## get total html soup"
   ]
  },
  {
   "cell_type": "code",
   "execution_count": 6,
   "metadata": {
    "scrolled": true
   },
   "outputs": [],
   "source": [
    "houses = []\n",
    "for count in range(1, num_pages+1):\n",
    "    try:\n",
    "        html_soup = scrape_web(url + str(count))        \n",
    "        house_data = html_soup.find_all('li', class_=\"search-list__item search-list__item--listing\")\n",
    "        houses.append(house_data)\n",
    "    except:\n",
    "        print('erro')\n",
    "        pass"
   ]
  },
  {
   "cell_type": "markdown",
   "metadata": {},
   "source": [
    "## get data"
   ]
  },
  {
   "cell_type": "code",
   "execution_count": 7,
   "metadata": {},
   "outputs": [],
   "source": [
    "price_=[]\n",
    "address_=[]\n",
    "street_=[]\n",
    "agency_=[]\n",
    "irl_=[]\n",
    "image_=[]\n",
    "description_2=[]\n",
    "\n",
    "for n_pages in range (num_pages):\n",
    "    n_pages_len = len(houses[n_pages])\n",
    "    for n_rents in range (n_pages_len):\n",
    "        num = (houses[n_pages][n_rents])\n",
    "        list_li = num.find_all('li',{\"class\":\"illustrated-features__item\"})\n",
    "        description_1={}\n",
    "        \n",
    "        try:\n",
    "            p5_value = num.find_all('span',{\"class\":\"listing-label listing-label--under-option\"})[0].text\n",
    "        except:\n",
    "            p5_value = None\n",
    "        \n",
    "        for i in range(len(list_li)):\n",
    "            a = (list_li[i][\"class\"][1][28:])\n",
    "            b = (list_li[i].text)\n",
    "            description_1.update({\n",
    "                a:b,\n",
    "                'status':p5_value,\n",
    "            })\n",
    "        description_2.append(description_1)\n",
    "        \n",
    "        price = num.find_all('div',{\"class\":\"listing-search-item__price\"})[0].text\n",
    "        price_.append(price)\n",
    "\n",
    "        address = num.find('div',{\"class\":\"listing-search-item__location\"}).text\n",
    "        address_.append(address)\n",
    "\n",
    "        street = num.find_all('a',{\"class\":\"listing-search-item__link listing-search-item__link--title\"})[0].text\n",
    "        street_.append(street)\n",
    "\n",
    "        irl = num.find_all('a',{\"class\":\"listing-search-item__link listing-search-item__link--title\"})[0]['href']\n",
    "        irl_.append(irl)\n",
    "        \n",
    "        image = num.find_all('img')[0]['src']\n",
    "        image_.append(image)\n",
    "\n",
    "        agency = num.find_all('a', href=True)[2].text\n",
    "        agency_.append(agency)"
   ]
  },
  {
   "cell_type": "markdown",
   "metadata": {},
   "source": [
    "# Into DataFrame"
   ]
  },
  {
   "cell_type": "code",
   "execution_count": 8,
   "metadata": {},
   "outputs": [],
   "source": [
    "df_pararius_1 = pd.DataFrame({\n",
    "    'price':price_,\n",
    "    'address':address_,\n",
    "    'street':street_,\n",
    "    'agency':agency_,\n",
    "    'irl':irl_,\n",
    "    'image':image_,\n",
    "})\n",
    "df_pararius_2 = pd.DataFrame(description_2)"
   ]
  },
  {
   "cell_type": "markdown",
   "metadata": {},
   "source": [
    "## Unify dataframes"
   ]
  },
  {
   "cell_type": "code",
   "execution_count": 9,
   "metadata": {},
   "outputs": [
    {
     "name": "stderr",
     "output_type": "stream",
     "text": [
      "/var/folders/pl/wm7wjyvn1vvflk70yn1b6n6c0000gn/T/ipykernel_15903/2613757866.py:1: FutureWarning: In a future version of pandas all arguments of concat except for the argument 'objs' will be keyword-only\n",
      "  df_pararius = pd.concat([df_pararius_1, df_pararius_2],1)\n"
     ]
    }
   ],
   "source": [
    "df_pararius = pd.concat([df_pararius_1, df_pararius_2],1)"
   ]
  },
  {
   "cell_type": "markdown",
   "metadata": {},
   "source": [
    "# fixing text"
   ]
  },
  {
   "cell_type": "code",
   "execution_count": 10,
   "metadata": {},
   "outputs": [],
   "source": [
    "df_pararius['surface-area']        = df_pararius['surface-area'].str.replace(\"\\D\",\"\",regex=True)\n",
    "df_pararius['number-of-rooms']     = df_pararius['number-of-rooms'].str.replace(\"\\D\",\"\",regex=True)\n",
    "df_pararius['garden-surface-area'] = df_pararius['garden-surface-area'].str.replace(\"\\D\",\"\",regex=True)\n",
    "df_pararius['plot-size']           = df_pararius['plot-size'].str.replace(\"\\D\",\"\",regex=True)"
   ]
  },
  {
   "cell_type": "code",
   "execution_count": 11,
   "metadata": {},
   "outputs": [],
   "source": [
    "df_pararius = df_pararius.dropna(axis=1, how='all')\n",
    "df_pararius['price'] = df_pararius['price'].str.replace(\"\\D\",\"\",regex=True)\n",
    "df_pararius['address'] = df_pararius['address'].str.replace('\\n|new|  ',\"\",regex=True)\n",
    "df_pararius['postcode'] = df_pararius['address'].str.replace(\"\\s\",\"\",regex=True).str[0:6]\n",
    "df_pararius['date'] = str(today)"
   ]
  },
  {
   "cell_type": "code",
   "execution_count": 12,
   "metadata": {},
   "outputs": [],
   "source": [
    "df_pararius['status'] = df_pararius['status'].str.replace('\\n',\"\",regex=True)"
   ]
  },
  {
   "cell_type": "code",
   "execution_count": 13,
   "metadata": {},
   "outputs": [],
   "source": [
    "df_pararius = df_pararius.drop_duplicates(subset=['irl']).reset_index(drop=True)"
   ]
  },
  {
   "cell_type": "markdown",
   "metadata": {},
   "source": [
    "# save data"
   ]
  },
  {
   "cell_type": "code",
   "execution_count": 14,
   "metadata": {},
   "outputs": [
    {
     "data": {
      "text/html": [
       "<div>\n",
       "<style scoped>\n",
       "    .dataframe tbody tr th:only-of-type {\n",
       "        vertical-align: middle;\n",
       "    }\n",
       "\n",
       "    .dataframe tbody tr th {\n",
       "        vertical-align: top;\n",
       "    }\n",
       "\n",
       "    .dataframe thead th {\n",
       "        text-align: right;\n",
       "    }\n",
       "</style>\n",
       "<table border=\"1\" class=\"dataframe\">\n",
       "  <thead>\n",
       "    <tr style=\"text-align: right;\">\n",
       "      <th></th>\n",
       "      <th>price</th>\n",
       "      <th>address</th>\n",
       "      <th>street</th>\n",
       "      <th>agency</th>\n",
       "      <th>irl</th>\n",
       "      <th>image</th>\n",
       "      <th>surface-area</th>\n",
       "      <th>status</th>\n",
       "      <th>number-of-rooms</th>\n",
       "      <th>interior</th>\n",
       "      <th>construction-period</th>\n",
       "      <th>garden-surface-area</th>\n",
       "      <th>plot-size</th>\n",
       "      <th>postcode</th>\n",
       "      <th>date</th>\n",
       "    </tr>\n",
       "  </thead>\n",
       "  <tbody>\n",
       "    <tr>\n",
       "      <th>0</th>\n",
       "      <td>1264</td>\n",
       "      <td>3572 PK Utrecht (Zeeheldenbuurt, Hengeveldstra...</td>\n",
       "      <td>Apartment Willem Barentszstraat</td>\n",
       "      <td>Simpelsearch</td>\n",
       "      <td>/apartment-for-rent/utrecht/70050cb0/willem-ba...</td>\n",
       "      <td>https://media.pararius.nl/image/PR0001658000/P...</td>\n",
       "      <td>42</td>\n",
       "      <td>None</td>\n",
       "      <td>2</td>\n",
       "      <td>Furnished</td>\n",
       "      <td>NaN</td>\n",
       "      <td>NaN</td>\n",
       "      <td>NaN</td>\n",
       "      <td>3572PK</td>\n",
       "      <td>2021-11-01</td>\n",
       "    </tr>\n",
       "    <tr>\n",
       "      <th>1</th>\n",
       "      <td>1195</td>\n",
       "      <td>3037 TD Rotterdam (Liskwartier)</td>\n",
       "      <td>Apartment Willebrordusplein</td>\n",
       "      <td>Perfectrent</td>\n",
       "      <td>/apartment-for-rent/rotterdam/940dddf5/willebr...</td>\n",
       "      <td>https://casco-media-prod.global.ssl.fastly.net...</td>\n",
       "      <td>53</td>\n",
       "      <td>None</td>\n",
       "      <td>2</td>\n",
       "      <td>Upholstered</td>\n",
       "      <td>NaN</td>\n",
       "      <td>NaN</td>\n",
       "      <td>NaN</td>\n",
       "      <td>3037TD</td>\n",
       "      <td>2021-11-01</td>\n",
       "    </tr>\n",
       "    <tr>\n",
       "      <th>2</th>\n",
       "      <td>1045</td>\n",
       "      <td>3811 JW Amersfoort (Coninckstraat)</td>\n",
       "      <td>Apartment Oliesteeg</td>\n",
       "      <td>HouseHunting Utrecht</td>\n",
       "      <td>/apartment-for-rent/amersfoort/2cbb4088/oliesteeg</td>\n",
       "      <td>https://casco-media-prod.global.ssl.fastly.net...</td>\n",
       "      <td>49</td>\n",
       "      <td>None</td>\n",
       "      <td>2</td>\n",
       "      <td>Upholstered</td>\n",
       "      <td>NaN</td>\n",
       "      <td>NaN</td>\n",
       "      <td>NaN</td>\n",
       "      <td>3811JW</td>\n",
       "      <td>2021-11-01</td>\n",
       "    </tr>\n",
       "    <tr>\n",
       "      <th>3</th>\n",
       "      <td>1500</td>\n",
       "      <td>3514 BH Utrecht (Vogelenbuurt)</td>\n",
       "      <td>Apartment Gruttersdijk</td>\n",
       "      <td>Spot Makelaardij</td>\n",
       "      <td>/apartment-for-rent/utrecht/0ed3d6e9/gruttersdijk</td>\n",
       "      <td>https://casco-media-prod.global.ssl.fastly.net...</td>\n",
       "      <td>51</td>\n",
       "      <td>None</td>\n",
       "      <td>2</td>\n",
       "      <td>NaN</td>\n",
       "      <td>2010</td>\n",
       "      <td>NaN</td>\n",
       "      <td>NaN</td>\n",
       "      <td>3514BH</td>\n",
       "      <td>2021-11-01</td>\n",
       "    </tr>\n",
       "    <tr>\n",
       "      <th>4</th>\n",
       "      <td>1285</td>\n",
       "      <td>1971 DM IJmuiden (Lagersbuurt)</td>\n",
       "      <td>House Gjertsenstraat</td>\n",
       "      <td>123Wonen Haarlem</td>\n",
       "      <td>/house-for-rent/ijmuiden/25c2dcaa/gjertsenstraat</td>\n",
       "      <td>https://casco-media-prod.global.ssl.fastly.net...</td>\n",
       "      <td>74</td>\n",
       "      <td>None</td>\n",
       "      <td>4</td>\n",
       "      <td>Upholstered</td>\n",
       "      <td>NaN</td>\n",
       "      <td>NaN</td>\n",
       "      <td>NaN</td>\n",
       "      <td>1971DM</td>\n",
       "      <td>2021-11-01</td>\n",
       "    </tr>\n",
       "    <tr>\n",
       "      <th>...</th>\n",
       "      <td>...</td>\n",
       "      <td>...</td>\n",
       "      <td>...</td>\n",
       "      <td>...</td>\n",
       "      <td>...</td>\n",
       "      <td>...</td>\n",
       "      <td>...</td>\n",
       "      <td>...</td>\n",
       "      <td>...</td>\n",
       "      <td>...</td>\n",
       "      <td>...</td>\n",
       "      <td>...</td>\n",
       "      <td>...</td>\n",
       "      <td>...</td>\n",
       "      <td>...</td>\n",
       "    </tr>\n",
       "    <tr>\n",
       "      <th>4796</th>\n",
       "      <td>1500</td>\n",
       "      <td>1505 TJ Zaandam (Bomenbuurt)</td>\n",
       "      <td>House Lijsterbesstraat</td>\n",
       "      <td>Uw Partner in Onroerende Zaken</td>\n",
       "      <td>/house-for-rent/zaandam/1b23bcc5/lijsterbesstraat</td>\n",
       "      <td>https://casco-media-prod.global.ssl.fastly.net...</td>\n",
       "      <td>86</td>\n",
       "      <td>Under option</td>\n",
       "      <td>4</td>\n",
       "      <td>Upholstered</td>\n",
       "      <td>NaN</td>\n",
       "      <td>NaN</td>\n",
       "      <td>NaN</td>\n",
       "      <td>1505TJ</td>\n",
       "      <td>2021-11-01</td>\n",
       "    </tr>\n",
       "    <tr>\n",
       "      <th>4797</th>\n",
       "      <td>3450</td>\n",
       "      <td>3045 LJ Rotterdam (Zestienhoven)</td>\n",
       "      <td>House Overschiese Kleiweg</td>\n",
       "      <td>BenHousing</td>\n",
       "      <td>/house-for-rent/rotterdam/e5d0ae4e/overschiese...</td>\n",
       "      <td>https://casco-media-prod.global.ssl.fastly.net...</td>\n",
       "      <td>294</td>\n",
       "      <td>Under option</td>\n",
       "      <td>6</td>\n",
       "      <td>Upholstered or furnished</td>\n",
       "      <td>NaN</td>\n",
       "      <td>NaN</td>\n",
       "      <td>NaN</td>\n",
       "      <td>3045LJ</td>\n",
       "      <td>2021-11-01</td>\n",
       "    </tr>\n",
       "    <tr>\n",
       "      <th>4798</th>\n",
       "      <td>960</td>\n",
       "      <td>3762 GK Soest (Klaarwater)</td>\n",
       "      <td>Apartment Wiardi Beckmanstraat</td>\n",
       "      <td>Regio Vastgoedmakelaars</td>\n",
       "      <td>/apartment-for-rent/soest/2e33b708/wiardi-beck...</td>\n",
       "      <td>https://casco-media-prod.global.ssl.fastly.net...</td>\n",
       "      <td>90</td>\n",
       "      <td>Under option</td>\n",
       "      <td>4</td>\n",
       "      <td>Shell</td>\n",
       "      <td>NaN</td>\n",
       "      <td>NaN</td>\n",
       "      <td>NaN</td>\n",
       "      <td>3762GK</td>\n",
       "      <td>2021-11-01</td>\n",
       "    </tr>\n",
       "    <tr>\n",
       "      <th>4799</th>\n",
       "      <td>1350</td>\n",
       "      <td>1567 LD Assendelft (Parkrijk)</td>\n",
       "      <td>Apartment Wisselwachter</td>\n",
       "      <td>Uw Partner in Onroerende Zaken</td>\n",
       "      <td>/apartment-for-rent/assendelft/829433fa/wissel...</td>\n",
       "      <td>https://casco-media-prod.global.ssl.fastly.net...</td>\n",
       "      <td>76</td>\n",
       "      <td>Under option</td>\n",
       "      <td>3</td>\n",
       "      <td>Upholstered</td>\n",
       "      <td>NaN</td>\n",
       "      <td>NaN</td>\n",
       "      <td>NaN</td>\n",
       "      <td>1567LD</td>\n",
       "      <td>2021-11-01</td>\n",
       "    </tr>\n",
       "    <tr>\n",
       "      <th>4800</th>\n",
       "      <td>1500</td>\n",
       "      <td>1501 AG Zaandam (Burgemeestersbuurt)</td>\n",
       "      <td>House Prins Hendrikkade</td>\n",
       "      <td>Uw Partner in Onroerende Zaken</td>\n",
       "      <td>/house-for-rent/zaandam/d7324a83/prins-hendrik...</td>\n",
       "      <td>https://casco-media-prod.global.ssl.fastly.net...</td>\n",
       "      <td>100</td>\n",
       "      <td>Under option</td>\n",
       "      <td>3</td>\n",
       "      <td>Upholstered or furnished</td>\n",
       "      <td>NaN</td>\n",
       "      <td>NaN</td>\n",
       "      <td>NaN</td>\n",
       "      <td>1501AG</td>\n",
       "      <td>2021-11-01</td>\n",
       "    </tr>\n",
       "  </tbody>\n",
       "</table>\n",
       "<p>4801 rows × 15 columns</p>\n",
       "</div>"
      ],
      "text/plain": [
       "     price                                            address  \\\n",
       "0     1264  3572 PK Utrecht (Zeeheldenbuurt, Hengeveldstra...   \n",
       "1     1195                    3037 TD Rotterdam (Liskwartier)   \n",
       "2     1045                 3811 JW Amersfoort (Coninckstraat)   \n",
       "3     1500                     3514 BH Utrecht (Vogelenbuurt)   \n",
       "4     1285                     1971 DM IJmuiden (Lagersbuurt)   \n",
       "...    ...                                                ...   \n",
       "4796  1500                       1505 TJ Zaandam (Bomenbuurt)   \n",
       "4797  3450                   3045 LJ Rotterdam (Zestienhoven)   \n",
       "4798   960                         3762 GK Soest (Klaarwater)   \n",
       "4799  1350                      1567 LD Assendelft (Parkrijk)   \n",
       "4800  1500               1501 AG Zaandam (Burgemeestersbuurt)   \n",
       "\n",
       "                               street                          agency  \\\n",
       "0     Apartment Willem Barentszstraat                    Simpelsearch   \n",
       "1         Apartment Willebrordusplein                     Perfectrent   \n",
       "2                 Apartment Oliesteeg            HouseHunting Utrecht   \n",
       "3              Apartment Gruttersdijk                Spot Makelaardij   \n",
       "4                House Gjertsenstraat                123Wonen Haarlem   \n",
       "...                               ...                             ...   \n",
       "4796           House Lijsterbesstraat  Uw Partner in Onroerende Zaken   \n",
       "4797        House Overschiese Kleiweg                      BenHousing   \n",
       "4798   Apartment Wiardi Beckmanstraat         Regio Vastgoedmakelaars   \n",
       "4799          Apartment Wisselwachter  Uw Partner in Onroerende Zaken   \n",
       "4800          House Prins Hendrikkade  Uw Partner in Onroerende Zaken   \n",
       "\n",
       "                                                    irl  \\\n",
       "0     /apartment-for-rent/utrecht/70050cb0/willem-ba...   \n",
       "1     /apartment-for-rent/rotterdam/940dddf5/willebr...   \n",
       "2     /apartment-for-rent/amersfoort/2cbb4088/oliesteeg   \n",
       "3     /apartment-for-rent/utrecht/0ed3d6e9/gruttersdijk   \n",
       "4      /house-for-rent/ijmuiden/25c2dcaa/gjertsenstraat   \n",
       "...                                                 ...   \n",
       "4796  /house-for-rent/zaandam/1b23bcc5/lijsterbesstraat   \n",
       "4797  /house-for-rent/rotterdam/e5d0ae4e/overschiese...   \n",
       "4798  /apartment-for-rent/soest/2e33b708/wiardi-beck...   \n",
       "4799  /apartment-for-rent/assendelft/829433fa/wissel...   \n",
       "4800  /house-for-rent/zaandam/d7324a83/prins-hendrik...   \n",
       "\n",
       "                                                  image surface-area  \\\n",
       "0     https://media.pararius.nl/image/PR0001658000/P...           42   \n",
       "1     https://casco-media-prod.global.ssl.fastly.net...           53   \n",
       "2     https://casco-media-prod.global.ssl.fastly.net...           49   \n",
       "3     https://casco-media-prod.global.ssl.fastly.net...           51   \n",
       "4     https://casco-media-prod.global.ssl.fastly.net...           74   \n",
       "...                                                 ...          ...   \n",
       "4796  https://casco-media-prod.global.ssl.fastly.net...           86   \n",
       "4797  https://casco-media-prod.global.ssl.fastly.net...          294   \n",
       "4798  https://casco-media-prod.global.ssl.fastly.net...           90   \n",
       "4799  https://casco-media-prod.global.ssl.fastly.net...           76   \n",
       "4800  https://casco-media-prod.global.ssl.fastly.net...          100   \n",
       "\n",
       "                        status number-of-rooms                  interior  \\\n",
       "0                         None               2                 Furnished   \n",
       "1                         None               2               Upholstered   \n",
       "2                         None               2               Upholstered   \n",
       "3                         None               2                       NaN   \n",
       "4                         None               4               Upholstered   \n",
       "...                        ...             ...                       ...   \n",
       "4796          Under option                   4               Upholstered   \n",
       "4797          Under option                   6  Upholstered or furnished   \n",
       "4798          Under option                   4                     Shell   \n",
       "4799          Under option                   3               Upholstered   \n",
       "4800          Under option                   3  Upholstered or furnished   \n",
       "\n",
       "     construction-period garden-surface-area plot-size postcode        date  \n",
       "0                    NaN                 NaN       NaN   3572PK  2021-11-01  \n",
       "1                    NaN                 NaN       NaN   3037TD  2021-11-01  \n",
       "2                    NaN                 NaN       NaN   3811JW  2021-11-01  \n",
       "3                   2010                 NaN       NaN   3514BH  2021-11-01  \n",
       "4                    NaN                 NaN       NaN   1971DM  2021-11-01  \n",
       "...                  ...                 ...       ...      ...         ...  \n",
       "4796                 NaN                 NaN       NaN   1505TJ  2021-11-01  \n",
       "4797                 NaN                 NaN       NaN   3045LJ  2021-11-01  \n",
       "4798                 NaN                 NaN       NaN   3762GK  2021-11-01  \n",
       "4799                 NaN                 NaN       NaN   1567LD  2021-11-01  \n",
       "4800                 NaN                 NaN       NaN   1501AG  2021-11-01  \n",
       "\n",
       "[4801 rows x 15 columns]"
      ]
     },
     "execution_count": 14,
     "metadata": {},
     "output_type": "execute_result"
    }
   ],
   "source": [
    "df_pararius"
   ]
  },
  {
   "cell_type": "code",
   "execution_count": 20,
   "metadata": {},
   "outputs": [],
   "source": [
    "today_csv = (\"df_pararius_\"+ str(today)+'.csv')\n",
    "df_pararius.to_csv(f'data/temp/{today_csv}')"
   ]
  },
  {
   "cell_type": "code",
   "execution_count": null,
   "metadata": {},
   "outputs": [],
   "source": []
  }
 ],
 "metadata": {
  "kernelspec": {
   "display_name": "Python 3 (ipykernel)",
   "language": "python",
   "name": "python3"
  },
  "language_info": {
   "codemirror_mode": {
    "name": "ipython",
    "version": 3
   },
   "file_extension": ".py",
   "mimetype": "text/x-python",
   "name": "python",
   "nbconvert_exporter": "python",
   "pygments_lexer": "ipython3",
   "version": "3.9.7"
  }
 },
 "nbformat": 4,
 "nbformat_minor": 4
}
