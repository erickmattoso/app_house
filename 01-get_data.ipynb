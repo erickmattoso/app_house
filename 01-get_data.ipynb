{
 "cells": [
  {
   "cell_type": "markdown",
   "metadata": {},
   "source": [
    "# imports"
   ]
  },
  {
   "cell_type": "code",
   "execution_count": 1,
   "metadata": {},
   "outputs": [],
   "source": [
    "from bs4 import BeautifulSoup\n",
    "from datetime import date\n",
    "from requests import get\n",
    "import pandas as pd\n",
    "today = date.today()"
   ]
  },
  {
   "cell_type": "markdown",
   "metadata": {},
   "source": [
    "# crawler"
   ]
  },
  {
   "cell_type": "markdown",
   "metadata": {},
   "source": [
    "## defining url"
   ]
  },
  {
   "cell_type": "code",
   "execution_count": 2,
   "metadata": {},
   "outputs": [],
   "source": [
    "url = 'https://www.pararius.com/apartments/nederland/page-'\n",
    "response = get(url+'1')\n",
    "html_soup = BeautifulSoup(response.text, 'html.parser')"
   ]
  },
  {
   "cell_type": "markdown",
   "metadata": {},
   "source": [
    "## get numbers to define iteractions"
   ]
  },
  {
   "cell_type": "code",
   "execution_count": 3,
   "metadata": {},
   "outputs": [],
   "source": [
    "num_pages = html_soup.find_all('a',{\"class\":\"pagination__link\"})[4].text\n",
    "num_pages = int(num_pages)\n",
    "\n",
    "num_rents = html_soup.find_all('div',{\"class\":\"pagination__summary\"})[0].text\n",
    "num_rents = int(num_rents.split()[-2])"
   ]
  },
  {
   "cell_type": "code",
   "execution_count": 4,
   "metadata": {},
   "outputs": [
    {
     "name": "stdout",
     "output_type": "stream",
     "text": [
      "https://www.pararius.com/apartments/nederland/page-1\n",
      "183\n",
      "5486\n"
     ]
    }
   ],
   "source": [
    "print(url+'1')\n",
    "print(num_pages)\n",
    "print(num_rents)"
   ]
  },
  {
   "cell_type": "markdown",
   "metadata": {},
   "source": [
    "## get total html soup"
   ]
  },
  {
   "cell_type": "code",
   "execution_count": 5,
   "metadata": {
    "scrolled": true
   },
   "outputs": [],
   "source": [
    "houses = []\n",
    "for count in range(1, num_pages+1):\n",
    "    try:\n",
    "        response = get(url + str(count))\n",
    "        html_soup = BeautifulSoup(response.text, 'html.parser')\n",
    "        house_data = html_soup.find_all('li', class_=\"search-list__item search-list__item--listing\")\n",
    "        houses.append(house_data)\n",
    "    except:\n",
    "        pass"
   ]
  },
  {
   "cell_type": "markdown",
   "metadata": {},
   "source": [
    "## get data"
   ]
  },
  {
   "cell_type": "code",
   "execution_count": 6,
   "metadata": {},
   "outputs": [],
   "source": [
    "description_=[]\n",
    "price_=[]\n",
    "address_=[]\n",
    "street_=[]\n",
    "agency_=[]\n",
    "irl_=[]\n",
    "image_=[]\n",
    "\n",
    "description_2=[]\n",
    "\n",
    "for n_pages in range (num_pages):\n",
    "    n_pages_len = len(houses[n_pages])\n",
    "    for n_rents in range (n_pages_len):\n",
    "        num = (houses[n_pages][n_rents])\n",
    "        list_li = num.find_all('li',{\"class\":\"illustrated-features__item\"})\n",
    "        description_1={}\n",
    "        \n",
    "        try:\n",
    "            p5_value = num.find_all('span',{\"class\":\"listing-status--under-option\"})[0].text\n",
    "        except:\n",
    "            p5_value = None\n",
    "        \n",
    "        for i in range(len(list_li)):\n",
    "            a = (list_li[i][\"class\"][1][28:])\n",
    "            b = (list_li[i].text)\n",
    "            description_1.update({\n",
    "                a:b,\n",
    "                'status':p5_value,\n",
    "            })\n",
    "        description_2.append(description_1)\n",
    "        \n",
    "        \n",
    "        price = num.find_all('span',{\"class\":\"listing-search-item__price\"})[0].text\n",
    "        price_.append(price)\n",
    "                \n",
    "        address = num.find('div',{\"class\":\"listing-search-item__location\"}).text\n",
    "        address_.append(address)\n",
    "\n",
    "        street = num.find_all('a',{\"class\":\"listing-search-item__link listing-search-item__link--title\"})[0].text\n",
    "        street_.append(street)\n",
    "\n",
    "        irl = num.find_all('a',{\"class\":\"listing-search-item__link listing-search-item__link--title\"})[0]['href']\n",
    "        irl_.append(irl)\n",
    "        \n",
    "        image = num.find_all('img')[0]['src']\n",
    "        image_.append(image)\n",
    "\n",
    "        agency = num.find_all('a', href=True)[2].text\n",
    "        agency_.append(agency)"
   ]
  },
  {
   "cell_type": "markdown",
   "metadata": {},
   "source": [
    "# Into DataFrame"
   ]
  },
  {
   "cell_type": "code",
   "execution_count": 7,
   "metadata": {},
   "outputs": [],
   "source": [
    "df_pararius_1 = pd.DataFrame({\n",
    "    'price':price_,\n",
    "    'address':address_,\n",
    "    'street':street_,\n",
    "    'agency':agency_,\n",
    "    'irl':irl_,\n",
    "    'image':image_,\n",
    "})\n",
    "df_pararius_2 = pd.DataFrame(description_2)"
   ]
  },
  {
   "cell_type": "markdown",
   "metadata": {},
   "source": [
    "## Unify dataframes"
   ]
  },
  {
   "cell_type": "code",
   "execution_count": 8,
   "metadata": {},
   "outputs": [
    {
     "name": "stderr",
     "output_type": "stream",
     "text": [
      "<ipython-input-8-22791b88bcc6>:1: FutureWarning: In a future version of pandas all arguments of concat except for the argument 'objs' will be keyword-only\n",
      "  df_pararius = pd.concat([df_pararius_1, df_pararius_2],1)\n"
     ]
    }
   ],
   "source": [
    "df_pararius = pd.concat([df_pararius_1, df_pararius_2],1)"
   ]
  },
  {
   "cell_type": "markdown",
   "metadata": {},
   "source": [
    "# fixing text"
   ]
  },
  {
   "cell_type": "code",
   "execution_count": 9,
   "metadata": {},
   "outputs": [],
   "source": [
    "df_pararius['surface-area']        = df_pararius['surface-area'].str.replace(\"\\D\",\"\",regex=True)\n",
    "df_pararius['number-of-rooms']     = df_pararius['number-of-rooms'].str.replace(\"\\D\",\"\",regex=True)\n",
    "df_pararius['garden-surface-area'] = df_pararius['garden-surface-area'].str.replace(\"\\D\",\"\",regex=True)\n",
    "df_pararius['plot-size']           = df_pararius['plot-size'].str.replace(\"\\D\",\"\",regex=True)"
   ]
  },
  {
   "cell_type": "code",
   "execution_count": 10,
   "metadata": {},
   "outputs": [],
   "source": [
    "df_pararius = df_pararius.dropna(axis=1, how='all')\n",
    "df_pararius['price'] = df_pararius['price'].str.replace(\"\\D\",\"\",regex=True)\n",
    "df_pararius['address'] = df_pararius['address'].str.replace('\\n|new|  ',\"\",regex=True)\n",
    "df_pararius['postcode'] = df_pararius['address'].str.replace(\"\\s\",\"\",regex=True).str[0:6]\n",
    "df_pararius['status'] = df_pararius['status'].str.replace('\\n',\"\",regex=True)\n",
    "df_pararius['date'] = str(today)"
   ]
  },
  {
   "cell_type": "markdown",
   "metadata": {},
   "source": [
    "# save data"
   ]
  },
  {
   "cell_type": "code",
   "execution_count": 11,
   "metadata": {},
   "outputs": [],
   "source": [
    "today_csv = (\"df_pararius_\"+ str(today)+'.csv')\n",
    "df_pararius.to_csv(f'data/temp/{today_csv}')"
   ]
  }
 ],
 "metadata": {
  "kernelspec": {
   "display_name": "Python 3",
   "language": "python",
   "name": "python3"
  },
  "language_info": {
   "codemirror_mode": {
    "name": "ipython",
    "version": 3
   },
   "file_extension": ".py",
   "mimetype": "text/x-python",
   "name": "python",
   "nbconvert_exporter": "python",
   "pygments_lexer": "ipython3",
   "version": "3.8.5"
  }
 },
 "nbformat": 4,
 "nbformat_minor": 4
}
