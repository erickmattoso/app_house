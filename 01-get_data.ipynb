{
 "cells": [
  {
   "cell_type": "markdown",
   "metadata": {},
   "source": [
    "# imports"
   ]
  },
  {
   "cell_type": "code",
   "execution_count": 1,
   "metadata": {},
   "outputs": [],
   "source": [
    "from bs4 import BeautifulSoup\n",
    "from datetime import date\n",
    "from requests import get\n",
    "import pandas as pd\n",
    "today = date.today()"
   ]
  },
  {
   "cell_type": "markdown",
   "metadata": {},
   "source": [
    "# crawler"
   ]
  },
  {
   "cell_type": "markdown",
   "metadata": {},
   "source": [
    "## defining url"
   ]
  },
  {
   "cell_type": "code",
   "execution_count": 2,
   "metadata": {},
   "outputs": [],
   "source": [
    "url = 'https://www.pararius.com/apartments/nederland/page-'\n",
    "response = get(url+'1')\n",
    "html_soup = BeautifulSoup(response.text, 'html.parser')"
   ]
  },
  {
   "cell_type": "markdown",
   "metadata": {},
   "source": [
    "## get numbers to define iteractions"
   ]
  },
  {
   "cell_type": "code",
   "execution_count": 3,
   "metadata": {},
   "outputs": [],
   "source": [
    "num_pages = html_soup.find_all('a',{\"class\":\"pagination__link\"})[4].text\n",
    "num_pages = int(num_pages)\n",
    "\n",
    "num_rents = html_soup.find_all('div',{\"class\":\"pagination__summary\"})[0].text\n",
    "num_rents = int(num_rents.split()[-2])"
   ]
  },
  {
   "cell_type": "code",
   "execution_count": 4,
   "metadata": {},
   "outputs": [
    {
     "name": "stdout",
     "output_type": "stream",
     "text": [
      "https://www.pararius.com/apartments/nederland/page-1\n",
      "181\n",
      "5427\n"
     ]
    }
   ],
   "source": [
    "print(url+'1')\n",
    "print(num_pages)\n",
    "print(num_rents)"
   ]
  },
  {
   "cell_type": "markdown",
   "metadata": {},
   "source": [
    "## get total html soup"
   ]
  },
  {
   "cell_type": "code",
   "execution_count": 5,
   "metadata": {
    "scrolled": true
   },
   "outputs": [],
   "source": [
    "houses = []\n",
    "for count in range(1, num_pages+1):\n",
    "    try:\n",
    "        response = get(url + str(count))\n",
    "        html_soup = BeautifulSoup(response.text, 'html.parser')\n",
    "        house_data = html_soup.find_all('li', class_=\"search-list__item search-list__item--listing\")\n",
    "        houses.append(house_data)\n",
    "    except:\n",
    "        pass"
   ]
  },
  {
   "cell_type": "markdown",
   "metadata": {},
   "source": [
    "## get data"
   ]
  },
  {
   "cell_type": "code",
   "execution_count": 6,
   "metadata": {},
   "outputs": [],
   "source": [
    "# description_=[]\n",
    "price_=[]\n",
    "address_=[]\n",
    "street_=[]\n",
    "agency_=[]\n",
    "irl_=[]\n",
    "image_=[]\n",
    "description_2=[]\n",
    "\n",
    "for n_pages in range (num_pages):\n",
    "    n_pages_len = len(houses[n_pages])\n",
    "    for n_rents in range (n_pages_len):\n",
    "        num = (houses[n_pages][n_rents])\n",
    "        list_li = num.find_all('li',{\"class\":\"illustrated-features__item\"})\n",
    "        description_1={}\n",
    "        \n",
    "        try:\n",
    "            p5_value = num.find_all('span',{\"class\":\"listing-label listing-label--under-option\"})[0].text\n",
    "        except:\n",
    "            p5_value = None\n",
    "        \n",
    "        for i in range(len(list_li)):\n",
    "            a = (list_li[i][\"class\"][1][28:])\n",
    "            b = (list_li[i].text)\n",
    "            description_1.update({\n",
    "                a:b,\n",
    "                'status':p5_value,\n",
    "            })\n",
    "        description_2.append(description_1)\n",
    "        \n",
    "        price = num.find_all('div',{\"class\":\"listing-search-item__price\"})[0].text\n",
    "        price_.append(price)\n",
    "\n",
    "        address = num.find('div',{\"class\":\"listing-search-item__location\"}).text\n",
    "        address_.append(address)\n",
    "\n",
    "        street = num.find_all('a',{\"class\":\"listing-search-item__link listing-search-item__link--title\"})[0].text\n",
    "        street_.append(street)\n",
    "\n",
    "        irl = num.find_all('a',{\"class\":\"listing-search-item__link listing-search-item__link--title\"})[0]['href']\n",
    "        irl_.append(irl)\n",
    "        \n",
    "        image = num.find_all('img')[0]['src']\n",
    "        image_.append(image)\n",
    "\n",
    "        agency = num.find_all('a', href=True)[2].text\n",
    "        agency_.append(agency)"
   ]
  },
  {
   "cell_type": "markdown",
   "metadata": {},
   "source": [
    "# Into DataFrame"
   ]
  },
  {
   "cell_type": "code",
   "execution_count": 7,
   "metadata": {},
   "outputs": [],
   "source": [
    "df_pararius_1 = pd.DataFrame({\n",
    "    'price':price_,\n",
    "    'address':address_,\n",
    "    'street':street_,\n",
    "    'agency':agency_,\n",
    "    'irl':irl_,\n",
    "    'image':image_,\n",
    "})\n",
    "df_pararius_2 = pd.DataFrame(description_2)"
   ]
  },
  {
   "cell_type": "markdown",
   "metadata": {},
   "source": [
    "## Unify dataframes"
   ]
  },
  {
   "cell_type": "code",
   "execution_count": 8,
   "metadata": {},
   "outputs": [
    {
     "name": "stderr",
     "output_type": "stream",
     "text": [
      "<ipython-input-8-22791b88bcc6>:1: FutureWarning: In a future version of pandas all arguments of concat except for the argument 'objs' will be keyword-only\n",
      "  df_pararius = pd.concat([df_pararius_1, df_pararius_2],1)\n"
     ]
    }
   ],
   "source": [
    "df_pararius = pd.concat([df_pararius_1, df_pararius_2],1)"
   ]
  },
  {
   "cell_type": "markdown",
   "metadata": {},
   "source": [
    "# fixing text"
   ]
  },
  {
   "cell_type": "code",
   "execution_count": 9,
   "metadata": {},
   "outputs": [],
   "source": [
    "df_pararius['surface-area']        = df_pararius['surface-area'].str.replace(\"\\D\",\"\",regex=True)\n",
    "df_pararius['number-of-rooms']     = df_pararius['number-of-rooms'].str.replace(\"\\D\",\"\",regex=True)\n",
    "df_pararius['garden-surface-area'] = df_pararius['garden-surface-area'].str.replace(\"\\D\",\"\",regex=True)\n",
    "df_pararius['plot-size']           = df_pararius['plot-size'].str.replace(\"\\D\",\"\",regex=True)"
   ]
  },
  {
   "cell_type": "code",
   "execution_count": 10,
   "metadata": {},
   "outputs": [],
   "source": [
    "df_pararius = df_pararius.dropna(axis=1, how='all')\n",
    "df_pararius['price'] = df_pararius['price'].str.replace(\"\\D\",\"\",regex=True)\n",
    "df_pararius['address'] = df_pararius['address'].str.replace('\\n|new|  ',\"\",regex=True)\n",
    "df_pararius['postcode'] = df_pararius['address'].str.replace(\"\\s\",\"\",regex=True).str[0:6]\n",
    "df_pararius['status'] = df_pararius['status'].str.replace('\\n',\"\",regex=True)\n",
    "df_pararius['date'] = str(today)"
   ]
  },
  {
   "cell_type": "code",
   "execution_count": 11,
   "metadata": {},
   "outputs": [],
   "source": [
    "df_pararius = df_pararius.drop_duplicates(subset=['irl']).reset_index(drop=True)"
   ]
  },
  {
   "cell_type": "markdown",
   "metadata": {},
   "source": [
    "# save data"
   ]
  },
  {
   "cell_type": "code",
   "execution_count": 12,
   "metadata": {},
   "outputs": [],
   "source": [
    "today_csv = (\"df_pararius_\"+ str(today)+'.csv')\n",
    "df_pararius.to_csv(f'data/temp/{today_csv}')"
   ]
  },
  {
   "cell_type": "code",
   "execution_count": 13,
   "metadata": {},
   "outputs": [
    {
     "data": {
      "text/html": [
       "<div>\n",
       "<style scoped>\n",
       "    .dataframe tbody tr th:only-of-type {\n",
       "        vertical-align: middle;\n",
       "    }\n",
       "\n",
       "    .dataframe tbody tr th {\n",
       "        vertical-align: top;\n",
       "    }\n",
       "\n",
       "    .dataframe thead th {\n",
       "        text-align: right;\n",
       "    }\n",
       "</style>\n",
       "<table border=\"1\" class=\"dataframe\">\n",
       "  <thead>\n",
       "    <tr style=\"text-align: right;\">\n",
       "      <th></th>\n",
       "      <th>price</th>\n",
       "      <th>address</th>\n",
       "      <th>street</th>\n",
       "      <th>agency</th>\n",
       "      <th>irl</th>\n",
       "      <th>image</th>\n",
       "      <th>surface-area</th>\n",
       "      <th>status</th>\n",
       "      <th>number-of-rooms</th>\n",
       "      <th>interior</th>\n",
       "      <th>construction-period</th>\n",
       "      <th>garden-surface-area</th>\n",
       "      <th>plot-size</th>\n",
       "      <th>postcode</th>\n",
       "      <th>date</th>\n",
       "    </tr>\n",
       "  </thead>\n",
       "  <tbody>\n",
       "    <tr>\n",
       "      <th>0</th>\n",
       "      <td>1995</td>\n",
       "      <td>1391 XL Abcoude (Abcoude-Noordoost)</td>\n",
       "      <td>House Broekzijdselaan 11</td>\n",
       "      <td>ViaDaan</td>\n",
       "      <td>/house-for-rent/abcoude/07adab12/broekzijdselaan</td>\n",
       "      <td>https://casco-media-prod.global.ssl.fastly.net...</td>\n",
       "      <td>112</td>\n",
       "      <td>None</td>\n",
       "      <td>5</td>\n",
       "      <td>Furnished</td>\n",
       "      <td>NaN</td>\n",
       "      <td>NaN</td>\n",
       "      <td>NaN</td>\n",
       "      <td>1391XL</td>\n",
       "      <td>2021-10-17</td>\n",
       "    </tr>\n",
       "    <tr>\n",
       "      <th>1</th>\n",
       "      <td>1395</td>\n",
       "      <td>9721 LA Groningen (De Wijert)</td>\n",
       "      <td>Apartment Vondellaan 19</td>\n",
       "      <td>Fides Diensten</td>\n",
       "      <td>/apartment-for-rent/groningen/e4768830/vondellaan</td>\n",
       "      <td>https://media.pararius.nl/image/PR0001659000/P...</td>\n",
       "      <td>74</td>\n",
       "      <td>None</td>\n",
       "      <td>4</td>\n",
       "      <td>Furnished</td>\n",
       "      <td>NaN</td>\n",
       "      <td>NaN</td>\n",
       "      <td>NaN</td>\n",
       "      <td>9721LA</td>\n",
       "      <td>2021-10-17</td>\n",
       "    </tr>\n",
       "    <tr>\n",
       "      <th>2</th>\n",
       "      <td>2250</td>\n",
       "      <td>1017 XA Amsterdam (De Weteringschans)</td>\n",
       "      <td>Apartment Lijnbaansgracht</td>\n",
       "      <td>Klok Real Estate</td>\n",
       "      <td>/apartment-for-rent/amsterdam/aa9afd6c/lijnbaa...</td>\n",
       "      <td>https://media.pararius.nl/image/PR0001659000/P...</td>\n",
       "      <td>90</td>\n",
       "      <td>None</td>\n",
       "      <td>3</td>\n",
       "      <td>Furnished</td>\n",
       "      <td>NaN</td>\n",
       "      <td>NaN</td>\n",
       "      <td>NaN</td>\n",
       "      <td>1017XA</td>\n",
       "      <td>2021-10-17</td>\n",
       "    </tr>\n",
       "    <tr>\n",
       "      <th>3</th>\n",
       "      <td>3775</td>\n",
       "      <td>1016 EJ Amsterdam (Grachtengordel-West)</td>\n",
       "      <td>Apartment Keizersgracht</td>\n",
       "      <td>NOORESTATE</td>\n",
       "      <td>/apartment-for-rent/amsterdam/50b25083/keizers...</td>\n",
       "      <td>https://casco-media-prod.global.ssl.fastly.net...</td>\n",
       "      <td>137</td>\n",
       "      <td>None</td>\n",
       "      <td>3</td>\n",
       "      <td>Furnished</td>\n",
       "      <td>NaN</td>\n",
       "      <td>NaN</td>\n",
       "      <td>NaN</td>\n",
       "      <td>1016EJ</td>\n",
       "      <td>2021-10-17</td>\n",
       "    </tr>\n",
       "    <tr>\n",
       "      <th>4</th>\n",
       "      <td>1350</td>\n",
       "      <td>3235 LN Rockanje (Verspreide huizen)</td>\n",
       "      <td>Apartment Waalweg</td>\n",
       "      <td>Aaiman Rentals</td>\n",
       "      <td>/apartment-for-rent/rockanje/97aee12b/waalweg</td>\n",
       "      <td>https://casco-media-prod.global.ssl.fastly.net...</td>\n",
       "      <td>60</td>\n",
       "      <td>None</td>\n",
       "      <td>3</td>\n",
       "      <td>Furnished</td>\n",
       "      <td>NaN</td>\n",
       "      <td>NaN</td>\n",
       "      <td>NaN</td>\n",
       "      <td>3235LN</td>\n",
       "      <td>2021-10-17</td>\n",
       "    </tr>\n",
       "    <tr>\n",
       "      <th>...</th>\n",
       "      <td>...</td>\n",
       "      <td>...</td>\n",
       "      <td>...</td>\n",
       "      <td>...</td>\n",
       "      <td>...</td>\n",
       "      <td>...</td>\n",
       "      <td>...</td>\n",
       "      <td>...</td>\n",
       "      <td>...</td>\n",
       "      <td>...</td>\n",
       "      <td>...</td>\n",
       "      <td>...</td>\n",
       "      <td>...</td>\n",
       "      <td>...</td>\n",
       "      <td>...</td>\n",
       "    </tr>\n",
       "    <tr>\n",
       "      <th>5422</th>\n",
       "      <td>1500</td>\n",
       "      <td>1505 TJ Zaandam (Bomenbuurt)</td>\n",
       "      <td>House Lijsterbesstraat</td>\n",
       "      <td>Uw Partner in Onroerende Zaken</td>\n",
       "      <td>/house-for-rent/zaandam/1b23bcc5/lijsterbesstraat</td>\n",
       "      <td>https://casco-media-prod.global.ssl.fastly.net...</td>\n",
       "      <td>86</td>\n",
       "      <td>Under option</td>\n",
       "      <td>4</td>\n",
       "      <td>Upholstered</td>\n",
       "      <td>NaN</td>\n",
       "      <td>NaN</td>\n",
       "      <td>NaN</td>\n",
       "      <td>1505TJ</td>\n",
       "      <td>2021-10-17</td>\n",
       "    </tr>\n",
       "    <tr>\n",
       "      <th>5423</th>\n",
       "      <td>3450</td>\n",
       "      <td>3045 LJ Rotterdam (Zestienhoven)</td>\n",
       "      <td>House Overschiese Kleiweg</td>\n",
       "      <td>BenHousing</td>\n",
       "      <td>/house-for-rent/rotterdam/e5d0ae4e/overschiese...</td>\n",
       "      <td>https://casco-media-prod.global.ssl.fastly.net...</td>\n",
       "      <td>294</td>\n",
       "      <td>Under option</td>\n",
       "      <td>6</td>\n",
       "      <td>Upholstered or furnished</td>\n",
       "      <td>NaN</td>\n",
       "      <td>NaN</td>\n",
       "      <td>NaN</td>\n",
       "      <td>3045LJ</td>\n",
       "      <td>2021-10-17</td>\n",
       "    </tr>\n",
       "    <tr>\n",
       "      <th>5424</th>\n",
       "      <td>960</td>\n",
       "      <td>3762 GK Soest (Klaarwater)</td>\n",
       "      <td>Apartment Wiardi Beckmanstraat</td>\n",
       "      <td>Regio Vastgoedmakelaars</td>\n",
       "      <td>/apartment-for-rent/soest/2e33b708/wiardi-beck...</td>\n",
       "      <td>https://casco-media-prod.global.ssl.fastly.net...</td>\n",
       "      <td>90</td>\n",
       "      <td>Under option</td>\n",
       "      <td>4</td>\n",
       "      <td>Shell</td>\n",
       "      <td>NaN</td>\n",
       "      <td>NaN</td>\n",
       "      <td>NaN</td>\n",
       "      <td>3762GK</td>\n",
       "      <td>2021-10-17</td>\n",
       "    </tr>\n",
       "    <tr>\n",
       "      <th>5425</th>\n",
       "      <td>1350</td>\n",
       "      <td>1567 LD Assendelft (Parkrijk)</td>\n",
       "      <td>Apartment Wisselwachter</td>\n",
       "      <td>Uw Partner in Onroerende Zaken</td>\n",
       "      <td>/apartment-for-rent/assendelft/829433fa/wissel...</td>\n",
       "      <td>https://casco-media-prod.global.ssl.fastly.net...</td>\n",
       "      <td>76</td>\n",
       "      <td>Under option</td>\n",
       "      <td>3</td>\n",
       "      <td>Upholstered</td>\n",
       "      <td>NaN</td>\n",
       "      <td>NaN</td>\n",
       "      <td>NaN</td>\n",
       "      <td>1567LD</td>\n",
       "      <td>2021-10-17</td>\n",
       "    </tr>\n",
       "    <tr>\n",
       "      <th>5426</th>\n",
       "      <td>1500</td>\n",
       "      <td>1501 AG Zaandam (Burgemeestersbuurt)</td>\n",
       "      <td>House Prins Hendrikkade</td>\n",
       "      <td>Uw Partner in Onroerende Zaken</td>\n",
       "      <td>/house-for-rent/zaandam/d7324a83/prins-hendrik...</td>\n",
       "      <td>https://casco-media-prod.global.ssl.fastly.net...</td>\n",
       "      <td>100</td>\n",
       "      <td>Under option</td>\n",
       "      <td>3</td>\n",
       "      <td>Upholstered or furnished</td>\n",
       "      <td>NaN</td>\n",
       "      <td>NaN</td>\n",
       "      <td>NaN</td>\n",
       "      <td>1501AG</td>\n",
       "      <td>2021-10-17</td>\n",
       "    </tr>\n",
       "  </tbody>\n",
       "</table>\n",
       "<p>5427 rows × 15 columns</p>\n",
       "</div>"
      ],
      "text/plain": [
       "     price                                  address  \\\n",
       "0     1995      1391 XL Abcoude (Abcoude-Noordoost)   \n",
       "1     1395            9721 LA Groningen (De Wijert)   \n",
       "2     2250    1017 XA Amsterdam (De Weteringschans)   \n",
       "3     3775  1016 EJ Amsterdam (Grachtengordel-West)   \n",
       "4     1350     3235 LN Rockanje (Verspreide huizen)   \n",
       "...    ...                                      ...   \n",
       "5422  1500             1505 TJ Zaandam (Bomenbuurt)   \n",
       "5423  3450         3045 LJ Rotterdam (Zestienhoven)   \n",
       "5424   960               3762 GK Soest (Klaarwater)   \n",
       "5425  1350            1567 LD Assendelft (Parkrijk)   \n",
       "5426  1500     1501 AG Zaandam (Burgemeestersbuurt)   \n",
       "\n",
       "                              street                          agency  \\\n",
       "0           House Broekzijdselaan 11                         ViaDaan   \n",
       "1            Apartment Vondellaan 19                  Fides Diensten   \n",
       "2          Apartment Lijnbaansgracht                Klok Real Estate   \n",
       "3            Apartment Keizersgracht                      NOORESTATE   \n",
       "4                  Apartment Waalweg                  Aaiman Rentals   \n",
       "...                              ...                             ...   \n",
       "5422          House Lijsterbesstraat  Uw Partner in Onroerende Zaken   \n",
       "5423       House Overschiese Kleiweg                      BenHousing   \n",
       "5424  Apartment Wiardi Beckmanstraat         Regio Vastgoedmakelaars   \n",
       "5425         Apartment Wisselwachter  Uw Partner in Onroerende Zaken   \n",
       "5426         House Prins Hendrikkade  Uw Partner in Onroerende Zaken   \n",
       "\n",
       "                                                    irl  \\\n",
       "0      /house-for-rent/abcoude/07adab12/broekzijdselaan   \n",
       "1     /apartment-for-rent/groningen/e4768830/vondellaan   \n",
       "2     /apartment-for-rent/amsterdam/aa9afd6c/lijnbaa...   \n",
       "3     /apartment-for-rent/amsterdam/50b25083/keizers...   \n",
       "4         /apartment-for-rent/rockanje/97aee12b/waalweg   \n",
       "...                                                 ...   \n",
       "5422  /house-for-rent/zaandam/1b23bcc5/lijsterbesstraat   \n",
       "5423  /house-for-rent/rotterdam/e5d0ae4e/overschiese...   \n",
       "5424  /apartment-for-rent/soest/2e33b708/wiardi-beck...   \n",
       "5425  /apartment-for-rent/assendelft/829433fa/wissel...   \n",
       "5426  /house-for-rent/zaandam/d7324a83/prins-hendrik...   \n",
       "\n",
       "                                                  image surface-area  \\\n",
       "0     https://casco-media-prod.global.ssl.fastly.net...          112   \n",
       "1     https://media.pararius.nl/image/PR0001659000/P...           74   \n",
       "2     https://media.pararius.nl/image/PR0001659000/P...           90   \n",
       "3     https://casco-media-prod.global.ssl.fastly.net...          137   \n",
       "4     https://casco-media-prod.global.ssl.fastly.net...           60   \n",
       "...                                                 ...          ...   \n",
       "5422  https://casco-media-prod.global.ssl.fastly.net...           86   \n",
       "5423  https://casco-media-prod.global.ssl.fastly.net...          294   \n",
       "5424  https://casco-media-prod.global.ssl.fastly.net...           90   \n",
       "5425  https://casco-media-prod.global.ssl.fastly.net...           76   \n",
       "5426  https://casco-media-prod.global.ssl.fastly.net...          100   \n",
       "\n",
       "                        status number-of-rooms                  interior  \\\n",
       "0                         None               5                 Furnished   \n",
       "1                         None               4                 Furnished   \n",
       "2                         None               3                 Furnished   \n",
       "3                         None               3                 Furnished   \n",
       "4                         None               3                 Furnished   \n",
       "...                        ...             ...                       ...   \n",
       "5422          Under option                   4               Upholstered   \n",
       "5423          Under option                   6  Upholstered or furnished   \n",
       "5424          Under option                   4                     Shell   \n",
       "5425          Under option                   3               Upholstered   \n",
       "5426          Under option                   3  Upholstered or furnished   \n",
       "\n",
       "     construction-period garden-surface-area plot-size postcode        date  \n",
       "0                    NaN                 NaN       NaN   1391XL  2021-10-17  \n",
       "1                    NaN                 NaN       NaN   9721LA  2021-10-17  \n",
       "2                    NaN                 NaN       NaN   1017XA  2021-10-17  \n",
       "3                    NaN                 NaN       NaN   1016EJ  2021-10-17  \n",
       "4                    NaN                 NaN       NaN   3235LN  2021-10-17  \n",
       "...                  ...                 ...       ...      ...         ...  \n",
       "5422                 NaN                 NaN       NaN   1505TJ  2021-10-17  \n",
       "5423                 NaN                 NaN       NaN   3045LJ  2021-10-17  \n",
       "5424                 NaN                 NaN       NaN   3762GK  2021-10-17  \n",
       "5425                 NaN                 NaN       NaN   1567LD  2021-10-17  \n",
       "5426                 NaN                 NaN       NaN   1501AG  2021-10-17  \n",
       "\n",
       "[5427 rows x 15 columns]"
      ]
     },
     "execution_count": 13,
     "metadata": {},
     "output_type": "execute_result"
    }
   ],
   "source": [
    "df_pararius"
   ]
  }
 ],
 "metadata": {
  "kernelspec": {
   "display_name": "Python 3",
   "language": "python",
   "name": "python3"
  },
  "language_info": {
   "codemirror_mode": {
    "name": "ipython",
    "version": 3
   },
   "file_extension": ".py",
   "mimetype": "text/x-python",
   "name": "python",
   "nbconvert_exporter": "python",
   "pygments_lexer": "ipython3",
   "version": "3.8.5"
  }
 },
 "nbformat": 4,
 "nbformat_minor": 4
}
