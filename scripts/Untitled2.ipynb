{
 "cells": [
  {
   "cell_type": "code",
   "execution_count": 1,
   "metadata": {},
   "outputs": [],
   "source": [
    "import pandas as pd\n",
    "import numpy as np"
   ]
  },
  {
   "cell_type": "code",
   "execution_count": 2,
   "metadata": {},
   "outputs": [],
   "source": [
    "pop = pd.read_csv(\"../data/raw/nl3.csv\", sep=',', index_col=[0])\n",
    "dash = pd.read_csv('../data/processed/df_coo_pararius.csv', index_col=[0])\n",
    "postcode = pd.read_csv(\"../data/raw/zipcode.csv\", sep=',', index_col=[0])"
   ]
  },
  {
   "cell_type": "code",
   "execution_count": 3,
   "metadata": {},
   "outputs": [
    {
     "name": "stderr",
     "output_type": "stream",
     "text": [
      "<ipython-input-3-7b6a62f44eb0>:4: UserWarning: This pattern has match groups. To actually get the groups, use str.extract.\n",
      "  pop.loc[pop['Alternate Names'].str.contains(i), 'city'] = i\n"
     ]
    }
   ],
   "source": [
    "searchfor = dash['City'].unique()\n",
    "pop['Alternate Names'] = pop['Alternate Names'].fillna('None')\n",
    "for i in searchfor:\n",
    "    pop.loc[pop['Alternate Names'].str.contains(i), 'city'] = i\n",
    "pop['city'] = pop['city'].fillna(pop['city'])\n",
    "ast = list(set(searchfor) - set(pop['city']))\n",
    "test = dash[dash['City'].isin(ast)]\n",
    "postcode = postcode.rename(columns={'Plaats':'City'})"
   ]
  },
  {
   "cell_type": "code",
   "execution_count": 4,
   "metadata": {},
   "outputs": [
    {
     "data": {
      "text/html": [
       "<div>\n",
       "<style scoped>\n",
       "    .dataframe tbody tr th:only-of-type {\n",
       "        vertical-align: middle;\n",
       "    }\n",
       "\n",
       "    .dataframe tbody tr th {\n",
       "        vertical-align: top;\n",
       "    }\n",
       "\n",
       "    .dataframe thead th {\n",
       "        text-align: right;\n",
       "    }\n",
       "</style>\n",
       "<table border=\"1\" class=\"dataframe\">\n",
       "  <thead>\n",
       "    <tr style=\"text-align: right;\">\n",
       "      <th></th>\n",
       "      <th>City</th>\n",
       "      <th>Price</th>\n",
       "    </tr>\n",
       "  </thead>\n",
       "  <tbody>\n",
       "    <tr>\n",
       "      <th>16</th>\n",
       "      <td>Wehl</td>\n",
       "      <td>3500.0</td>\n",
       "    </tr>\n",
       "    <tr>\n",
       "      <th>26</th>\n",
       "      <td>Munstergeleen</td>\n",
       "      <td>2600.0</td>\n",
       "    </tr>\n",
       "    <tr>\n",
       "      <th>91</th>\n",
       "      <td>Terheijden</td>\n",
       "      <td>1175.0</td>\n",
       "    </tr>\n",
       "    <tr>\n",
       "      <th>130</th>\n",
       "      <td>Breukeleveen</td>\n",
       "      <td>1450.0</td>\n",
       "    </tr>\n",
       "    <tr>\n",
       "      <th>209</th>\n",
       "      <td>Zwanenburg</td>\n",
       "      <td>1245.0</td>\n",
       "    </tr>\n",
       "    <tr>\n",
       "      <th>...</th>\n",
       "      <td>...</td>\n",
       "      <td>...</td>\n",
       "    </tr>\n",
       "    <tr>\n",
       "      <th>4390</th>\n",
       "      <td>0</td>\n",
       "      <td>1635.0</td>\n",
       "    </tr>\n",
       "    <tr>\n",
       "      <th>4391</th>\n",
       "      <td>0</td>\n",
       "      <td>1605.0</td>\n",
       "    </tr>\n",
       "    <tr>\n",
       "      <th>4699</th>\n",
       "      <td>Giessen</td>\n",
       "      <td>1175.0</td>\n",
       "    </tr>\n",
       "    <tr>\n",
       "      <th>4715</th>\n",
       "      <td>0</td>\n",
       "      <td>945.0</td>\n",
       "    </tr>\n",
       "    <tr>\n",
       "      <th>5543</th>\n",
       "      <td>0</td>\n",
       "      <td>995.0</td>\n",
       "    </tr>\n",
       "  </tbody>\n",
       "</table>\n",
       "<p>77 rows × 2 columns</p>\n",
       "</div>"
      ],
      "text/plain": [
       "               City   Price\n",
       "16             Wehl  3500.0\n",
       "26    Munstergeleen  2600.0\n",
       "91       Terheijden  1175.0\n",
       "130    Breukeleveen  1450.0\n",
       "209      Zwanenburg  1245.0\n",
       "...             ...     ...\n",
       "4390              0  1635.0\n",
       "4391              0  1605.0\n",
       "4699        Giessen  1175.0\n",
       "4715              0   945.0\n",
       "5543              0   995.0\n",
       "\n",
       "[77 rows x 2 columns]"
      ]
     },
     "metadata": {},
     "output_type": "display_data"
    },
    {
     "data": {
      "text/html": [
       "<div>\n",
       "<style scoped>\n",
       "    .dataframe tbody tr th:only-of-type {\n",
       "        vertical-align: middle;\n",
       "    }\n",
       "\n",
       "    .dataframe tbody tr th {\n",
       "        vertical-align: top;\n",
       "    }\n",
       "\n",
       "    .dataframe thead th {\n",
       "        text-align: right;\n",
       "    }\n",
       "</style>\n",
       "<table border=\"1\" class=\"dataframe\">\n",
       "  <thead>\n",
       "    <tr style=\"text-align: right;\">\n",
       "      <th></th>\n",
       "      <th>City</th>\n",
       "      <th>Provincie</th>\n",
       "      <th>longitude</th>\n",
       "      <th>latitude</th>\n",
       "    </tr>\n",
       "  </thead>\n",
       "  <tbody>\n",
       "    <tr>\n",
       "      <th>0</th>\n",
       "      <td>Amersfoort</td>\n",
       "      <td>Utrecht</td>\n",
       "      <td>5.379921</td>\n",
       "      <td>52.198751</td>\n",
       "    </tr>\n",
       "    <tr>\n",
       "      <th>1</th>\n",
       "      <td>Nijmegen</td>\n",
       "      <td>Gelderland</td>\n",
       "      <td>5.866089</td>\n",
       "      <td>51.837674</td>\n",
       "    </tr>\n",
       "    <tr>\n",
       "      <th>2</th>\n",
       "      <td>IJmuiden</td>\n",
       "      <td>Noord-Holland</td>\n",
       "      <td>4.618372</td>\n",
       "      <td>52.459108</td>\n",
       "    </tr>\n",
       "    <tr>\n",
       "      <th>3</th>\n",
       "      <td>Utrecht</td>\n",
       "      <td>Utrecht</td>\n",
       "      <td>5.127076</td>\n",
       "      <td>52.088269</td>\n",
       "    </tr>\n",
       "    <tr>\n",
       "      <th>4</th>\n",
       "      <td>Hengelo</td>\n",
       "      <td>Overijssel</td>\n",
       "      <td>6.796709</td>\n",
       "      <td>52.260323</td>\n",
       "    </tr>\n",
       "    <tr>\n",
       "      <th>...</th>\n",
       "      <td>...</td>\n",
       "      <td>...</td>\n",
       "      <td>...</td>\n",
       "      <td>...</td>\n",
       "    </tr>\n",
       "    <tr>\n",
       "      <th>7719</th>\n",
       "      <td>Schiedam</td>\n",
       "      <td>Zuid-Holland</td>\n",
       "      <td>4.397530</td>\n",
       "      <td>51.911732</td>\n",
       "    </tr>\n",
       "    <tr>\n",
       "      <th>7720</th>\n",
       "      <td>Rotterdam</td>\n",
       "      <td>Zuid-Holland</td>\n",
       "      <td>4.487535</td>\n",
       "      <td>51.916806</td>\n",
       "    </tr>\n",
       "    <tr>\n",
       "      <th>7721</th>\n",
       "      <td>Utrecht</td>\n",
       "      <td>Utrecht</td>\n",
       "      <td>5.137477</td>\n",
       "      <td>52.088324</td>\n",
       "    </tr>\n",
       "    <tr>\n",
       "      <th>7722</th>\n",
       "      <td>Roosendaal</td>\n",
       "      <td>Noord-Brabant</td>\n",
       "      <td>4.461922</td>\n",
       "      <td>51.539267</td>\n",
       "    </tr>\n",
       "    <tr>\n",
       "      <th>7723</th>\n",
       "      <td>Den Haag</td>\n",
       "      <td>Zuid-Holland</td>\n",
       "      <td>4.328798</td>\n",
       "      <td>52.081591</td>\n",
       "    </tr>\n",
       "  </tbody>\n",
       "</table>\n",
       "<p>7724 rows × 4 columns</p>\n",
       "</div>"
      ],
      "text/plain": [
       "            City      Provincie  longitude   latitude\n",
       "0     Amersfoort        Utrecht   5.379921  52.198751\n",
       "1       Nijmegen     Gelderland   5.866089  51.837674\n",
       "2       IJmuiden  Noord-Holland   4.618372  52.459108\n",
       "3        Utrecht        Utrecht   5.127076  52.088269\n",
       "4        Hengelo     Overijssel   6.796709  52.260323\n",
       "...          ...            ...        ...        ...\n",
       "7719    Schiedam   Zuid-Holland   4.397530  51.911732\n",
       "7720   Rotterdam   Zuid-Holland   4.487535  51.916806\n",
       "7721     Utrecht        Utrecht   5.137477  52.088324\n",
       "7722  Roosendaal  Noord-Brabant   4.461922  51.539267\n",
       "7723    Den Haag   Zuid-Holland   4.328798  52.081591\n",
       "\n",
       "[7724 rows x 4 columns]"
      ]
     },
     "metadata": {},
     "output_type": "display_data"
    }
   ],
   "source": [
    "display(test[['City', 'Price']])\n",
    "display(postcode[['City', 'Provincie','longitude', 'latitude']])"
   ]
  },
  {
   "cell_type": "code",
   "execution_count": 5,
   "metadata": {},
   "outputs": [],
   "source": [
    "aaa = pd.merge(test[['City', 'Price']], postcode[['City', 'Provincie','longitude', 'latitude']], left_on='City', right_on='City', how='left')"
   ]
  },
  {
   "cell_type": "code",
   "execution_count": 6,
   "metadata": {},
   "outputs": [],
   "source": [
    "ccc = aaa.groupby(['City', 'Provincie'])[['longitude', 'latitude']].mean().reset_index()"
   ]
  },
  {
   "cell_type": "code",
   "execution_count": 7,
   "metadata": {},
   "outputs": [],
   "source": [
    "\n",
    "\n",
    "def haversine(lat1, lon1, lat2, lon2):\n",
    "    earth_radius = 6371\n",
    "    lat1, lon1, lat2, lon2 = np.radians([lat1, lon1, lat2, lon2])\n",
    "    a = np.sin((lat2-lat1)/2.0)**2 + np.cos(lat1) * \\\n",
    "        np.cos(lat2) * np.sin((lon2-lon1)/2.0)**2\n",
    "    return earth_radius * 2 * np.arcsin(np.sqrt(a))\n"
   ]
  },
  {
   "cell_type": "code",
   "execution_count": 8,
   "metadata": {},
   "outputs": [],
   "source": [
    "ccc['latitude1'] = 51.907183\n",
    "ccc['longitude1'] = 4.472815\n",
    "ccc['distance'] = haversine(ccc['latitude'], ccc['longitude'], ccc['latitude1'], ccc['longitude1'])\n",
    "ccc = ccc.rename(columns={'City': 'city', 'Provincie': 'Province'})"
   ]
  },
  {
   "cell_type": "code",
   "execution_count": 9,
   "metadata": {},
   "outputs": [
    {
     "name": "stderr",
     "output_type": "stream",
     "text": [
      "<ipython-input-9-d0442445b366>:1: FutureWarning: In a future version of pandas all arguments of concat except for the argument 'objs' will be keyword-only\n",
      "  finaleira = pd.concat([pop, ccc], 0).reset_index(drop=True)\n"
     ]
    }
   ],
   "source": [
    "finaleira = pd.concat([pop, ccc], 0).reset_index(drop=True)\n"
   ]
  },
  {
   "cell_type": "code",
   "execution_count": 10,
   "metadata": {},
   "outputs": [],
   "source": [
    "def haversine(lat1, lon1, lat2, lon2):\n",
    "    earth_radius = 6371\n",
    "    lat1, lon1, lat2, lon2 = np.radians([lat1, lon1, lat2, lon2])\n",
    "    a = np.sin((lat2-lat1)/2.0)**2 + np.cos(lat1) * \\\n",
    "        np.cos(lat2) * np.sin((lon2-lon1)/2.0)**2\n",
    "    return earth_radius * 2 * np.arcsin(np.sqrt(a))\n"
   ]
  },
  {
   "cell_type": "code",
   "execution_count": 11,
   "metadata": {},
   "outputs": [],
   "source": [
    "finaleira['latitude1'] = 51.907183\n",
    "finaleira['longitude1'] = 4.472815"
   ]
  },
  {
   "cell_type": "code",
   "execution_count": 12,
   "metadata": {},
   "outputs": [],
   "source": [
    "finaleira['distance'] = haversine(finaleira['latitude'], finaleira['longitude'], finaleira['latitude1'], finaleira['longitude1'])"
   ]
  },
  {
   "cell_type": "code",
   "execution_count": 13,
   "metadata": {},
   "outputs": [],
   "source": [
    "finaleira = finaleira.sort_values('distance')"
   ]
  },
  {
   "cell_type": "code",
   "execution_count": 14,
   "metadata": {},
   "outputs": [],
   "source": [
    "finaleira['cost'] = finaleira['cost'].interpolate().fillna(finaleira['cost'].mean())\n"
   ]
  },
  {
   "cell_type": "code",
   "execution_count": 15,
   "metadata": {},
   "outputs": [
    {
     "data": {
      "text/plain": [
       "Index(['deal', 'Garden', 'Add', 'Price', 'link', 'agency', 'Area', 'interior',\n",
       "       'latitude', 'longitude', 'Rooms', 'City', 'Provincie', 'url', 'date',\n",
       "       'status', 'irl', 'image', 'address', 'street', 'Offered', 'Available'],\n",
       "      dtype='object')"
      ]
     },
     "execution_count": 15,
     "metadata": {},
     "output_type": "execute_result"
    }
   ],
   "source": [
    "dash.columns"
   ]
  },
  {
   "cell_type": "code",
   "execution_count": 16,
   "metadata": {},
   "outputs": [],
   "source": [
    "#finaleira.to_csv(\"../data/raw/nl3.csv\")\n",
    "average_rent = dash.groupby(['City', 'Provincie'])[['Price']].mean().reset_index().rename(columns={'Price': 'avg_rent'})\n",
    "fim = pd.merge(finaleira, average_rent, left_on=['city', 'Province'], right_on=['City', 'Provincie'], how='left')\n",
    "fim['avg_costs'] = fim['avg_rent'] + fim['cost']\n",
    "fim['latitude'] = round(fim['latitude'].astype(float), 5)\n",
    "fim['longitude'] = round(fim['longitude'].astype(float), 5)\n",
    "fim['distance'] = round(fim['distance'], 2)\n",
    "fim['cost'] = round(fim['cost'], 2)\n",
    "fim['avg_rent'] = round(fim['avg_rent'], 2)\n",
    "fim['avg_costs'] = round(fim['avg_costs'], 2)"
   ]
  },
  {
   "cell_type": "code",
   "execution_count": 17,
   "metadata": {},
   "outputs": [],
   "source": [
    "\n",
    "final = fim[[\n",
    "    'Alternate Names',\n",
    "    'city',\n",
    "    'Province',\n",
    "    'Population',\n",
    "    'distance',\n",
    "    'cost',\n",
    "    'avg_rent',\n",
    "    'avg_costs',\n",
    "    'latitude',\n",
    "    'longitude',\n",
    "]].fillna('None')\n",
    "searchfor = [\"'s-Hertogenbosch\",\n",
    "             'Alkmaar',\n",
    "             'Almere',\n",
    "             'Amersfoort',\n",
    "             'Amstelveen',\n",
    "             'Amsterdam',\n",
    "             'Apeldoorn',\n",
    "             'Arnhem',\n",
    "             'Breda',\n",
    "             'Bussum',\n",
    "             'Delft',\n",
    "             'Dordrecht',\n",
    "             'Eindhoven',\n",
    "             'Gouda',\n",
    "             'Haarlem',\n",
    "             'Hilversum',\n",
    "             'Hoofddorp',\n",
    "             'Huizen',\n",
    "             'Leiden',\n",
    "             'Oegstgeest',\n",
    "             'Rijswijk',\n",
    "             'Rotterdam',\n",
    "             'Schiedam',\n",
    "             'Den Haag',\n",
    "             'Utrecht',\n",
    "             'Voorburg',\n",
    "             'Zaandam',\n",
    "             'Zeist',\n",
    "             'Zoetermeer']\n",
    "final[final['city'].isin(searchfor)].reset_index(drop=True).to_csv('../app/costs.csv')\n",
    "dash = pd.read_csv('../data/processed/df_coo_pararius.csv', index_col=[0])\n",
    "dash.to_csv('../app/df_coo_pararius.csv')"
   ]
  },
  {
   "cell_type": "code",
   "execution_count": 18,
   "metadata": {},
   "outputs": [
    {
     "data": {
      "text/plain": [
       "Index(['deal', 'Garden', 'Add', 'Price', 'link', 'agency', 'Area', 'interior',\n",
       "       'latitude', 'longitude', 'Rooms', 'City', 'Provincie', 'url', 'date',\n",
       "       'status', 'irl', 'image', 'address', 'street', 'Offered', 'Available'],\n",
       "      dtype='object')"
      ]
     },
     "execution_count": 18,
     "metadata": {},
     "output_type": "execute_result"
    }
   ],
   "source": [
    "dash.columns"
   ]
  },
  {
   "cell_type": "code",
   "execution_count": null,
   "metadata": {},
   "outputs": [],
   "source": []
  }
 ],
 "metadata": {
  "kernelspec": {
   "display_name": "Python 3",
   "language": "python",
   "name": "python3"
  },
  "language_info": {
   "codemirror_mode": {
    "name": "ipython",
    "version": 3
   },
   "file_extension": ".py",
   "mimetype": "text/x-python",
   "name": "python",
   "nbconvert_exporter": "python",
   "pygments_lexer": "ipython3",
   "version": "3.8.5"
  }
 },
 "nbformat": 4,
 "nbformat_minor": 4
}
