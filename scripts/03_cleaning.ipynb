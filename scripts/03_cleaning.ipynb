{
 "cells": [
  {
   "cell_type": "code",
   "execution_count": 1,
   "id": "2f8ce02d",
   "metadata": {},
   "outputs": [],
   "source": [
    "# import libs\n",
    "import pandas as pd\n",
    "import numpy as np\n",
    "from datetime import date\n",
    "today = date.today()\n",
    "\n",
    "# import data\n",
    "cost_living = pd.read_csv(\"../data/raw/cost_living.csv\", sep=',', index_col=[0])\n",
    "df_pararius = pd.read_csv('../data/processed/df_housing.csv', index_col=[0])"
   ]
  },
  {
   "cell_type": "code",
   "execution_count": 2,
   "id": "8d035457",
   "metadata": {},
   "outputs": [],
   "source": [
    "# Add cost of living\n",
    "df_city_coord = pd.merge(df_pararius, cost_living[['province','city','cost','latitude_city','longitude_city','alternate names','population','distance']], left_on=['provincie','city'], right_on=['province', 'city'], how='left')"
   ]
  },
  {
   "cell_type": "code",
   "execution_count": 3,
   "id": "9ebe1cf2",
   "metadata": {},
   "outputs": [],
   "source": [
    "# remove the char '\\n'\n",
    "cols_to_check = df_city_coord.columns\n",
    "df_city_coord[cols_to_check] = df_city_coord[cols_to_check].replace({'\\n':''}, regex=True)\n",
    "\n",
    "def clean_contet(column):\n",
    "    return df_city_coord[column].astype(str).str.replace(\"\\D\", \"\", regex=True).replace(\"\", 0, regex=True).astype(int)\n",
    "\n",
    "df_city_coord[\"dimensions living area\"] = clean_contet(\"dimensions living area\")\n",
    "df_city_coord[\"outdoor garden\"] = clean_contet(\"outdoor garden\")\n",
    "df_city_coord[\"price\"] = clean_contet(\"price\")"
   ]
  },
  {
   "cell_type": "code",
   "execution_count": 4,
   "id": "b5658219",
   "metadata": {},
   "outputs": [],
   "source": [
    "# remove the df_city_coord\n",
    "df_city_coord = df_city_coord.replace([np.inf, -np.inf], np.nan)\n",
    "\n",
    "# fill empty\n",
    "# df_city_coord['train'] = df_city_coord['train'].fillna(0)\n",
    "df_city_coord['price'] = df_city_coord['price'].fillna(0)\n",
    "df_city_coord[\"dimensions living area\"] = df_city_coord['dimensions living area'].fillna(0)\n",
    "df_city_coord['outdoor garden'] = df_city_coord['outdoor garden'].fillna(0).astype(int)\n",
    "df_city_coord['price'] = df_city_coord['price'].fillna(0).astype(int)\n",
    "df_city_coord['distance'] = df_city_coord['distance'].fillna(0).astype(int)\n",
    "\n",
    "# change type\n",
    "df_city_coord['price'] = df_city_coord['price'].astype('int')\n",
    "df_city_coord['dimensions living area'] = df_city_coord['dimensions living area'].astype('int')\n",
    "df_city_coord['dimensions living area'] = df_city_coord['dimensions living area'].fillna(0).astype(int)\n",
    "df_city_coord['layout number of rooms'] = df_city_coord['layout number of rooms'].fillna(0).astype(int)\n"
   ]
  },
  {
   "cell_type": "code",
   "execution_count": 5,
   "id": "4f6e93bc",
   "metadata": {},
   "outputs": [],
   "source": [
    "def fixing_time_delta(df, time, my_ofset):\n",
    "    \"\"\"\n",
    "        this function will get and transform string into date format\n",
    "    \"\"\"\n",
    "    # if contains week or month\n",
    "    fixing_time_delta = df.loc[df['transfer offered since'].str.contains(\n",
    "        time, na=False), 'transfer offered since']\n",
    "    # removing unwanted char\n",
    "    fixing_time_delta = fixing_time_delta.str.replace(\n",
    "        \"\\D\", \"\", regex=True).astype(int)\n",
    "    # calculate when posted vs today\n",
    "    fixing_time_delta = today - fixing_time_delta.apply(my_ofset)\n",
    "    # formating date\n",
    "    fixing_time_delta = pd.to_datetime(\n",
    "        fixing_time_delta).dt.strftime('%d-%m-%Y')\n",
    "    # replace date\n",
    "    df.loc[df['transfer offered since'].str.contains(\n",
    "        time, na=False), 'transfer offered since'] = fixing_time_delta\n",
    "    return df\n",
    "\n",
    "try:\n",
    "    df_city_coord = fixing_time_delta(df_city_coord, \"week\", pd.offsets.Week)\n",
    "    df_city_coord = fixing_time_delta(df_city_coord, \"month\", pd.offsets.MonthBegin)\n",
    "except:\n",
    "    print('erro')\n",
    "    pass"
   ]
  },
  {
   "cell_type": "code",
   "execution_count": 6,
   "id": "518e912b",
   "metadata": {},
   "outputs": [
    {
     "name": "stderr",
     "output_type": "stream",
     "text": [
      "/var/folders/pl/wm7wjyvn1vvflk70yn1b6n6c0000gn/T/ipykernel_94943/1051770064.py:4: FutureWarning: The default value of regex will change from True to False in a future version.\n",
      "  df_city_coord['transfer available'] = df_city_coord['transfer available'].str.replace(\"Immediately|In consultation\", str(today))\n"
     ]
    }
   ],
   "source": [
    "# removing unwanted char\n",
    "df_city_coord['transfer available'] = df_city_coord['transfer available'].str.replace(\"From\", \"\")\n",
    "# removing unwanted char\n",
    "df_city_coord['transfer available'] = df_city_coord['transfer available'].str.replace(\"Immediately|In consultation\", str(today))\n",
    "# formating char\n",
    "df_city_coord['transfer available'] = pd.to_datetime(df_city_coord['transfer available']).dt.strftime('%d-%m-%Y')\n",
    "# formating title\n",
    "df_city_coord['title'] = df_city_coord['title'].str.replace(\"For rent: \", \"\")"
   ]
  },
  {
   "cell_type": "code",
   "execution_count": 7,
   "id": "b5abaa88",
   "metadata": {},
   "outputs": [],
   "source": [
    "df_city_coord['url'] = 'https://www.pararius.com'+df_city_coord['link']\n",
    "\n",
    "df_city_coord['image'] = \"<a href=\" + df_city_coord['url'] + \" target='blank'><img src=\" + \\\n",
    "    df_city_coord['img'] + \\\n",
    "    \" title='rent' width='150' height='100'/></a>\""
   ]
  },
  {
   "cell_type": "code",
   "execution_count": 8,
   "id": "b2dd03df",
   "metadata": {},
   "outputs": [],
   "source": [
    "df_city_coord.to_csv('../data/processed/df_housing.csv')"
   ]
  },
  {
   "cell_type": "code",
   "execution_count": null,
   "id": "36e8fafa",
   "metadata": {},
   "outputs": [],
   "source": []
  }
 ],
 "metadata": {
  "kernelspec": {
   "display_name": "Python 3 (ipykernel)",
   "language": "python",
   "name": "python3"
  },
  "language_info": {
   "codemirror_mode": {
    "name": "ipython",
    "version": 3
   },
   "file_extension": ".py",
   "mimetype": "text/x-python",
   "name": "python",
   "nbconvert_exporter": "python",
   "pygments_lexer": "ipython3",
   "version": "3.9.7"
  }
 },
 "nbformat": 4,
 "nbformat_minor": 5
}
