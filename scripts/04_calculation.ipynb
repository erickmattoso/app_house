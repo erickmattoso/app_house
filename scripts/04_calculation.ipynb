{
 "cells": [
  {
   "cell_type": "code",
   "execution_count": 9,
   "id": "35a7246b",
   "metadata": {},
   "outputs": [],
   "source": [
    "\"\"\"\n",
    "    Who: Ericson Mattoso\n",
    "    When: 04/nov/2021\n",
    "    What: This script is responsable calculate houses priority\n",
    "    Why: This calculation will help users to find a best deal house\n",
    "    Where: data comes from previous dataframes. \n",
    "    How: calculates based a weighted variables\n",
    "\"\"\"\n",
    "# libs\n",
    "import pandas as pd\n",
    "from scipy import spatial\n",
    "import numpy as np\n",
    "\n",
    "# read data from our database\n",
    "df_housing_coo = pd.read_csv('../data/processed/df_housing.csv', index_col=[0])\n",
    "# read train station data in europe\n",
    "link1 = 'https://github.com/trainline-eu/stations/blob/master/stations.csv'\n",
    "link2 = 'https://raw.githubusercontent.com/trainline-eu/stations/master/stations.csv'\n",
    "# try to read and then save the data\n",
    "try:\n",
    "    stations = pd.read_csv(link2, sep=';', low_memory=False)\n",
    "    stations.to_csv('../data/raw/stations.csv')\n",
    "# in case of the data is not available, read local file\n",
    "except:\n",
    "    print('local')\n",
    "    stations = pd.read_csv('../data/raw/stations.csv',\n",
    "                           sep=';', low_memory=False)\n",
    "# read data from NL\n",
    "stations = stations[stations['country'] == 'NL'][['name', 'latitude', 'longitude']]\n",
    "\n",
    "# valid info\n",
    "stations = stations[stations['latitude'].notna()].reset_index(drop=True)\n",
    "\n",
    "# getting coordinates from stations and our postcodes\n",
    "coordinates_1 = list(zip(df_housing_coo['latitude'], df_housing_coo['longitude']))\n",
    "coordinates_2 = list(zip(stations['latitude'], stations['longitude']))\n",
    "\n",
    "# normalizing coordinates\n",
    "tree = spatial.KDTree(coordinates_2)\n",
    "distance = []\n",
    "\n",
    "# calculate distance from station to postcodes\n",
    "for i in range(len(df_housing_coo)):\n",
    "    teste = coordinates_1[i]\n",
    "    distance.append(tree.query(teste)[0])"
   ]
  },
  {
   "cell_type": "code",
   "execution_count": 10,
   "id": "37d73c77",
   "metadata": {},
   "outputs": [],
   "source": [
    "# getting variables\n",
    "df_housing_coo['train'] = distance"
   ]
  },
  {
   "cell_type": "code",
   "execution_count": 11,
   "id": "b99fc4a4",
   "metadata": {},
   "outputs": [
    {
     "name": "stdout",
     "output_type": "stream",
     "text": [
      "704\n"
     ]
    }
   ],
   "source": [
    "print(len(df_housing_coo))"
   ]
  },
  {
   "cell_type": "code",
   "execution_count": 12,
   "id": "ead4f7dc",
   "metadata": {},
   "outputs": [],
   "source": [
    "df_housing_coo[\"OP_latitude\"] = 51.9071833\n",
    "df_housing_coo[\"OP_longitude\"] =  4.4728155\n",
    "\n",
    "def haversine(lat1, lon1, lat2, lon2):\n",
    "    \"\"\"\n",
    "        calculate distance from 2 coordinates\n",
    "    \"\"\"\n",
    "    earth_radius = 6371\n",
    "    lat1, lon1, lat2, lon2 = np.radians([lat1, lon1, lat2, lon2])\n",
    "    a = np.sin((lat2-lat1)/2.0)**2 + np.cos(lat1) * \\\n",
    "        np.cos(lat2) * np.sin((lon2-lon1)/2.0)**2\n",
    "    return earth_radius * 2 * np.arcsin(np.sqrt(a))\n",
    "    \n",
    "    \n",
    "df_housing_coo['distance_house'] = haversine(\n",
    "    df_housing_coo['OP_latitude'],\n",
    "    df_housing_coo['OP_longitude'],\n",
    "    df_housing_coo['latitude'],\n",
    "    df_housing_coo['longitude']\n",
    ")"
   ]
  },
  {
   "cell_type": "code",
   "execution_count": 15,
   "id": "651298ec",
   "metadata": {},
   "outputs": [],
   "source": [
    "df_housing_coo = df_housing_coo.replace([np.inf, -np.inf], np.nan)\n",
    "\n",
    "clc_area = df_housing_coo['dimensions living area'].astype(int).fillna(0)\n",
    "clc_room = df_housing_coo['layout number of rooms'].astype(int).fillna(0)\n",
    "clc_garden = df_housing_coo['outdoor garden'].astype(int).fillna(0)\n",
    "clc_price = df_housing_coo['price'].astype(int).fillna(0)\n",
    "clc_train = df_housing_coo['train']\n",
    "\n",
    "clc_distance_house = df_housing_coo['distance_house']\n",
    "\n",
    "# Calculate best deal\n",
    "df_housing_coo['deal'] = ((clc_area + clc_room + clc_garden) / (clc_price + clc_train + clc_distance_house))"
   ]
  },
  {
   "cell_type": "code",
   "execution_count": 18,
   "id": "20d02a55",
   "metadata": {},
   "outputs": [],
   "source": [
    "print(len(df_housing_coo))\n",
    "df_housing_coo = df_housing_coo[df_housing_coo['transfer rental agreement']!=\"Temporary rental\"]\n",
    "print(len(df_housing_coo))"
   ]
  },
  {
   "cell_type": "code",
   "execution_count": 6,
   "id": "ee82cf68",
   "metadata": {},
   "outputs": [],
   "source": [
    "df_housing_coo = df_housing_coo.drop(columns=['unnamed: 0']).reset_index(drop=True)"
   ]
  },
  {
   "cell_type": "code",
   "execution_count": 7,
   "id": "96191992",
   "metadata": {},
   "outputs": [],
   "source": [
    "df_housing_coo.to_csv('../app/df_housing_app.csv')"
   ]
  }
 ],
 "metadata": {
  "kernelspec": {
   "display_name": "Python 3 (ipykernel)",
   "language": "python",
   "name": "python3"
  },
  "language_info": {
   "codemirror_mode": {
    "name": "ipython",
    "version": 3
   },
   "file_extension": ".py",
   "mimetype": "text/x-python",
   "name": "python",
   "nbconvert_exporter": "python",
   "pygments_lexer": "ipython3",
   "version": "3.9.7"
  }
 },
 "nbformat": 4,
 "nbformat_minor": 5
}
