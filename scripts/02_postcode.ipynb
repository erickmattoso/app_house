{
 "cells": [
  {
   "cell_type": "code",
   "execution_count": 1,
   "id": "aa005449",
   "metadata": {},
   "outputs": [],
   "source": [
    "# Libs\n",
    "from bs4 import BeautifulSoup\n",
    "import glob\n",
    "import os\n",
    "import pandas as pd\n",
    "import requests"
   ]
  },
  {
   "cell_type": "code",
   "execution_count": 2,
   "id": "a4f50f9a",
   "metadata": {},
   "outputs": [],
   "source": [
    "def postnl_scrape(cep):\n",
    "    \"\"\"\n",
    "        This function shall request coordinates from postcodebijadres\n",
    "    \"\"\"\n",
    "    # creates link\n",
    "    url = 'https://postcodebijadres.nl/' + cep\n",
    "    # create header to simulate human behaviour on scrape\n",
    "    headers = {\n",
    "        \"User-Agent\": \"Mozilla/5.0 (X11; Ubuntu; Linux x86_64; rv:88.0) Gecko/20100101 Firefox/88.0\"}\n",
    "    # scrape\n",
    "    soup = BeautifulSoup(requests.get(\n",
    "        url, headers=headers).content, \"html.parser\")\n",
    "    # html as string\n",
    "    return soup"
   ]
  },
  {
   "cell_type": "code",
   "execution_count": 3,
   "id": "6c927e07",
   "metadata": {},
   "outputs": [],
   "source": [
    "df_zipcode = pd.read_csv('../data/raw/zipcode.csv', index_col=[0])\n",
    "df_housing = pd.read_csv(\"../data/processed/all_content.csv\", index_col=[0])\n",
    "df_housing['postcode'] = df_housing['location'].str[:7].str.replace(\" \",\"\")"
   ]
  },
  {
   "cell_type": "code",
   "execution_count": 4,
   "id": "368a3572",
   "metadata": {},
   "outputs": [
    {
     "name": "stdout",
     "output_type": "stream",
     "text": [
      "27\n"
     ]
    }
   ],
   "source": [
    "# what are the zipcodes we have scrapped?\n",
    "temp1 = df_housing['postcode'].unique()\n",
    "# what are those we already have the coordinates?\n",
    "temp2 = df_zipcode['postcode'].unique()\n",
    "# what is new?\n",
    "cep_zip = list(set(temp1) - set(temp2))\n",
    "# how many new zipcodes without coordidates we have\n",
    "print(len(cep_zip))"
   ]
  },
  {
   "cell_type": "code",
   "execution_count": 5,
   "id": "bacca7da",
   "metadata": {},
   "outputs": [],
   "source": [
    "# empty variables\n",
    "zipcode = pd.DataFrame({})\n",
    "description_1 = {}"
   ]
  },
  {
   "cell_type": "code",
   "execution_count": 6,
   "id": "3d2c8d23",
   "metadata": {},
   "outputs": [
    {
     "name": "stderr",
     "output_type": "stream",
     "text": [
      "/var/folders/pl/wm7wjyvn1vvflk70yn1b6n6c0000gn/T/ipykernel_94915/3688265986.py:28: FutureWarning: In a future version of pandas all arguments of concat except for the argument 'objs' will be keyword-only\n",
      "  df_zipcode = pd.concat([df_zipcode, zipcode_], 0)\n"
     ]
    },
    {
     "name": "stdout",
     "output_type": "stream",
     "text": [
      "##################################### 3824KB\n",
      "##################################### 3824KC\n",
      "##################################### 3824KG\n",
      "##################################### 3118JR\n"
     ]
    }
   ],
   "source": [
    "# read each new zipcode\n",
    "for cep in cep_zip:\n",
    "    # load the scraper\n",
    "    soup = postnl_scrape(cep)\n",
    "    try:\n",
    "        # get first table\n",
    "        split0 = soup.find_all(\n",
    "            'table', {\"class\": \"table table-bordered mt-3\"})[0]\n",
    "        # get second table\n",
    "        split1 = soup.find_all(\n",
    "            'table', {\"class\": \"table table-bordered mt-3\"})[1]\n",
    "        # coordinates\n",
    "        lat = split1.find_all('td')[1].text\n",
    "        lon = split1.find_all('td')[3].text\n",
    "        # save on dict\n",
    "        description_1.update({'latitude': lat, 'longitude': lon})\n",
    "        # each row of the table\n",
    "        for num in range(9):\n",
    "            # get key and value\n",
    "            split0_key = split0.find_all('th')[num].text\n",
    "            split0_val = split0.find_all('td')[num].text\n",
    "            # save on dict\n",
    "            description_1.update({split0_key: split0_val})\n",
    "        # dict into df\n",
    "        zipcode_ = pd.DataFrame(description_1, index=[0])\n",
    "        # add on the df\n",
    "        zipcode_['postcode'] = zipcode_['Postcode'].str.replace(\" \",\"\")\n",
    "        df_zipcode = pd.concat([df_zipcode, zipcode_], 0)\n",
    "    except:\n",
    "        print('#####################################', cep)\n",
    "        pass"
   ]
  },
  {
   "cell_type": "code",
   "execution_count": 7,
   "id": "ab3cc5c7",
   "metadata": {},
   "outputs": [],
   "source": [
    "# add new info into the housing dataframe\n",
    "zipcode_housing_coo = pd.merge(df_housing, df_zipcode, how='left', on='postcode')"
   ]
  },
  {
   "cell_type": "code",
   "execution_count": 8,
   "id": "2df34e64",
   "metadata": {},
   "outputs": [],
   "source": [
    "col = (map(lambda x: x.lower(), zipcode_housing_coo.columns))\n",
    "col = list(col)\n",
    "zipcode_housing_coo.columns = col"
   ]
  },
  {
   "cell_type": "code",
   "execution_count": 9,
   "id": "947af4f9",
   "metadata": {},
   "outputs": [],
   "source": [
    "zipcode_housing_coo = zipcode_housing_coo.rename(columns={\"plaats\":\"city\"})"
   ]
  },
  {
   "cell_type": "code",
   "execution_count": 10,
   "id": "3a9e6b81",
   "metadata": {},
   "outputs": [],
   "source": [
    "# saving data\n",
    "zipcode_housing_coo.to_csv('../data/processed/df_housing.csv')\n",
    "df_zipcode.to_csv('../data/raw/zipcode.csv')"
   ]
  }
 ],
 "metadata": {
  "kernelspec": {
   "display_name": "Python 3 (ipykernel)",
   "language": "python",
   "name": "python3"
  },
  "language_info": {
   "codemirror_mode": {
    "name": "ipython",
    "version": 3
   },
   "file_extension": ".py",
   "mimetype": "text/x-python",
   "name": "python",
   "nbconvert_exporter": "python",
   "pygments_lexer": "ipython3",
   "version": "3.9.7"
  }
 },
 "nbformat": 4,
 "nbformat_minor": 5
}
