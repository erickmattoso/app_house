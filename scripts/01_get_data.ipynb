{
 "cells": [
  {
   "cell_type": "code",
   "execution_count": 1,
   "id": "eed4c4e7",
   "metadata": {},
   "outputs": [],
   "source": [
    "from bs4 import BeautifulSoup\n",
    "from datetime import date\n",
    "from selenium import webdriver\n",
    "from selenium.webdriver.chrome.options import Options\n",
    "from webdriver_manager.chrome import ChromeDriverManager\n",
    "import datetime\n",
    "import glob\n",
    "import os\n",
    "import pandas as pd\n",
    "import time"
   ]
  },
  {
   "cell_type": "code",
   "execution_count": 2,
   "id": "ba107cca",
   "metadata": {},
   "outputs": [],
   "source": [
    "def scrape(city,num_pages):\n",
    "    driver = webdriver.Chrome(chromedriver)\n",
    "    url=f'https://www.pararius.com/apartments/{city}/page-{num_pages}'\n",
    "    driver.get(url)\n",
    "    time.sleep(5)\n",
    "    html_soup = BeautifulSoup(driver.page_source, 'html.parser')\n",
    "    driver.close()\n",
    "    return html_soup"
   ]
  },
  {
   "cell_type": "code",
   "execution_count": 3,
   "id": "18b68bac",
   "metadata": {},
   "outputs": [
    {
     "name": "stderr",
     "output_type": "stream",
     "text": [
      "\n",
      "\n",
      "====== WebDriver manager ======\n",
      "Current google-chrome version is 100.0.4896\n",
      "Get LATEST chromedriver version for 100.0.4896 google-chrome\n",
      "Trying to download new driver from https://chromedriver.storage.googleapis.com/100.0.4896.60/chromedriver_mac64.zip\n",
      "Driver has been saved in cache [/Users/ericsonmarques/.wdm/drivers/chromedriver/mac64/100.0.4896.60]\n"
     ]
    }
   ],
   "source": [
    "chromedriver = ChromeDriverManager().install()"
   ]
  },
  {
   "cell_type": "code",
   "execution_count": 4,
   "id": "869a0d4f",
   "metadata": {},
   "outputs": [],
   "source": [
    "my_links_list=[]\n",
    "my_list = [\"alkmaar\",\"almere\",\"amersfoort\",\"amstelveen\",\"amsterdam\",\"apeldoorn\",\"arnhem\",\"breda\",\"bussum\",\"delft\",\"dordrecht\",\"eindhoven\",\"gouda\",\"haarlem\",\"hilversum\",\"hoofddorp\",\"huizen\",\"leiden\",\"oegstgeest\",\"rijswijk\",\"rotterdam\",\"schiedam\",\"utrecht\",\"voorburg\",\"zaandam\",\"zeist\",\"zoetermeer\",\"den-bosch\",\"den-haag\"]\n",
    "my_list.sort()\n",
    "for city in (my_list[:]):\n",
    "    html_soup = scrape(city,1)\n",
    "    try:\n",
    "        num_pages = int(html_soup.find_all('a', {\"class\": \"pagination__link\"})[0].text)\n",
    "    except:\n",
    "        num_pages = 1\n",
    "    my_links = html_soup.find_all('a', {\"class\": \"listing-search-item__link listing-search-item__link--depiction\"})\n",
    "    my_links_list.append(my_links)\n",
    "    if num_pages>1:\n",
    "        for i in range(2,num_pages+1):\n",
    "            html_soup = scrape(city,num_pages)\n"
   ]
  },
  {
   "cell_type": "code",
   "execution_count": 5,
   "id": "071f1cfe",
   "metadata": {},
   "outputs": [],
   "source": [
    "my_csv=[]\n",
    "result = [item for sublist in my_links_list for item in sublist]\n",
    "for i in range(len(result)):\n",
    "    my_csv.append(result[i]['href'])"
   ]
  },
  {
   "cell_type": "code",
   "execution_count": 6,
   "id": "cd3d7626",
   "metadata": {},
   "outputs": [],
   "source": [
    "# contém tudo ativo\n",
    "acti = pd.DataFrame(my_csv,columns={\"links\"})\n",
    "\n",
    "# base antiga\n",
    "base = pd.read_csv('../data/processed/all_content.csv', index_col=[0])"
   ]
  },
  {
   "cell_type": "code",
   "execution_count": 7,
   "id": "02de1956",
   "metadata": {},
   "outputs": [],
   "source": [
    "# transformando em lista para comparar\n",
    "acti_list = list(acti['links'])\n",
    "base_list = list(base['link'])"
   ]
  },
  {
   "cell_type": "code",
   "execution_count": 8,
   "id": "bd60906e",
   "metadata": {},
   "outputs": [],
   "source": [
    "# O que tem de novo?\n",
    "crawler = set(acti_list) - set(base_list)"
   ]
  },
  {
   "cell_type": "code",
   "execution_count": 9,
   "id": "a79b097d",
   "metadata": {},
   "outputs": [],
   "source": [
    "# Salva a base atual como base final\n",
    "acti.to_csv('../data/processed/my_links.csv')\n",
    "\n",
    "# Salva onde o crawler deve buscar novas infos\n",
    "df_crawler = pd.DataFrame(crawler,columns={\"links\"})\n",
    "df_crawler.to_csv('../data/processed/df_crawler.csv')"
   ]
  },
  {
   "cell_type": "code",
   "execution_count": 23,
   "id": "ad8032d0",
   "metadata": {},
   "outputs": [
    {
     "name": "stdout",
     "output_type": "stream",
     "text": [
      "73\n"
     ]
    }
   ],
   "source": [
    "print(len(crawler))"
   ]
  },
  {
   "cell_type": "code",
   "execution_count": 11,
   "id": "303be056",
   "metadata": {},
   "outputs": [],
   "source": [
    "def scrape(my_link):\n",
    "    driver = webdriver.Chrome(chromedriver)\n",
    "    url=f'https://www.pararius.com{my_link}'\n",
    "    driver.get(url)\n",
    "    time.sleep(5)\n",
    "    html_soup = BeautifulSoup(driver.page_source, 'html.parser')\n",
    "    return html_soup,driver"
   ]
  },
  {
   "cell_type": "code",
   "execution_count": 12,
   "id": "a2e3a659",
   "metadata": {},
   "outputs": [],
   "source": [
    "def content_table(table):\n",
    "    content = html_soup.find_all('section', class_=f\"page__details page__details--{table}\")[0]\n",
    "    content_title = content.find_all('dt')\n",
    "    content_cores = content.find_all('dd')\n",
    "    return content_title, content_cores"
   ]
  },
  {
   "cell_type": "code",
   "execution_count": 13,
   "id": "8784beb6",
   "metadata": {},
   "outputs": [],
   "source": [
    "def del_files():\n",
    "    files = glob.glob('../data/temp/*')\n",
    "    for f in files:\n",
    "        os.remove(f)"
   ]
  },
  {
   "cell_type": "code",
   "execution_count": 14,
   "id": "55c5555e",
   "metadata": {},
   "outputs": [
    {
     "name": "stderr",
     "output_type": "stream",
     "text": [
      "\n",
      "\n",
      "====== WebDriver manager ======\n",
      "Current google-chrome version is 100.0.4896\n",
      "Get LATEST chromedriver version for 100.0.4896 google-chrome\n",
      "Driver [/Users/ericsonmarques/.wdm/drivers/chromedriver/mac64/100.0.4896.60/chromedriver] found in cache\n"
     ]
    }
   ],
   "source": [
    "chromedriver = ChromeDriverManager().install()"
   ]
  },
  {
   "cell_type": "code",
   "execution_count": 15,
   "id": "3aa1b62c",
   "metadata": {},
   "outputs": [],
   "source": [
    "del_files()"
   ]
  },
  {
   "cell_type": "code",
   "execution_count": 16,
   "id": "cb1720b1",
   "metadata": {},
   "outputs": [
    {
     "name": "stderr",
     "output_type": "stream",
     "text": [
      "/var/folders/pl/wm7wjyvn1vvflk70yn1b6n6c0000gn/T/ipykernel_90373/2137402143.py:118: FutureWarning: In a future version of pandas all arguments of concat except for the argument 'objs' will be keyword-only\n",
      "  df = pd.concat([df_title,df_location,df_price,df_link,df_img,df1,df2,df3,df4,df5,df6,df7,df8],1)\n"
     ]
    }
   ],
   "source": [
    "for my_link in list(df_crawler['links'])[:]:\n",
    "    \n",
    "    transfer_title_list=[]\n",
    "    transfer_cores_list=[]\n",
    "    dimensions_title_list=[]\n",
    "    dimensions_cores_list=[]\n",
    "    construction_title_list=[]\n",
    "    construction_cores_list=[]\n",
    "    layout_title_list=[]\n",
    "    layout_cores_list=[]\n",
    "    outdoor_title_list=[]\n",
    "    outdoor_cores_list=[]\n",
    "    energy_title_list=[]\n",
    "    energy_cores_list=[]\n",
    "    parking_title_list=[]\n",
    "    parking_cores_list=[]\n",
    "    garage_title_list=[]\n",
    "    garage_cores_list=[]\n",
    "\n",
    "    html_soup,driver = scrape(my_link)\n",
    "    \n",
    "    try:\n",
    "        title = html_soup.find_all('h1', class_=\"listing-detail-summary__title\")[0].text\n",
    "        location = html_soup.find_all('div', class_=\"listing-detail-summary__location\")[0].text\n",
    "        price = html_soup.find_all('div', class_=\"listing-detail-summary__price\")[0].text\n",
    "        img = html_soup.find_all('img', class_=\"picture__image\")[0]['src']\n",
    "        ####################################################################################################\n",
    "        try:\n",
    "            transfer_title, transfer_cores = content_table(\"transfer\")\n",
    "            for i in range(len(transfer_title)):\n",
    "                transfer_title_list.append('transfer '+transfer_title[i].text)\n",
    "                transfer_cores_list.append(transfer_cores[i].text)\n",
    "        except:\n",
    "            transfer_title_list.append('')\n",
    "            transfer_cores_list.append('')\n",
    "        ####################################################################################################\n",
    "        try:\n",
    "            dimensions_title, dimensions_cores = content_table(\"dimensions\")\n",
    "            for i in range(len(dimensions_title)):\n",
    "                dimensions_title_list.append('dimensions '+dimensions_title[i].text)\n",
    "                dimensions_cores_list.append(dimensions_cores[i].text)\n",
    "        except:\n",
    "            dimensions_title_list.append('')\n",
    "            dimensions_cores_list.append('')\n",
    "        ####################################################################################################\n",
    "        try:\n",
    "            construction_title, construction_cores = content_table(\"construction\")\n",
    "            for i in range(len(construction_title)):\n",
    "                construction_title_list.append('construction '+construction_title[i].text)\n",
    "                construction_cores_list.append(construction_cores[i].text)\n",
    "        except:\n",
    "            construction_title_list.append('')\n",
    "            construction_cores_list.append('')\n",
    "        ####################################################################################################\n",
    "        try:\n",
    "            layout_title, layout_cores = content_table(\"layout\")\n",
    "            for i in range(len(layout_title)):\n",
    "                layout_title_list.append('layout '+layout_title[i].text)\n",
    "                layout_cores_list.append(layout_cores[i].text)\n",
    "        except:\n",
    "            layout_title_list.append('')\n",
    "            layout_cores_list.append('')\n",
    "        ####################################################################################################\n",
    "        try:\n",
    "            outdoor_title, outdoor_cores = content_table(\"outdoor\")\n",
    "            for i in range(len(outdoor_title)):\n",
    "                outdoor_title_list.append('outdoor '+outdoor_title[i].text)\n",
    "                outdoor_cores_list.append(outdoor_cores[i].text)\n",
    "        except:\n",
    "            outdoor_title_list.append('')\n",
    "            outdoor_cores_list.append('')\n",
    "        ####################################################################################################\n",
    "        try:\n",
    "            energy_title, energy_cores = content_table(\"energy\")\n",
    "            for i in range(len(energy_title)):\n",
    "                energy_title_list.append('energy '+energy_title[i].text)\n",
    "                energy_cores_list.append(energy_cores[i].text)\n",
    "        except:\n",
    "            energy_title_list.append('')\n",
    "            energy_cores_list.append('')\n",
    "        ####################################################################################################\n",
    "        try:\n",
    "            parking_title, parking_cores = content_table(\"parking\")\n",
    "            for i in range(len(parking_title)):\n",
    "                parking_title_list.append('parking '+parking_title[i].text)\n",
    "                parking_cores_list.append(parking_cores[i].text)\n",
    "        except:\n",
    "            parking_title_list.append('')\n",
    "            parking_cores_list.append('')\n",
    "        ####################################################################################################\n",
    "        try:\n",
    "            garage_title, garage_cores = content_table(\"garage\")\n",
    "            for i in range(len(garage_title)):\n",
    "                garage_title_list.append('garage '+garage_title[i].text)\n",
    "                garage_cores_list.append(garage_cores[i].text)\n",
    "        except:\n",
    "            garage_title_list.append('')\n",
    "            garage_cores_list.append('')\n",
    "        ####################################################################################################\n",
    "\n",
    "        df1 = pd.DataFrame([transfer_cores_list],columns=[transfer_title_list])\n",
    "        df2 = pd.DataFrame([dimensions_cores_list],columns=[dimensions_title_list])\n",
    "        df3 = pd.DataFrame([construction_cores_list],columns=[construction_title_list])\n",
    "        df4 = pd.DataFrame([layout_cores_list],columns=[layout_title_list])\n",
    "        df5 = pd.DataFrame([outdoor_cores_list],columns=[outdoor_title_list])\n",
    "        df6 = pd.DataFrame([energy_cores_list],columns=[energy_title_list])\n",
    "        df7 = pd.DataFrame([parking_cores_list],columns=[parking_title_list])\n",
    "        df8 = pd.DataFrame([garage_cores_list],columns=[garage_title_list])\n",
    "\n",
    "        df_title = pd.DataFrame([title],columns=[\"title\"])\n",
    "        df_location = pd.DataFrame([location],columns=[\"location\"])\n",
    "        df_price = pd.DataFrame([price],columns=[\"price\"])\n",
    "        df_link = pd.DataFrame([my_link],columns=[\"link\"])\n",
    "        df_img = pd.DataFrame([img],columns=[\"img\"])\n",
    "\n",
    "        df = pd.concat([df_title,df_location,df_price,df_link,df_img,df1,df2,df3,df4,df5,df6,df7,df8],1)   \n",
    "\n",
    "        file_name = datetime.datetime.now().strftime(\"%Y_%m_%d_%H_%M_%S_%s\")\n",
    "        df.to_csv(f'../data/temp/my_links_{file_name}.csv')\n",
    "        driver.close()\n",
    "    except:\n",
    "        print(my_link)\n",
    "        driver.close()\n",
    "        pass"
   ]
  },
  {
   "cell_type": "code",
   "execution_count": 17,
   "id": "c72a1e51",
   "metadata": {},
   "outputs": [],
   "source": [
    "files = os.path.join(\"../data/temp\", \"my_links*.csv\")\n",
    "files = glob.glob(files)\n",
    "df = pd.concat(map(pd.read_csv, files), ignore_index=True)\n",
    "df = df.loc[:,~df.columns.str.startswith(\"('',)\")]"
   ]
  },
  {
   "cell_type": "code",
   "execution_count": 18,
   "id": "efcaacae",
   "metadata": {},
   "outputs": [],
   "source": [
    "col = df.columns\n",
    "col = [word.replace(\"'\", '') for word in col]\n",
    "col = [word.replace(\",\", '') for word in col]\n",
    "col = [word.replace(\"(\", '') for word in col]\n",
    "col = [word.replace(\")\", '') for word in col]\n",
    "col = (map(lambda x: x.lower(), col))\n",
    "col = list(col)\n",
    "df.columns = col"
   ]
  },
  {
   "cell_type": "code",
   "execution_count": 19,
   "id": "05794bfc",
   "metadata": {},
   "outputs": [],
   "source": [
    "base = pd.read_csv('../data/processed/all_content.csv', index_col=[0])\n",
    "DS   = pd.concat([df,base], ignore_index=True)"
   ]
  },
  {
   "cell_type": "code",
   "execution_count": 20,
   "id": "25580d9c",
   "metadata": {},
   "outputs": [],
   "source": [
    "DS = DS[DS['link'].isin(list(acti['links']))]"
   ]
  },
  {
   "cell_type": "code",
   "execution_count": 21,
   "id": "b38371a3",
   "metadata": {},
   "outputs": [],
   "source": [
    "DS = DS.reset_index(drop=True)\n",
    "DS.to_csv('../data/processed/all_content.csv')"
   ]
  },
  {
   "cell_type": "code",
   "execution_count": 22,
   "id": "fbd1e9f4",
   "metadata": {},
   "outputs": [],
   "source": [
    "del_files()\n",
    "os.remove('../data/processed/df_crawler.csv')\n",
    "os.remove('../data/processed/my_links.csv')"
   ]
  }
 ],
 "metadata": {
  "kernelspec": {
   "display_name": "Python 3 (ipykernel)",
   "language": "python",
   "name": "python3"
  },
  "language_info": {
   "codemirror_mode": {
    "name": "ipython",
    "version": 3
   },
   "file_extension": ".py",
   "mimetype": "text/x-python",
   "name": "python",
   "nbconvert_exporter": "python",
   "pygments_lexer": "ipython3",
   "version": "3.9.7"
  }
 },
 "nbformat": 4,
 "nbformat_minor": 5
}
