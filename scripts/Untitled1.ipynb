{
 "cells": [
  {
   "cell_type": "code",
   "execution_count": 12,
   "metadata": {},
   "outputs": [
    {
     "name": "stdout",
     "output_type": "stream",
     "text": [
      "15\n",
      "{'latitude': '52.076370204397', 'longitude': '4.3430583854467', 'Postcode': '2274 PC'}\n",
      "{'latitude': '52.076370204397', 'longitude': '4.3430583854467', 'Postcode': '2274 PC', 'Straat': '\\nvan Naeltwijckstraat 48 - 84 \\n\\n'}\n",
      "{'latitude': '52.076370204397', 'longitude': '4.3430583854467', 'Postcode': '2274 PC', 'Straat': '\\nvan Naeltwijckstraat 48 - 84 \\n\\n', 'Netnummer': '070'}\n",
      "{'latitude': '52.076370204397', 'longitude': '4.3430583854467', 'Postcode': '2274 PC', 'Straat': '\\nvan Naeltwijckstraat 48 - 84 \\n\\n', 'Netnummer': '070', 'Postcodenummer': '2274'}\n",
      "{'latitude': '52.076370204397', 'longitude': '4.3430583854467', 'Postcode': '2274 PC', 'Straat': '\\nvan Naeltwijckstraat 48 - 84 \\n\\n', 'Netnummer': '070', 'Postcodenummer': '2274', 'Buurt': 'Voorburg Noord'}\n",
      "{'latitude': '52.076370204397', 'longitude': '4.3430583854467', 'Postcode': '2274 PC', 'Straat': '\\nvan Naeltwijckstraat 48 - 84 \\n\\n', 'Netnummer': '070', 'Postcodenummer': '2274', 'Buurt': 'Voorburg Noord', 'Wijk': 'Wijk 11 Voorburg Noord'}\n",
      "{'latitude': '52.076370204397', 'longitude': '4.3430583854467', 'Postcode': '2274 PC', 'Straat': '\\nvan Naeltwijckstraat 48 - 84 \\n\\n', 'Netnummer': '070', 'Postcodenummer': '2274', 'Buurt': 'Voorburg Noord', 'Wijk': 'Wijk 11 Voorburg Noord', 'Plaats': 'Voorburg'}\n",
      "{'latitude': '52.076370204397', 'longitude': '4.3430583854467', 'Postcode': '2274 PC', 'Straat': '\\nvan Naeltwijckstraat 48 - 84 \\n\\n', 'Netnummer': '070', 'Postcodenummer': '2274', 'Buurt': 'Voorburg Noord', 'Wijk': 'Wijk 11 Voorburg Noord', 'Plaats': 'Voorburg', 'Gemeente': 'Leidschendam-Voorburg'}\n",
      "{'latitude': '52.076370204397', 'longitude': '4.3430583854467', 'Postcode': '2274 PC', 'Straat': '\\nvan Naeltwijckstraat 48 - 84 \\n\\n', 'Netnummer': '070', 'Postcodenummer': '2274', 'Buurt': 'Voorburg Noord', 'Wijk': 'Wijk 11 Voorburg Noord', 'Plaats': 'Voorburg', 'Gemeente': 'Leidschendam-Voorburg', 'Provincie': 'Zuid-Holland'}\n",
      "2274PC\n"
     ]
    },
    {
     "name": "stderr",
     "output_type": "stream",
     "text": [
      "<ipython-input-12-038e3a8b3ed2>:68: FutureWarning: In a future version of pandas all arguments of concat except for the argument 'objs' will be keyword-only\n",
      "  zipcode = pd.concat([zipcode, zipcode_], 0)\n"
     ]
    }
   ],
   "source": [
    "\"\"\"\n",
    "    Who: Ericson Mattoso\n",
    "    When: 04/nov/2021\n",
    "    What: This script is responsable to take each house zipcode and find the coordinates for it.\n",
    "    Why: Coordinates are necessary to print the addesses on our map\n",
    "    Where: Zipcode comes from Pararius.nl and Coordinates comes from postcodebijadres.nl\n",
    "    How: scrapping data through BeautifulSoup\n",
    "\"\"\"\n",
    "# Libs\n",
    "from bs4 import BeautifulSoup\n",
    "import glob\n",
    "import os\n",
    "import pandas as pd\n",
    "import requests\n",
    "\n",
    "# list all files\n",
    "list_of_files = glob.glob(\"../data/temp/df_pararius_*.csv\")\n",
    "# get the newest\n",
    "latest_file = max(list_of_files, key=os.path.getctime)\n",
    "# read the newest file\n",
    "df_pararius = pd.read_csv(latest_file, index_col=[0])\n",
    "# get all zipcodes in our db\n",
    "df_zipcode = pd.read_csv('../data/raw/zipcode.csv', index_col=[0])\n",
    "# what are the zipcodes we have scrapped?\n",
    "temp1 = df_pararius['postcode'].unique()\n",
    "# what are those we already have the coordinates?\n",
    "temp2 = df_zipcode['postcode'].unique()\n",
    "# what is new?\n",
    "cep_zip = list(set(temp1) - set(temp2))\n",
    "# how many new zipcodes without coordidates we have\n",
    "print(len(cep_zip))\n",
    "cep_zip = ['2274PC']\n",
    "\n",
    "def postnl_scrape(cep):\n",
    "    \"\"\"\n",
    "        This function shall request coordinates from postcodebijadres\n",
    "    \"\"\"\n",
    "    # creates link\n",
    "    url = 'https://postcodebijadres.nl/' + cep\n",
    "    # create header to simulate human behaviour on scrape\n",
    "    headers = {\n",
    "        \"User-Agent\": \"Mozilla/5.0 (X11; Ubuntu; Linux x86_64; rv:88.0) Gecko/20100101 Firefox/88.0\"}\n",
    "    # scrape\n",
    "    soup = BeautifulSoup(requests.get(\n",
    "        url, headers=headers).content, \"html.parser\")\n",
    "    # html as string\n",
    "    return soup\n",
    "\n",
    "\n",
    "# empty variables\n",
    "zipcode = pd.DataFrame({})\n",
    "description_1 = {}\n",
    "\n",
    "for cep in cep_zip:\n",
    "    soup = postnl_scrape(cep)\n",
    "    try:\n",
    "        split0 = soup.find_all('table', {\"class\": \"table table-bordered mt-3\"})[0]\n",
    "        split1 = soup.find_all('table', {\"class\": \"table table-bordered mt-3\"})[1]\n",
    "        lat = split1.find_all('td')[1].text\n",
    "        lon = split1.find_all('td')[3].text\n",
    "        description_1.update({'latitude': lat,'longitude': lon})\n",
    "        for num in range(9):\n",
    "            split0_key = split0.find_all('th')[num].text\n",
    "            split0_val = split0.find_all('td')[num].text\n",
    "            description_1.update({split0_key: split0_val})\n",
    "            print(description_1)\n",
    "        zipcode_ = pd.DataFrame(description_1, index=[0])\n",
    "        zipcode = pd.concat([zipcode, zipcode_], 0)\n",
    "\n",
    "        #zipcode.to_csv(f'data/temp/cep/zipcode_{cep}.csv')\n",
    "        print(cep)\n",
    "    except:\n",
    "\n",
    "        print('#####################################', cep)\n",
    "        pass\n"
   ]
  },
  {
   "cell_type": "code",
   "execution_count": null,
   "metadata": {},
   "outputs": [],
   "source": []
  }
 ],
 "metadata": {
  "kernelspec": {
   "display_name": "Python 3",
   "language": "python",
   "name": "python3"
  },
  "language_info": {
   "codemirror_mode": {
    "name": "ipython",
    "version": 3
   },
   "file_extension": ".py",
   "mimetype": "text/x-python",
   "name": "python",
   "nbconvert_exporter": "python",
   "pygments_lexer": "ipython3",
   "version": "3.8.5"
  }
 },
 "nbformat": 4,
 "nbformat_minor": 4
}
