{
 "cells": [
  {
   "cell_type": "code",
   "execution_count": 1,
   "metadata": {},
   "outputs": [],
   "source": [
    "import requests\n",
    "import pandas as pd\n",
    "from bs4 import BeautifulSoup"
   ]
  },
  {
   "cell_type": "code",
   "execution_count": 2,
   "metadata": {},
   "outputs": [],
   "source": [
    "def html_content(cep):\n",
    "    url = 'https://postcodebijadres.nl/' + cep\n",
    "    headers = {\"User-Agent\": \"Mozilla/5.0 (X11; Ubuntu; Linux x86_64; rv:88.0) Gecko/20100101 Firefox/88.0\"}\n",
    "    soup = BeautifulSoup(requests.get(url, headers=headers).content, \"html.parser\")\n",
    "    return soup"
   ]
  },
  {
   "cell_type": "code",
   "execution_count": 3,
   "metadata": {},
   "outputs": [],
   "source": [
    "# list = ['2595BW', '1223ML', '7773EE', '1036LZ', '5521WX', '3545DC', '2553DN', '6515ZJ', '3931XZ', '2553MB', '4711SJ', '3551WL', '3015GL', '1441ZM', '2595BX']\n",
    "zipcode_df = pd.read_csv('data/processed/zipcode.csv', index_col=[0])\n",
    "lista = list(zipcode_df['postcode'])"
   ]
  },
  {
   "cell_type": "code",
   "execution_count": null,
   "metadata": {},
   "outputs": [
    {
     "name": "stderr",
     "output_type": "stream",
     "text": [
      "<ipython-input-4-77d6c5cee9b6>:26: FutureWarning: In a future version of pandas all arguments of concat except for the argument 'objs' will be keyword-only\n",
      "  df  = pd.concat([df,df_],0)\n"
     ]
    }
   ],
   "source": [
    "df=pd.DataFrame({})\n",
    "description_1={}\n",
    "\n",
    "for cep in lista:\n",
    "    soup = html_content(cep)\n",
    "    \n",
    "    try:\n",
    "        \n",
    "        for num in range(9):\n",
    "            split0 = soup.find_all('table',{\"class\":\"table table-bordered mt-3\"})[0]\n",
    "            split1 = soup.find_all('table',{\"class\":\"table table-bordered mt-3\"})[1]\n",
    "            \n",
    "            split0_key = split0.find_all('th')[num].text\n",
    "            split0_val = split0.find_all('td')[num].text\n",
    "\n",
    "            lat = split1.find_all('td')[1].text\n",
    "            lon = split1.find_all('td')[3].text\n",
    "                                   \n",
    "            description_1.update({\n",
    "                split0_key:split0_val,\n",
    "                'latitude':lat,\n",
    "                'longitude':lon\n",
    "            })\n",
    "\n",
    "        df_ = pd.DataFrame(description_1,index=[0])\n",
    "        df  = pd.concat([df,df_],0)\n",
    "\n",
    "    except:\n",
    "        pass"
   ]
  },
  {
   "cell_type": "code",
   "execution_count": null,
   "metadata": {},
   "outputs": [],
   "source": [
    "df = df.rename(columns={\n",
    "    'Postcode':'postcode',\n",
    "    'Buurt':'neighborhood',\n",
    "    'Wijk':'area',\n",
    "})\n",
    "df=df[['postcode','latitude','longitude','Straat','Plaats','Gemeente','Provincie','area','neighborhood']]"
   ]
  },
  {
   "cell_type": "code",
   "execution_count": null,
   "metadata": {},
   "outputs": [],
   "source": [
    "SADASDASDASD"
   ]
  },
  {
   "cell_type": "code",
   "execution_count": null,
   "metadata": {},
   "outputs": [],
   "source": []
  },
  {
   "cell_type": "code",
   "execution_count": null,
   "metadata": {},
   "outputs": [],
   "source": []
  },
  {
   "cell_type": "code",
   "execution_count": null,
   "metadata": {},
   "outputs": [],
   "source": []
  },
  {
   "cell_type": "code",
   "execution_count": null,
   "metadata": {},
   "outputs": [],
   "source": [
    "df['Straat'] = df['Straat'].str.replace('\\n',\"\",regex=True)\n",
    "df['Postcode'] = df['Postcode'].str.replace(' ',\"\",regex=True)"
   ]
  },
  {
   "cell_type": "code",
   "execution_count": null,
   "metadata": {},
   "outputs": [],
   "source": [
    "zipcode_df = pd.read_csv('data/processed/zipcode.csv', index_col=[0])\n",
    "zipcode_df = pd.concat([df,zipcode_df],0)\n",
    "zipcode_df = zipcode_df.reset_index(drop=True)"
   ]
  },
  {
   "cell_type": "code",
   "execution_count": null,
   "metadata": {},
   "outputs": [],
   "source": [
    "zipcode_df['Plaats'] = zipcode_df['Plaats'].str.replace(\"'s-Gravenhage\",\"Den Haag\",regex=True)\n",
    "zipcode_df['Plaats'] = zipcode_df['Plaats'].str.replace(\"\\+½\",\"e\",regex=True)\n",
    "zipcode_df['Plaats'] = zipcode_df['Plaats'].str.replace(\"2e\",\"\",regex=True)\n",
    "zipcode_df['Plaats'] = zipcode_df['Plaats'].str.replace(\"1e\",\"\",regex=True)\n",
    "zipcode_df['Plaats'] = zipcode_df['Plaats'].str.replace(\"\\+ó\",\"a\",regex=True)\n",
    "zipcode_df['Plaats'] = zipcode_df['Plaats'].str.replace(\"\\+¦\",\"u\",regex=True)\n",
    "zipcode_df['Plaats'] = zipcode_df['Plaats'].str.replace(\"\\+®\",\"e\",regex=True)\n",
    "zipcode_df['Plaats'] = zipcode_df['Plaats'].str.replace(\"\\++\",\"u\",regex=True)"
   ]
  }
 ],
 "metadata": {
  "kernelspec": {
   "display_name": "Python 3",
   "language": "python",
   "name": "python3"
  },
  "language_info": {
   "codemirror_mode": {
    "name": "ipython",
    "version": 3
   },
   "file_extension": ".py",
   "mimetype": "text/x-python",
   "name": "python",
   "nbconvert_exporter": "python",
   "pygments_lexer": "ipython3",
   "version": "3.8.5"
  }
 },
 "nbformat": 4,
 "nbformat_minor": 4
}
