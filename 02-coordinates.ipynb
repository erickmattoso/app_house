{
 "cells": [
  {
   "cell_type": "markdown",
   "metadata": {},
   "source": [
    "# libs"
   ]
  },
  {
   "cell_type": "code",
   "execution_count": 1,
   "metadata": {},
   "outputs": [],
   "source": [
    "from bs4 import BeautifulSoup\n",
    "from geopy.geocoders import Nominatim\n",
    "from scipy import spatial\n",
    "import glob\n",
    "import os\n",
    "import pandas as pd\n",
    "import requests"
   ]
  },
  {
   "cell_type": "markdown",
   "metadata": {},
   "source": [
    "# Data"
   ]
  },
  {
   "cell_type": "markdown",
   "metadata": {},
   "source": [
    "## df pararius"
   ]
  },
  {
   "cell_type": "code",
   "execution_count": 2,
   "metadata": {},
   "outputs": [],
   "source": [
    "list_of_files = glob.glob(\"data/temp/df_pararius_*.csv\") # * means all if need specific format then *.csv\n",
    "latest_file = max(list_of_files, key=os.path.getctime)\n",
    "df_pararius = pd.read_csv(latest_file, index_col=[0])"
   ]
  },
  {
   "cell_type": "markdown",
   "metadata": {},
   "source": [
    "## zipcodeZ"
   ]
  },
  {
   "cell_type": "code",
   "execution_count": 3,
   "metadata": {},
   "outputs": [],
   "source": [
    "df_zipcode = pd.read_csv('data/processed/zipcodeZ.csv',index_col=[0])"
   ]
  },
  {
   "cell_type": "markdown",
   "metadata": {},
   "source": [
    "# What is new?\n",
    "These are new postcodes that we do not have in our database"
   ]
  },
  {
   "cell_type": "code",
   "execution_count": 4,
   "metadata": {
    "scrolled": true
   },
   "outputs": [
    {
     "name": "stdout",
     "output_type": "stream",
     "text": [
      "129\n"
     ]
    }
   ],
   "source": [
    "temp1 = df_pararius['postcode'].unique()\n",
    "temp2 = df_zipcode['postcode'].unique()\n",
    "cep_zip = list(set(temp1) - set(temp2))\n",
    "print(len(cep_zip))"
   ]
  },
  {
   "cell_type": "markdown",
   "metadata": {},
   "source": [
    "## crawler\n",
    "get data from \"postcode bij adres\""
   ]
  },
  {
   "cell_type": "code",
   "execution_count": 5,
   "metadata": {},
   "outputs": [],
   "source": [
    "def html_content(cep):\n",
    "    url = 'https://postcodebijadres.nl/' + cep\n",
    "    headers = {\"User-Agent\": \"Mozilla/5.0 (X11; Ubuntu; Linux x86_64; rv:88.0) Gecko/20100101 Firefox/88.0\"}\n",
    "    soup = BeautifulSoup(requests.get(url, headers=headers).content, \"html.parser\")\n",
    "    return soup"
   ]
  },
  {
   "cell_type": "code",
   "execution_count": 6,
   "metadata": {},
   "outputs": [
    {
     "name": "stderr",
     "output_type": "stream",
     "text": [
      "<ipython-input-6-9418347b4fe1>:28: FutureWarning: In a future version of pandas all arguments of concat except for the argument 'objs' will be keyword-only\n",
      "  zipcode  = pd.concat([zipcode,zipcode_],0)\n"
     ]
    },
    {
     "name": "stdout",
     "output_type": "stream",
     "text": [
      "2312DS\n",
      "1052CL\n",
      "3073HG\n",
      "1069RT\n",
      "1431BZ\n",
      "6211TB\n",
      "6041NR\n",
      "2771XX\n",
      "3764DK\n",
      "##################################### 9861DE\n",
      "3081TR\n",
      "3521GV\n",
      "##################################### 5397CH\n",
      "2034BB\n",
      "2512GE\n",
      "3027AD\n",
      "1078AH\n",
      "2011XK\n",
      "5632LP\n",
      "9718BJ\n",
      "5612WE\n",
      "2353TN\n",
      "1073BG\n",
      "1508CD\n",
      "1079JW\n",
      "1077VK\n",
      "6224JH\n",
      "1013VP\n",
      "2273BT\n",
      "3971GC\n",
      "3583AG\n",
      "5025PJ\n",
      "5502PG\n",
      "1056PV\n",
      "1073AD\n",
      "6828ZM\n",
      "5694CG\n",
      "5658AA\n",
      "##################################### 6224CR\n",
      "1072KG\n",
      "1183LH\n",
      "3573PW\n",
      "4908AN\n",
      "2011TM\n",
      "##################################### 8316MB\n",
      "3011XZ\n",
      "##################################### 4847GN\n",
      "3235LN\n",
      "2611PP\n",
      "1017XA\n",
      "5616RE\n",
      "2311CS\n",
      "1078BA\n",
      "1087BR\n",
      "1077NA\n",
      "3512TD\n",
      "2312VL\n",
      "2172AA\n",
      "3722VB\n",
      "3523CG\n",
      "2584HM\n",
      "2522TC\n",
      "6446SK\n",
      "##################################### 3931XZ\n",
      "7543CP\n",
      "##################################### 1314CD\n",
      "##################################### 3431HM\n",
      "1079XM\n",
      "3553TE\n",
      "##################################### 5617BH\n",
      "4331JK\n",
      "6741LH\n",
      "6211RP\n",
      "1071VC\n",
      "6883GR\n",
      "4461GL\n",
      "1024KW\n",
      "##################################### 6224CV\n",
      "3194HV\n",
      "3633CZ\n",
      "5922AX\n",
      "2613ZG\n",
      "1025XM\n",
      "5707PW\n",
      "2241RJ\n",
      "8019BB\n",
      "6131ED\n",
      "3541CS\n",
      "1065EG\n",
      "1186VZ\n",
      "##################################### 3036AD\n",
      "1077LP\n",
      "2011NA\n",
      "1062AB\n",
      "6413MC\n",
      "1749AG\n",
      "1017RJ\n",
      "1077TC\n",
      "2518HM\n",
      "1211KS\n",
      "1058AG\n",
      "5046MC\n",
      "1016XV\n",
      "##################################### 3551WL\n",
      "6214PB\n",
      "4611AE\n",
      "1446RJ\n",
      "6291AJ\n",
      "##################################### 7773DG\n",
      "1094LN\n",
      "3038VG\n",
      "3533SX\n",
      "3022RE\n",
      "3081RX\n",
      "3022GJ\n",
      "1075PL\n",
      "1034WD\n",
      "4535AX\n",
      "##################################### 1384AS\n",
      "1054XJ\n",
      "1363XK\n",
      "6214AE\n",
      "1053TW\n",
      "1081BE\n",
      "2312GA\n",
      "1013HA\n",
      "1319EJ\n",
      "5643AR\n",
      "##################################### 3521VZ\n"
     ]
    }
   ],
   "source": [
    "zipcode=pd.DataFrame({})\n",
    "description_1={}\n",
    "\n",
    "for cep in cep_zip:\n",
    "    soup = html_content(cep)\n",
    "    \n",
    "    try:\n",
    "        \n",
    "        for num in range(9):\n",
    "            \n",
    "            split0 = soup.find_all('table',{\"class\":\"table table-bordered mt-3\"})[0]\n",
    "            split1 = soup.find_all('table',{\"class\":\"table table-bordered mt-3\"})[1]\n",
    "            \n",
    "            split0_key = split0.find_all('th')[num].text\n",
    "            split0_val = split0.find_all('td')[num].text\n",
    "\n",
    "            lat = split1.find_all('td')[1].text\n",
    "            lon = split1.find_all('td')[3].text\n",
    "                                   \n",
    "            description_1.update({\n",
    "                split0_key:split0_val,\n",
    "                'latitude':lat,\n",
    "                'longitude':lon\n",
    "            })\n",
    "\n",
    "\n",
    "        zipcode_ = pd.DataFrame(description_1,index=[0])\n",
    "        zipcode  = pd.concat([zipcode,zipcode_],0)\n",
    "        \n",
    "        \n",
    "        zipcode.to_csv(f'data/temp/cep/zipcode_{cep}.csv')\n",
    "        print(cep)\n",
    "    except:\n",
    "        \n",
    "        print('#####################################',cep)\n",
    "        pass"
   ]
  },
  {
   "cell_type": "markdown",
   "metadata": {},
   "source": [
    "## cleaning data and save"
   ]
  },
  {
   "cell_type": "code",
   "execution_count": 7,
   "metadata": {},
   "outputs": [
    {
     "name": "stderr",
     "output_type": "stream",
     "text": [
      "<ipython-input-7-2e6dd493e0a0>:5: FutureWarning: In a future version of pandas all arguments of concat except for the argument 'objs' will be keyword-only\n",
      "  zipcode = pd.concat([zipcode,df_zipcode],0).reset_index(drop=True)\n"
     ]
    }
   ],
   "source": [
    "try:\n",
    "    zipcode['Straat'] = zipcode['Straat'].str.replace('\\n',\"\",regex=True)\n",
    "    zipcode['Postcode'] = zipcode['Postcode'].str.replace(' ',\"\",regex=True)\n",
    "    zipcode = zipcode.rename(columns={'Postcode':'postcode'})\n",
    "    zipcode = pd.concat([zipcode,df_zipcode],0).reset_index(drop=True)\n",
    "    zipcode = zipcode.drop_duplicates(subset=['postcode']).reset_index(drop=True)\n",
    "    zipcode.to_csv('data/processed/zipcodeZ.csv')\n",
    "except:\n",
    "    zipcode = df_zipcode.copy()"
   ]
  },
  {
   "cell_type": "code",
   "execution_count": 8,
   "metadata": {},
   "outputs": [],
   "source": [
    "zipcode_pararius_coo = pd.merge(df_pararius, zipcode, how='left',on='postcode')"
   ]
  },
  {
   "cell_type": "markdown",
   "metadata": {},
   "source": [
    "# organizing before saving"
   ]
  },
  {
   "cell_type": "code",
   "execution_count": 9,
   "metadata": {},
   "outputs": [],
   "source": [
    "zipcode_pararius_coo = zipcode_pararius_coo.fillna(0).drop_duplicates(subset=['irl']).reset_index(drop=True)"
   ]
  },
  {
   "cell_type": "code",
   "execution_count": 10,
   "metadata": {},
   "outputs": [],
   "source": [
    "zipcode_pararius_coo.loc[zipcode_pararius_coo['interior']==0, 'interior'] = 'Upholstered'\n",
    "zipcode_pararius_coo.loc[zipcode_pararius_coo['status']==0, 'status'] = 'Free'"
   ]
  },
  {
   "cell_type": "code",
   "execution_count": 11,
   "metadata": {},
   "outputs": [],
   "source": [
    "# zipcode_pararius_coo['city'] = zipcode_pararius_coo['irl'].str.split(\"/\",expand=True)[2].str.replace(\"-\", \" \").str.title()"
   ]
  },
  {
   "cell_type": "code",
   "execution_count": 12,
   "metadata": {},
   "outputs": [],
   "source": [
    "# prepare link on streamlit\n",
    "zipcode_pararius_coo['url'] = 'https://www.pararius.com' + zipcode_pararius_coo['irl']\n",
    "zipcode_pararius_coo['link'] = \"<a target='_blank' href=\" + (zipcode_pararius_coo['url']).astype(str) + \">\" + (zipcode_pararius_coo['street']).astype(str) + \"</a>\"\n",
    "zipcode_pararius_coo['img'] = \"<a href=\" + zipcode_pararius_coo['url'] + \" target='blank'><img src=\" + zipcode_pararius_coo['image'] + \" title='rent' width='150' height='100'/></a>\""
   ]
  },
  {
   "cell_type": "markdown",
   "metadata": {},
   "source": [
    "# save data"
   ]
  },
  {
   "cell_type": "code",
   "execution_count": 13,
   "metadata": {},
   "outputs": [],
   "source": [
    "zipcode_pararius_coo.to_csv('app/df_coo_pararius.csv')"
   ]
  },
  {
   "cell_type": "code",
   "execution_count": null,
   "metadata": {},
   "outputs": [],
   "source": []
  },
  {
   "cell_type": "code",
   "execution_count": null,
   "metadata": {},
   "outputs": [],
   "source": []
  },
  {
   "cell_type": "code",
   "execution_count": null,
   "metadata": {},
   "outputs": [],
   "source": []
  },
  {
   "cell_type": "code",
   "execution_count": 14,
   "metadata": {},
   "outputs": [
    {
     "ename": "NameError",
     "evalue": "name 'testetestetesteteste' is not defined",
     "output_type": "error",
     "traceback": [
      "\u001b[1;31m---------------------------------------------------------------------------\u001b[0m",
      "\u001b[1;31mNameError\u001b[0m                                 Traceback (most recent call last)",
      "\u001b[1;32m<ipython-input-14-2985facb8699>\u001b[0m in \u001b[0;36m<module>\u001b[1;34m\u001b[0m\n\u001b[1;32m----> 1\u001b[1;33m \u001b[0mtestetestetesteteste\u001b[0m\u001b[1;33m\u001b[0m\u001b[1;33m\u001b[0m\u001b[0m\n\u001b[0m",
      "\u001b[1;31mNameError\u001b[0m: name 'testetestetesteteste' is not defined"
     ]
    }
   ],
   "source": [
    "testetestetesteteste"
   ]
  },
  {
   "cell_type": "code",
   "execution_count": null,
   "metadata": {},
   "outputs": [],
   "source": [
    "filter__ = (zipcode_pararius_coo['irl'].str.contains('13f03c48'))\n",
    "display(zipcode_pararius_coo[filter__])\n",
    "list(zipcode_pararius_coo[filter__]['img'])"
   ]
  },
  {
   "cell_type": "code",
   "execution_count": null,
   "metadata": {},
   "outputs": [],
   "source": [
    "list(zipcode_pararius_coo['img'].sample())"
   ]
  }
 ],
 "metadata": {
  "kernelspec": {
   "display_name": "Python 3",
   "language": "python",
   "name": "python3"
  },
  "language_info": {
   "codemirror_mode": {
    "name": "ipython",
    "version": 3
   },
   "file_extension": ".py",
   "mimetype": "text/x-python",
   "name": "python",
   "nbconvert_exporter": "python",
   "pygments_lexer": "ipython3",
   "version": "3.8.5"
  }
 },
 "nbformat": 4,
 "nbformat_minor": 4
}
