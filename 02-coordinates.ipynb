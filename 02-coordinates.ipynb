{
 "cells": [
  {
   "cell_type": "markdown",
   "metadata": {},
   "source": [
    "# libs"
   ]
  },
  {
   "cell_type": "code",
   "execution_count": 1,
   "metadata": {},
   "outputs": [],
   "source": [
    "from bs4 import BeautifulSoup\n",
    "from geopy.geocoders import Nominatim\n",
    "from scipy import spatial\n",
    "import glob\n",
    "import os\n",
    "import pandas as pd\n",
    "import requests"
   ]
  },
  {
   "cell_type": "markdown",
   "metadata": {},
   "source": [
    "# Data"
   ]
  },
  {
   "cell_type": "markdown",
   "metadata": {},
   "source": [
    "## df pararius"
   ]
  },
  {
   "cell_type": "code",
   "execution_count": 2,
   "metadata": {},
   "outputs": [],
   "source": [
    "list_of_files = glob.glob(\"data/temp/df_pararius_*.csv\") # * means all if need specific format then *.csv\n",
    "latest_file = max(list_of_files, key=os.path.getctime)\n",
    "df_pararius = pd.read_csv(latest_file, index_col=[0])"
   ]
  },
  {
   "cell_type": "markdown",
   "metadata": {},
   "source": [
    "## zipcodeZ"
   ]
  },
  {
   "cell_type": "code",
   "execution_count": 3,
   "metadata": {},
   "outputs": [],
   "source": [
    "df_zipcode = pd.read_csv('data/processed/zipcodeZ.csv',index_col=[0])"
   ]
  },
  {
   "cell_type": "markdown",
   "metadata": {},
   "source": [
    "# What is new?\n",
    "These are new postcodes that we do not have in our database"
   ]
  },
  {
   "cell_type": "code",
   "execution_count": 4,
   "metadata": {
    "scrolled": true
   },
   "outputs": [
    {
     "name": "stdout",
     "output_type": "stream",
     "text": [
      "162\n"
     ]
    }
   ],
   "source": [
    "temp1 = df_pararius['postcode'].unique()\n",
    "temp2 = df_zipcode['postcode'].unique()\n",
    "cep_zip = list(set(temp1) - set(temp2))\n",
    "print(len(cep_zip))"
   ]
  },
  {
   "cell_type": "markdown",
   "metadata": {},
   "source": [
    "## crawler\n",
    "get data from \"postcode bij adres\""
   ]
  },
  {
   "cell_type": "code",
   "execution_count": 5,
   "metadata": {},
   "outputs": [],
   "source": [
    "def html_content(cep):\n",
    "    url = 'https://postcodebijadres.nl/' + cep\n",
    "    headers = {\"User-Agent\": \"Mozilla/5.0 (X11; Ubuntu; Linux x86_64; rv:88.0) Gecko/20100101 Firefox/88.0\"}\n",
    "    soup = BeautifulSoup(requests.get(url, headers=headers).content, \"html.parser\")\n",
    "    return soup"
   ]
  },
  {
   "cell_type": "code",
   "execution_count": 6,
   "metadata": {},
   "outputs": [
    {
     "name": "stderr",
     "output_type": "stream",
     "text": [
      "<ipython-input-6-9418347b4fe1>:28: FutureWarning: In a future version of pandas all arguments of concat except for the argument 'objs' will be keyword-only\n",
      "  zipcode  = pd.concat([zipcode,zipcode_],0)\n"
     ]
    },
    {
     "name": "stdout",
     "output_type": "stream",
     "text": [
      "3112DA\n",
      "6411HG\n",
      "1051VC\n",
      "1171VT\n",
      "5701JV\n",
      "1012SP\n",
      "2215JX\n",
      "3743BJ\n",
      "6811JX\n",
      "3039EM\n",
      "3071JM\n",
      "1188DH\n",
      "2513GL\n",
      "6101GB\n",
      "1054HM\n",
      "##################################### 3521VZ\n",
      "6211JK\n",
      "2611EP\n",
      "5702SL\n",
      "3708HA\n",
      "7423DW\n",
      "9462TB\n",
      "##################################### 5621DA\n",
      "2493WM\n",
      "1019VN\n",
      "7591NR\n",
      "4373BC\n",
      "2517AK\n",
      "1223DK\n",
      "2514KJ\n",
      "8243EN\n",
      "1097HC\n",
      "2811PT\n",
      "2596AG\n",
      "1013MB\n",
      "2625AE\n",
      "3845JE\n",
      "3553CE\n",
      "1031HZ\n",
      "1075EK\n",
      "##################################### 3941JX\n",
      "2611CT\n",
      "2573PM\n",
      "2315KP\n",
      "1423NL\n",
      "2518VA\n",
      "5236BD\n",
      "3081JJ\n",
      "3815DB\n",
      "3083PS\n",
      "1054ZB\n",
      "7604GW\n",
      "3071PK\n",
      "1013JG\n",
      "6221EN\n",
      "##################################### 1384AS\n",
      "##################################### 5397CH\n",
      "1071NL\n",
      "##################################### 6219NM\n",
      "2312KZ\n",
      "5632HM\n",
      "1217EP\n",
      "4812BG\n",
      "3081CC\n",
      "##################################### 7773DG\n",
      "5831DZ\n",
      "1016EK\n",
      "2312NR\n",
      "1055ZR\n",
      "3032AS\n",
      "##################################### 6224CV\n",
      "1078HL\n",
      "2573XK\n",
      "2321RD\n",
      "1186KE\n",
      "1095VS\n",
      "1181MV\n",
      "3511JM\n",
      "2311TD\n",
      "1951EB\n",
      "3641ST\n",
      "1059BG\n",
      "7325DP\n",
      "3817TA\n",
      "2594BE\n",
      "8043NH\n",
      "5706DS\n",
      "1072TT\n",
      "##################################### 8316MB\n",
      "3438CH\n",
      "1017AD\n",
      "8913HE\n",
      "3811KG\n",
      "3072AW\n",
      "8307CG\n",
      "1094TA\n",
      "##################################### 1074JH\n",
      "2518CJ\n",
      "2021XK\n",
      "3039RD\n",
      "1077PX\n",
      "4702ZP\n",
      "3014VJ\n",
      "1506CS\n",
      "2321RA\n",
      "1016VH\n",
      "8461LE\n",
      "9401BK\n",
      "##################################### 5617BH\n",
      "5615PB\n",
      "2523JX\n",
      "1075TR\n",
      "1068CM\n",
      "6811HC\n",
      "3544WJ\n",
      "3082RM\n",
      "2402EK\n",
      "2563SC\n",
      "2591HZ\n",
      "1012PW\n",
      "1363DD\n",
      "3031CA\n",
      "2182MG\n",
      "2597HA\n",
      "1056DK\n",
      "2562XX\n",
      "2981AP\n",
      "3434BE\n",
      "4661EM\n",
      "9731AK\n",
      "3581TG\n",
      "##################################### 9861DE\n",
      "3312GL\n",
      "1053XE\n",
      "6812AB\n",
      "5611HP\n",
      "##################################### 4847GN\n",
      "##################################### 3551WL\n",
      "2312NX\n",
      "1183NB\n",
      "9725AC\n",
      "9713AD\n",
      "2597XS\n",
      "##################################### 3431HM\n",
      "2614MD\n",
      "##################################### 1314CD\n",
      "3026GJ\n",
      "2132BN\n",
      "5741BZ\n",
      "5644EK\n",
      "4615EC\n",
      "1016KX\n",
      "3431HT\n",
      "6675BK\n",
      "1071HS\n",
      "##################################### 6224CR\n",
      "1016DB\n",
      "4814CR\n",
      "1054HP\n",
      "6217KC\n",
      "1057CB\n",
      "5046NJ\n"
     ]
    }
   ],
   "source": [
    "zipcode=pd.DataFrame({})\n",
    "description_1={}\n",
    "\n",
    "for cep in cep_zip:\n",
    "    soup = html_content(cep)\n",
    "    \n",
    "    try:\n",
    "        \n",
    "        for num in range(9):\n",
    "            \n",
    "            split0 = soup.find_all('table',{\"class\":\"table table-bordered mt-3\"})[0]\n",
    "            split1 = soup.find_all('table',{\"class\":\"table table-bordered mt-3\"})[1]\n",
    "            \n",
    "            split0_key = split0.find_all('th')[num].text\n",
    "            split0_val = split0.find_all('td')[num].text\n",
    "\n",
    "            lat = split1.find_all('td')[1].text\n",
    "            lon = split1.find_all('td')[3].text\n",
    "                                   \n",
    "            description_1.update({\n",
    "                split0_key:split0_val,\n",
    "                'latitude':lat,\n",
    "                'longitude':lon\n",
    "            })\n",
    "\n",
    "\n",
    "        zipcode_ = pd.DataFrame(description_1,index=[0])\n",
    "        zipcode  = pd.concat([zipcode,zipcode_],0)\n",
    "        \n",
    "        \n",
    "        zipcode.to_csv(f'data/temp/cep/zipcode_{cep}.csv')\n",
    "        print(cep)\n",
    "    except:\n",
    "        \n",
    "        print('#####################################',cep)\n",
    "        pass"
   ]
  },
  {
   "cell_type": "markdown",
   "metadata": {},
   "source": [
    "## cleaning data and save"
   ]
  },
  {
   "cell_type": "code",
   "execution_count": 7,
   "metadata": {},
   "outputs": [
    {
     "name": "stderr",
     "output_type": "stream",
     "text": [
      "<ipython-input-7-ac7bc87cbddd>:5: FutureWarning: In a future version of pandas all arguments of concat except for the argument 'objs' will be keyword-only\n",
      "  zipcode = pd.concat([zipcode,df_zipcode],0).reset_index(drop=True)\n"
     ]
    }
   ],
   "source": [
    "try:\n",
    "    zipcode['Straat'] = zipcode['Straat'].str.replace('\\n',\"\",regex=True)\n",
    "    zipcode['Postcode'] = zipcode['Postcode'].str.replace(' ',\"\",regex=True)\n",
    "    zipcode = zipcode.rename(columns={'Postcode':'postcode'})\n",
    "    zipcode = pd.concat([zipcode,df_zipcode],0).reset_index(drop=True)\n",
    "    zipcode = zipcode.drop_duplicates(subset=['postcode']).reset_index(drop=True)\n",
    "except:\n",
    "    zipcode = df_zipcode.copy()"
   ]
  },
  {
   "cell_type": "code",
   "execution_count": 8,
   "metadata": {},
   "outputs": [],
   "source": [
    "zipcode_pararius_coo = pd.merge(df_pararius, zipcode, how='left',on='postcode')"
   ]
  },
  {
   "cell_type": "markdown",
   "metadata": {},
   "source": [
    "# organizing before saving"
   ]
  },
  {
   "cell_type": "code",
   "execution_count": 9,
   "metadata": {},
   "outputs": [],
   "source": [
    "zipcode_pararius_coo = zipcode_pararius_coo.fillna(0).drop_duplicates(subset=['irl']).reset_index(drop=True)"
   ]
  },
  {
   "cell_type": "code",
   "execution_count": 10,
   "metadata": {},
   "outputs": [],
   "source": [
    "zipcode_pararius_coo.loc[zipcode_pararius_coo['interior']==0, 'interior'] = 'Upholstered'\n",
    "zipcode_pararius_coo.loc[zipcode_pararius_coo['status']==0, 'status'] = 'Free'"
   ]
  },
  {
   "cell_type": "code",
   "execution_count": 11,
   "metadata": {},
   "outputs": [],
   "source": [
    "# zipcode_pararius_coo['city'] = zipcode_pararius_coo['irl'].str.split(\"/\",expand=True)[2].str.replace(\"-\", \" \").str.title()"
   ]
  },
  {
   "cell_type": "code",
   "execution_count": 12,
   "metadata": {},
   "outputs": [],
   "source": [
    "# prepare link on streamlit\n",
    "zipcode_pararius_coo['url'] = 'https://www.pararius.com' + zipcode_pararius_coo['irl']\n",
    "zipcode_pararius_coo['link'] = \"<a target='_blank' href=\" + (zipcode_pararius_coo['url']).astype(str) + \">\" + (zipcode_pararius_coo['street']).astype(str) + \"</a>\"\n",
    "zipcode_pararius_coo['img'] = \"<a href=\" + zipcode_pararius_coo['url'] + \" target='blank'><img src=\" + zipcode_pararius_coo['image'] + \" title='rent' width='150' height='100'/></a>\""
   ]
  },
  {
   "cell_type": "markdown",
   "metadata": {},
   "source": [
    "# save data"
   ]
  },
  {
   "cell_type": "code",
   "execution_count": 13,
   "metadata": {},
   "outputs": [],
   "source": [
    "zipcode_pararius_coo.to_csv('app/df_coo_pararius.csv')"
   ]
  },
  {
   "cell_type": "code",
   "execution_count": 14,
   "metadata": {},
   "outputs": [],
   "source": [
    "zipcode.to_csv('data/processed/zipcodeZ.csv')"
   ]
  }
 ],
 "metadata": {
  "kernelspec": {
   "display_name": "Python 3",
   "language": "python",
   "name": "python3"
  },
  "language_info": {
   "codemirror_mode": {
    "name": "ipython",
    "version": 3
   },
   "file_extension": ".py",
   "mimetype": "text/x-python",
   "name": "python",
   "nbconvert_exporter": "python",
   "pygments_lexer": "ipython3",
   "version": "3.8.5"
  }
 },
 "nbformat": 4,
 "nbformat_minor": 4
}
