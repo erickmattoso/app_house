{
 "cells": [
  {
   "cell_type": "markdown",
   "metadata": {},
   "source": [
    "# libs"
   ]
  },
  {
   "cell_type": "code",
   "execution_count": 1,
   "metadata": {},
   "outputs": [],
   "source": [
    "from bs4 import BeautifulSoup\n",
    "from geopy.geocoders import Nominatim\n",
    "from scipy import spatial\n",
    "import glob\n",
    "import os\n",
    "import pandas as pd\n",
    "import requests"
   ]
  },
  {
   "cell_type": "markdown",
   "metadata": {},
   "source": [
    "# Data"
   ]
  },
  {
   "cell_type": "markdown",
   "metadata": {},
   "source": [
    "## df pararius"
   ]
  },
  {
   "cell_type": "code",
   "execution_count": 2,
   "metadata": {},
   "outputs": [],
   "source": [
    "list_of_files = glob.glob(\"data/temp/df_pararius_*.csv\") # * means all if need specific format then *.csv\n",
    "latest_file = max(list_of_files, key=os.path.getctime)\n",
    "df_pararius = pd.read_csv(latest_file, index_col=[0])"
   ]
  },
  {
   "cell_type": "markdown",
   "metadata": {},
   "source": [
    "## zipcodeZ"
   ]
  },
  {
   "cell_type": "code",
   "execution_count": 3,
   "metadata": {},
   "outputs": [],
   "source": [
    "df_zipcode = pd.read_csv('data/processed/zipcodeZ.csv',index_col=[0])"
   ]
  },
  {
   "cell_type": "markdown",
   "metadata": {},
   "source": [
    "# What is new?\n",
    "These are new postcodes that we do not have in our database"
   ]
  },
  {
   "cell_type": "code",
   "execution_count": 4,
   "metadata": {
    "scrolled": true
   },
   "outputs": [
    {
     "name": "stdout",
     "output_type": "stream",
     "text": [
      "189\n"
     ]
    }
   ],
   "source": [
    "temp1 = df_pararius['postcode'].unique()\n",
    "temp2 = df_zipcode['postcode'].unique()\n",
    "cep_zip = list(set(temp1) - set(temp2))\n",
    "print(len(cep_zip))"
   ]
  },
  {
   "cell_type": "markdown",
   "metadata": {},
   "source": [
    "## crawler\n",
    "get data from \"postcode bij adres\""
   ]
  },
  {
   "cell_type": "code",
   "execution_count": 5,
   "metadata": {},
   "outputs": [],
   "source": [
    "def html_content(cep):\n",
    "    url = 'https://postcodebijadres.nl/' + cep\n",
    "    headers = {\"User-Agent\": \"Mozilla/5.0 (X11; Ubuntu; Linux x86_64; rv:88.0) Gecko/20100101 Firefox/88.0\"}\n",
    "    soup = BeautifulSoup(requests.get(url, headers=headers).content, \"html.parser\")\n",
    "    return soup"
   ]
  },
  {
   "cell_type": "code",
   "execution_count": 6,
   "metadata": {},
   "outputs": [
    {
     "name": "stderr",
     "output_type": "stream",
     "text": [
      "<ipython-input-6-cccb489e9e86>:26: FutureWarning: In a future version of pandas all arguments of concat except for the argument 'objs' will be keyword-only\n",
      "  zipcode  = pd.concat([zipcode,zipcode_],0)\n"
     ]
    },
    {
     "name": "stdout",
     "output_type": "stream",
     "text": [
      "3931XZ\n",
      "8316MB\n",
      "3431HM\n",
      "3521VZ\n",
      "4847GN\n",
      "3036AD\n",
      "1036LZ\n",
      "5617BH\n",
      "6224CV\n",
      "1314CD\n",
      "4711SJ\n",
      "5397CH\n",
      "7773DG\n",
      "3551WL\n",
      "6224CR\n"
     ]
    }
   ],
   "source": [
    "zipcode=pd.DataFrame({})\n",
    "description_1={}\n",
    "\n",
    "for cep in cep_zip:\n",
    "    soup = html_content(cep)\n",
    "    \n",
    "    try:\n",
    "        \n",
    "        for num in range(9):\n",
    "            split0 = soup.find_all('table',{\"class\":\"table table-bordered mt-3\"})[0]\n",
    "            split1 = soup.find_all('table',{\"class\":\"table table-bordered mt-3\"})[1]\n",
    "            \n",
    "            split0_key = split0.find_all('th')[num].text\n",
    "            split0_val = split0.find_all('td')[num].text\n",
    "\n",
    "            lat = split1.find_all('td')[1].text\n",
    "            lon = split1.find_all('td')[3].text\n",
    "                                   \n",
    "            description_1.update({\n",
    "                split0_key:split0_val,\n",
    "                'latitude':lat,\n",
    "                'longitude':lon\n",
    "            })\n",
    "\n",
    "        zipcode_ = pd.DataFrame(description_1,index=[0])\n",
    "        zipcode  = pd.concat([zipcode,zipcode_],0)\n",
    "        \n",
    "        \n",
    "        zipcode.to_csv(f'data/temp/cep/zipcode_{cep}.csv')\n",
    "    except:\n",
    "        print(cep)\n",
    "        pass"
   ]
  },
  {
   "cell_type": "markdown",
   "metadata": {},
   "source": [
    "## cleaning data and save"
   ]
  },
  {
   "cell_type": "code",
   "execution_count": 7,
   "metadata": {},
   "outputs": [
    {
     "name": "stderr",
     "output_type": "stream",
     "text": [
      "<ipython-input-7-d3fcb68d549f>:5: FutureWarning: In a future version of pandas all arguments of concat except for the argument 'objs' will be keyword-only\n",
      "  zipcode = pd.concat([zipcode,df_zipcode],0).reset_index(drop=True)\n"
     ]
    }
   ],
   "source": [
    "try:\n",
    "    zipcode['Straat'] = zipcode['Straat'].str.replace('\\n',\"\",regex=True)\n",
    "    zipcode['Postcode'] = zipcode['Postcode'].str.replace(' ',\"\",regex=True)\n",
    "    zipcode = zipcode.rename(columns={'Postcode':'postcode'})\n",
    "    zipcode = pd.concat([zipcode,df_zipcode],0).reset_index(drop=True)\n",
    "    zipcode.to_csv('data/processed/zipcodeZ.csv')\n",
    "except:\n",
    "    zipcode = df_zipcode.copy()"
   ]
  },
  {
   "cell_type": "code",
   "execution_count": 8,
   "metadata": {},
   "outputs": [],
   "source": [
    "zipcode_pararius_coo = pd.merge(df_pararius, zipcode, how='left',on='postcode')"
   ]
  },
  {
   "cell_type": "markdown",
   "metadata": {},
   "source": [
    "# organizing before saving"
   ]
  },
  {
   "cell_type": "code",
   "execution_count": 9,
   "metadata": {},
   "outputs": [],
   "source": [
    "zipcode_pararius_coo = zipcode_pararius_coo.fillna(0).drop_duplicates(subset=['irl']).reset_index(drop=True)"
   ]
  },
  {
   "cell_type": "code",
   "execution_count": 10,
   "metadata": {},
   "outputs": [],
   "source": [
    "zipcode_pararius_coo.loc[zipcode_pararius_coo['interior']==0, 'interior'] = 'Upholstered'\n",
    "zipcode_pararius_coo.loc[zipcode_pararius_coo['status']==0, 'status'] = 'Free'"
   ]
  },
  {
   "cell_type": "code",
   "execution_count": 11,
   "metadata": {},
   "outputs": [],
   "source": [
    "# zipcode_pararius_coo['city'] = zipcode_pararius_coo['irl'].str.split(\"/\",expand=True)[2].str.replace(\"-\", \" \").str.title()"
   ]
  },
  {
   "cell_type": "code",
   "execution_count": 12,
   "metadata": {},
   "outputs": [],
   "source": [
    "# prepare link on streamlit\n",
    "zipcode_pararius_coo['url'] = 'https://www.pararius.com' + zipcode_pararius_coo['irl']\n",
    "zipcode_pararius_coo['link'] = \"<a target='_blank' href=\" + (zipcode_pararius_coo['url']).astype(str) + \">\" + (zipcode_pararius_coo['street']).astype(str) + \"</a>\"\n",
    "zipcode_pararius_coo['img'] = \"<a href=\" + zipcode_pararius_coo['url'] + \" target='blank'><img src=\" + zipcode_pararius_coo['image'] + \"title='rent' width='150' height='100'/></a>\""
   ]
  },
  {
   "cell_type": "markdown",
   "metadata": {},
   "source": [
    "# save data"
   ]
  },
  {
   "cell_type": "code",
   "execution_count": 13,
   "metadata": {},
   "outputs": [],
   "source": [
    "zipcode_pararius_coo.to_csv('app/df_coo_pararius.csv')"
   ]
  }
 ],
 "metadata": {
  "kernelspec": {
   "display_name": "Python 3",
   "language": "python",
   "name": "python3"
  },
  "language_info": {
   "codemirror_mode": {
    "name": "ipython",
    "version": 3
   },
   "file_extension": ".py",
   "mimetype": "text/x-python",
   "name": "python",
   "nbconvert_exporter": "python",
   "pygments_lexer": "ipython3",
   "version": "3.8.5"
  }
 },
 "nbformat": 4,
 "nbformat_minor": 4
}
