{
 "cells": [
  {
   "cell_type": "markdown",
   "metadata": {},
   "source": [
    "# libs"
   ]
  },
  {
   "cell_type": "code",
   "execution_count": 1,
   "metadata": {},
   "outputs": [],
   "source": [
    "from bs4 import BeautifulSoup\n",
    "from geopy.geocoders import Nominatim\n",
    "from scipy import spatial\n",
    "import glob\n",
    "import os\n",
    "import pandas as pd\n",
    "import requests"
   ]
  },
  {
   "cell_type": "markdown",
   "metadata": {},
   "source": [
    "# Data"
   ]
  },
  {
   "cell_type": "markdown",
   "metadata": {},
   "source": [
    "## df pararius"
   ]
  },
  {
   "cell_type": "code",
   "execution_count": 2,
   "metadata": {},
   "outputs": [],
   "source": [
    "list_of_files = glob.glob(\"data/temp/df_pararius_*.csv\") # * means all if need specific format then *.csv\n",
    "latest_file = max(list_of_files, key=os.path.getctime)\n",
    "df_pararius = pd.read_csv(latest_file, index_col=[0])"
   ]
  },
  {
   "cell_type": "markdown",
   "metadata": {},
   "source": [
    "## zipcodeZ"
   ]
  },
  {
   "cell_type": "code",
   "execution_count": 3,
   "metadata": {},
   "outputs": [],
   "source": [
    "df_zipcode = pd.read_csv('data/processed/zipcodeZ.csv',index_col=[0])"
   ]
  },
  {
   "cell_type": "markdown",
   "metadata": {},
   "source": [
    "# What is new?\n",
    "These are new postcodes that we do not have in our database"
   ]
  },
  {
   "cell_type": "code",
   "execution_count": 4,
   "metadata": {
    "scrolled": true
   },
   "outputs": [
    {
     "name": "stdout",
     "output_type": "stream",
     "text": [
      "209\n"
     ]
    }
   ],
   "source": [
    "temp1 = df_pararius['postcode'].unique()\n",
    "temp2 = df_zipcode['postcode'].unique()\n",
    "cep_zip = list(set(temp1) - set(temp2))\n",
    "print(len(cep_zip))"
   ]
  },
  {
   "cell_type": "markdown",
   "metadata": {},
   "source": [
    "## crawler\n",
    "get data from \"postcode bij adres\""
   ]
  },
  {
   "cell_type": "code",
   "execution_count": 5,
   "metadata": {},
   "outputs": [],
   "source": [
    "def html_content(cep):\n",
    "    url = 'https://postcodebijadres.nl/' + cep\n",
    "    headers = {\"User-Agent\": \"Mozilla/5.0 (X11; Ubuntu; Linux x86_64; rv:88.0) Gecko/20100101 Firefox/88.0\"}\n",
    "    soup = BeautifulSoup(requests.get(url, headers=headers).content, \"html.parser\")\n",
    "    return soup"
   ]
  },
  {
   "cell_type": "code",
   "execution_count": 6,
   "metadata": {},
   "outputs": [
    {
     "name": "stderr",
     "output_type": "stream",
     "text": [
      "<ipython-input-6-9418347b4fe1>:28: FutureWarning: In a future version of pandas all arguments of concat except for the argument 'objs' will be keyword-only\n",
      "  zipcode  = pd.concat([zipcode,zipcode_],0)\n"
     ]
    },
    {
     "name": "stdout",
     "output_type": "stream",
     "text": [
      "1068XZ\n",
      "2316SN\n",
      "7511JE\n",
      "9712LN\n",
      "6045CB\n",
      "6828WN\n",
      "2285SJ\n",
      "1091AG\n",
      "5987AD\n",
      "1068ZZ\n",
      "2587EA\n",
      "6301BK\n",
      "2511EC\n",
      "##################################### 3036AD\n",
      "5821AB\n",
      "1181LZ\n",
      "5025MG\n",
      "1081GC\n",
      "6571BJ\n",
      "2515SK\n",
      "1112AD\n",
      "2513CP\n",
      "7311HD\n",
      "##################################### 9861DE\n",
      "9718LK\n",
      "1121AP\n",
      "##################################### 4847GN\n",
      "6227AA\n",
      "3011ZG\n",
      "5212XL\n",
      "1073CC\n",
      "2713GZ\n",
      "3511AB\n",
      "2011BW\n",
      "4818JH\n",
      "9724NJ\n",
      "2282BD\n",
      "5044PN\n",
      "3037PB\n",
      "5642SC\n",
      "5613LV\n",
      "4611SE\n",
      "9356AH\n",
      "6211TE\n",
      "3082WB\n",
      "5504HA\n",
      "1433JG\n",
      "5281GH\n",
      "3051RB\n",
      "1067EP\n",
      "9712HE\n",
      "2013TH\n",
      "1055NL\n",
      "5014MX\n",
      "1056WX\n",
      "##################################### 5397CH\n",
      "3701AA\n",
      "6881SH\n",
      "1324DA\n",
      "3025NA\n",
      "3078HJ\n",
      "6211KB\n",
      "1075VK\n",
      "7558MG\n",
      "5614HC\n",
      "5258HJ\n",
      "1188AX\n",
      "5025XE\n",
      "1065TT\n",
      "1501BG\n",
      "1012GT\n",
      "4611BZ\n",
      "6217LS\n",
      "1052EM\n",
      "4811GV\n",
      "5865BW\n",
      "5124RG\n",
      "2321DL\n",
      "1013HK\n",
      "1076CS\n",
      "##################################### 3431HM\n",
      "3042CW\n",
      "9712PJ\n",
      "1093KP\n",
      "2512CR\n",
      "2645GG\n",
      "5212XH\n",
      "##################################### 6224CV\n",
      "3581AP\n",
      "8042GH\n",
      "1097BP\n",
      "3527CK\n",
      "##################################### 8316MB\n",
      "5616GT\n",
      "5397GN\n",
      "5014KA\n",
      "1077EZ\n",
      "##################################### 6224CR\n",
      "3512AH\n",
      "4615EV\n",
      "4818BZ\n",
      "##################################### 3521VZ\n",
      "1057CX\n",
      "1361AK\n",
      "3023SR\n",
      "3014TE\n",
      "5701KZ\n",
      "2566CK\n",
      "6811BP\n",
      "1082VS\n",
      "2513GJ\n",
      "3741GB\n",
      "1071RC\n",
      "5038DD\n",
      "2518AG\n",
      "3083VG\n",
      "5223BV\n",
      "4486CC\n",
      "2042PH\n",
      "1095MS\n",
      "9712KP\n",
      "##################################### 7773DG\n",
      "9721RM\n",
      "3524CV\n",
      "1098CP\n",
      "1078JG\n",
      "3081SC\n",
      "1075BG\n",
      "2283TJ\n",
      "6041EB\n",
      "2587VG\n",
      "3555RB\n",
      "5643WG\n",
      "3402DP\n",
      "1015LD\n",
      "3553EA\n",
      "6371ER\n",
      "1078BR\n",
      "1056JM\n",
      "3721PR\n",
      "1185HS\n",
      "2583CH\n",
      "3021TP\n",
      "7941DE\n",
      "6828AG\n",
      "1053BA\n",
      "3032BM\n",
      "3051GC\n",
      "1181LM\n",
      "2202BE\n",
      "3076BR\n",
      "3072ZX\n",
      "2515VX\n",
      "6811KR\n",
      "2013DB\n",
      "5611GJ\n",
      "3029AD\n",
      "5224KJ\n",
      "1921BL\n",
      "2274BC\n",
      "1078XW\n",
      "6512CB\n",
      "1191BK\n",
      "1066GG\n",
      "6822EH\n",
      "3116AH\n",
      "2021TS\n",
      "2801EJ\n",
      "9712XB\n",
      "##################################### 5617BH\n",
      "##################################### 6942RL\n",
      "3011ZW\n",
      "1021NP\n",
      "3025AA\n",
      "1012NB\n",
      "2591AC\n",
      "2624CW\n",
      "7431AK\n",
      "1071BC\n",
      "4506GD\n",
      "6531CN\n",
      "1104PC\n",
      "6521EX\n",
      "5021KB\n",
      "4797EV\n",
      "3511LX\n",
      "##################################### 1314CD\n",
      "##################################### 3551WL\n",
      "1931ED\n",
      "2522WL\n",
      "1053RM\n",
      "4811PE\n",
      "4817KT\n",
      "1051BL\n",
      "3531GC\n",
      "2563AS\n",
      "2547EW\n",
      "1181MD\n",
      "1063GE\n",
      "2801AS\n",
      "2285HJ\n",
      "2152BA\n",
      "3072ZM\n",
      "6551AN\n",
      "1017TE\n",
      "##################################### 1384AS\n",
      "1091SJ\n",
      "2311GJ\n",
      "3082LL\n"
     ]
    }
   ],
   "source": [
    "zipcode=pd.DataFrame({})\n",
    "description_1={}\n",
    "\n",
    "for cep in cep_zip:\n",
    "    soup = html_content(cep)\n",
    "    \n",
    "    try:\n",
    "        \n",
    "        for num in range(9):\n",
    "            \n",
    "            split0 = soup.find_all('table',{\"class\":\"table table-bordered mt-3\"})[0]\n",
    "            split1 = soup.find_all('table',{\"class\":\"table table-bordered mt-3\"})[1]\n",
    "            \n",
    "            split0_key = split0.find_all('th')[num].text\n",
    "            split0_val = split0.find_all('td')[num].text\n",
    "\n",
    "            lat = split1.find_all('td')[1].text\n",
    "            lon = split1.find_all('td')[3].text\n",
    "                                   \n",
    "            description_1.update({\n",
    "                split0_key:split0_val,\n",
    "                'latitude':lat,\n",
    "                'longitude':lon\n",
    "            })\n",
    "\n",
    "\n",
    "        zipcode_ = pd.DataFrame(description_1,index=[0])\n",
    "        zipcode  = pd.concat([zipcode,zipcode_],0)\n",
    "        \n",
    "        \n",
    "        zipcode.to_csv(f'data/temp/cep/zipcode_{cep}.csv')\n",
    "        print(cep)\n",
    "    except:\n",
    "        \n",
    "        print('#####################################',cep)\n",
    "        pass"
   ]
  },
  {
   "cell_type": "markdown",
   "metadata": {},
   "source": [
    "## cleaning data and save"
   ]
  },
  {
   "cell_type": "code",
   "execution_count": 7,
   "metadata": {},
   "outputs": [
    {
     "name": "stderr",
     "output_type": "stream",
     "text": [
      "<ipython-input-7-2e6dd493e0a0>:5: FutureWarning: In a future version of pandas all arguments of concat except for the argument 'objs' will be keyword-only\n",
      "  zipcode = pd.concat([zipcode,df_zipcode],0).reset_index(drop=True)\n"
     ]
    }
   ],
   "source": [
    "try:\n",
    "    zipcode['Straat'] = zipcode['Straat'].str.replace('\\n',\"\",regex=True)\n",
    "    zipcode['Postcode'] = zipcode['Postcode'].str.replace(' ',\"\",regex=True)\n",
    "    zipcode = zipcode.rename(columns={'Postcode':'postcode'})\n",
    "    zipcode = pd.concat([zipcode,df_zipcode],0).reset_index(drop=True)\n",
    "    zipcode = zipcode.drop_duplicates(subset=['postcode']).reset_index(drop=True)\n",
    "    zipcode.to_csv('data/processed/zipcodeZ.csv')\n",
    "except:\n",
    "    zipcode = df_zipcode.copy()"
   ]
  },
  {
   "cell_type": "code",
   "execution_count": 8,
   "metadata": {},
   "outputs": [],
   "source": [
    "zipcode_pararius_coo = pd.merge(df_pararius, zipcode, how='left',on='postcode')"
   ]
  },
  {
   "cell_type": "markdown",
   "metadata": {},
   "source": [
    "# organizing before saving"
   ]
  },
  {
   "cell_type": "code",
   "execution_count": 9,
   "metadata": {},
   "outputs": [],
   "source": [
    "zipcode_pararius_coo = zipcode_pararius_coo.fillna(0).drop_duplicates(subset=['irl']).reset_index(drop=True)"
   ]
  },
  {
   "cell_type": "code",
   "execution_count": 10,
   "metadata": {},
   "outputs": [],
   "source": [
    "zipcode_pararius_coo.loc[zipcode_pararius_coo['interior']==0, 'interior'] = 'Upholstered'\n",
    "zipcode_pararius_coo.loc[zipcode_pararius_coo['status']==0, 'status'] = 'Free'"
   ]
  },
  {
   "cell_type": "code",
   "execution_count": 11,
   "metadata": {},
   "outputs": [],
   "source": [
    "# zipcode_pararius_coo['city'] = zipcode_pararius_coo['irl'].str.split(\"/\",expand=True)[2].str.replace(\"-\", \" \").str.title()"
   ]
  },
  {
   "cell_type": "code",
   "execution_count": 12,
   "metadata": {},
   "outputs": [],
   "source": [
    "# prepare link on streamlit\n",
    "zipcode_pararius_coo['url'] = 'https://www.pararius.com' + zipcode_pararius_coo['irl']\n",
    "zipcode_pararius_coo['link'] = \"<a target='_blank' href=\" + (zipcode_pararius_coo['url']).astype(str) + \">\" + (zipcode_pararius_coo['street']).astype(str) + \"</a>\"\n",
    "zipcode_pararius_coo['img'] = \"<a href=\" + zipcode_pararius_coo['url'] + \" target='blank'><img src=\" + zipcode_pararius_coo['image'] + \" title='rent' width='150' height='100'/></a>\""
   ]
  },
  {
   "cell_type": "markdown",
   "metadata": {},
   "source": [
    "# save data"
   ]
  },
  {
   "cell_type": "code",
   "execution_count": 13,
   "metadata": {},
   "outputs": [],
   "source": [
    "zipcode_pararius_coo.to_csv('app/df_coo_pararius.csv')"
   ]
  },
  {
   "cell_type": "code",
   "execution_count": null,
   "metadata": {},
   "outputs": [],
   "source": []
  }
 ],
 "metadata": {
  "kernelspec": {
   "display_name": "Python 3",
   "language": "python",
   "name": "python3"
  },
  "language_info": {
   "codemirror_mode": {
    "name": "ipython",
    "version": 3
   },
   "file_extension": ".py",
   "mimetype": "text/x-python",
   "name": "python",
   "nbconvert_exporter": "python",
   "pygments_lexer": "ipython3",
   "version": "3.8.5"
  }
 },
 "nbformat": 4,
 "nbformat_minor": 4
}
