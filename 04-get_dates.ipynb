{
 "cells": [
  {
   "cell_type": "markdown",
   "metadata": {},
   "source": [
    "# Objective"
   ]
  },
  {
   "cell_type": "markdown",
   "metadata": {},
   "source": [
    "Here we will scrape infos of dates do `Availability` and `Offered Since` of each new page in our database."
   ]
  },
  {
   "cell_type": "markdown",
   "metadata": {},
   "source": [
    "# Libs"
   ]
  },
  {
   "cell_type": "code",
   "execution_count": 1,
   "metadata": {},
   "outputs": [],
   "source": [
    "# Import Libs\n",
    "from bs4 import BeautifulSoup\n",
    "from datetime import date\n",
    "from datetime import datetime, timedelta\n",
    "from folium.plugins import FastMarkerCluster\n",
    "from requests import get\n",
    "import datetime\n",
    "import datetime as dt\n",
    "import folium\n",
    "import pandas as pd\n",
    "import streamlit as st\n",
    "today = date.today()"
   ]
  },
  {
   "cell_type": "markdown",
   "metadata": {},
   "source": [
    "# Imports"
   ]
  },
  {
   "cell_type": "code",
   "execution_count": 2,
   "metadata": {},
   "outputs": [],
   "source": [
    "df_pararius = pd.read_csv('app/df_coo_pararius.csv',index_col=[0])\n",
    "house_temp  = pd.read_csv('data/processed/house_temp.csv',index_col=[0])"
   ]
  },
  {
   "cell_type": "markdown",
   "metadata": {},
   "source": [
    "# What is new?\n",
    "Here we will scrape infos of dates do `Availability` and `Offered Since` of each new page in our database."
   ]
  },
  {
   "cell_type": "code",
   "execution_count": 3,
   "metadata": {},
   "outputs": [
    {
     "name": "stdout",
     "output_type": "stream",
     "text": [
      "298\n"
     ]
    }
   ],
   "source": [
    "temp1 = df_pararius['url'].unique()\n",
    "temp2 = house_temp['url'].unique()\n",
    "urls = list(set(temp1) - set(temp2))\n",
    "print(len(urls))"
   ]
  },
  {
   "cell_type": "markdown",
   "metadata": {},
   "source": [
    "# Get data from table"
   ]
  },
  {
   "cell_type": "markdown",
   "metadata": {},
   "source": [
    "Going in each page, I want to scrape tables to get specific dates"
   ]
  },
  {
   "cell_type": "code",
   "execution_count": 4,
   "metadata": {},
   "outputs": [],
   "source": [
    "def key_val(text):\n",
    "    part = html_soup.find(\"dt\",text=text)\n",
    "    key = (part.text.strip())\n",
    "    val = (part.findNext(\"dd\").text.strip())\n",
    "    return key, val"
   ]
  },
  {
   "cell_type": "markdown",
   "metadata": {},
   "source": [
    "Getting data and saving in a variable"
   ]
  },
  {
   "cell_type": "code",
   "execution_count": 5,
   "metadata": {},
   "outputs": [],
   "source": [
    "not_available=[]\n",
    "description_2=[]\n",
    "\n",
    "for url in urls:\n",
    "    \n",
    "    response = get(url)\n",
    "    description_1={}\n",
    "    html_soup = BeautifulSoup(response.text,'html.parser')\n",
    "    \n",
    "    \n",
    "    try:\n",
    "        key1, val1 = key_val(\"Offered since\")\n",
    "        key2, val2 = key_val(\"Available\")\n",
    "        description_1.update({\n",
    "            'url':url,\n",
    "            key1:val1,\n",
    "            key2:val2,\n",
    "        })\n",
    "        description_2.append(description_1)\n",
    "        \n",
    "    except:\n",
    "        pass"
   ]
  },
  {
   "cell_type": "markdown",
   "metadata": {},
   "source": [
    "# Add dates into original dataframe"
   ]
  },
  {
   "cell_type": "code",
   "execution_count": 6,
   "metadata": {},
   "outputs": [
    {
     "name": "stderr",
     "output_type": "stream",
     "text": [
      "<ipython-input-6-e6a6dab0263b>:2: FutureWarning: In a future version of pandas all arguments of concat except for the argument 'objs' will be keyword-only\n",
      "  house_temp = pd.concat([house_temp, house_temp_],0)\n"
     ]
    }
   ],
   "source": [
    "house_temp_ = pd.DataFrame(description_2)\n",
    "house_temp = pd.concat([house_temp, house_temp_],0)"
   ]
  },
  {
   "cell_type": "markdown",
   "metadata": {},
   "source": [
    "# Transform date str into Date Time"
   ]
  },
  {
   "cell_type": "markdown",
   "metadata": {},
   "source": [
    "function to transform data"
   ]
  },
  {
   "cell_type": "code",
   "execution_count": 7,
   "metadata": {},
   "outputs": [],
   "source": [
    "def fixing_time_delta(df, time, my_ofset):\n",
    "    fixing_time_delta = df.loc[df['Offered since'].str.contains(time, na=False), 'Offered since']\n",
    "    fixing_time_delta = fixing_time_delta.str.replace(\"\\D\",\"\",regex=True).astype(int)\n",
    "    fixing_time_delta = today - fixing_time_delta.apply(my_ofset)\n",
    "    fixing_time_delta = pd.to_datetime(fixing_time_delta).dt.strftime('%d-%m-%Y')\n",
    "    df.loc[df['Offered since'].str.contains(time, na=False), 'Offered since'] = fixing_time_delta\n",
    "    return df"
   ]
  },
  {
   "cell_type": "markdown",
   "metadata": {},
   "source": [
    "appling function"
   ]
  },
  {
   "cell_type": "code",
   "execution_count": 8,
   "metadata": {},
   "outputs": [],
   "source": [
    "try:\n",
    "    house_temp = fixing_time_delta(house_temp,\"week\",pd.offsets.Week)\n",
    "    house_temp = fixing_time_delta(house_temp,\"month\",pd.offsets.MonthBegin)\n",
    "except:\n",
    "    print('erro')\n",
    "    pass"
   ]
  },
  {
   "cell_type": "code",
   "execution_count": 9,
   "metadata": {},
   "outputs": [
    {
     "name": "stderr",
     "output_type": "stream",
     "text": [
      "<ipython-input-9-ffea408b42f7>:3: FutureWarning: The default value of regex will change from True to False in a future version.\n",
      "  house_temp['Available'] = house_temp['Available'].str.replace(\"Immediately|In consultation\",str(today))\n"
     ]
    }
   ],
   "source": [
    "today = date.today()\n",
    "house_temp['Available'] = house_temp['Available'].str.replace(\"From\",\"\")\n",
    "house_temp['Available'] = house_temp['Available'].str.replace(\"Immediately|In consultation\",str(today))\n",
    "house_temp['Available'] = pd.to_datetime(house_temp['Available']).dt.strftime('%d-%m-%Y')"
   ]
  },
  {
   "cell_type": "markdown",
   "metadata": {},
   "source": [
    "# Save house_temp"
   ]
  },
  {
   "cell_type": "code",
   "execution_count": 10,
   "metadata": {},
   "outputs": [],
   "source": [
    "house_temp = house_temp.drop_duplicates(subset=['url']).reset_index(drop=True)"
   ]
  },
  {
   "cell_type": "code",
   "execution_count": 11,
   "metadata": {},
   "outputs": [],
   "source": [
    "house_temp.to_csv('data/processed/house_temp.csv')"
   ]
  },
  {
   "cell_type": "markdown",
   "metadata": {},
   "source": [
    "# Add house temp into df_pararius"
   ]
  },
  {
   "cell_type": "code",
   "execution_count": 12,
   "metadata": {},
   "outputs": [],
   "source": [
    "result = pd.merge(df_pararius, house_temp, how='left', on='url')"
   ]
  },
  {
   "cell_type": "code",
   "execution_count": 13,
   "metadata": {},
   "outputs": [],
   "source": [
    "#result['Offered since'] = pd.to_datetime(result['Offered since'], format='%d-%m-%Y')"
   ]
  },
  {
   "cell_type": "markdown",
   "metadata": {},
   "source": [
    "# Save whole DataFrame"
   ]
  },
  {
   "cell_type": "code",
   "execution_count": 14,
   "metadata": {},
   "outputs": [],
   "source": [
    "result2 = result[[\n",
    "    'deal',\n",
    "    'garden-surface-area',\n",
    "    'img',\n",
    "    'price',\n",
    "    'link',\n",
    "    'agency',\n",
    "    'surface-area',\n",
    "    'interior',\n",
    "    'latitude',\n",
    "    'longitude',\n",
    "    'number-of-rooms',\n",
    "    'Plaats',\n",
    "    'url',\n",
    "    'date',\n",
    "    'status',\n",
    "    'irl',\n",
    "    'image',\n",
    "    'address',\n",
    "    'street',\n",
    "    'Offered since',\n",
    "    'Available',\n",
    "]]"
   ]
  },
  {
   "cell_type": "code",
   "execution_count": 15,
   "metadata": {},
   "outputs": [],
   "source": [
    "result2 = result2.rename(columns={\n",
    "    'img': 'Add',\n",
    "    'price': 'Price',\n",
    "    'Plaats': 'City',\n",
    "    'surface-area': 'Area',\n",
    "    'number-of-rooms': 'Rooms',\n",
    "    'garden-surface-area': 'Garden',\n",
    "    'Offered since': 'Offered',\n",
    "    'Available': 'Available',})"
   ]
  },
  {
   "cell_type": "code",
   "execution_count": 16,
   "metadata": {},
   "outputs": [],
   "source": [
    "result2.to_csv('app/df_coo_pararius2.csv')"
   ]
  },
  {
   "cell_type": "code",
   "execution_count": null,
   "metadata": {},
   "outputs": [],
   "source": [
    "qwaszxqwaszx"
   ]
  },
  {
   "cell_type": "code",
   "execution_count": 23,
   "metadata": {},
   "outputs": [
    {
     "data": {
      "text/html": [
       "<div>\n",
       "<style scoped>\n",
       "    .dataframe tbody tr th:only-of-type {\n",
       "        vertical-align: middle;\n",
       "    }\n",
       "\n",
       "    .dataframe tbody tr th {\n",
       "        vertical-align: top;\n",
       "    }\n",
       "\n",
       "    .dataframe thead th {\n",
       "        text-align: right;\n",
       "    }\n",
       "</style>\n",
       "<table border=\"1\" class=\"dataframe\">\n",
       "  <thead>\n",
       "    <tr style=\"text-align: right;\">\n",
       "      <th></th>\n",
       "      <th>deal</th>\n",
       "      <th>Garden</th>\n",
       "      <th>Add</th>\n",
       "      <th>Price</th>\n",
       "      <th>link</th>\n",
       "      <th>agency</th>\n",
       "      <th>Area</th>\n",
       "      <th>interior</th>\n",
       "      <th>latitude</th>\n",
       "      <th>longitude</th>\n",
       "      <th>...</th>\n",
       "      <th>City</th>\n",
       "      <th>url</th>\n",
       "      <th>date</th>\n",
       "      <th>status</th>\n",
       "      <th>irl</th>\n",
       "      <th>image</th>\n",
       "      <th>address</th>\n",
       "      <th>street</th>\n",
       "      <th>Offered</th>\n",
       "      <th>Available</th>\n",
       "    </tr>\n",
       "  </thead>\n",
       "  <tbody>\n",
       "    <tr>\n",
       "      <th>4989</th>\n",
       "      <td>0.049211</td>\n",
       "      <td>0.0</td>\n",
       "      <td>&lt;a href=https://www.pararius.com/apartment-for...</td>\n",
       "      <td>1585.0</td>\n",
       "      <td>&lt;a target='_blank' href=https://www.pararius.c...</td>\n",
       "      <td>Rotterdam Apartments</td>\n",
       "      <td>76</td>\n",
       "      <td>Furnished</td>\n",
       "      <td>51.929868</td>\n",
       "      <td>4.489119</td>\n",
       "      <td>...</td>\n",
       "      <td>Rotterdam</td>\n",
       "      <td>https://www.pararius.com/apartment-for-rent/ro...</td>\n",
       "      <td>2021-10-19</td>\n",
       "      <td>Free</td>\n",
       "      <td>/apartment-for-rent/rotterdam/15ca8588/crooswi...</td>\n",
       "      <td>https://casco-media-prod.global.ssl.fastly.net...</td>\n",
       "      <td>3034 CH Rotterdam (Oud Crooswijk)</td>\n",
       "      <td>Apartment Crooswijksesingel</td>\n",
       "      <td>01-08-2021</td>\n",
       "      <td>28-03-2024</td>\n",
       "    </tr>\n",
       "  </tbody>\n",
       "</table>\n",
       "<p>1 rows × 21 columns</p>\n",
       "</div>"
      ],
      "text/plain": [
       "          deal  Garden                                                Add  \\\n",
       "4989  0.049211     0.0  <a href=https://www.pararius.com/apartment-for...   \n",
       "\n",
       "       Price                                               link  \\\n",
       "4989  1585.0  <a target='_blank' href=https://www.pararius.c...   \n",
       "\n",
       "                    agency  Area   interior   latitude  longitude  ...  \\\n",
       "4989  Rotterdam Apartments    76  Furnished  51.929868   4.489119  ...   \n",
       "\n",
       "           City                                                url  \\\n",
       "4989  Rotterdam  https://www.pararius.com/apartment-for-rent/ro...   \n",
       "\n",
       "            date status                                                irl  \\\n",
       "4989  2021-10-19   Free  /apartment-for-rent/rotterdam/15ca8588/crooswi...   \n",
       "\n",
       "                                                  image  \\\n",
       "4989  https://casco-media-prod.global.ssl.fastly.net...   \n",
       "\n",
       "                                address                       street  \\\n",
       "4989  3034 CH Rotterdam (Oud Crooswijk)  Apartment Crooswijksesingel   \n",
       "\n",
       "         Offered   Available  \n",
       "4989  01-08-2021  28-03-2024  \n",
       "\n",
       "[1 rows x 21 columns]"
      ]
     },
     "execution_count": 23,
     "metadata": {},
     "output_type": "execute_result"
    }
   ],
   "source": [
    "result2[result2['Available']=='28-03-2024']"
   ]
  },
  {
   "cell_type": "code",
   "execution_count": null,
   "metadata": {},
   "outputs": [],
   "source": []
  }
 ],
 "metadata": {
  "kernelspec": {
   "display_name": "Python 3",
   "language": "python",
   "name": "python3"
  },
  "language_info": {
   "codemirror_mode": {
    "name": "ipython",
    "version": 3
   },
   "file_extension": ".py",
   "mimetype": "text/x-python",
   "name": "python",
   "nbconvert_exporter": "python",
   "pygments_lexer": "ipython3",
   "version": "3.8.5"
  }
 },
 "nbformat": 4,
 "nbformat_minor": 4
}
