{
 "cells": [
  {
   "cell_type": "markdown",
   "metadata": {},
   "source": [
    "# Objective"
   ]
  },
  {
   "cell_type": "markdown",
   "metadata": {},
   "source": [
    "Here we will scrape infos of dates do `Availability` and `Offered Since` of each new page in our database."
   ]
  },
  {
   "cell_type": "markdown",
   "metadata": {},
   "source": [
    "# Libs"
   ]
  },
  {
   "cell_type": "code",
   "execution_count": 1,
   "metadata": {},
   "outputs": [],
   "source": [
    "# # Import Libs\n",
    "# from bs4 import BeautifulSoup\n",
    "# from datetime import date\n",
    "# from datetime import datetime, timedelta\n",
    "# from folium.plugins import FastMarkerCluster\n",
    "# from requests import get\n",
    "# import datetime\n",
    "# import datetime as dt\n",
    "# import folium\n",
    "# import pandas as pd\n",
    "# import streamlit as st\n",
    "# today = date.today()"
   ]
  },
  {
   "cell_type": "code",
   "execution_count": 2,
   "metadata": {},
   "outputs": [],
   "source": [
    "import requests\n",
    "from fake_useragent import UserAgent\n",
    "import time\n",
    "from bs4 import BeautifulSoup\n",
    "from datetime import date\n",
    "import requests\n",
    "from requests import get\n",
    "import pandas as pd\n",
    "today = date.today()"
   ]
  },
  {
   "cell_type": "markdown",
   "metadata": {},
   "source": [
    "# Imports"
   ]
  },
  {
   "cell_type": "code",
   "execution_count": 3,
   "metadata": {},
   "outputs": [],
   "source": [
    "df_pararius = pd.read_csv('app/df_coo_pararius.csv',index_col=[0])\n",
    "house_temp  = pd.read_csv('data/processed/house_temp.csv',index_col=[0])"
   ]
  },
  {
   "cell_type": "markdown",
   "metadata": {},
   "source": [
    "# What is new?\n",
    "Here we will scrape infos of dates do `Availability` and `Offered Since` of each new page in our database."
   ]
  },
  {
   "cell_type": "code",
   "execution_count": 4,
   "metadata": {},
   "outputs": [
    {
     "name": "stdout",
     "output_type": "stream",
     "text": [
      "523\n"
     ]
    }
   ],
   "source": [
    "temp1 = df_pararius['url'].unique()\n",
    "temp2 = house_temp['url'].unique()\n",
    "urls = list(set(temp1) - set(temp2))\n",
    "print(len(urls))"
   ]
  },
  {
   "cell_type": "markdown",
   "metadata": {},
   "source": [
    "# Get data from table"
   ]
  },
  {
   "cell_type": "markdown",
   "metadata": {},
   "source": [
    "Going in each page, I want to scrape tables to get specific dates"
   ]
  },
  {
   "cell_type": "code",
   "execution_count": 5,
   "metadata": {},
   "outputs": [],
   "source": [
    "def key_val(text):\n",
    "    part = html_soup.find(\"dt\",text=text)\n",
    "    key = (part.text.strip())\n",
    "    val = (part.findNext(\"dd\").text.strip())\n",
    "    return key, val"
   ]
  },
  {
   "cell_type": "markdown",
   "metadata": {},
   "source": [
    "Getting data and saving in a variable"
   ]
  },
  {
   "cell_type": "code",
   "execution_count": 6,
   "metadata": {},
   "outputs": [],
   "source": [
    "def scrape_web(url):    \n",
    "    headers = {'User-Agent': 'Mozilla/5.0 (Macintosh; Intel Mac OS X 10_10_1) AppleWebKit/537.36 (KHTML, like Gecko) Chrome/39.0.2171.95 Safari/537.36'}\n",
    "    ua=UserAgent()\n",
    "    hdr = {'User-Agent': ua.random,\n",
    "          'Accept': 'text/html,application/xhtml+xml,application/xml;q=0.9,*/*;q=0.8',\n",
    "          'Accept-Charset': 'ISO-8859-1,utf-8;q=0.7,*;q=0.3',\n",
    "          'Accept-Encoding': 'none',\n",
    "          'Accept-Language': 'en-US,en;q=0.8',\n",
    "          'Connection': 'keep-alive'}\n",
    "    time.sleep(2)\n",
    "    response = requests.get(url, headers=hdr)\n",
    "    time.sleep(4)\n",
    "    html_soup = BeautifulSoup(response.content,\"lxml\")   \n",
    "    return html_soup"
   ]
  },
  {
   "cell_type": "code",
   "execution_count": 7,
   "metadata": {},
   "outputs": [
    {
     "name": "stdout",
     "output_type": "stream",
     "text": [
      "Offered since 29-10-2021\n",
      "Available From 30-11-2021\n",
      "Offered since 29-10-2021\n",
      "Available From 01-12-2021\n",
      "Offered since 28-10-2021\n",
      "Available Immediately\n",
      "Offered since 28-10-2021\n",
      "Available From 02-02-2022\n",
      "Offered since 29-10-2021\n",
      "Available From 15-11-2021\n",
      "Offered since 29-10-2021\n",
      "Available In consultation\n",
      "Offered since 28-10-2021\n",
      "Available In consultation\n",
      "Offered since 7 weeks\n",
      "Available Immediately\n",
      "Offered since 28-10-2021\n",
      "Available In consultation\n",
      "Offered since 30-10-2021\n",
      "Available Immediately\n",
      "Offered since 28-10-2021\n",
      "Available Immediately\n",
      "Offered since 28-10-2021\n",
      "Available From 01-12-2021\n",
      "Offered since 29-10-2021\n",
      "Available From 01-12-2021\n",
      "Offered since 3 weeks\n",
      "Available Immediately\n",
      "Offered since 29-10-2021\n",
      "Available Immediately\n",
      "Offered since 29-10-2021\n",
      "Available Immediately\n",
      "Offered since 29-10-2021\n",
      "Available Immediately\n",
      "Offered since 28-10-2021\n",
      "Available From 01-01-2022\n",
      "Offered since 28-10-2021\n",
      "Available From 18-01-2022\n",
      "Offered since 28-10-2021\n",
      "Available Immediately\n",
      "Offered since 29-10-2021\n",
      "Available Immediately\n",
      "Offered since 29-10-2021\n",
      "Available In consultation\n",
      "Offered since 29-10-2021\n",
      "Available Immediately\n",
      "Offered since 29-10-2021\n",
      "Available From 01-12-2021\n",
      "Offered since 30-10-2021\n",
      "Available Immediately\n",
      "Offered since 28-10-2021\n",
      "Available In consultation\n",
      "Offered since 28-10-2021\n",
      "Available Immediately\n",
      "Offered since 28-10-2021\n",
      "Available From 01-12-2021\n",
      "Offered since 31-10-2021\n",
      "Available Immediately\n",
      "Offered since 29-10-2021\n",
      "Available From 15-11-2021\n",
      "Offered since 29-10-2021\n",
      "Available Immediately\n",
      "Offered since 01-11-2021\n",
      "Available From 01-12-2021\n",
      "Offered since 29-10-2021\n",
      "Available From 01-01-2022\n",
      "Offered since 01-11-2021\n",
      "Available Immediately\n",
      "Offered since 28-10-2021\n",
      "Available From 01-12-2021\n",
      "Offered since 30-10-2021\n",
      "Available Immediately\n",
      "Offered since 29-10-2021\n",
      "Available Immediately\n",
      "Offered since 28-10-2021\n",
      "Available In consultation\n",
      "Offered since 29-10-2021\n",
      "Available Immediately\n",
      "Offered since 28-10-2021\n",
      "Available From 15-11-2021\n",
      "Offered since 29-10-2021\n",
      "Available From 01-12-2021\n",
      "Offered since 29-10-2021\n",
      "Available From 10-11-2021\n",
      "Offered since 29-10-2021\n",
      "Available From 01-12-2021\n",
      "Offered since 31-10-2021\n",
      "Available From 01-12-2021\n",
      "Offered since 29-10-2021\n",
      "Available From 01-12-2021\n",
      "Offered since 29-10-2021\n",
      "Available From 15-12-2021\n",
      "Offered since 29-10-2021\n",
      "Available From 01-12-2021\n",
      "Offered since 28-10-2021\n",
      "Available Immediately\n",
      "Offered since 29-10-2021\n",
      "Available From 20-12-2021\n",
      "Offered since 2 months\n",
      "Available Immediately\n",
      "Offered since 2 weeks\n",
      "Available Immediately\n",
      "Offered since 28-10-2021\n",
      "Available Immediately\n",
      "Offered since 29-10-2021\n",
      "Available From 01-12-2021\n",
      "Offered since 29-10-2021\n",
      "Available From 01-12-2021\n",
      "Offered since 28-10-2021\n",
      "Available From 24-12-2021\n",
      "Offered since 29-10-2021\n",
      "Available Immediately\n",
      "Offered since 29-10-2021\n",
      "Available From 01-12-2021\n",
      "Offered since 01-11-2021\n",
      "Available From 07-11-2021\n",
      "Offered since 01-11-2021\n",
      "Available From 01-12-2021\n",
      "Offered since 8 weeks\n",
      "Available From 01-12-2021\n",
      "Offered since 29-10-2021\n",
      "Available From 01-12-2021\n",
      "Offered since 28-10-2021\n",
      "Available From 01-01-2022\n",
      "Offered since 29-10-2021\n",
      "Available From 15-11-2021\n",
      "Offered since 29-10-2021\n",
      "Available From 01-12-2021\n",
      "Offered since 28-10-2021\n",
      "Available Immediately\n",
      "Offered since 30-10-2021\n",
      "Available From 01-12-2021\n",
      "Offered since 29-10-2021\n",
      "Available From 01-12-2021\n",
      "Offered since 26-10-2021\n",
      "Available Immediately\n",
      "Offered since 01-11-2021\n",
      "Available In consultation\n",
      "Offered since 28-10-2021\n",
      "Available From 01-12-2021\n",
      "Offered since 31-10-2021\n",
      "Available Immediately\n",
      "Offered since 29-10-2021\n",
      "Available From 01-12-2021\n",
      "Offered since 29-10-2021\n",
      "Available Immediately\n",
      "Offered since 29-10-2021\n",
      "Available Immediately\n",
      "Offered since 29-10-2021\n",
      "Available From 01-12-2021\n",
      "Offered since 28-10-2021\n",
      "Available From 01-12-2021\n",
      "Offered since 29-10-2021\n",
      "Available Immediately\n",
      "Offered since 31-10-2021\n",
      "Available Immediately\n",
      "Offered since 29-10-2021\n",
      "Available In consultation\n",
      "Offered since 29-10-2021\n",
      "Available Immediately\n",
      "Offered since 2 weeks\n",
      "Available From 28-11-2021\n",
      "Offered since 28-10-2021\n",
      "Available From 01-01-2022\n",
      "Offered since 29-10-2021\n",
      "Available From 01-12-2021\n",
      "Offered since 28-10-2021\n",
      "Available From 01-12-2021\n",
      "Offered since 28-10-2021\n",
      "Available In consultation\n",
      "Offered since 29-10-2021\n",
      "Available In consultation\n",
      "Offered since 4 weeks\n",
      "Available Immediately\n",
      "Offered since 28-10-2021\n",
      "Available In consultation\n",
      "Offered since 29-10-2021\n",
      "Available From 01-12-2021\n",
      "Offered since 28-10-2021\n",
      "Available From 04-11-2021\n",
      "Offered since 28-10-2021\n",
      "Available From 01-12-2021\n",
      "Offered since 31-10-2021\n",
      "Available From 01-12-2021\n",
      "Offered since 29-10-2021\n",
      "Available Immediately\n",
      "Offered since 28-10-2021\n",
      "Available From 01-12-2021\n",
      "Offered since 28-10-2021\n",
      "Available Immediately\n",
      "Offered since 29-10-2021\n",
      "Available From 01-12-2021\n",
      "Offered since 29-10-2021\n",
      "Available From 03-01-2022\n",
      "Offered since 29-10-2021\n",
      "Available Immediately\n",
      "Offered since 28-10-2021\n",
      "Available Immediately\n",
      "Offered since 29-10-2021\n",
      "Available Immediately\n",
      "Offered since 29-10-2021\n",
      "Available From 10-12-2021\n",
      "Offered since 29-10-2021\n",
      "Available In consultation\n",
      "Offered since 29-10-2021\n",
      "Available From 03-01-2022\n",
      "Offered since 29-10-2021\n",
      "Available Immediately\n",
      "Offered since 29-10-2021\n",
      "Available Immediately\n",
      "Offered since 29-10-2021\n",
      "Available In consultation\n",
      "Offered since 2 weeks\n",
      "Available From 09-11-2021\n",
      "Offered since 28-10-2021\n",
      "Available Immediately\n",
      "Offered since 28-10-2021\n",
      "Available From 01-12-2021\n",
      "Offered since 28-10-2021\n",
      "Available From 01-01-2022\n",
      "Offered since 29-10-2021\n",
      "Available Immediately\n",
      "Offered since 27-10-2021\n",
      "Available In consultation\n",
      "Offered since 28-10-2021\n",
      "Available Immediately\n",
      "Offered since 28-10-2021\n",
      "Available In consultation\n",
      "Offered since 29-10-2021\n",
      "Available From 02-12-2021\n",
      "Offered since 28-10-2021\n",
      "Available Immediately\n",
      "Offered since 29-10-2021\n",
      "Available From 01-01-2022\n",
      "Offered since 28-10-2021\n",
      "Available From 30-11-2021\n",
      "Offered since 28-10-2021\n",
      "Available Immediately\n",
      "Offered since 29-10-2021\n",
      "Available Immediately\n",
      "Offered since 29-10-2021\n",
      "Available From 01-01-2022\n",
      "Offered since 29-10-2021\n",
      "Available From 01-12-2021\n",
      "Offered since 28-10-2021\n",
      "Available Immediately\n",
      "Offered since 29-10-2021\n",
      "Available Immediately\n",
      "Offered since 28-10-2021\n",
      "Available From 01-12-2021\n",
      "Offered since 28-10-2021\n",
      "Available Immediately\n",
      "Offered since 30-10-2021\n",
      "Available From 01-12-2021\n",
      "Offered since 28-10-2021\n",
      "Available From 01-12-2021\n",
      "Offered since 30-10-2021\n",
      "Available From 15-11-2021\n",
      "Offered since 27-10-2021\n",
      "Available Immediately\n",
      "Offered since 29-10-2021\n",
      "Available From 01-01-2022\n",
      "Offered since 29-10-2021\n",
      "Available Immediately\n",
      "Offered since 28-10-2021\n",
      "Available From 20-12-2021\n",
      "Offered since 29-10-2021\n",
      "Available From 22-11-2021\n",
      "Offered since 4 weeks\n",
      "Available In consultation\n",
      "Offered since 29-10-2021\n",
      "Available In consultation\n",
      "Offered since 29-10-2021\n",
      "Available From 01-12-2021\n",
      "Offered since 29-10-2021\n",
      "Available From 01-12-2021\n",
      "Offered since 31-10-2021\n",
      "Available From 01-12-2021\n",
      "Offered since 28-10-2021\n",
      "Available Immediately\n",
      "Offered since 28-10-2021\n",
      "Available From 04-11-2021\n",
      "Offered since 29-10-2021\n",
      "Available From 01-12-2021\n",
      "Offered since 29-10-2021\n",
      "Available From 01-12-2021\n",
      "Offered since 28-10-2021\n",
      "Available From 17-11-2021\n",
      "Offered since 01-11-2021\n",
      "Available From 30-11-2021\n",
      "Offered since 29-10-2021\n",
      "Available From 01-12-2021\n",
      "Offered since 6 weeks\n",
      "Available In consultation\n",
      "Offered since 28-10-2021\n",
      "Available From 15-11-2021\n",
      "Offered since 29-10-2021\n",
      "Available From 01-12-2021\n",
      "Offered since 29-10-2021\n",
      "Available Immediately\n",
      "Offered since 29-10-2021\n",
      "Available Immediately\n",
      "Offered since 29-10-2021\n",
      "Available From 01-12-2021\n",
      "Offered since 28-10-2021\n",
      "Available From 01-12-2021\n",
      "Offered since 29-10-2021\n",
      "Available From 01-12-2021\n",
      "Offered since 29-10-2021\n",
      "Available Immediately\n",
      "Offered since 29-10-2021\n",
      "Available Immediately\n",
      "Offered since 29-10-2021\n",
      "Available From 01-12-2021\n",
      "Offered since 29-10-2021\n",
      "Available Immediately\n",
      "Offered since 29-10-2021\n",
      "Available Immediately\n",
      "Offered since 29-10-2021\n",
      "Available Immediately\n",
      "Offered since 01-11-2021\n",
      "Available From 01-12-2021\n",
      "Offered since 28-10-2021\n",
      "Available From 10-11-2021\n",
      "Offered since 28-10-2021\n",
      "Available Immediately\n",
      "Offered since 29-10-2021\n",
      "Available From 22-11-2021\n",
      "Offered since 29-10-2021\n",
      "Available Immediately\n",
      "Offered since 29-10-2021\n",
      "Available Immediately\n",
      "Offered since 31-10-2021\n",
      "Available From 01-01-2022\n"
     ]
    },
    {
     "name": "stdout",
     "output_type": "stream",
     "text": [
      "Offered since 30-10-2021\n",
      "Available Immediately\n",
      "Offered since 29-10-2021\n",
      "Available Immediately\n",
      "Offered since 3 weeks\n",
      "Available In consultation\n",
      "Offered since 28-10-2021\n",
      "Available From 03-12-2021\n",
      "Offered since 28-10-2021\n",
      "Available Immediately\n",
      "Offered since 28-10-2021\n",
      "Available From 01-12-2021\n",
      "Offered since 28-10-2021\n",
      "Available From 16-11-2021\n",
      "Offered since 29-10-2021\n",
      "Available In consultation\n",
      "Offered since 29-10-2021\n",
      "Available From 01-12-2021\n",
      "Offered since 30-10-2021\n",
      "Available From 13-12-2021\n",
      "Offered since 28-10-2021\n",
      "Available In consultation\n",
      "Offered since 28-10-2021\n",
      "Available Immediately\n",
      "Offered since 29-10-2021\n",
      "Available From 01-12-2021\n",
      "Offered since 28-10-2021\n",
      "Available From 01-12-2021\n",
      "Offered since 29-10-2021\n",
      "Available Immediately\n",
      "Offered since 28-10-2021\n",
      "Available Immediately\n",
      "Offered since 29-10-2021\n",
      "Available From 01-01-2022\n",
      "Offered since 28-10-2021\n",
      "Available In consultation\n",
      "Offered since 28-10-2021\n",
      "Available From 01-12-2021\n",
      "Offered since 29-10-2021\n",
      "Available Immediately\n",
      "Offered since 01-11-2021\n",
      "Available Immediately\n"
     ]
    }
   ],
   "source": [
    "not_available=[]\n",
    "description_2=[]\n",
    "\n",
    "for url in urls:\n",
    "    description_1={}\n",
    "    html_soup = scrape_web(url)\n",
    "\n",
    "    try:\n",
    "        key1, val1 = key_val(\"Offered since\")\n",
    "        key2, val2 = key_val(\"Available\")\n",
    "        description_1.update({\n",
    "            'url':url,\n",
    "            key1:val1,\n",
    "            key2:val2,\n",
    "        })\n",
    "        description_2.append(description_1)\n",
    "        # print(key1, val1)\n",
    "        # print(key2, val2)\n",
    "    except:\n",
    "        pass"
   ]
  },
  {
   "cell_type": "markdown",
   "metadata": {},
   "source": [
    "# Add dates into original dataframe"
   ]
  },
  {
   "cell_type": "code",
   "execution_count": 8,
   "metadata": {},
   "outputs": [
    {
     "name": "stderr",
     "output_type": "stream",
     "text": [
      "<ipython-input-8-e6a6dab0263b>:2: FutureWarning: In a future version of pandas all arguments of concat except for the argument 'objs' will be keyword-only\n",
      "  house_temp = pd.concat([house_temp, house_temp_],0)\n"
     ]
    }
   ],
   "source": [
    "house_temp_ = pd.DataFrame(description_2)\n",
    "house_temp = pd.concat([house_temp, house_temp_],0)"
   ]
  },
  {
   "cell_type": "markdown",
   "metadata": {},
   "source": [
    "# Transform date str into Date Time"
   ]
  },
  {
   "cell_type": "markdown",
   "metadata": {},
   "source": [
    "function to transform data"
   ]
  },
  {
   "cell_type": "code",
   "execution_count": 9,
   "metadata": {},
   "outputs": [],
   "source": [
    "def fixing_time_delta(df, time, my_ofset):\n",
    "    fixing_time_delta = df.loc[df['Offered since'].str.contains(time, na=False), 'Offered since']\n",
    "    fixing_time_delta = fixing_time_delta.str.replace(\"\\D\",\"\",regex=True).astype(int)\n",
    "    fixing_time_delta = today - fixing_time_delta.apply(my_ofset)\n",
    "    fixing_time_delta = pd.to_datetime(fixing_time_delta).dt.strftime('%d-%m-%Y')\n",
    "    df.loc[df['Offered since'].str.contains(time, na=False), 'Offered since'] = fixing_time_delta\n",
    "    return df"
   ]
  },
  {
   "cell_type": "markdown",
   "metadata": {},
   "source": [
    "appling function"
   ]
  },
  {
   "cell_type": "code",
   "execution_count": 10,
   "metadata": {},
   "outputs": [],
   "source": [
    "try:\n",
    "    house_temp = fixing_time_delta(house_temp,\"week\",pd.offsets.Week)\n",
    "    house_temp = fixing_time_delta(house_temp,\"month\",pd.offsets.MonthBegin)\n",
    "except:\n",
    "    print('erro')\n",
    "    pass"
   ]
  },
  {
   "cell_type": "code",
   "execution_count": 11,
   "metadata": {},
   "outputs": [
    {
     "name": "stderr",
     "output_type": "stream",
     "text": [
      "<ipython-input-11-ffea408b42f7>:3: FutureWarning: The default value of regex will change from True to False in a future version.\n",
      "  house_temp['Available'] = house_temp['Available'].str.replace(\"Immediately|In consultation\",str(today))\n"
     ]
    }
   ],
   "source": [
    "today = date.today()\n",
    "house_temp['Available'] = house_temp['Available'].str.replace(\"From\",\"\")\n",
    "house_temp['Available'] = house_temp['Available'].str.replace(\"Immediately|In consultation\",str(today))\n",
    "house_temp['Available'] = pd.to_datetime(house_temp['Available']).dt.strftime('%d-%m-%Y')"
   ]
  },
  {
   "cell_type": "markdown",
   "metadata": {},
   "source": [
    "# Save house_temp"
   ]
  },
  {
   "cell_type": "code",
   "execution_count": 12,
   "metadata": {},
   "outputs": [],
   "source": [
    "house_temp = house_temp.drop_duplicates(subset=['url']).reset_index(drop=True)"
   ]
  },
  {
   "cell_type": "code",
   "execution_count": 13,
   "metadata": {},
   "outputs": [],
   "source": [
    "house_temp.to_csv('data/processed/house_temp.csv')"
   ]
  },
  {
   "cell_type": "markdown",
   "metadata": {},
   "source": [
    "# Add house temp into df_pararius"
   ]
  },
  {
   "cell_type": "code",
   "execution_count": 14,
   "metadata": {},
   "outputs": [],
   "source": [
    "result = pd.merge(df_pararius, house_temp, how='left', on='url')"
   ]
  },
  {
   "cell_type": "code",
   "execution_count": 15,
   "metadata": {},
   "outputs": [],
   "source": [
    "#result['Offered since'] = pd.to_datetime(result['Offered since'], format='%d-%m-%Y')"
   ]
  },
  {
   "cell_type": "markdown",
   "metadata": {},
   "source": [
    "# Save whole DataFrame"
   ]
  },
  {
   "cell_type": "code",
   "execution_count": 16,
   "metadata": {},
   "outputs": [],
   "source": [
    "result2 = result[[\n",
    "    'deal',\n",
    "    'garden-surface-area',\n",
    "    'img',\n",
    "    'price',\n",
    "    'link',\n",
    "    'agency',\n",
    "    'surface-area',\n",
    "    'interior',\n",
    "    'latitude',\n",
    "    'longitude',\n",
    "    'number-of-rooms',\n",
    "    'Plaats',\n",
    "    'url',\n",
    "    'date',\n",
    "    'status',\n",
    "    'irl',\n",
    "    'image',\n",
    "    'address',\n",
    "    'street',\n",
    "    'Offered since',\n",
    "    'Available',\n",
    "]]"
   ]
  },
  {
   "cell_type": "code",
   "execution_count": 17,
   "metadata": {},
   "outputs": [],
   "source": [
    "result2 = result2.rename(columns={\n",
    "    'img': 'Add',\n",
    "    'price': 'Price',\n",
    "    'Plaats': 'City',\n",
    "    'surface-area': 'Area',\n",
    "    'number-of-rooms': 'Rooms',\n",
    "    'garden-surface-area': 'Garden',\n",
    "    'Offered since': 'Offered',\n",
    "    'Available': 'Available',})"
   ]
  },
  {
   "cell_type": "code",
   "execution_count": 18,
   "metadata": {},
   "outputs": [],
   "source": [
    "result2.to_csv('app/df_coo_pararius2.csv')"
   ]
  },
  {
   "cell_type": "code",
   "execution_count": null,
   "metadata": {},
   "outputs": [],
   "source": []
  }
 ],
 "metadata": {
  "kernelspec": {
   "display_name": "Python 3",
   "language": "python",
   "name": "python3"
  },
  "language_info": {
   "codemirror_mode": {
    "name": "ipython",
    "version": 3
   },
   "file_extension": ".py",
   "mimetype": "text/x-python",
   "name": "python",
   "nbconvert_exporter": "python",
   "pygments_lexer": "ipython3",
   "version": "3.8.8"
  }
 },
 "nbformat": 4,
 "nbformat_minor": 4
}
