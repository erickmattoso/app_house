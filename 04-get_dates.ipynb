{
 "cells": [
  {
   "cell_type": "markdown",
   "metadata": {},
   "source": [
    "# Objective"
   ]
  },
  {
   "cell_type": "markdown",
   "metadata": {},
   "source": [
    "Here we will scrape infos of dates do `Availability` and `Offered Since` of each new page in our database."
   ]
  },
  {
   "cell_type": "markdown",
   "metadata": {},
   "source": [
    "# Libs"
   ]
  },
  {
   "cell_type": "code",
   "execution_count": 1,
   "metadata": {},
   "outputs": [],
   "source": [
    "# Import Libs\n",
    "from bs4 import BeautifulSoup\n",
    "from datetime import date\n",
    "from datetime import datetime, timedelta\n",
    "from folium.plugins import FastMarkerCluster\n",
    "from requests import get\n",
    "import datetime\n",
    "import datetime as dt\n",
    "import folium\n",
    "import pandas as pd\n",
    "import streamlit as st\n",
    "today = date.today()"
   ]
  },
  {
   "cell_type": "markdown",
   "metadata": {},
   "source": [
    "# Imports"
   ]
  },
  {
   "cell_type": "code",
   "execution_count": 2,
   "metadata": {},
   "outputs": [],
   "source": [
    "df_pararius = pd.read_csv('app/df_coo_pararius.csv',index_col=[0])\n",
    "house_temp  = pd.read_csv('data/processed/house_temp.csv',index_col=[0])"
   ]
  },
  {
   "cell_type": "markdown",
   "metadata": {},
   "source": [
    "# What is new?\n",
    "Here we will scrape infos of dates do `Availability` and `Offered Since` of each new page in our database."
   ]
  },
  {
   "cell_type": "code",
   "execution_count": 3,
   "metadata": {},
   "outputs": [
    {
     "name": "stdout",
     "output_type": "stream",
     "text": [
      "251\n"
     ]
    }
   ],
   "source": [
    "temp1 = df_pararius['url'].unique()\n",
    "temp2 = house_temp['url'].unique()\n",
    "urls = list(set(temp1) - set(temp2))\n",
    "print(len(urls))"
   ]
  },
  {
   "cell_type": "markdown",
   "metadata": {},
   "source": [
    "# Get data from table"
   ]
  },
  {
   "cell_type": "markdown",
   "metadata": {},
   "source": [
    "Going in each page, I want to scrape tables to get specific dates"
   ]
  },
  {
   "cell_type": "code",
   "execution_count": 4,
   "metadata": {},
   "outputs": [],
   "source": [
    "def key_val(text):\n",
    "    part = html_soup.find(\"dt\",text=text)\n",
    "    key = (part.text.strip())\n",
    "    val = (part.findNext(\"dd\").text.strip())\n",
    "    return key, val"
   ]
  },
  {
   "cell_type": "markdown",
   "metadata": {},
   "source": [
    "Getting data and saving in a variable"
   ]
  },
  {
   "cell_type": "code",
   "execution_count": 5,
   "metadata": {},
   "outputs": [],
   "source": [
    "not_available=[]\n",
    "description_2=[]\n",
    "\n",
    "for url in urls:\n",
    "    \n",
    "    response = get(url)\n",
    "    description_1={}\n",
    "    html_soup = BeautifulSoup(response.text,'html.parser')\n",
    "        \n",
    "    try:\n",
    "        key1, val1 = key_val(\"Offered since\")\n",
    "        key2, val2 = key_val(\"Available\")\n",
    "        description_1.update({\n",
    "            'url':url,\n",
    "            key1:val1,\n",
    "            key2:val2,\n",
    "        })\n",
    "        description_2.append(description_1)\n",
    "        \n",
    "    except:\n",
    "        pass"
   ]
  },
  {
   "cell_type": "markdown",
   "metadata": {},
   "source": [
    "# Add dates into original dataframe"
   ]
  },
  {
   "cell_type": "code",
   "execution_count": 6,
   "metadata": {},
   "outputs": [
    {
     "name": "stderr",
     "output_type": "stream",
     "text": [
      "<ipython-input-6-e6a6dab0263b>:2: FutureWarning: In a future version of pandas all arguments of concat except for the argument 'objs' will be keyword-only\n",
      "  house_temp = pd.concat([house_temp, house_temp_],0)\n"
     ]
    }
   ],
   "source": [
    "house_temp_ = pd.DataFrame(description_2)\n",
    "house_temp = pd.concat([house_temp, house_temp_],0)"
   ]
  },
  {
   "cell_type": "markdown",
   "metadata": {},
   "source": [
    "# Transform date str into Date Time"
   ]
  },
  {
   "cell_type": "markdown",
   "metadata": {},
   "source": [
    "function to transform data"
   ]
  },
  {
   "cell_type": "code",
   "execution_count": 7,
   "metadata": {},
   "outputs": [],
   "source": [
    "def fixing_time_delta(df, time, my_ofset):\n",
    "    fixing_time_delta = df.loc[df['Offered since'].str.contains(time, na=False), 'Offered since']\n",
    "    fixing_time_delta = fixing_time_delta.str.replace(\"\\D\",\"\",regex=True).astype(int)\n",
    "    fixing_time_delta = today - fixing_time_delta.apply(my_ofset)\n",
    "    fixing_time_delta = pd.to_datetime(fixing_time_delta).dt.strftime('%d-%m-%Y')\n",
    "    df.loc[df['Offered since'].str.contains(time, na=False), 'Offered since'] = fixing_time_delta\n",
    "    return df"
   ]
  },
  {
   "cell_type": "markdown",
   "metadata": {},
   "source": [
    "appling function"
   ]
  },
  {
   "cell_type": "code",
   "execution_count": 8,
   "metadata": {},
   "outputs": [],
   "source": [
    "try:\n",
    "    house_temp = fixing_time_delta(house_temp,\"week\",pd.offsets.Week)\n",
    "    house_temp = fixing_time_delta(house_temp,\"month\",pd.offsets.MonthBegin)\n",
    "except:\n",
    "    print('erro')\n",
    "    pass"
   ]
  },
  {
   "cell_type": "code",
   "execution_count": 9,
   "metadata": {},
   "outputs": [
    {
     "name": "stderr",
     "output_type": "stream",
     "text": [
      "<ipython-input-9-ffea408b42f7>:3: FutureWarning: The default value of regex will change from True to False in a future version.\n",
      "  house_temp['Available'] = house_temp['Available'].str.replace(\"Immediately|In consultation\",str(today))\n"
     ]
    }
   ],
   "source": [
    "today = date.today()\n",
    "house_temp['Available'] = house_temp['Available'].str.replace(\"From\",\"\")\n",
    "house_temp['Available'] = house_temp['Available'].str.replace(\"Immediately|In consultation\",str(today))\n",
    "house_temp['Available'] = pd.to_datetime(house_temp['Available']).dt.strftime('%d-%m-%Y')"
   ]
  },
  {
   "cell_type": "markdown",
   "metadata": {},
   "source": [
    "# Save house_temp"
   ]
  },
  {
   "cell_type": "code",
   "execution_count": 10,
   "metadata": {},
   "outputs": [],
   "source": [
    "house_temp = house_temp.drop_duplicates(subset=['url']).reset_index(drop=True)"
   ]
  },
  {
   "cell_type": "code",
   "execution_count": 11,
   "metadata": {},
   "outputs": [],
   "source": [
    "house_temp.to_csv('data/processed/house_temp.csv')"
   ]
  },
  {
   "cell_type": "markdown",
   "metadata": {},
   "source": [
    "# Add house temp into df_pararius"
   ]
  },
  {
   "cell_type": "code",
   "execution_count": 12,
   "metadata": {},
   "outputs": [],
   "source": [
    "result = pd.merge(df_pararius, house_temp, how='left', on='url')"
   ]
  },
  {
   "cell_type": "code",
   "execution_count": 13,
   "metadata": {},
   "outputs": [],
   "source": [
    "#result['Offered since'] = pd.to_datetime(result['Offered since'], format='%d-%m-%Y')"
   ]
  },
  {
   "cell_type": "markdown",
   "metadata": {},
   "source": [
    "# Save whole DataFrame"
   ]
  },
  {
   "cell_type": "code",
   "execution_count": 14,
   "metadata": {},
   "outputs": [],
   "source": [
    "result2 = result[[\n",
    "    'deal',\n",
    "    'garden-surface-area',\n",
    "    'img',\n",
    "    'price',\n",
    "    'link',\n",
    "    'agency',\n",
    "    'surface-area',\n",
    "    'interior',\n",
    "    'latitude',\n",
    "    'longitude',\n",
    "    'number-of-rooms',\n",
    "    'Plaats',\n",
    "    'url',\n",
    "    'date',\n",
    "    'status',\n",
    "    'irl',\n",
    "    'image',\n",
    "    'address',\n",
    "    'street',\n",
    "    'Offered since',\n",
    "    'Available',\n",
    "]]"
   ]
  },
  {
   "cell_type": "code",
   "execution_count": 15,
   "metadata": {},
   "outputs": [],
   "source": [
    "result2 = result2.rename(columns={\n",
    "    'img': 'Add',\n",
    "    'price': 'Price',\n",
    "    'Plaats': 'City',\n",
    "    'surface-area': 'Area',\n",
    "    'number-of-rooms': 'Rooms',\n",
    "    'garden-surface-area': 'Garden',\n",
    "    'Offered since': 'Offered',\n",
    "    'Available': 'Available',})"
   ]
  },
  {
   "cell_type": "code",
   "execution_count": 16,
   "metadata": {},
   "outputs": [],
   "source": [
    "result2.to_csv('app/df_coo_pararius2.csv')"
   ]
  },
  {
   "cell_type": "code",
   "execution_count": 17,
   "metadata": {},
   "outputs": [
    {
     "ename": "NameError",
     "evalue": "name 'asdasdasdasdasdas' is not defined",
     "output_type": "error",
     "traceback": [
      "\u001b[1;31m---------------------------------------------------------------------------\u001b[0m",
      "\u001b[1;31mNameError\u001b[0m                                 Traceback (most recent call last)",
      "\u001b[1;32m<ipython-input-17-70240b845bf1>\u001b[0m in \u001b[0;36m<module>\u001b[1;34m\u001b[0m\n\u001b[1;32m----> 1\u001b[1;33m \u001b[0masdasdasdasdasdas\u001b[0m\u001b[1;33m\u001b[0m\u001b[1;33m\u001b[0m\u001b[0m\n\u001b[0m",
      "\u001b[1;31mNameError\u001b[0m: name 'asdasdasdasdasdas' is not defined"
     ]
    }
   ],
   "source": [
    "asdasdasdasdasdas"
   ]
  },
  {
   "cell_type": "code",
   "execution_count": null,
   "metadata": {},
   "outputs": [],
   "source": [
    "cost_living = pd.read_csv('data/processed/cost_living.csv',index_col=[0]).rename(columns={'city':'City','price':'cost_livi'})\n",
    "cost_living.loc[cost_living['City']=='The-Hague-Den-Haag','City'] = 'Den Haag'\n",
    "cost_living = cost_living[['City','cost_livi']]\n",
    "result1 = pd.merge(result2,cost_living, left_on='City',right_on='City',how='left')"
   ]
  },
  {
   "cell_type": "code",
   "execution_count": null,
   "metadata": {},
   "outputs": [],
   "source": [
    "result1.loc[(result1['cost_livi'].isna()), 'cost_livi'] = cost_living['cost_livi'].min()\n",
    "result1.to_csv('app/df_coo_pararius2.csv')"
   ]
  },
  {
   "cell_type": "code",
   "execution_count": null,
   "metadata": {},
   "outputs": [],
   "source": [
    "www = result1[['City','cost_livi']].drop_duplicates()\n",
    "www[(www['cost_livi'].isna())] #&(result1['City'].isna())]"
   ]
  },
  {
   "cell_type": "code",
   "execution_count": null,
   "metadata": {},
   "outputs": [],
   "source": []
  }
 ],
 "metadata": {
  "kernelspec": {
   "display_name": "Python 3",
   "language": "python",
   "name": "python3"
  },
  "language_info": {
   "codemirror_mode": {
    "name": "ipython",
    "version": 3
   },
   "file_extension": ".py",
   "mimetype": "text/x-python",
   "name": "python",
   "nbconvert_exporter": "python",
   "pygments_lexer": "ipython3",
   "version": "3.8.5"
  }
 },
 "nbformat": 4,
 "nbformat_minor": 4
}
