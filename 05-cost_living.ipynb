{
 "cells": [
  {
   "cell_type": "markdown",
   "metadata": {},
   "source": [
    "https://public.opendatasoft.com/explore/dataset/geonames-all-cities-with-a-population-1000/export/?disjunctive.cou_name_en&sort=name&location=7,51.62484,6.58081&basemap=jawg.streets\n"
   ]
  },
  {
   "cell_type": "code",
   "execution_count": 1,
   "metadata": {},
   "outputs": [],
   "source": [
    "import pandas as pd\n",
    "import numpy as np\n",
    "pd.set_option('display.max_columns', None)"
   ]
  },
  {
   "cell_type": "code",
   "execution_count": 2,
   "metadata": {},
   "outputs": [],
   "source": [
    "pop = pd.read_csv(\"data/processed/nl3.csv\", sep=',',index_col=[0])\n",
    "dash = pd.read_csv(\"app/df_coo_pararius.csv\")\n",
    "zio = pd.read_csv(\"data/processed/zipcodeZ.csv\", sep=',',index_col=[0])"
   ]
  },
  {
   "cell_type": "code",
   "execution_count": 3,
   "metadata": {},
   "outputs": [
    {
     "name": "stderr",
     "output_type": "stream",
     "text": [
      "<ipython-input-3-8065dc9aa161>:4: UserWarning: This pattern has match groups. To actually get the groups, use str.extract.\n",
      "  pop.loc[pop['Alternate Names'].str.contains(i),'city'] = i\n"
     ]
    }
   ],
   "source": [
    "searchfor = dash['Plaats'].unique()\n",
    "pop['Alternate Names'] = pop['Alternate Names'].fillna('None')\n",
    "for i in searchfor:\n",
    "    pop.loc[pop['Alternate Names'].str.contains(i),'city'] = i\n",
    "pop['city'] = pop['city'].fillna(pop['city'])"
   ]
  },
  {
   "cell_type": "code",
   "execution_count": 4,
   "metadata": {},
   "outputs": [],
   "source": [
    "ast  =  list(set(searchfor) - set(pop['city']))"
   ]
  },
  {
   "cell_type": "code",
   "execution_count": 5,
   "metadata": {},
   "outputs": [],
   "source": [
    "test = dash[dash['Plaats'].isin(ast)]\n",
    "aaa = pd.merge(test[['Plaats','price']],zio[['Plaats','Provincie','longitude','latitude']], left_on='Plaats', right_on='Plaats',how='left')\n",
    "ccc = aaa.groupby(['Plaats','Provincie'])[['longitude','latitude']].mean().reset_index()"
   ]
  },
  {
   "cell_type": "code",
   "execution_count": 6,
   "metadata": {},
   "outputs": [],
   "source": [
    "def haversine(lat1, lon1, lat2, lon2):\n",
    "    earth_radius=6371\n",
    "    lat1, lon1, lat2, lon2 = np.radians([lat1, lon1, lat2, lon2])\n",
    "    a = np.sin((lat2-lat1)/2.0)**2 + np.cos(lat1) * np.cos(lat2) * np.sin((lon2-lon1)/2.0)**2\n",
    "    return earth_radius * 2 * np.arcsin(np.sqrt(a))\n",
    "\n",
    "ccc['latitude1'] = 51.907183\n",
    "ccc['longitude1'] = 4.472815\n",
    "ccc['distance'] = haversine(ccc['latitude'], ccc['longitude'], ccc['latitude1'], ccc['longitude1'])\n",
    "ccc = ccc.rename(columns={'Plaats':'city','Provincie':'Province'})"
   ]
  },
  {
   "cell_type": "code",
   "execution_count": 7,
   "metadata": {},
   "outputs": [
    {
     "name": "stderr",
     "output_type": "stream",
     "text": [
      "<ipython-input-7-cc23d04fda52>:1: FutureWarning: In a future version of pandas all arguments of concat except for the argument 'objs' will be keyword-only\n",
      "  finaleira = pd.concat([pop,ccc],0).reset_index(drop=True)\n"
     ]
    }
   ],
   "source": [
    "finaleira = pd.concat([pop,ccc],0).reset_index(drop=True)"
   ]
  },
  {
   "cell_type": "code",
   "execution_count": 8,
   "metadata": {},
   "outputs": [],
   "source": [
    "import numpy as np\n",
    "def haversine(lat1, lon1, lat2, lon2):\n",
    "    earth_radius=6371\n",
    "    lat1, lon1, lat2, lon2 = np.radians([lat1, lon1, lat2, lon2])\n",
    "    a = np.sin((lat2-lat1)/2.0)**2 + np.cos(lat1) * np.cos(lat2) * np.sin((lon2-lon1)/2.0)**2\n",
    "    return earth_radius * 2 * np.arcsin(np.sqrt(a))\n",
    "\n",
    "finaleira['latitude1'] = 51.907183\n",
    "finaleira['longitude1'] = 4.472815\n",
    "finaleira['distance'] = haversine(finaleira['latitude'], finaleira['longitude'], finaleira['latitude1'], finaleira['longitude1'])\n",
    "finaleira = finaleira.sort_values('distance')"
   ]
  },
  {
   "cell_type": "code",
   "execution_count": 9,
   "metadata": {},
   "outputs": [],
   "source": [
    "finaleira['cost'] = finaleira['cost'].interpolate().fillna(finaleira['cost'].mean())"
   ]
  },
  {
   "cell_type": "code",
   "execution_count": 10,
   "metadata": {},
   "outputs": [],
   "source": [
    "finaleira.to_csv(\"data/processed/nl3.csv\")"
   ]
  },
  {
   "cell_type": "code",
   "execution_count": 11,
   "metadata": {},
   "outputs": [],
   "source": [
    "average_rent = dash.groupby(['Plaats','Provincie'])[['price']].mean().reset_index().rename(columns={'price':'avg_rent'})\n",
    "fim = pd.merge(finaleira,average_rent,left_on=['city','Province'],right_on=['Plaats','Provincie'],how='left')\n",
    "fim['avg_costs'] = fim['avg_rent'] + fim['cost']"
   ]
  },
  {
   "cell_type": "code",
   "execution_count": 12,
   "metadata": {},
   "outputs": [],
   "source": [
    "fim['latitude' ] = round(fim['latitude'].astype(float),5)\n",
    "fim['longitude'] = round(fim['longitude'].astype(float),5)\n",
    "fim['distance'] = round(fim['distance'],2)\n",
    "fim['cost'] = round(fim['cost'],2)\n",
    "fim['avg_rent'] = round(fim['avg_rent'],2)\n",
    "fim['avg_costs'] = round(fim['avg_costs'],2)"
   ]
  },
  {
   "cell_type": "code",
   "execution_count": 13,
   "metadata": {},
   "outputs": [
    {
     "data": {
      "text/html": [
       "<div>\n",
       "<style scoped>\n",
       "    .dataframe tbody tr th:only-of-type {\n",
       "        vertical-align: middle;\n",
       "    }\n",
       "\n",
       "    .dataframe tbody tr th {\n",
       "        vertical-align: top;\n",
       "    }\n",
       "\n",
       "    .dataframe thead th {\n",
       "        text-align: right;\n",
       "    }\n",
       "</style>\n",
       "<table border=\"1\" class=\"dataframe\">\n",
       "  <thead>\n",
       "    <tr style=\"text-align: right;\">\n",
       "      <th></th>\n",
       "      <th>Alternate Names</th>\n",
       "      <th>city</th>\n",
       "      <th>Province</th>\n",
       "      <th>Population</th>\n",
       "      <th>distance</th>\n",
       "      <th>cost</th>\n",
       "      <th>avg_rent</th>\n",
       "      <th>avg_costs</th>\n",
       "      <th>latitude</th>\n",
       "      <th>longitude</th>\n",
       "    </tr>\n",
       "  </thead>\n",
       "  <tbody>\n",
       "    <tr>\n",
       "      <th>0</th>\n",
       "      <td>RTM,Ratehrdam,Roterdam,Roterdama,Roterdamas,Ro...</td>\n",
       "      <td>Rotterdam</td>\n",
       "      <td>Zuid-Holland</td>\n",
       "      <td>598199.0</td>\n",
       "      <td>1.76</td>\n",
       "      <td>857.05</td>\n",
       "      <td>1499.02</td>\n",
       "      <td>2356.07</td>\n",
       "      <td>51.92250</td>\n",
       "      <td>4.47917</td>\n",
       "    </tr>\n",
       "    <tr>\n",
       "      <th>1</th>\n",
       "      <td>Schidamas,Schiedam,Skhidam,Skiedam,Sxidam,askh...</td>\n",
       "      <td>Schiedam</td>\n",
       "      <td>Zuid-Holland</td>\n",
       "      <td>75438.0</td>\n",
       "      <td>5.91</td>\n",
       "      <td>857.05</td>\n",
       "      <td>1271.72</td>\n",
       "      <td>2128.77</td>\n",
       "      <td>51.91917</td>\n",
       "      <td>4.38889</td>\n",
       "    </tr>\n",
       "    <tr>\n",
       "      <th>2</th>\n",
       "      <td>Barendrekht,Barendrext,ba lun de lei he te,bar...</td>\n",
       "      <td>Barendrecht</td>\n",
       "      <td>Zuid-Holland</td>\n",
       "      <td>38672.0</td>\n",
       "      <td>7.04</td>\n",
       "      <td>847.63</td>\n",
       "      <td>1747.5</td>\n",
       "      <td>2595.13</td>\n",
       "      <td>51.85667</td>\n",
       "      <td>4.53472</td>\n",
       "    </tr>\n",
       "    <tr>\n",
       "      <th>3</th>\n",
       "      <td>Capelle,Capelle a/d IJssel,Capelle a/d Yssel,C...</td>\n",
       "      <td>Capelle aan den IJssel</td>\n",
       "      <td>Zuid-Holland</td>\n",
       "      <td>65255.0</td>\n",
       "      <td>7.60</td>\n",
       "      <td>842.92</td>\n",
       "      <td>1101.24</td>\n",
       "      <td>1944.16</td>\n",
       "      <td>51.92917</td>\n",
       "      <td>4.57778</td>\n",
       "    </tr>\n",
       "    <tr>\n",
       "      <th>4</th>\n",
       "      <td>Hoogvliet Rotterdam</td>\n",
       "      <td>Hoogvliet Rotterdam</td>\n",
       "      <td>Zuid-Holland</td>\n",
       "      <td>34950.0</td>\n",
       "      <td>9.01</td>\n",
       "      <td>835.85</td>\n",
       "      <td>1143.75</td>\n",
       "      <td>1979.6</td>\n",
       "      <td>51.86333</td>\n",
       "      <td>4.36250</td>\n",
       "    </tr>\n",
       "    <tr>\n",
       "      <th>...</th>\n",
       "      <td>...</td>\n",
       "      <td>...</td>\n",
       "      <td>...</td>\n",
       "      <td>...</td>\n",
       "      <td>...</td>\n",
       "      <td>...</td>\n",
       "      <td>...</td>\n",
       "      <td>...</td>\n",
       "      <td>...</td>\n",
       "      <td>...</td>\n",
       "    </tr>\n",
       "    <tr>\n",
       "      <th>435</th>\n",
       "      <td>None</td>\n",
       "      <td>Farmsum</td>\n",
       "      <td>Groningen</td>\n",
       "      <td>2185.0</td>\n",
       "      <td>228.40</td>\n",
       "      <td>877.61</td>\n",
       "      <td>0.0</td>\n",
       "      <td>877.61</td>\n",
       "      <td>53.32167</td>\n",
       "      <td>6.92639</td>\n",
       "    </tr>\n",
       "    <tr>\n",
       "      <th>436</th>\n",
       "      <td>None</td>\n",
       "      <td>Roodeschool</td>\n",
       "      <td>Groningen</td>\n",
       "      <td>None</td>\n",
       "      <td>228.48</td>\n",
       "      <td>877.61</td>\n",
       "      <td>1050.0</td>\n",
       "      <td>1927.61</td>\n",
       "      <td>53.41983</td>\n",
       "      <td>6.76638</td>\n",
       "    </tr>\n",
       "    <tr>\n",
       "      <th>437</th>\n",
       "      <td>Delfzejl,Delfzijl,Delfzyl,Делфзейл</td>\n",
       "      <td>Delfzijl</td>\n",
       "      <td>Groningen</td>\n",
       "      <td>28649.0</td>\n",
       "      <td>228.62</td>\n",
       "      <td>877.61</td>\n",
       "      <td>680.6</td>\n",
       "      <td>1558.21</td>\n",
       "      <td>53.33000</td>\n",
       "      <td>6.91806</td>\n",
       "    </tr>\n",
       "    <tr>\n",
       "      <th>438</th>\n",
       "      <td>Spijk Gn</td>\n",
       "      <td>Spijk</td>\n",
       "      <td>Groningen</td>\n",
       "      <td>1220.0</td>\n",
       "      <td>229.40</td>\n",
       "      <td>877.61</td>\n",
       "      <td>1500.0</td>\n",
       "      <td>2377.61</td>\n",
       "      <td>53.39000</td>\n",
       "      <td>6.83750</td>\n",
       "    </tr>\n",
       "    <tr>\n",
       "      <th>439</th>\n",
       "      <td>None</td>\n",
       "      <td>Termunterzijl</td>\n",
       "      <td>Groningen</td>\n",
       "      <td>None</td>\n",
       "      <td>232.16</td>\n",
       "      <td>877.61</td>\n",
       "      <td>260.0</td>\n",
       "      <td>1137.61</td>\n",
       "      <td>53.29898</td>\n",
       "      <td>7.03585</td>\n",
       "    </tr>\n",
       "  </tbody>\n",
       "</table>\n",
       "<p>440 rows × 10 columns</p>\n",
       "</div>"
      ],
      "text/plain": [
       "                                       Alternate Names  \\\n",
       "0    RTM,Ratehrdam,Roterdam,Roterdama,Roterdamas,Ro...   \n",
       "1    Schidamas,Schiedam,Skhidam,Skiedam,Sxidam,askh...   \n",
       "2    Barendrekht,Barendrext,ba lun de lei he te,bar...   \n",
       "3    Capelle,Capelle a/d IJssel,Capelle a/d Yssel,C...   \n",
       "4                                  Hoogvliet Rotterdam   \n",
       "..                                                 ...   \n",
       "435                                               None   \n",
       "436                                               None   \n",
       "437                 Delfzejl,Delfzijl,Delfzyl,Делфзейл   \n",
       "438                                           Spijk Gn   \n",
       "439                                               None   \n",
       "\n",
       "                       city      Province Population  distance    cost  \\\n",
       "0                 Rotterdam  Zuid-Holland   598199.0      1.76  857.05   \n",
       "1                  Schiedam  Zuid-Holland    75438.0      5.91  857.05   \n",
       "2               Barendrecht  Zuid-Holland    38672.0      7.04  847.63   \n",
       "3    Capelle aan den IJssel  Zuid-Holland    65255.0      7.60  842.92   \n",
       "4       Hoogvliet Rotterdam  Zuid-Holland    34950.0      9.01  835.85   \n",
       "..                      ...           ...        ...       ...     ...   \n",
       "435                 Farmsum     Groningen     2185.0    228.40  877.61   \n",
       "436             Roodeschool     Groningen       None    228.48  877.61   \n",
       "437                Delfzijl     Groningen    28649.0    228.62  877.61   \n",
       "438                   Spijk     Groningen     1220.0    229.40  877.61   \n",
       "439           Termunterzijl     Groningen       None    232.16  877.61   \n",
       "\n",
       "    avg_rent avg_costs  latitude  longitude  \n",
       "0    1499.02   2356.07  51.92250    4.47917  \n",
       "1    1271.72   2128.77  51.91917    4.38889  \n",
       "2     1747.5   2595.13  51.85667    4.53472  \n",
       "3    1101.24   1944.16  51.92917    4.57778  \n",
       "4    1143.75    1979.6  51.86333    4.36250  \n",
       "..       ...       ...       ...        ...  \n",
       "435      0.0    877.61  53.32167    6.92639  \n",
       "436   1050.0   1927.61  53.41983    6.76638  \n",
       "437    680.6   1558.21  53.33000    6.91806  \n",
       "438   1500.0   2377.61  53.39000    6.83750  \n",
       "439    260.0   1137.61  53.29898    7.03585  \n",
       "\n",
       "[440 rows x 10 columns]"
      ]
     },
     "execution_count": 13,
     "metadata": {},
     "output_type": "execute_result"
    }
   ],
   "source": [
    "final = fim[[\n",
    "    'Alternate Names',\n",
    "    'city',\n",
    "    'Province',\n",
    "    'Population',\n",
    "    'distance',\n",
    "    'cost',\n",
    "    'avg_rent',\n",
    "    'avg_costs',\n",
    "    'latitude',\n",
    "    'longitude',\n",
    "]].fillna('None')\n",
    "final"
   ]
  },
  {
   "cell_type": "code",
   "execution_count": 14,
   "metadata": {},
   "outputs": [],
   "source": [
    "# writer = pd.ExcelWriter('output.xlsx')\n",
    "# final[final['distance']<=23].to_excel(writer, 'Sugestion')\n",
    "# final.to_excel(writer, 'All')\n",
    "# writer.save()"
   ]
  },
  {
   "cell_type": "code",
   "execution_count": 15,
   "metadata": {},
   "outputs": [],
   "source": [
    "# final[final['city'].isin(searchfor)].reset_index(drop=True).to_csv('app/costs.csv')"
   ]
  },
  {
   "cell_type": "code",
   "execution_count": 16,
   "metadata": {},
   "outputs": [],
   "source": [
    "searchfor = [\"'s-Hertogenbosch\",\n",
    " 'Alkmaar',\n",
    " 'Almere',\n",
    " 'Amersfoort',\n",
    " 'Amstelveen',\n",
    " 'Amsterdam',\n",
    " 'Apeldoorn',\n",
    " 'Arnhem',\n",
    " 'Breda',\n",
    " 'Bussum',\n",
    " 'Delft',\n",
    " 'Dordrecht',\n",
    " 'Eindhoven',\n",
    " 'Gouda',\n",
    " 'Haarlem',\n",
    " 'Hilversum',\n",
    " 'Hoofddorp',\n",
    " 'Huizen',\n",
    " 'Leiden',\n",
    " 'Oegstgeest',\n",
    " 'Rijswijk',\n",
    " 'Rotterdam',\n",
    " 'Schiedam',\n",
    " 'Den Haag',\n",
    " 'Utrecht',\n",
    " 'Voorburg',\n",
    " 'Zaandam',\n",
    " 'Zeist',\n",
    " 'Zoetermeer']"
   ]
  },
  {
   "cell_type": "code",
   "execution_count": 17,
   "metadata": {},
   "outputs": [],
   "source": [
    "final[final['city'].isin(searchfor)].reset_index(drop=True).to_csv('app/costs.csv')"
   ]
  },
  {
   "cell_type": "code",
   "execution_count": null,
   "metadata": {},
   "outputs": [],
   "source": []
  },
  {
   "cell_type": "code",
   "execution_count": null,
   "metadata": {},
   "outputs": [],
   "source": []
  },
  {
   "cell_type": "code",
   "execution_count": null,
   "metadata": {},
   "outputs": [],
   "source": []
  },
  {
   "cell_type": "code",
   "execution_count": null,
   "metadata": {},
   "outputs": [],
   "source": []
  },
  {
   "cell_type": "code",
   "execution_count": null,
   "metadata": {},
   "outputs": [],
   "source": []
  },
  {
   "cell_type": "code",
   "execution_count": 18,
   "metadata": {},
   "outputs": [
    {
     "ename": "NameError",
     "evalue": "name 'asdasdasdasdas' is not defined",
     "output_type": "error",
     "traceback": [
      "\u001b[1;31m---------------------------------------------------------------------------\u001b[0m",
      "\u001b[1;31mNameError\u001b[0m                                 Traceback (most recent call last)",
      "\u001b[1;32m<ipython-input-18-7d4c225cd8f2>\u001b[0m in \u001b[0;36m<module>\u001b[1;34m\u001b[0m\n\u001b[1;32m----> 1\u001b[1;33m \u001b[0masdasdasdasdas\u001b[0m\u001b[1;33m\u001b[0m\u001b[1;33m\u001b[0m\u001b[0m\n\u001b[0m",
      "\u001b[1;31mNameError\u001b[0m: name 'asdasdasdasdas' is not defined"
     ]
    }
   ],
   "source": [
    "asdasdasdasdas"
   ]
  },
  {
   "cell_type": "code",
   "execution_count": null,
   "metadata": {},
   "outputs": [],
   "source": [
    "finaleira['price'] = round(finaleira['price'],2)\n",
    "\n"
   ]
  },
  {
   "cell_type": "code",
   "execution_count": null,
   "metadata": {},
   "outputs": [],
   "source": []
  },
  {
   "cell_type": "code",
   "execution_count": null,
   "metadata": {},
   "outputs": [],
   "source": [
    "finaleira = finaleira[finaleira['city'].isin(set(dash['City']))].drop_duplicates(['Province','city'])\n",
    "\n",
    "finaleira[[\n",
    "    'city',\n",
    "    'Province',\n",
    "    'price',\n",
    "    'distance',\n",
    "    'Population',\n",
    "    'Alternate Names',\n",
    "    'latitude',\n",
    "    'longitude',\n",
    "]].rename(columns={'price':'costs'}).to_csv('app/costs.csv',index=False)"
   ]
  },
  {
   "cell_type": "code",
   "execution_count": null,
   "metadata": {},
   "outputs": [],
   "source": []
  },
  {
   "cell_type": "code",
   "execution_count": null,
   "metadata": {},
   "outputs": [],
   "source": []
  },
  {
   "cell_type": "code",
   "execution_count": null,
   "metadata": {},
   "outputs": [],
   "source": []
  },
  {
   "cell_type": "code",
   "execution_count": null,
   "metadata": {},
   "outputs": [],
   "source": []
  },
  {
   "cell_type": "code",
   "execution_count": null,
   "metadata": {},
   "outputs": [],
   "source": [
    "asdasdasds"
   ]
  },
  {
   "cell_type": "code",
   "execution_count": null,
   "metadata": {},
   "outputs": [],
   "source": [
    "def impute(df2, col_name):\n",
    "    while df2[col_name].isna().any().any():\n",
    "        first_na = df2[col_name].isna().diff() & df2[col_name].isna()\n",
    "        imputed = df2.rolling(3, min_periods=1).mean().shift()[col_name]\n",
    "        df2.loc[first_na, col_name] = imputed\n",
    "        \n",
    "impute(finaleira, 'price')"
   ]
  },
  {
   "cell_type": "code",
   "execution_count": null,
   "metadata": {},
   "outputs": [],
   "source": [
    "# finaleira['price']= finaleira['price'].fillna(pd.rolling_mean(finaleira['price'], 6, min_periods=1))\n",
    "pd.Series(finaleira['price']).rolling(window=12).mean()"
   ]
  },
  {
   "cell_type": "code",
   "execution_count": null,
   "metadata": {},
   "outputs": [],
   "source": [
    "(finaleira.groupby(finaleira['price'].notnull().cumsum(),as_index=False)['price'].transform(lambda x: x.iloc[0]/x.size))"
   ]
  },
  {
   "cell_type": "code",
   "execution_count": null,
   "metadata": {},
   "outputs": [],
   "source": [
    "all_cities = pd.read_csv(\"data/processed/nl.csv\")\n",
    "zipcode = pd.read_csv(\"data/processed/zipcodeZ.csv\",index_col=['Unnamed: 0'])"
   ]
  },
  {
   "cell_type": "code",
   "execution_count": null,
   "metadata": {},
   "outputs": [],
   "source": [
    "all_cities['city_']  = all_cities['city']   + \"_\" + all_cities['Provincie']\n",
    "zipcode['validador1'] = zipcode['Plaats']   + \"_\" + zipcode['Provincie']\n",
    "zipcode['validador2'] = zipcode['Gemeente'] + \"_\" + zipcode['Provincie']"
   ]
  },
  {
   "cell_type": "code",
   "execution_count": null,
   "metadata": {},
   "outputs": [],
   "source": [
    "City       = all_cities['city_'].unique()\n",
    "validador1 = zipcode['validador1'].unique()\n",
    "validador2 = zipcode['validador2'].unique()"
   ]
  },
  {
   "cell_type": "code",
   "execution_count": null,
   "metadata": {},
   "outputs": [],
   "source": [
    "listin = (list(validador1) + list(validador2))\n",
    "minha_lista = set(listin) - set(City)\n",
    "len(minha_lista)"
   ]
  },
  {
   "cell_type": "code",
   "execution_count": null,
   "metadata": {
    "scrolled": true
   },
   "outputs": [],
   "source": [
    "lat=[]\n",
    "lon=[]\n",
    "city_=[]\n",
    "provincie_=[]\n",
    "error=[]\n",
    "i=0\n",
    "\n",
    "for place in minha_lista:\n",
    "    x = place.split(\"_\")\n",
    "    city=x[0]\n",
    "    Provincie=x[1]\n",
    "    place = city+\" \"+Provincie+\" \"+'Netherlands'\n",
    "    \n",
    "    try:\n",
    "        url = \"https://nominatim.openstreetmap.org/search?q=\"+place+\"&format=geojson\"\n",
    "        r = requests.get(url)\n",
    "        lat.append(r.json()['features'][0]['geometry']['coordinates'][1])\n",
    "        lon.append(r.json()['features'][0]['geometry']['coordinates'][0])\n",
    "        city_.append(city)\n",
    "        provincie_.append(Provincie)\n",
    "        print(place)\n",
    "        \n",
    "    except:\n",
    "        print('##########', place)\n",
    "        error.append(place)\n",
    "        pass\n",
    "    df = pd.DataFrame({'latitude':lat,'longitude':lon,'city':city_,'provincie':provincie_})\n",
    "    df.to_csv(f\"data/processed/temp/{i}.csv\")\n",
    "    i=+1"
   ]
  },
  {
   "cell_type": "code",
   "execution_count": null,
   "metadata": {},
   "outputs": [],
   "source": [
    "\"https://nominatim.openstreetmap.org/search?q=\"+place+\"&format=geojson\""
   ]
  },
  {
   "cell_type": "code",
   "execution_count": null,
   "metadata": {},
   "outputs": [],
   "source": [
    "new_cities = pd.DataFrame({'latitude':lat,'longitude':lon,'city':city_,'provincie':provincie_})"
   ]
  },
  {
   "cell_type": "code",
   "execution_count": null,
   "metadata": {},
   "outputs": [],
   "source": [
    "all_cities_processed = pd.concat([all_cities,new_cities],0)\n",
    "all_cities_processed['Provincie'] = all_cities_processed['Provincie'].fillna(all_cities_processed['provincie'])"
   ]
  },
  {
   "cell_type": "code",
   "execution_count": null,
   "metadata": {},
   "outputs": [],
   "source": [
    "all_cities_processed['latitude'] = round(all_cities_processed['latitude'],5)\n",
    "all_cities_processed['longitude'] = round(all_cities_processed['longitude'],5)"
   ]
  },
  {
   "cell_type": "code",
   "execution_count": null,
   "metadata": {},
   "outputs": [],
   "source": [
    "all_cities_processed = all_cities_processed[~all_cities_processed['Provincie'].isna()]\n",
    "all_cities_processed = all_cities_processed[['city', 'latitude', 'longitude','Provincie', 'population']]\n",
    "all_cities_processed = all_cities_processed.drop_duplicates(['city', 'Provincie'])\n",
    "all_cities_processed = all_cities_processed.reset_index(drop=True)\n",
    "all_cities_processed.to_csv(\"data/processed/nl.csv\",index=False)"
   ]
  },
  {
   "cell_type": "code",
   "execution_count": null,
   "metadata": {},
   "outputs": [],
   "source": [
    "all_cities_processed[all_cities_processed['city'].str.contains('Den Haag|The Hague')]"
   ]
  },
  {
   "cell_type": "code",
   "execution_count": null,
   "metadata": {},
   "outputs": [],
   "source": [
    "all_cities_processed"
   ]
  },
  {
   "cell_type": "code",
   "execution_count": null,
   "metadata": {},
   "outputs": [],
   "source": [
    "# ids = all_cities_processed[\"city\"]\n",
    "# all_cities_processed[ids.isin(ids[ids.duplicated()])].sort_values(\"city\").head(50)"
   ]
  },
  {
   "cell_type": "code",
   "execution_count": null,
   "metadata": {},
   "outputs": [],
   "source": [
    "pop = pd.read_csv(\"data/processed/csvData.csv\")\n",
    "pop1 = pd.merge(all_cities_processed,pop,left_on='city',right_on='name',how='left').drop(columns=['name'])\n",
    "pop1['popz'] = pop1['2021'      ].fillna(pop1['population'])\n",
    "pop1['popz'] = pop1['population'].fillna(pop1['2021'])\n",
    "pop1[~pop1['popz'].isna()]"
   ]
  },
  {
   "cell_type": "code",
   "execution_count": null,
   "metadata": {},
   "outputs": [],
   "source": [
    "#pop1[pop1['city'].str.contains('s-')] #Den Haag|The Hague|"
   ]
  },
  {
   "cell_type": "code",
   "execution_count": null,
   "metadata": {},
   "outputs": [],
   "source": [
    "all_cities_processed['latitude__'] = all_cities_processed['latitude'].astype(str) + \"_\" + all_cities_processed['longitude'].astype(str)"
   ]
  },
  {
   "cell_type": "code",
   "execution_count": null,
   "metadata": {},
   "outputs": [],
   "source": [
    "# ids = all_cities_processed[\"latitude__\"]\n",
    "# all_cities_processed[ids.isin(ids[ids.duplicated()])].sort_values(\"latitude__\").head(10)"
   ]
  },
  {
   "cell_type": "code",
   "execution_count": null,
   "metadata": {},
   "outputs": [],
   "source": []
  },
  {
   "cell_type": "code",
   "execution_count": null,
   "metadata": {},
   "outputs": [],
   "source": []
  },
  {
   "cell_type": "code",
   "execution_count": null,
   "metadata": {},
   "outputs": [],
   "source": [
    "dasdasdasdasdasdasdasdasdasdas"
   ]
  },
  {
   "cell_type": "code",
   "execution_count": null,
   "metadata": {},
   "outputs": [],
   "source": [
    "from bs4 import BeautifulSoup\n",
    "from requests import get\n",
    "import pandas as pd\n",
    "import requests"
   ]
  },
  {
   "cell_type": "code",
   "execution_count": null,
   "metadata": {},
   "outputs": [],
   "source": [
    "URL = 'https://www.numbeo.com/cost-of-living/country_result.jsp?country=Netherlands'\n",
    "response = get(URL)\n",
    "soup = BeautifulSoup(response.text, 'html.parser')\n",
    "city_form = soup.find('form', {'class': 'standard_margin'})\n",
    "city_form = [values['value'] for values in city_form('option')]\n",
    "final = pd.DataFrame(city_form)\n",
    "\n",
    "writer = pd.ExcelWriter('output.xlsx')\n",
    "final.to_excel(writer, 'All')\n",
    "writer.save()"
   ]
  },
  {
   "cell_type": "code",
   "execution_count": null,
   "metadata": {
    "scrolled": false
   },
   "outputs": [],
   "source": [
    "for city in city_form[:]:\n",
    "    URL = 'https://www.numbeo.com/cost-of-living/city-estimator/in/'\n",
    "    IRL = '?Recalculated=Submit+to+Recalculate&displayCurrency=EUR&members=1&restaurants_percentage=10.0&inexpensive_restaurants_percentage=50.0&drinking_coffee_outside=100.0&going_out_monthly=4.2&smoking_packs_per_day=0.0&alcoholic_drinks=25.0&type_of_food=0&driving_car=0.0&taxi_consumption=0.0&paying_for_public_transport=Monthly%2C+All+Members&sport_memberships=100.0&vacation=0.0&clothing_and_shoes=50.0&rent=none&kindergarten_count=0&private_schools_count=0'\n",
    "    benefit=[]\n",
    "    price=[]\n",
    "    city = city.replace(' ','-')\n",
    "    city = city.replace('(','')\n",
    "    city = city.replace(')','')\n",
    "    try:\n",
    "        link = URL+city+IRL\n",
    "        response = get(URL+city+IRL)\n",
    "        soup = BeautifulSoup(response.text, 'html.parser')\n",
    "        if len(soup.find_all('nav',{'class':'breadcrumb'}))==0:\n",
    "            link=URL+city+'-Netherlands'+IRL\n",
    "            response = get(link)\n",
    "            soup = BeautifulSoup(response.text, 'html.parser')\n",
    "        else:\n",
    "            pass\n",
    "        benefit = (soup.find_all('th',{'class':'tr_highlighted_menu'})[-1].get_text())\n",
    "        price = (soup.find_all('th',{'class':'th_no_highlight_a_right'})[-1].get_text())\n",
    "        meu_01.append({'benefit':benefit,'price':price,'city':city,'url':link})\n",
    "    except:\n",
    "        pass"
   ]
  },
  {
   "cell_type": "code",
   "execution_count": null,
   "metadata": {},
   "outputs": [],
   "source": [
    "df = pd.DataFrame(meu_01)\n",
    "df = df[df['price']!=' ?'].reset_index(drop=True)\n",
    "df['price'] = df['price'].str.replace('?','0',regex=True)\n",
    "df['price'] = df['price'].str.replace('\\D','',regex=True)\n",
    "df['price'] = (df['price'].astype(float))/100"
   ]
  },
  {
   "cell_type": "code",
   "execution_count": null,
   "metadata": {},
   "outputs": [],
   "source": [
    "df.loc[df['city']=='The-Hague-Den-Haag','city'] = 'The Hague'\n",
    "df.loc[df['city']=='Halle','city'] = 'Hall'\n",
    "df.loc[df['city'].str.contains('Hertogenbosch'),'city'] = \"’s-Hertogenbosch\""
   ]
  },
  {
   "cell_type": "code",
   "execution_count": null,
   "metadata": {},
   "outputs": [],
   "source": [
    "df"
   ]
  },
  {
   "cell_type": "code",
   "execution_count": null,
   "metadata": {},
   "outputs": [],
   "source": []
  },
  {
   "cell_type": "code",
   "execution_count": null,
   "metadata": {},
   "outputs": [],
   "source": []
  },
  {
   "cell_type": "code",
   "execution_count": null,
   "metadata": {},
   "outputs": [],
   "source": []
  },
  {
   "cell_type": "code",
   "execution_count": null,
   "metadata": {},
   "outputs": [],
   "source": [
    "df['address'] = address\n",
    "df['latitude'] = latitude\n",
    "df['longitude'] = longitude\n",
    "\n",
    "df['latitude'] = round(df['latitude'],7)\n",
    "df['longitude'] = round(df['longitude'],7)"
   ]
  },
  {
   "cell_type": "code",
   "execution_count": null,
   "metadata": {},
   "outputs": [],
   "source": [
    "df['benefit'] = 'costs'\n",
    "df['link'] = \"<a target='_blank' href=\" + (df['url']).astype(str) + \">\" + 'Source' + \"</a>\"\n",
    "df = df.drop_duplicates().sort_values('price', ascending=False).reset_index(drop=True)"
   ]
  },
  {
   "cell_type": "code",
   "execution_count": null,
   "metadata": {},
   "outputs": [],
   "source": [
    "import numpy as np\n",
    "def haversine(lat1, lon1, lat2, lon2):\n",
    "    earth_radius=6371\n",
    "    lat1, lon1, lat2, lon2 = np.radians([lat1, lon1, lat2, lon2])\n",
    "    a = np.sin((lat2-lat1)/2.0)**2 + np.cos(lat1) * np.cos(lat2) * np.sin((lon2-lon1)/2.0)**2\n",
    "    return earth_radius * 2 * np.arcsin(np.sqrt(a))\n",
    "\n",
    "df['latitude1'] = 51.907183\n",
    "df['longitude1'] = 4.472815\n",
    "df['distance'] = haversine(df['latitude'], df['longitude'], df['latitude1'],df['longitude1'])\n",
    "df['distance'] = round(df['distance'],2)"
   ]
  },
  {
   "cell_type": "code",
   "execution_count": null,
   "metadata": {},
   "outputs": [],
   "source": [
    "df"
   ]
  },
  {
   "cell_type": "code",
   "execution_count": null,
   "metadata": {},
   "outputs": [],
   "source": [
    "ksjdhakjsdhkjashdkjashdkjahskdjhaskjdhaskjds\n",
    "ksjdhakjsdhkjashdkjashdkjahskdjhaskjdhaskjds\n",
    "ksjdhakjsdhkjashdkjashdkjahskdjhaskjdhaskjds"
   ]
  },
  {
   "cell_type": "code",
   "execution_count": null,
   "metadata": {},
   "outputs": [],
   "source": [
    "df.reset_index(drop=True).to_csv('../../app/costs.csv')"
   ]
  },
  {
   "cell_type": "code",
   "execution_count": null,
   "metadata": {},
   "outputs": [],
   "source": [
    "from bs4 import BeautifulSoup\n",
    "from requests import get\n",
    "import pandas as pd"
   ]
  },
  {
   "cell_type": "code",
   "execution_count": null,
   "metadata": {},
   "outputs": [],
   "source": [
    "def  minha(URL,city):\n",
    "    response = get(URL)\n",
    "    soup = BeautifulSoup(response.text, 'html.parser')\n",
    "    split1 = soup.find_all('tr',{'class':'tr_standard'})\n",
    "    benefit = []\n",
    "    col_factor = []\n",
    "    price = []\n",
    "    city_form=[]\n",
    "    for i in range(len(split1)):\n",
    "        try:\n",
    "            benefit_ = split1[i].find('td').find(text=True)\n",
    "        except:\n",
    "            benefit_ = None\n",
    "        try:\n",
    "            col_factor_ = split1[i].find('span',{'class':'estimator_multiplier'}).find(text=True)\n",
    "        except:\n",
    "            col_factor_ = None\n",
    "        try:\n",
    "            price_ = split1[i].find('span',{'class':'price_in_units_for_analysis'}).find(text=True)\n",
    "        except:\n",
    "            price_ = None\n",
    "\n",
    "        benefit.append(benefit_)\n",
    "        col_factor.append(col_factor_)\n",
    "        price.append(price_)\n",
    "        city_form.append(city)\n",
    "        \n",
    "    return [benefit,col_factor,city_form,price]"
   ]
  },
  {
   "cell_type": "code",
   "execution_count": null,
   "metadata": {},
   "outputs": [],
   "source": [
    "URL = 'https://www.numbeo.com/cost-of-living/country_result.jsp?country=Netherlands'\n",
    "response = get(URL)\n",
    "soup = BeautifulSoup(response.text, 'html.parser')\n",
    "city_form = soup.find('form', {'class': 'standard_margin'})\n",
    "city_form = [values['value'] for values in city_form('option')]\n",
    "meu_01=[]"
   ]
  },
  {
   "cell_type": "code",
   "execution_count": null,
   "metadata": {},
   "outputs": [],
   "source": [
    "for city in city_form[:]:\n",
    "    URL = 'https://www.numbeo.com/cost-of-living/city-estimator/in/'+city\n",
    "    my_dict_ = minha(URL,city)\n",
    "    meu_01.append({'benefit':my_dict_[0],'col_factor':my_dict_[1],'city':my_dict_[2],'price':my_dict_[3]})"
   ]
  },
  {
   "cell_type": "code",
   "execution_count": null,
   "metadata": {},
   "outputs": [],
   "source": [
    "df = pd.DataFrame({})\n",
    "for i in range(len(meu_01)):\n",
    "    df = pd.concat([df, pd.DataFrame(meu_01[i])],0)"
   ]
  },
  {
   "cell_type": "code",
   "execution_count": null,
   "metadata": {},
   "outputs": [],
   "source": [
    "df['price'] = df['price'].str.replace('?','0',regex=True)\n",
    "df['price']= df['price'].str.replace('\\D','',regex=True)\n",
    "df['price'] = (df['price'].astype(float))/100"
   ]
  },
  {
   "cell_type": "code",
   "execution_count": null,
   "metadata": {},
   "outputs": [],
   "source": [
    "df['col_factor']= df['col_factor'].str.replace('x','',regex=True)\n",
    "df['col_factor'] = (df['col_factor'].astype(float))/2"
   ]
  },
  {
   "cell_type": "markdown",
   "metadata": {},
   "source": [
    "---"
   ]
  },
  {
   "cell_type": "code",
   "execution_count": null,
   "metadata": {},
   "outputs": [],
   "source": [
    "# Import Libs\n",
    "from folium.plugins import FastMarkerCluster\n",
    "import io\n",
    "import base64\n",
    "import folium\n",
    "import pandas as pd\n",
    "import streamlit as st\n",
    "from st_aggrid import AgGrid\n",
    "import matplotlib.cm as cm\n",
    "import numpy as np\n",
    "import matplotlib.pyplot as plt\n",
    "from matplotlib import cm\n",
    "from matplotlib.colors import ListedColormap, LinearSegmentedColormap\n",
    "import folium.plugins\n",
    "import branca\n",
    "import branca.colormap as cm\n",
    "import folium.plugins\n",
    "import branca\n",
    "import branca.colormap as cm"
   ]
  },
  {
   "cell_type": "code",
   "execution_count": null,
   "metadata": {},
   "outputs": [],
   "source": [
    "final = pd.read_csv('../../app/costs.csv', index_col=[0])\n",
    "final_ = final[['price', 'city', 'url']].to_html(escape=False)\n",
    "lats = final['latitude'].tolist()\n",
    "lons = final['longitude'].tolist()\n",
    "city = final['city'].tolist()\n",
    "price = final['price'].tolist()\n",
    "map = folium.Map(location=[52.2129919, 5.2793703],zoom_start=7, tiles=\"cartodbdark_matter\")\n",
    "feature_group = folium.FeatureGroup(\"Locations\")\n",
    "for lats, lons, price, city in zip(lats, lons, price, city):\n",
    "    feature_group.add_child(\n",
    "        folium.CircleMarker(\n",
    "            location=[lats, lons],\n",
    "            popup=f\"{city}, €{price}\",\n",
    "            radius=4,\n",
    "            fill=True,\n",
    "        )\n",
    "    )\n",
    "map.add_child(feature_group)"
   ]
  },
  {
   "cell_type": "code",
   "execution_count": null,
   "metadata": {},
   "outputs": [],
   "source": [
    "fname = 'test_colorbar.html'\n",
    "\n",
    "\n",
    "base_lat = 50.682294344\n",
    "base_lon = 10.939628989\n",
    "f_map = folium.Map(location=[base_lat,base_lon], tiles=\"OpenStreetMap\", zoom_start=17)\n",
    "\n",
    "lat_ = [50.6823, 50.6822, 50.6821, 50.6820, 50.6819]\n",
    "lon_ = [10.9396291, 10.9396279, 10.9396269, 10.9396265, 10.9396261]\n",
    "acc_ = [11.0,44.5,149.9,319.1,540.0,752.6]\n",
    "\n",
    "colormap = cm.LinearColormap(colors=['darkblue', 'blue', 'cyan', 'yellow', 'orange', 'red'],\n",
    "                             index=[0, 25, 62.5, 156.25, 390.6, 1000], vmin=0, vmax=1000,\n",
    "                             caption='Total Standard deviation at the point[mm]')\n",
    "\n",
    "fg = folium.FeatureGroup(name=fname.split('.')[0])    \n",
    "\n",
    "for pt in range(len(lat_)):\n",
    "\n",
    "    color = colormap(acc_[pt])\n",
    "    fg.add_child(folium.CircleMarker(location=[lat_[pt],lon_[pt]],\n",
    "                                     radius=6,\n",
    "                                     fill=True,\n",
    "                                     color=color,\n",
    "                                     fill_color=color))\n",
    "\n",
    "f_map.add_child(fg)\n",
    "f_map.add_child(colormap)\n",
    "f_map"
   ]
  },
  {
   "cell_type": "code",
   "execution_count": null,
   "metadata": {},
   "outputs": [],
   "source": [
    "final = pd.read_csv('../../app/costs.csv', index_col=[0])\n",
    "\n",
    "map = folium.Map(location=[52.2129919, 5.2793703],zoom_start=7, tiles=\"cartodbdark_matter\")\n",
    "feature_group = folium.FeatureGroup(\"Locations\")\n",
    "\n",
    "lats = final['latitude'].tolist()\n",
    "lons = final['longitude'].tolist()\n",
    "city = final['city'].tolist()\n",
    "price = final['price'].tolist()\n",
    "acc_ = final['price'].unique().tolist()\n",
    "\n",
    "for lats, lons, price, city in zip(lats, lons, price, city):\n",
    "    color = colormap(acc_.index(price))\n",
    "    feature_group.add_child(\n",
    "        folium.CircleMarker(\n",
    "            location=[lats, lons],\n",
    "            radius=6,\n",
    "            fill=True,\n",
    "            color=color,\n",
    "            fill_color=color))\n",
    "map.add_child(feature_group)"
   ]
  },
  {
   "cell_type": "code",
   "execution_count": null,
   "metadata": {},
   "outputs": [],
   "source": [
    "for lat, lon, traffic_q, traffic, bike, city in zip(df['latitude'], df['longitude'], df['traffic_index_quartile'], df['traffic_index'], df['bike_score'], df['city']):\n",
    "    folium.CircleMarker(\n",
    "        [lat, lon],\n",
    "        radius=.15*bike,\n",
    "        popup = ('City: ' + str(city).capitalize() + '<br>'\n",
    "                 'Bike score: ' + str(bike) + '<br>'\n",
    "                 'Traffic level: ' + str(traffic) +'%'\n",
    "                ),\n",
    "        color='b',\n",
    "        key_on = traffic_q,\n",
    "        threshold_scale=[0,1,2,3],\n",
    "        fill_color=colordict[traffic_q],\n",
    "        fill=True,\n",
    "        fill_opacity=0.7\n",
    "        ).add_to(traffic_map)\n",
    "traffic_map"
   ]
  },
  {
   "cell_type": "code",
   "execution_count": null,
   "metadata": {},
   "outputs": [],
   "source": [
    "import seaborn as sns\n",
    "print(sns.palplot(sns.color_palette(\"coolwarm\", 33)))\n",
    "print(sns.palplot(sns.color_palette(\"flare\", 33)))\n",
    "print(sns.palplot(sns.color_palette(\"viridis\", 33)))\n",
    "print(sns.palplot(sns.color_palette(\"Spectral\", 33)))\n",
    "\n",
    "\n"
   ]
  },
  {
   "cell_type": "code",
   "execution_count": null,
   "metadata": {},
   "outputs": [],
   "source": [
    "up = sns.palplot(sns.color_palette(\"Spectral\", 33))"
   ]
  },
  {
   "cell_type": "code",
   "execution_count": null,
   "metadata": {},
   "outputs": [],
   "source": [
    "rgb = [(0.15, 0.25, 0.35), (0.35, 0.55, 0.51), (0.5, 0.95, 0.34)]\n",
    "= sns.palplot(sns.blend_palette(rgb, n_colors=10))\n"
   ]
  },
  {
   "cell_type": "code",
   "execution_count": null,
   "metadata": {},
   "outputs": [],
   "source": [
    "sns.deep.values"
   ]
  },
  {
   "cell_type": "code",
   "execution_count": null,
   "metadata": {},
   "outputs": [],
   "source": [
    "pal = sns.color_palette(\"magma\")\n",
    "print(pal)\n",
    "sns.palplot(pal)"
   ]
  },
  {
   "cell_type": "code",
   "execution_count": null,
   "metadata": {},
   "outputs": [],
   "source": [
    "color_pallete = (sns.color_palette(\"Spectral\", 33))\n",
    "color_pallete = color_pallete.as_hex()\n",
    "c = color_pallete[1]\n",
    "c"
   ]
  },
  {
   "cell_type": "code",
   "execution_count": null,
   "metadata": {},
   "outputs": [],
   "source": []
  },
  {
   "cell_type": "code",
   "execution_count": null,
   "metadata": {},
   "outputs": [],
   "source": []
  }
 ],
 "metadata": {
  "kernelspec": {
   "display_name": "Python 3",
   "language": "python",
   "name": "python3"
  },
  "language_info": {
   "codemirror_mode": {
    "name": "ipython",
    "version": 3
   },
   "file_extension": ".py",
   "mimetype": "text/x-python",
   "name": "python",
   "nbconvert_exporter": "python",
   "pygments_lexer": "ipython3",
   "version": "3.8.5"
  }
 },
 "nbformat": 4,
 "nbformat_minor": 4
}
