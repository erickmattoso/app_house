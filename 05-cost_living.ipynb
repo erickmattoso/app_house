{
 "cells": [
  {
   "cell_type": "code",
   "execution_count": 1,
   "metadata": {},
   "outputs": [],
   "source": [
    "from bs4 import BeautifulSoup\n",
    "from requests import get\n",
    "import pandas as pd\n",
    "import requests\n",
    "pd.set_option('display.max_columns', None)"
   ]
  },
  {
   "cell_type": "markdown",
   "metadata": {},
   "source": [
    "https://public.opendatasoft.com/explore/dataset/geonames-all-cities-with-a-population-1000/export/?disjunctive.cou_name_en&sort=name&location=7,51.62484,6.58081&basemap=jawg.streets\n"
   ]
  },
  {
   "cell_type": "code",
   "execution_count": 2,
   "metadata": {},
   "outputs": [],
   "source": [
    "dash = pd.read_csv(\"app/df_coo_pararius2.csv\")\n",
    "pop = pd.read_csv(\"data/processed/nl2.csv\", sep=';',index_col=[0])\n",
    "all_cities = pd.read_csv(\"data/processed/nl.csv\")\n",
    "costs = pd.read_csv('app/costs.csv')[['price','city']]"
   ]
  },
  {
   "cell_type": "code",
   "execution_count": 3,
   "metadata": {},
   "outputs": [
    {
     "name": "stderr",
     "output_type": "stream",
     "text": [
      "<ipython-input-3-a316e6ad7a6d>:4: UserWarning: This pattern has match groups. To actually get the groups, use str.extract.\n",
      "  pop.loc[pop['Alternate Names'].str.contains(i),'city'] = i\n"
     ]
    }
   ],
   "source": [
    "searchfor = dash['City'].unique()\n",
    "pop['Alternate Names'] = pop['Alternate Names'].fillna('None')\n",
    "for i in searchfor:\n",
    "    pop.loc[pop['Alternate Names'].str.contains(i),'city'] = i\n",
    "pop['city'] = pop['city'].fillna(pop['Name'])"
   ]
  },
  {
   "cell_type": "code",
   "execution_count": 4,
   "metadata": {},
   "outputs": [],
   "source": [
    "name       = list(set(searchfor) - set(pop['city']))\n",
    "all_cities = all_cities.loc[all_cities['city'].isin(name)]\n",
    "all_cities['Coordinates'] = all_cities['latitude'].astype(str) +\",\"+ all_cities['longitude'].astype(str)\n",
    "all_cities = all_cities.rename(columns={'population':'Population','Provincie':'Province'})"
   ]
  },
  {
   "cell_type": "code",
   "execution_count": 5,
   "metadata": {},
   "outputs": [
    {
     "name": "stderr",
     "output_type": "stream",
     "text": [
      "<ipython-input-5-f3c7daf7105f>:1: FutureWarning: In a future version of pandas all arguments of concat except for the argument 'objs' will be keyword-only\n",
      "  final = pd.concat([pop,all_cities],0)\n"
     ]
    }
   ],
   "source": [
    "final = pd.concat([pop,all_cities],0)\n",
    "final = final[[\n",
    "    'Alternate Names',\n",
    "    'Population',\n",
    "    'DIgital Elevation Model',\n",
    "    'Coordinates',\n",
    "    'Province',\n",
    "    'city',\n",
    "]].fillna('None')"
   ]
  },
  {
   "cell_type": "code",
   "execution_count": 6,
   "metadata": {},
   "outputs": [],
   "source": [
    "finaleira = pd.merge(final, costs,on='city',how='left')\n",
    "finaleira[['latitude','longitude']] = finaleira['Coordinates'].str.split(\",\",expand=True,)\n",
    "finaleira['latitude' ] = round(finaleira['latitude'].astype(float),5)\n",
    "finaleira['longitude'] = round(finaleira['longitude'].astype(float),5)\n",
    "\n",
    "import numpy as np\n",
    "def haversine(lat1, lon1, lat2, lon2):\n",
    "    earth_radius=6371\n",
    "    lat1, lon1, lat2, lon2 = np.radians([lat1, lon1, lat2, lon2])\n",
    "    a = np.sin((lat2-lat1)/2.0)**2 + np.cos(lat1) * np.cos(lat2) * np.sin((lon2-lon1)/2.0)**2\n",
    "    return earth_radius * 2 * np.arcsin(np.sqrt(a))\n",
    "\n",
    "finaleira['latitude1'] = 51.907183\n",
    "finaleira['longitude1'] = 4.472815\n",
    "finaleira['distance'] = haversine(finaleira['latitude'], finaleira['longitude'], finaleira['latitude1'], finaleira['longitude1'])\n",
    "finaleira['distance'] = round(finaleira['distance'],2)\n",
    "finaleira['price'] = round(finaleira['price'],2)\n",
    "\n",
    "finaleira = finaleira.sort_values('distance')\n",
    "finaleira['price'] = finaleira['price'].interpolate().fillna(finaleira['price'].mean())"
   ]
  },
  {
   "cell_type": "code",
   "execution_count": 7,
   "metadata": {},
   "outputs": [],
   "source": [
    "finaleira = finaleira[finaleira['city'].isin(set(dash['City']))].drop_duplicates(['Province','city'])\n",
    "\n",
    "finaleira[[\n",
    "    'city',\n",
    "    'Province',\n",
    "    'price',\n",
    "    'distance',\n",
    "    'Population',\n",
    "    'Alternate Names',\n",
    "    'latitude',\n",
    "    'longitude',\n",
    "]].to_csv('app/costs.csv',index=False)"
   ]
  },
  {
   "cell_type": "code",
   "execution_count": null,
   "metadata": {},
   "outputs": [],
   "source": []
  },
  {
   "cell_type": "code",
   "execution_count": null,
   "metadata": {},
   "outputs": [],
   "source": []
  },
  {
   "cell_type": "code",
   "execution_count": null,
   "metadata": {},
   "outputs": [],
   "source": []
  },
  {
   "cell_type": "code",
   "execution_count": null,
   "metadata": {},
   "outputs": [],
   "source": []
  },
  {
   "cell_type": "code",
   "execution_count": 8,
   "metadata": {},
   "outputs": [
    {
     "ename": "NameError",
     "evalue": "name 'asdasdasds' is not defined",
     "output_type": "error",
     "traceback": [
      "\u001b[1;31m---------------------------------------------------------------------------\u001b[0m",
      "\u001b[1;31mNameError\u001b[0m                                 Traceback (most recent call last)",
      "\u001b[1;32m<ipython-input-8-e63b2ad38dd9>\u001b[0m in \u001b[0;36m<module>\u001b[1;34m\u001b[0m\n\u001b[1;32m----> 1\u001b[1;33m \u001b[0masdasdasds\u001b[0m\u001b[1;33m\u001b[0m\u001b[1;33m\u001b[0m\u001b[0m\n\u001b[0m",
      "\u001b[1;31mNameError\u001b[0m: name 'asdasdasds' is not defined"
     ]
    }
   ],
   "source": [
    "asdasdasds"
   ]
  },
  {
   "cell_type": "code",
   "execution_count": null,
   "metadata": {},
   "outputs": [],
   "source": [
    "def impute(df2, col_name):\n",
    "    while df2[col_name].isna().any().any():\n",
    "        first_na = df2[col_name].isna().diff() & df2[col_name].isna()\n",
    "        imputed = df2.rolling(3, min_periods=1).mean().shift()[col_name]\n",
    "        df2.loc[first_na, col_name] = imputed\n",
    "        \n",
    "impute(finaleira, 'price')"
   ]
  },
  {
   "cell_type": "code",
   "execution_count": null,
   "metadata": {},
   "outputs": [],
   "source": [
    "# finaleira['price']= finaleira['price'].fillna(pd.rolling_mean(finaleira['price'], 6, min_periods=1))\n",
    "\n",
    "pd.Series(finaleira['price']).rolling(window=12).mean()"
   ]
  },
  {
   "cell_type": "code",
   "execution_count": null,
   "metadata": {},
   "outputs": [],
   "source": [
    "(finaleira.groupby(finaleira['price'].notnull().cumsum(),as_index=False)['price'].transform(lambda x: x.iloc[0]/x.size))"
   ]
  },
  {
   "cell_type": "code",
   "execution_count": null,
   "metadata": {},
   "outputs": [],
   "source": []
  },
  {
   "cell_type": "code",
   "execution_count": null,
   "metadata": {},
   "outputs": [],
   "source": []
  },
  {
   "cell_type": "code",
   "execution_count": null,
   "metadata": {},
   "outputs": [],
   "source": [
    "dasdasfasdfa"
   ]
  },
  {
   "cell_type": "code",
   "execution_count": null,
   "metadata": {},
   "outputs": [],
   "source": [
    "all_cities = pd.read_csv(\"data/processed/nl.csv\")\n",
    "zipcode = pd.read_csv(\"data/processed/zipcodeZ.csv\",index_col=['Unnamed: 0'])"
   ]
  },
  {
   "cell_type": "code",
   "execution_count": null,
   "metadata": {},
   "outputs": [],
   "source": [
    "all_cities['city_']  = all_cities['city']   + \"_\" + all_cities['Provincie']\n",
    "zipcode['validador1'] = zipcode['Plaats']   + \"_\" + zipcode['Provincie']\n",
    "zipcode['validador2'] = zipcode['Gemeente'] + \"_\" + zipcode['Provincie']"
   ]
  },
  {
   "cell_type": "code",
   "execution_count": null,
   "metadata": {},
   "outputs": [],
   "source": [
    "City       = all_cities['city_'].unique()\n",
    "validador1 = zipcode['validador1'].unique()\n",
    "validador2 = zipcode['validador2'].unique()"
   ]
  },
  {
   "cell_type": "code",
   "execution_count": null,
   "metadata": {},
   "outputs": [],
   "source": [
    "listin = (list(validador1) + list(validador2))\n",
    "minha_lista = set(listin) - set(City)\n",
    "len(minha_lista)"
   ]
  },
  {
   "cell_type": "code",
   "execution_count": null,
   "metadata": {
    "scrolled": true
   },
   "outputs": [],
   "source": [
    "lat=[]\n",
    "lon=[]\n",
    "city_=[]\n",
    "provincie_=[]\n",
    "error=[]\n",
    "i=0\n",
    "\n",
    "for place in minha_lista:\n",
    "    x = place.split(\"_\")\n",
    "    city=x[0]\n",
    "    Provincie=x[1]\n",
    "    place = city+\" \"+Provincie+\" \"+'Netherlands'\n",
    "    \n",
    "    try:\n",
    "        url = \"https://nominatim.openstreetmap.org/search?q=\"+place+\"&format=geojson\"\n",
    "        r = requests.get(url)\n",
    "        lat.append(r.json()['features'][0]['geometry']['coordinates'][1])\n",
    "        lon.append(r.json()['features'][0]['geometry']['coordinates'][0])\n",
    "        city_.append(city)\n",
    "        provincie_.append(Provincie)\n",
    "        print(place)\n",
    "        \n",
    "    except:\n",
    "        print('##########', place)\n",
    "        error.append(place)\n",
    "        pass\n",
    "    df = pd.DataFrame({'latitude':lat,'longitude':lon,'city':city_,'provincie':provincie_})\n",
    "    df.to_csv(f\"data/processed/temp/{i}.csv\")\n",
    "    i=+1"
   ]
  },
  {
   "cell_type": "code",
   "execution_count": null,
   "metadata": {},
   "outputs": [],
   "source": [
    "\"https://nominatim.openstreetmap.org/search?q=\"+place+\"&format=geojson\""
   ]
  },
  {
   "cell_type": "code",
   "execution_count": null,
   "metadata": {},
   "outputs": [],
   "source": [
    "new_cities = pd.DataFrame({'latitude':lat,'longitude':lon,'city':city_,'provincie':provincie_})"
   ]
  },
  {
   "cell_type": "code",
   "execution_count": null,
   "metadata": {},
   "outputs": [],
   "source": [
    "all_cities_processed = pd.concat([all_cities,new_cities],0)\n",
    "all_cities_processed['Provincie'] = all_cities_processed['Provincie'].fillna(all_cities_processed['provincie'])"
   ]
  },
  {
   "cell_type": "code",
   "execution_count": null,
   "metadata": {},
   "outputs": [],
   "source": [
    "all_cities_processed['latitude'] = round(all_cities_processed['latitude'],5)\n",
    "all_cities_processed['longitude'] = round(all_cities_processed['longitude'],5)"
   ]
  },
  {
   "cell_type": "code",
   "execution_count": null,
   "metadata": {},
   "outputs": [],
   "source": [
    "all_cities_processed = all_cities_processed[~all_cities_processed['Provincie'].isna()]\n",
    "all_cities_processed = all_cities_processed[['city', 'latitude', 'longitude','Provincie', 'population']]\n",
    "all_cities_processed = all_cities_processed.drop_duplicates(['city', 'Provincie'])\n",
    "all_cities_processed = all_cities_processed.reset_index(drop=True)\n",
    "all_cities_processed.to_csv(\"data/processed/nl.csv\",index=False)"
   ]
  },
  {
   "cell_type": "code",
   "execution_count": null,
   "metadata": {},
   "outputs": [],
   "source": [
    "all_cities_processed[all_cities_processed['city'].str.contains('Den Haag|The Hague')]"
   ]
  },
  {
   "cell_type": "code",
   "execution_count": null,
   "metadata": {},
   "outputs": [],
   "source": [
    "all_cities_processed"
   ]
  },
  {
   "cell_type": "code",
   "execution_count": null,
   "metadata": {},
   "outputs": [],
   "source": [
    "# ids = all_cities_processed[\"city\"]\n",
    "# all_cities_processed[ids.isin(ids[ids.duplicated()])].sort_values(\"city\").head(50)"
   ]
  },
  {
   "cell_type": "code",
   "execution_count": null,
   "metadata": {},
   "outputs": [],
   "source": [
    "pop = pd.read_csv(\"data/processed/csvData.csv\")\n",
    "pop1 = pd.merge(all_cities_processed,pop,left_on='city',right_on='name',how='left').drop(columns=['name'])\n",
    "pop1['popz'] = pop1['2021'      ].fillna(pop1['population'])\n",
    "pop1['popz'] = pop1['population'].fillna(pop1['2021'])\n",
    "pop1[~pop1['popz'].isna()]"
   ]
  },
  {
   "cell_type": "code",
   "execution_count": null,
   "metadata": {},
   "outputs": [],
   "source": [
    "#pop1[pop1['city'].str.contains('s-')] #Den Haag|The Hague|"
   ]
  },
  {
   "cell_type": "code",
   "execution_count": null,
   "metadata": {},
   "outputs": [],
   "source": [
    "all_cities_processed['latitude__'] = all_cities_processed['latitude'].astype(str) + \"_\" + all_cities_processed['longitude'].astype(str)"
   ]
  },
  {
   "cell_type": "code",
   "execution_count": null,
   "metadata": {},
   "outputs": [],
   "source": [
    "# ids = all_cities_processed[\"latitude__\"]\n",
    "# all_cities_processed[ids.isin(ids[ids.duplicated()])].sort_values(\"latitude__\").head(10)"
   ]
  },
  {
   "cell_type": "code",
   "execution_count": null,
   "metadata": {},
   "outputs": [],
   "source": []
  },
  {
   "cell_type": "code",
   "execution_count": null,
   "metadata": {},
   "outputs": [],
   "source": []
  },
  {
   "cell_type": "code",
   "execution_count": null,
   "metadata": {},
   "outputs": [],
   "source": [
    "dasdasdasdasdasdasdasdasdasdas"
   ]
  },
  {
   "cell_type": "code",
   "execution_count": null,
   "metadata": {},
   "outputs": [],
   "source": [
    "from bs4 import BeautifulSoup\n",
    "from requests import get\n",
    "import pandas as pd\n",
    "import requests"
   ]
  },
  {
   "cell_type": "code",
   "execution_count": null,
   "metadata": {},
   "outputs": [],
   "source": [
    "URL = 'https://www.numbeo.com/cost-of-living/country_result.jsp?country=Netherlands'\n",
    "response = get(URL)\n",
    "soup = BeautifulSoup(response.text, 'html.parser')\n",
    "city_form = soup.find('form', {'class': 'standard_margin'})\n",
    "city_form = [values['value'] for values in city_form('option')]\n",
    "meu_01=[]"
   ]
  },
  {
   "cell_type": "code",
   "execution_count": null,
   "metadata": {
    "scrolled": false
   },
   "outputs": [],
   "source": [
    "for city in city_form[:]:\n",
    "    URL = 'https://www.numbeo.com/cost-of-living/city-estimator/in/'\n",
    "    IRL = '?Recalculated=Submit+to+Recalculate&displayCurrency=EUR&members=1&restaurants_percentage=10.0&inexpensive_restaurants_percentage=50.0&drinking_coffee_outside=100.0&going_out_monthly=4.2&smoking_packs_per_day=0.0&alcoholic_drinks=25.0&type_of_food=0&driving_car=0.0&taxi_consumption=0.0&paying_for_public_transport=Monthly%2C+All+Members&sport_memberships=100.0&vacation=0.0&clothing_and_shoes=50.0&rent=none&kindergarten_count=0&private_schools_count=0'\n",
    "    benefit=[]\n",
    "    price=[]\n",
    "    city = city.replace(' ','-')\n",
    "    city = city.replace('(','')\n",
    "    city = city.replace(')','')\n",
    "    try:\n",
    "        link = URL+city+IRL\n",
    "        response = get(URL+city+IRL)\n",
    "        soup = BeautifulSoup(response.text, 'html.parser')\n",
    "        if len(soup.find_all('nav',{'class':'breadcrumb'}))==0:\n",
    "            link=URL+city+'-Netherlands'+IRL\n",
    "            response = get(link)\n",
    "            soup = BeautifulSoup(response.text, 'html.parser')\n",
    "        else:\n",
    "            pass\n",
    "        benefit = (soup.find_all('th',{'class':'tr_highlighted_menu'})[-1].get_text())\n",
    "        price = (soup.find_all('th',{'class':'th_no_highlight_a_right'})[-1].get_text())\n",
    "        meu_01.append({'benefit':benefit,'price':price,'city':city,'url':link})\n",
    "    except:\n",
    "        pass"
   ]
  },
  {
   "cell_type": "code",
   "execution_count": null,
   "metadata": {},
   "outputs": [],
   "source": [
    "df = pd.DataFrame(meu_01)\n",
    "df = df[df['price']!=' ?'].reset_index(drop=True)\n",
    "df['price'] = df['price'].str.replace('?','0',regex=True)\n",
    "df['price'] = df['price'].str.replace('\\D','',regex=True)\n",
    "df['price'] = (df['price'].astype(float))/100"
   ]
  },
  {
   "cell_type": "code",
   "execution_count": null,
   "metadata": {},
   "outputs": [],
   "source": [
    "df.loc[df['city']=='The-Hague-Den-Haag','city'] = 'The Hague'\n",
    "df.loc[df['city']=='Halle','city'] = 'Hall'\n",
    "df.loc[df['city'].str.contains('Hertogenbosch'),'city'] = \"’s-Hertogenbosch\""
   ]
  },
  {
   "cell_type": "code",
   "execution_count": null,
   "metadata": {},
   "outputs": [],
   "source": [
    "df"
   ]
  },
  {
   "cell_type": "code",
   "execution_count": null,
   "metadata": {},
   "outputs": [],
   "source": []
  },
  {
   "cell_type": "code",
   "execution_count": null,
   "metadata": {},
   "outputs": [],
   "source": []
  },
  {
   "cell_type": "code",
   "execution_count": null,
   "metadata": {},
   "outputs": [],
   "source": []
  },
  {
   "cell_type": "code",
   "execution_count": null,
   "metadata": {},
   "outputs": [],
   "source": [
    "df['address'] = address\n",
    "df['latitude'] = latitude\n",
    "df['longitude'] = longitude\n",
    "\n",
    "df['latitude'] = round(df['latitude'],7)\n",
    "df['longitude'] = round(df['longitude'],7)"
   ]
  },
  {
   "cell_type": "code",
   "execution_count": null,
   "metadata": {},
   "outputs": [],
   "source": [
    "df['benefit'] = 'costs'\n",
    "df['link'] = \"<a target='_blank' href=\" + (df['url']).astype(str) + \">\" + 'Source' + \"</a>\"\n",
    "df = df.drop_duplicates().sort_values('price', ascending=False).reset_index(drop=True)"
   ]
  },
  {
   "cell_type": "code",
   "execution_count": null,
   "metadata": {},
   "outputs": [],
   "source": [
    "import numpy as np\n",
    "def haversine(lat1, lon1, lat2, lon2):\n",
    "    earth_radius=6371\n",
    "    lat1, lon1, lat2, lon2 = np.radians([lat1, lon1, lat2, lon2])\n",
    "    a = np.sin((lat2-lat1)/2.0)**2 + np.cos(lat1) * np.cos(lat2) * np.sin((lon2-lon1)/2.0)**2\n",
    "    return earth_radius * 2 * np.arcsin(np.sqrt(a))\n",
    "\n",
    "df['latitude1'] = 51.907183\n",
    "df['longitude1'] = 4.472815\n",
    "df['distance'] = haversine(df['latitude'], df['longitude'], df['latitude1'],df['longitude1'])\n",
    "df['distance'] = round(df['distance'],2)"
   ]
  },
  {
   "cell_type": "code",
   "execution_count": null,
   "metadata": {},
   "outputs": [],
   "source": [
    "df"
   ]
  },
  {
   "cell_type": "code",
   "execution_count": null,
   "metadata": {},
   "outputs": [],
   "source": [
    "ksjdhakjsdhkjashdkjashdkjahskdjhaskjdhaskjds\n",
    "ksjdhakjsdhkjashdkjashdkjahskdjhaskjdhaskjds\n",
    "ksjdhakjsdhkjashdkjashdkjahskdjhaskjdhaskjds"
   ]
  },
  {
   "cell_type": "code",
   "execution_count": null,
   "metadata": {},
   "outputs": [],
   "source": [
    "df.reset_index(drop=True).to_csv('../../app/costs.csv')"
   ]
  },
  {
   "cell_type": "code",
   "execution_count": null,
   "metadata": {},
   "outputs": [],
   "source": [
    "from bs4 import BeautifulSoup\n",
    "from requests import get\n",
    "import pandas as pd"
   ]
  },
  {
   "cell_type": "code",
   "execution_count": null,
   "metadata": {},
   "outputs": [],
   "source": [
    "def  minha(URL,city):\n",
    "    response = get(URL)\n",
    "    soup = BeautifulSoup(response.text, 'html.parser')\n",
    "    split1 = soup.find_all('tr',{'class':'tr_standard'})\n",
    "    benefit = []\n",
    "    col_factor = []\n",
    "    price = []\n",
    "    city_form=[]\n",
    "    for i in range(len(split1)):\n",
    "        try:\n",
    "            benefit_ = split1[i].find('td').find(text=True)\n",
    "        except:\n",
    "            benefit_ = None\n",
    "        try:\n",
    "            col_factor_ = split1[i].find('span',{'class':'estimator_multiplier'}).find(text=True)\n",
    "        except:\n",
    "            col_factor_ = None\n",
    "        try:\n",
    "            price_ = split1[i].find('span',{'class':'price_in_units_for_analysis'}).find(text=True)\n",
    "        except:\n",
    "            price_ = None\n",
    "\n",
    "        benefit.append(benefit_)\n",
    "        col_factor.append(col_factor_)\n",
    "        price.append(price_)\n",
    "        city_form.append(city)\n",
    "        \n",
    "    return [benefit,col_factor,city_form,price]"
   ]
  },
  {
   "cell_type": "code",
   "execution_count": null,
   "metadata": {},
   "outputs": [],
   "source": [
    "URL = 'https://www.numbeo.com/cost-of-living/country_result.jsp?country=Netherlands'\n",
    "response = get(URL)\n",
    "soup = BeautifulSoup(response.text, 'html.parser')\n",
    "city_form = soup.find('form', {'class': 'standard_margin'})\n",
    "city_form = [values['value'] for values in city_form('option')]\n",
    "meu_01=[]"
   ]
  },
  {
   "cell_type": "code",
   "execution_count": null,
   "metadata": {},
   "outputs": [],
   "source": [
    "for city in city_form[:]:\n",
    "    URL = 'https://www.numbeo.com/cost-of-living/city-estimator/in/'+city\n",
    "    my_dict_ = minha(URL,city)\n",
    "    meu_01.append({'benefit':my_dict_[0],'col_factor':my_dict_[1],'city':my_dict_[2],'price':my_dict_[3]})"
   ]
  },
  {
   "cell_type": "code",
   "execution_count": null,
   "metadata": {},
   "outputs": [],
   "source": [
    "df = pd.DataFrame({})\n",
    "for i in range(len(meu_01)):\n",
    "    df = pd.concat([df, pd.DataFrame(meu_01[i])],0)"
   ]
  },
  {
   "cell_type": "code",
   "execution_count": null,
   "metadata": {},
   "outputs": [],
   "source": [
    "df['price'] = df['price'].str.replace('?','0',regex=True)\n",
    "df['price']= df['price'].str.replace('\\D','',regex=True)\n",
    "df['price'] = (df['price'].astype(float))/100"
   ]
  },
  {
   "cell_type": "code",
   "execution_count": null,
   "metadata": {},
   "outputs": [],
   "source": [
    "df['col_factor']= df['col_factor'].str.replace('x','',regex=True)\n",
    "df['col_factor'] = (df['col_factor'].astype(float))/2"
   ]
  },
  {
   "cell_type": "markdown",
   "metadata": {},
   "source": [
    "---"
   ]
  },
  {
   "cell_type": "code",
   "execution_count": null,
   "metadata": {},
   "outputs": [],
   "source": [
    "# Import Libs\n",
    "from folium.plugins import FastMarkerCluster\n",
    "import io\n",
    "import base64\n",
    "import folium\n",
    "import pandas as pd\n",
    "import streamlit as st\n",
    "from st_aggrid import AgGrid\n",
    "import matplotlib.cm as cm\n",
    "import numpy as np\n",
    "import matplotlib.pyplot as plt\n",
    "from matplotlib import cm\n",
    "from matplotlib.colors import ListedColormap, LinearSegmentedColormap\n",
    "import folium.plugins\n",
    "import branca\n",
    "import branca.colormap as cm\n",
    "import folium.plugins\n",
    "import branca\n",
    "import branca.colormap as cm"
   ]
  },
  {
   "cell_type": "code",
   "execution_count": null,
   "metadata": {},
   "outputs": [],
   "source": [
    "final = pd.read_csv('../../app/costs.csv', index_col=[0])\n",
    "final_ = final[['price', 'city', 'url']].to_html(escape=False)\n",
    "lats = final['latitude'].tolist()\n",
    "lons = final['longitude'].tolist()\n",
    "city = final['city'].tolist()\n",
    "price = final['price'].tolist()\n",
    "map = folium.Map(location=[52.2129919, 5.2793703],zoom_start=7, tiles=\"cartodbdark_matter\")\n",
    "feature_group = folium.FeatureGroup(\"Locations\")\n",
    "for lats, lons, price, city in zip(lats, lons, price, city):\n",
    "    feature_group.add_child(\n",
    "        folium.CircleMarker(\n",
    "            location=[lats, lons],\n",
    "            popup=f\"{city}, €{price}\",\n",
    "            radius=4,\n",
    "            fill=True,\n",
    "        )\n",
    "    )\n",
    "map.add_child(feature_group)"
   ]
  },
  {
   "cell_type": "code",
   "execution_count": null,
   "metadata": {},
   "outputs": [],
   "source": [
    "fname = 'test_colorbar.html'\n",
    "\n",
    "\n",
    "base_lat = 50.682294344\n",
    "base_lon = 10.939628989\n",
    "f_map = folium.Map(location=[base_lat,base_lon], tiles=\"OpenStreetMap\", zoom_start=17)\n",
    "\n",
    "lat_ = [50.6823, 50.6822, 50.6821, 50.6820, 50.6819]\n",
    "lon_ = [10.9396291, 10.9396279, 10.9396269, 10.9396265, 10.9396261]\n",
    "acc_ = [11.0,44.5,149.9,319.1,540.0,752.6]\n",
    "\n",
    "colormap = cm.LinearColormap(colors=['darkblue', 'blue', 'cyan', 'yellow', 'orange', 'red'],\n",
    "                             index=[0, 25, 62.5, 156.25, 390.6, 1000], vmin=0, vmax=1000,\n",
    "                             caption='Total Standard deviation at the point[mm]')\n",
    "\n",
    "fg = folium.FeatureGroup(name=fname.split('.')[0])    \n",
    "\n",
    "for pt in range(len(lat_)):\n",
    "\n",
    "    color = colormap(acc_[pt])\n",
    "    fg.add_child(folium.CircleMarker(location=[lat_[pt],lon_[pt]],\n",
    "                                     radius=6,\n",
    "                                     fill=True,\n",
    "                                     color=color,\n",
    "                                     fill_color=color))\n",
    "\n",
    "f_map.add_child(fg)\n",
    "f_map.add_child(colormap)\n",
    "f_map"
   ]
  },
  {
   "cell_type": "code",
   "execution_count": null,
   "metadata": {},
   "outputs": [],
   "source": [
    "final = pd.read_csv('../../app/costs.csv', index_col=[0])\n",
    "\n",
    "map = folium.Map(location=[52.2129919, 5.2793703],zoom_start=7, tiles=\"cartodbdark_matter\")\n",
    "feature_group = folium.FeatureGroup(\"Locations\")\n",
    "\n",
    "lats = final['latitude'].tolist()\n",
    "lons = final['longitude'].tolist()\n",
    "city = final['city'].tolist()\n",
    "price = final['price'].tolist()\n",
    "acc_ = final['price'].unique().tolist()\n",
    "\n",
    "for lats, lons, price, city in zip(lats, lons, price, city):\n",
    "    color = colormap(acc_.index(price))\n",
    "    feature_group.add_child(\n",
    "        folium.CircleMarker(\n",
    "            location=[lats, lons],\n",
    "            radius=6,\n",
    "            fill=True,\n",
    "            color=color,\n",
    "            fill_color=color))\n",
    "map.add_child(feature_group)"
   ]
  },
  {
   "cell_type": "code",
   "execution_count": null,
   "metadata": {},
   "outputs": [],
   "source": [
    "for lat, lon, traffic_q, traffic, bike, city in zip(df['latitude'], df['longitude'], df['traffic_index_quartile'], df['traffic_index'], df['bike_score'], df['city']):\n",
    "    folium.CircleMarker(\n",
    "        [lat, lon],\n",
    "        radius=.15*bike,\n",
    "        popup = ('City: ' + str(city).capitalize() + '<br>'\n",
    "                 'Bike score: ' + str(bike) + '<br>'\n",
    "                 'Traffic level: ' + str(traffic) +'%'\n",
    "                ),\n",
    "        color='b',\n",
    "        key_on = traffic_q,\n",
    "        threshold_scale=[0,1,2,3],\n",
    "        fill_color=colordict[traffic_q],\n",
    "        fill=True,\n",
    "        fill_opacity=0.7\n",
    "        ).add_to(traffic_map)\n",
    "traffic_map"
   ]
  },
  {
   "cell_type": "code",
   "execution_count": null,
   "metadata": {},
   "outputs": [],
   "source": [
    "import seaborn as sns\n",
    "print(sns.palplot(sns.color_palette(\"coolwarm\", 33)))\n",
    "print(sns.palplot(sns.color_palette(\"flare\", 33)))\n",
    "print(sns.palplot(sns.color_palette(\"viridis\", 33)))\n",
    "print(sns.palplot(sns.color_palette(\"Spectral\", 33)))\n",
    "\n",
    "\n"
   ]
  },
  {
   "cell_type": "code",
   "execution_count": null,
   "metadata": {},
   "outputs": [],
   "source": [
    "up = sns.palplot(sns.color_palette(\"Spectral\", 33))"
   ]
  },
  {
   "cell_type": "code",
   "execution_count": null,
   "metadata": {},
   "outputs": [],
   "source": [
    "rgb = [(0.15, 0.25, 0.35), (0.35, 0.55, 0.51), (0.5, 0.95, 0.34)]\n",
    "= sns.palplot(sns.blend_palette(rgb, n_colors=10))\n"
   ]
  },
  {
   "cell_type": "code",
   "execution_count": null,
   "metadata": {},
   "outputs": [],
   "source": [
    "sns.deep.values"
   ]
  },
  {
   "cell_type": "code",
   "execution_count": null,
   "metadata": {},
   "outputs": [],
   "source": [
    "pal = sns.color_palette(\"magma\")\n",
    "print(pal)\n",
    "sns.palplot(pal)"
   ]
  },
  {
   "cell_type": "code",
   "execution_count": null,
   "metadata": {},
   "outputs": [],
   "source": [
    "color_pallete = (sns.color_palette(\"Spectral\", 33))\n",
    "color_pallete = color_pallete.as_hex()\n",
    "c = color_pallete[1]\n",
    "c"
   ]
  },
  {
   "cell_type": "code",
   "execution_count": null,
   "metadata": {},
   "outputs": [],
   "source": []
  },
  {
   "cell_type": "code",
   "execution_count": null,
   "metadata": {},
   "outputs": [],
   "source": []
  }
 ],
 "metadata": {
  "kernelspec": {
   "display_name": "Python 3",
   "language": "python",
   "name": "python3"
  },
  "language_info": {
   "codemirror_mode": {
    "name": "ipython",
    "version": 3
   },
   "file_extension": ".py",
   "mimetype": "text/x-python",
   "name": "python",
   "nbconvert_exporter": "python",
   "pygments_lexer": "ipython3",
   "version": "3.8.5"
  }
 },
 "nbformat": 4,
 "nbformat_minor": 4
}
