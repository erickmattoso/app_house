{
 "cells": [
  {
   "cell_type": "markdown",
   "metadata": {},
   "source": [
    "# imports"
   ]
  },
  {
   "cell_type": "code",
   "execution_count": 1,
   "metadata": {},
   "outputs": [],
   "source": [
    "from geopy.geocoders import Nominatim\n",
    "import pandas as pd\n",
    "from scipy import spatial\n",
    "import glob\n",
    "import os"
   ]
  },
  {
   "cell_type": "markdown",
   "metadata": {},
   "source": [
    "# read file"
   ]
  },
  {
   "cell_type": "code",
   "execution_count": 2,
   "metadata": {},
   "outputs": [],
   "source": [
    "df_pararius_coo = pd.read_csv('app/df_coo_pararius.csv',index_col=[0])"
   ]
  },
  {
   "cell_type": "markdown",
   "metadata": {},
   "source": [
    "# Distance from station\n",
    "How far is this house from a public train station?"
   ]
  },
  {
   "cell_type": "markdown",
   "metadata": {},
   "source": [
    "## read csv with station location"
   ]
  },
  {
   "cell_type": "code",
   "execution_count": 3,
   "metadata": {},
   "outputs": [],
   "source": [
    "link1='https://github.com/trainline-eu/stations/blob/master/stations.csv'\n",
    "link2='https://raw.githubusercontent.com/trainline-eu/stations/master/stations.csv'\n",
    "\n",
    "try:\n",
    "    stations = pd.read_csv(link2, sep=';',low_memory=False)\n",
    "    stations.to_csv('data/processed/stations.csv')\n",
    "except:\n",
    "    print('local')\n",
    "    stations = pd.read_csv('data/processed/stations.csv')"
   ]
  },
  {
   "cell_type": "markdown",
   "metadata": {},
   "source": [
    "## calculating distance a train station from our houses"
   ]
  },
  {
   "cell_type": "code",
   "execution_count": 4,
   "metadata": {},
   "outputs": [],
   "source": [
    "stations = stations[stations['country']=='NL'][['name','latitude', 'longitude']]\n",
    "stations = stations[stations['latitude'].notna()].reset_index(drop=True)\n",
    "\n",
    "\n",
    "coordinates_1 = list(zip(df_pararius_coo['latitude'], df_pararius_coo['longitude']))\n",
    "coordinates_2 = list(zip(stations['latitude'], stations['longitude']))\n",
    "tree = spatial.KDTree(coordinates_2)\n",
    "\n",
    "distance=[]\n",
    "for i in range(len(df_pararius_coo)):\n",
    "    teste = coordinates_1[i]\n",
    "    distance.append(tree.query(teste)[0])\n",
    "\n",
    "    \n",
    "df_pararius_coo['train'] = distance"
   ]
  },
  {
   "cell_type": "markdown",
   "metadata": {},
   "source": [
    "# Calculate best deal"
   ]
  },
  {
   "cell_type": "code",
   "execution_count": 5,
   "metadata": {},
   "outputs": [],
   "source": [
    "clc_area   = df_pararius_coo['surface-area']\n",
    "clc_room   = df_pararius_coo['number-of-rooms']\n",
    "clc_garden = df_pararius_coo['garden-surface-area']\n",
    "clc_price  = df_pararius_coo['price']\n",
    "clc_train  = df_pararius_coo['train']\n",
    "\n",
    "# df_pararius_coo['deal'] = 100 * ((3*clc_area + clc_room + 2*clc_garden) / (3*clc_price + 2*clc_train))\n",
    "df_pararius_coo['deal'] = ((clc_area + clc_room + clc_garden) / (clc_price + clc_train))"
   ]
  },
  {
   "cell_type": "markdown",
   "metadata": {},
   "source": [
    "# Save results"
   ]
  },
  {
   "cell_type": "code",
   "execution_count": 6,
   "metadata": {},
   "outputs": [],
   "source": [
    "df_pararius_coo.to_csv('app/df_coo_pararius.csv')"
   ]
  }
 ],
 "metadata": {
  "kernelspec": {
   "display_name": "Python 3",
   "language": "python",
   "name": "python3"
  },
  "language_info": {
   "codemirror_mode": {
    "name": "ipython",
    "version": 3
   },
   "file_extension": ".py",
   "mimetype": "text/x-python",
   "name": "python",
   "nbconvert_exporter": "python",
   "pygments_lexer": "ipython3",
   "version": "3.8.5"
  }
 },
 "nbformat": 4,
 "nbformat_minor": 4
}
