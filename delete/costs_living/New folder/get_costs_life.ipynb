{
 "cells": [
  {
   "cell_type": "code",
   "execution_count": null,
   "metadata": {},
   "outputs": [],
   "source": []
  },
  {
   "cell_type": "code",
   "execution_count": null,
   "metadata": {},
   "outputs": [],
   "source": []
  },
  {
   "cell_type": "code",
   "execution_count": null,
   "metadata": {},
   "outputs": [],
   "source": []
  },
  {
   "cell_type": "code",
   "execution_count": null,
   "metadata": {},
   "outputs": [],
   "source": []
  },
  {
   "cell_type": "code",
   "execution_count": null,
   "metadata": {},
   "outputs": [],
   "source": []
  },
  {
   "cell_type": "code",
   "execution_count": null,
   "metadata": {},
   "outputs": [],
   "source": []
  },
  {
   "cell_type": "code",
   "execution_count": null,
   "metadata": {},
   "outputs": [],
   "source": []
  },
  {
   "cell_type": "code",
   "execution_count": null,
   "metadata": {},
   "outputs": [],
   "source": []
  },
  {
   "cell_type": "code",
   "execution_count": null,
   "metadata": {},
   "outputs": [],
   "source": []
  },
  {
   "cell_type": "code",
   "execution_count": null,
   "metadata": {},
   "outputs": [],
   "source": []
  },
  {
   "cell_type": "code",
   "execution_count": null,
   "metadata": {},
   "outputs": [],
   "source": []
  },
  {
   "cell_type": "code",
   "execution_count": null,
   "metadata": {},
   "outputs": [],
   "source": []
  },
  {
   "cell_type": "code",
   "execution_count": null,
   "metadata": {},
   "outputs": [],
   "source": []
  },
  {
   "cell_type": "code",
   "execution_count": null,
   "metadata": {},
   "outputs": [],
   "source": []
  },
  {
   "cell_type": "code",
   "execution_count": null,
   "metadata": {},
   "outputs": [],
   "source": []
  },
  {
   "cell_type": "code",
   "execution_count": null,
   "metadata": {},
   "outputs": [],
   "source": []
  },
  {
   "cell_type": "code",
   "execution_count": null,
   "metadata": {},
   "outputs": [],
   "source": []
  },
  {
   "cell_type": "code",
   "execution_count": null,
   "metadata": {},
   "outputs": [],
   "source": []
  },
  {
   "cell_type": "code",
   "execution_count": 1,
   "metadata": {},
   "outputs": [],
   "source": [
    "import json\n",
    "import pandas as pd"
   ]
  },
  {
   "cell_type": "code",
   "execution_count": 2,
   "metadata": {},
   "outputs": [],
   "source": [
    "f = open('results.json')\n",
    "data = json.load(f)"
   ]
  },
  {
   "cell_type": "code",
   "execution_count": 3,
   "metadata": {},
   "outputs": [
    {
     "name": "stderr",
     "output_type": "stream",
     "text": [
      "<ipython-input-3-8c094eec4f42>:8: FutureWarning: In a future version of pandas all arguments of concat except for the argument 'objs' will be keyword-only\n",
      "  df = pd.concat([ericson,df],0)\n"
     ]
    }
   ],
   "source": [
    "df = pd.DataFrame()\n",
    "for city in data['Netherlands']['child'].keys():\n",
    "    try:\n",
    "        for key in data['Netherlands']['child'][city].keys():\n",
    "            ericson = (pd.DataFrame(data['Netherlands']['child']['Voorburg'][key]))\n",
    "            ericson['city'] = city\n",
    "            ericson['key'] = key\n",
    "            df = pd.concat([ericson,df],0)\n",
    "    except:\n",
    "        pass"
   ]
  },
  {
   "cell_type": "code",
   "execution_count": 4,
   "metadata": {},
   "outputs": [
    {
     "name": "stderr",
     "output_type": "stream",
     "text": [
      "<ipython-input-4-dacc947e4236>:3: FutureWarning: In a future version of pandas all arguments of DataFrame.drop except for the argument 'labels' will be keyword-only\n",
      "  df=df.drop(['del'],1)\n"
     ]
    }
   ],
   "source": [
    "df = df.reset_index(drop=True)\n",
    "df.columns = ['situation', 'price', 'del', 'city', 'key']\n",
    "df=df.drop(['del'],1)"
   ]
  },
  {
   "cell_type": "code",
   "execution_count": 5,
   "metadata": {},
   "outputs": [],
   "source": [
    "df['price'] = df['price'].str.replace(',', '')\n",
    "df['price'] = df['price'].str.replace('€', '')\n",
    "df['price'] = df['price'].astype('float')\n",
    "df['key'] = df['key'].str.replace('\\n\\n', '')"
   ]
  },
  {
   "cell_type": "code",
   "execution_count": 11,
   "metadata": {},
   "outputs": [
    {
     "data": {
      "text/html": [
       "<div>\n",
       "<style scoped>\n",
       "    .dataframe tbody tr th:only-of-type {\n",
       "        vertical-align: middle;\n",
       "    }\n",
       "\n",
       "    .dataframe tbody tr th {\n",
       "        vertical-align: top;\n",
       "    }\n",
       "\n",
       "    .dataframe thead th {\n",
       "        text-align: right;\n",
       "    }\n",
       "</style>\n",
       "<table border=\"1\" class=\"dataframe\">\n",
       "  <thead>\n",
       "    <tr style=\"text-align: right;\">\n",
       "      <th></th>\n",
       "      <th>situation</th>\n",
       "      <th>price</th>\n",
       "      <th>city</th>\n",
       "      <th>key</th>\n",
       "    </tr>\n",
       "  </thead>\n",
       "  <tbody>\n",
       "    <tr>\n",
       "      <th>2416</th>\n",
       "      <td>Imported Beer (0.33 liter bottle)</td>\n",
       "      <td>5.00</td>\n",
       "      <td>Goes</td>\n",
       "      <td>Restaurants</td>\n",
       "    </tr>\n",
       "    <tr>\n",
       "      <th>2350</th>\n",
       "      <td>Onion (1kg)</td>\n",
       "      <td>1.90</td>\n",
       "      <td>Gouda</td>\n",
       "      <td>Markets</td>\n",
       "    </tr>\n",
       "    <tr>\n",
       "      <th>3659</th>\n",
       "      <td>Loaf of Fresh White Bread (500g)</td>\n",
       "      <td>1.20</td>\n",
       "      <td>Almere</td>\n",
       "      <td>Markets</td>\n",
       "    </tr>\n",
       "    <tr>\n",
       "      <th>2512</th>\n",
       "      <td>Oranges (1kg)</td>\n",
       "      <td>2.50</td>\n",
       "      <td>Etten-Leur</td>\n",
       "      <td>Markets</td>\n",
       "    </tr>\n",
       "    <tr>\n",
       "      <th>3609</th>\n",
       "      <td>Beef Round (1kg) (or Equivalent Back Leg Red M...</td>\n",
       "      <td>12.00</td>\n",
       "      <td>Amersfoort</td>\n",
       "      <td>Markets</td>\n",
       "    </tr>\n",
       "    <tr>\n",
       "      <th>1450</th>\n",
       "      <td>One-way Ticket (Local Transport)</td>\n",
       "      <td>3.25</td>\n",
       "      <td>Nijmegen</td>\n",
       "      <td>Transportation</td>\n",
       "    </tr>\n",
       "    <tr>\n",
       "      <th>2807</th>\n",
       "      <td>Price per Square Meter to Buy Apartment in Cit...</td>\n",
       "      <td>3250.00</td>\n",
       "      <td>Drachten</td>\n",
       "      <td>Buy Apartment Price</td>\n",
       "    </tr>\n",
       "    <tr>\n",
       "      <th>527</th>\n",
       "      <td>Local Cheese (1kg)</td>\n",
       "      <td>14.00</td>\n",
       "      <td>Vlissingen</td>\n",
       "      <td>Markets</td>\n",
       "    </tr>\n",
       "    <tr>\n",
       "      <th>858</th>\n",
       "      <td>Chicken Fillets (1kg)</td>\n",
       "      <td>7.75</td>\n",
       "      <td>Utrecht</td>\n",
       "      <td>Markets</td>\n",
       "    </tr>\n",
       "    <tr>\n",
       "      <th>698</th>\n",
       "      <td>Tomato (1kg)</td>\n",
       "      <td>2.00</td>\n",
       "      <td>Veenendaal</td>\n",
       "      <td>Markets</td>\n",
       "    </tr>\n",
       "  </tbody>\n",
       "</table>\n",
       "</div>"
      ],
      "text/plain": [
       "                                              situation    price        city  \\\n",
       "2416                 Imported Beer (0.33 liter bottle)      5.00        Goes   \n",
       "2350                                       Onion (1kg)      1.90       Gouda   \n",
       "3659                  Loaf of Fresh White Bread (500g)      1.20      Almere   \n",
       "2512                                     Oranges (1kg)      2.50  Etten-Leur   \n",
       "3609  Beef Round (1kg) (or Equivalent Back Leg Red M...    12.00  Amersfoort   \n",
       "1450                  One-way Ticket (Local Transport)      3.25    Nijmegen   \n",
       "2807  Price per Square Meter to Buy Apartment in Cit...  3250.00    Drachten   \n",
       "527                                 Local Cheese (1kg)     14.00  Vlissingen   \n",
       "858                              Chicken Fillets (1kg)      7.75     Utrecht   \n",
       "698                                       Tomato (1kg)      2.00  Veenendaal   \n",
       "\n",
       "                      key  \n",
       "2416          Restaurants  \n",
       "2350              Markets  \n",
       "3659              Markets  \n",
       "2512              Markets  \n",
       "3609              Markets  \n",
       "1450       Transportation  \n",
       "2807  Buy Apartment Price  \n",
       "527               Markets  \n",
       "858               Markets  \n",
       "698               Markets  "
      ]
     },
     "execution_count": 11,
     "metadata": {},
     "output_type": "execute_result"
    }
   ],
   "source": [
    "df.sample(10)"
   ]
  },
  {
   "cell_type": "code",
   "execution_count": 13,
   "metadata": {},
   "outputs": [
    {
     "data": {
      "text/html": [
       "<div>\n",
       "<style scoped>\n",
       "    .dataframe tbody tr th:only-of-type {\n",
       "        vertical-align: middle;\n",
       "    }\n",
       "\n",
       "    .dataframe tbody tr th {\n",
       "        vertical-align: top;\n",
       "    }\n",
       "\n",
       "    .dataframe thead th {\n",
       "        text-align: right;\n",
       "    }\n",
       "</style>\n",
       "<table border=\"1\" class=\"dataframe\">\n",
       "  <thead>\n",
       "    <tr style=\"text-align: right;\">\n",
       "      <th></th>\n",
       "      <th>situation</th>\n",
       "      <th>price</th>\n",
       "      <th>city</th>\n",
       "      <th>key</th>\n",
       "    </tr>\n",
       "  </thead>\n",
       "  <tbody>\n",
       "    <tr>\n",
       "      <th>1907</th>\n",
       "      <td>Oranges (1kg)</td>\n",
       "      <td>2.5</td>\n",
       "      <td>Huizen</td>\n",
       "      <td>Markets</td>\n",
       "    </tr>\n",
       "    <tr>\n",
       "      <th>257</th>\n",
       "      <td>Oranges (1kg)</td>\n",
       "      <td>2.5</td>\n",
       "      <td>Zandvoort</td>\n",
       "      <td>Markets</td>\n",
       "    </tr>\n",
       "    <tr>\n",
       "      <th>972</th>\n",
       "      <td>Oranges (1kg)</td>\n",
       "      <td>2.5</td>\n",
       "      <td>Tiel</td>\n",
       "      <td>Markets</td>\n",
       "    </tr>\n",
       "    <tr>\n",
       "      <th>3227</th>\n",
       "      <td>Oranges (1kg)</td>\n",
       "      <td>2.5</td>\n",
       "      <td>Borculo</td>\n",
       "      <td>Markets</td>\n",
       "    </tr>\n",
       "    <tr>\n",
       "      <th>3502</th>\n",
       "      <td>Oranges (1kg)</td>\n",
       "      <td>2.5</td>\n",
       "      <td>Amsterdam</td>\n",
       "      <td>Markets</td>\n",
       "    </tr>\n",
       "  </tbody>\n",
       "</table>\n",
       "</div>"
      ],
      "text/plain": [
       "           situation  price       city      key\n",
       "1907  Oranges (1kg)     2.5     Huizen  Markets\n",
       "257   Oranges (1kg)     2.5  Zandvoort  Markets\n",
       "972   Oranges (1kg)     2.5       Tiel  Markets\n",
       "3227  Oranges (1kg)     2.5    Borculo  Markets\n",
       "3502  Oranges (1kg)     2.5  Amsterdam  Markets"
      ]
     },
     "execution_count": 13,
     "metadata": {},
     "output_type": "execute_result"
    }
   ],
   "source": [
    "df[df['situation'].str.contains('Oranges')].sample(5)"
   ]
  },
  {
   "cell_type": "code",
   "execution_count": null,
   "metadata": {},
   "outputs": [],
   "source": [
    "ASaadfsdfdsf"
   ]
  },
  {
   "cell_type": "code",
   "execution_count": null,
   "metadata": {},
   "outputs": [],
   "source": [
    "pdf = df[\n",
    "#     (df['city']=='Rotterdam') & \\\n",
    "    ( \n",
    "        (df['key']=='Clothing And Shoes')\\\n",
    "        |(df['key']=='Childcare')\\\n",
    "        |(df['key']=='Sports And Leisure')\\\n",
    "        |(df['key']=='Utilities (Monthly)')\\\n",
    "        |(df['key']=='Markets')\\\n",
    "        |(df['key']=='Restaurants')\n",
    "    )\n",
    "]\n",
    "\n",
    "pdf = pdf[~pdf['situation'].str.contains('International Primary School, Yearly')]\n",
    "pdf.loc[pdf['key'].str.contains('Clothing And Shoes'), 'mukt'] = 4\n",
    "pdf.loc[pdf['key'].str.contains('Childcare'), 'mukt'] = 0\n",
    "pdf.loc[pdf['key'].str.contains('Sports And Leisure'), 'mukt'] = 4\n",
    "pdf.loc[pdf['key'].str.contains('Utilities .Monthly.'), 'mukt'] = 4 \n",
    "pdf.loc[pdf['key'].str.contains('Markets'), 'mukt'] = 4\n",
    "pdf.loc[pdf['key'].str.contains('Restaurants'), 'mukt'] = 4\n",
    "pdf['price_'] = pdf['price'].astype(float)* pdf['mukt'].astype(float)\n",
    "display(pdf['price_'].sum())\n",
    "pdf"
   ]
  },
  {
   "cell_type": "code",
   "execution_count": null,
   "metadata": {},
   "outputs": [],
   "source": [
    "pdf.groupby(['city'])[['price_']].sum().reset_index().sort_values('price_')"
   ]
  },
  {
   "cell_type": "code",
   "execution_count": null,
   "metadata": {},
   "outputs": [],
   "source": []
  },
  {
   "cell_type": "code",
   "execution_count": null,
   "metadata": {},
   "outputs": [],
   "source": []
  },
  {
   "cell_type": "code",
   "execution_count": null,
   "metadata": {},
   "outputs": [],
   "source": []
  },
  {
   "cell_type": "code",
   "execution_count": null,
   "metadata": {},
   "outputs": [],
   "source": []
  },
  {
   "cell_type": "code",
   "execution_count": null,
   "metadata": {},
   "outputs": [],
   "source": [
    "adsdasdasdsad"
   ]
  },
  {
   "cell_type": "code",
   "execution_count": null,
   "metadata": {},
   "outputs": [],
   "source": [
    "df_1 = pdf\n",
    "df_2 = pd.read_csv('valkiria.csv')\n",
    "df_1['situation'] = df_1['situation'].str.strip()"
   ]
  },
  {
   "cell_type": "code",
   "execution_count": null,
   "metadata": {},
   "outputs": [],
   "source": [
    "df_2 = df_2[['AAAA', 'er']]\n",
    "text = pd.merge(df_1, df_2, left_on='situation', right_on='AAAA', how='left')\n",
    "text[text['AAAA'].isna()]"
   ]
  },
  {
   "cell_type": "code",
   "execution_count": null,
   "metadata": {},
   "outputs": [],
   "source": []
  },
  {
   "cell_type": "code",
   "execution_count": null,
   "metadata": {},
   "outputs": [],
   "source": []
  },
  {
   "cell_type": "code",
   "execution_count": null,
   "metadata": {},
   "outputs": [],
   "source": []
  },
  {
   "cell_type": "code",
   "execution_count": null,
   "metadata": {},
   "outputs": [],
   "source": []
  },
  {
   "cell_type": "code",
   "execution_count": null,
   "metadata": {},
   "outputs": [],
   "source": []
  }
 ],
 "metadata": {
  "kernelspec": {
   "display_name": "Python 3",
   "language": "python",
   "name": "python3"
  },
  "language_info": {
   "codemirror_mode": {
    "name": "ipython",
    "version": 3
   },
   "file_extension": ".py",
   "mimetype": "text/x-python",
   "name": "python",
   "nbconvert_exporter": "python",
   "pygments_lexer": "ipython3",
   "version": "3.8.5"
  }
 },
 "nbformat": 4,
 "nbformat_minor": 5
}
