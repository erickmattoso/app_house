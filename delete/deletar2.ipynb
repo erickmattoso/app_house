{
 "cells": [
  {
   "cell_type": "code",
   "execution_count": 1,
   "metadata": {},
   "outputs": [],
   "source": [
    "from bs4 import BeautifulSoup\n",
    "from datetime import date\n",
    "from requests import get\n",
    "import pandas as pd\n",
    "today = date.today()"
   ]
  },
  {
   "cell_type": "code",
   "execution_count": 2,
   "metadata": {},
   "outputs": [],
   "source": [
    "url = 'https://www.pararius.com/apartments/nederland/page-'\n",
    "response = get(url+'1')\n",
    "html_soup = BeautifulSoup(response.text, 'html.parser')"
   ]
  },
  {
   "cell_type": "code",
   "execution_count": 3,
   "metadata": {},
   "outputs": [],
   "source": [
    "num_pages = html_soup.find_all('a',{\"class\":\"pagination__link\"})[4].text\n",
    "num_pages = int(num_pages)\n",
    "\n",
    "num_rents = html_soup.find_all('div',{\"class\":\"pagination__summary\"})[0].text\n",
    "num_rents = int(num_rents.split()[-2])"
   ]
  },
  {
   "cell_type": "code",
   "execution_count": 4,
   "metadata": {},
   "outputs": [
    {
     "name": "stdout",
     "output_type": "stream",
     "text": [
      "https://www.pararius.com/apartments/nederland/page-1\n",
      "183\n",
      "5485\n"
     ]
    }
   ],
   "source": [
    "print(url+'1')\n",
    "print(num_pages)\n",
    "print(num_rents)"
   ]
  },
  {
   "cell_type": "code",
   "execution_count": 5,
   "metadata": {
    "scrolled": true
   },
   "outputs": [],
   "source": [
    "houses = []\n",
    "for count in range(1, num_pages+1):\n",
    "    try:\n",
    "        response = get(url + str(count))\n",
    "        html_soup = BeautifulSoup(response.text, 'html.parser')\n",
    "        house_data = html_soup.find_all('li', class_=\"search-list__item search-list__item--listing\")\n",
    "        houses.append(house_data)\n",
    "    except:\n",
    "        pass"
   ]
  },
  {
   "cell_type": "code",
   "execution_count": 8,
   "metadata": {},
   "outputs": [
    {
     "name": "stdout",
     "output_type": "stream",
     "text": [
      "<li class=\"search-list__item search-list__item--listing\">\n",
      "<section class=\"listing-search-item listing-search-item--list listing-search-item--featured\">\n",
      "<div class=\"listing-search-item__label\">\n",
      "<span class=\"listing-label listing-label--featured\">\n",
      "        highlighted\n",
      "    </span>\n",
      "</div>\n",
      "<div class=\"listing-search-item__depiction\">\n",
      "<a class=\"listing-search-item__link listing-search-item__link--depiction\" href=\"/apartment-for-rent/amsterdam/1e27decc/admiraal-de-ruijterweg\">\n",
      "<div class=\"picture picture--listing-search-item picture--list\" data-controller=\"picture\">\n",
      "<noscript> <picture>\n",
      "<source sizes=\"(max-width: 767px) 90vw, 360px\" srcset=\"https://casco-media-prod.global.ssl.fastly.net/1e27decc-fbcd-5772-acb7-40d9270f4448/de917bdad3750b77f61206f7a44f1bef.jpg?width=100&amp;auto=webp 100w, https://casco-media-prod.global.ssl.fastly.net/1e27decc-fbcd-5772-acb7-40d9270f4448/de917bdad3750b77f61206f7a44f1bef.jpg?width=200&amp;auto=webp 200w, https://casco-media-prod.global.ssl.fastly.net/1e27decc-fbcd-5772-acb7-40d9270f4448/de917bdad3750b77f61206f7a44f1bef.jpg?width=300&amp;auto=webp 300w, https://casco-media-prod.global.ssl.fastly.net/1e27decc-fbcd-5772-acb7-40d9270f4448/de917bdad3750b77f61206f7a44f1bef.jpg?width=400&amp;auto=webp 400w, https://casco-media-prod.global.ssl.fastly.net/1e27decc-fbcd-5772-acb7-40d9270f4448/de917bdad3750b77f61206f7a44f1bef.jpg?width=500&amp;auto=webp 500w, https://casco-media-prod.global.ssl.fastly.net/1e27decc-fbcd-5772-acb7-40d9270f4448/de917bdad3750b77f61206f7a44f1bef.jpg?width=600&amp;auto=webp 600w, https://casco-media-prod.global.ssl.fastly.net/1e27decc-fbcd-5772-acb7-40d9270f4448/de917bdad3750b77f61206f7a44f1bef.jpg?width=700&amp;auto=webp 700w, https://casco-media-prod.global.ssl.fastly.net/1e27decc-fbcd-5772-acb7-40d9270f4448/de917bdad3750b77f61206f7a44f1bef.jpg?width=800&amp;auto=webp 800w, https://casco-media-prod.global.ssl.fastly.net/1e27decc-fbcd-5772-acb7-40d9270f4448/de917bdad3750b77f61206f7a44f1bef.jpg?width=900&amp;auto=webp 900w, https://casco-media-prod.global.ssl.fastly.net/1e27decc-fbcd-5772-acb7-40d9270f4448/de917bdad3750b77f61206f7a44f1bef.jpg?width=1000&amp;auto=webp 1000w, https://casco-media-prod.global.ssl.fastly.net/1e27decc-fbcd-5772-acb7-40d9270f4448/de917bdad3750b77f61206f7a44f1bef.jpg?width=1100&amp;auto=webp 1100w, https://casco-media-prod.global.ssl.fastly.net/1e27decc-fbcd-5772-acb7-40d9270f4448/de917bdad3750b77f61206f7a44f1bef.jpg?width=1200&amp;auto=webp 1200w\"/>\n",
      "<img alt=\"\" class=\"picture__image\" height=\"100%\" src=\"https://casco-media-prod.global.ssl.fastly.net/1e27decc-fbcd-5772-acb7-40d9270f4448/de917bdad3750b77f61206f7a44f1bef.jpg?width=600&amp;auto=webp\" width=\"100%\"/>\n",
      "</picture>\n",
      "</noscript>\n",
      "<picture>\n",
      "<img alt=\"\" class=\"picture__image\" height=\"100%\" src=\"data:image/svg+xml;utf8,%3Csvg%20width%3D%22600%22%20height%3D%22400%22%20xmlns%3D%22http%3A%2F%2Fwww.w3.org%2F2000%2Fsvg%22%3E%3Cg%20fill%3D%22none%22%20fill-rule%3D%22evenodd%22%3E%3Cpath%20fill%3D%22%23FBFBFB%22%20d%3D%22M0%200h600v400H0z%22%2F%3E%3Cpath%20fill%3D%22%23888%22%20fill-rule%3D%22nonzero%22%20d%3D%22M283.2%20277v-54.353h33.6V277h42v-72.47H384L300%20123l-84%2081.53h25.2V277z%22%2F%3E%3C%2Fg%3E%3C%2Fsvg%3E\" width=\"100%\"/>\n",
      "</picture>\n",
      "</div>\n",
      "</a>\n",
      "</div>\n",
      "<h2 class=\"listing-search-item__title\">\n",
      "<a class=\"listing-search-item__link listing-search-item__link--title\" href=\"/apartment-for-rent/amsterdam/1e27decc/admiraal-de-ruijterweg\">Apartment Admiraal De Ruijterweg</a>\n",
      "</h2>\n",
      "<div class=\"listing-search-item__location\">\n",
      "            1055 ND Amsterdam (Landlust)\n",
      "        </div>\n",
      "<div class=\"listing-search-item__price\">\n",
      "                €1,550 per month\n",
      "            </div>\n",
      "<div class=\"listing-search-item__features\">\n",
      "<ul class=\"illustrated-features illustrated-features--compact\">\n",
      "<li class=\"illustrated-features__item illustrated-features__item--surface-area\">60 m²</li>\n",
      "<li class=\"illustrated-features__item illustrated-features__item--number-of-rooms\">3 rooms</li>\n",
      "<li class=\"illustrated-features__item illustrated-features__item--interior\">Upholstered</li>\n",
      "</ul>\n",
      "</div>\n",
      "<div class=\"listing-search-item__info\">\n",
      "<a class=\"listing-search-item__link\" href=\"/real-estate-agents/amsterdam/hamilton-vastgoed\">Hamilton Vastgoed</a> </div>\n",
      "</section>\n",
      "</li>\n"
     ]
    },
    {
     "ename": "NameError",
     "evalue": "name 'jahskjAHSHKDASKJDHASKJD' is not defined",
     "output_type": "error",
     "traceback": [
      "\u001b[1;31m---------------------------------------------------------------------------\u001b[0m",
      "\u001b[1;31mNameError\u001b[0m                                 Traceback (most recent call last)",
      "\u001b[1;32m<ipython-input-8-84937c41cc58>\u001b[0m in \u001b[0;36m<module>\u001b[1;34m\u001b[0m\n\u001b[0;32m     14\u001b[0m         \u001b[0mnum\u001b[0m \u001b[1;33m=\u001b[0m \u001b[1;33m(\u001b[0m\u001b[0mhouses\u001b[0m\u001b[1;33m[\u001b[0m\u001b[0mn_pages\u001b[0m\u001b[1;33m]\u001b[0m\u001b[1;33m[\u001b[0m\u001b[0mn_rents\u001b[0m\u001b[1;33m]\u001b[0m\u001b[1;33m)\u001b[0m\u001b[1;33m\u001b[0m\u001b[1;33m\u001b[0m\u001b[0m\n\u001b[0;32m     15\u001b[0m         \u001b[0mprint\u001b[0m\u001b[1;33m(\u001b[0m\u001b[0mnum\u001b[0m\u001b[1;33m)\u001b[0m\u001b[1;33m\u001b[0m\u001b[1;33m\u001b[0m\u001b[0m\n\u001b[1;32m---> 16\u001b[1;33m         \u001b[0mjahskjAHSHKDASKJDHASKJD\u001b[0m\u001b[1;33m\u001b[0m\u001b[1;33m\u001b[0m\u001b[0m\n\u001b[0m",
      "\u001b[1;31mNameError\u001b[0m: name 'jahskjAHSHKDASKJDHASKJD' is not defined"
     ]
    }
   ],
   "source": [
    "description_=[]\n",
    "price_=[]\n",
    "address_=[]\n",
    "street_=[]\n",
    "agency_=[]\n",
    "irl_=[]\n",
    "image_=[]\n",
    "\n",
    "description_2=[]\n",
    "\n",
    "for n_pages in range (num_pages):\n",
    "    n_pages_len = len(houses[n_pages])\n",
    "    for n_rents in range (n_pages_len):\n",
    "        num = (houses[n_pages][n_rents])\n",
    "        print(num)\n",
    "        jahskjAHSHKDASKJDHASKJD"
   ]
  },
  {
   "cell_type": "code",
   "execution_count": 52,
   "metadata": {},
   "outputs": [],
   "source": [
    "url='https://www.pararius.com/apartment-for-rent/diemen/11765b19/fregat'\n",
    "response = get(url)\n",
    "html_soup = BeautifulSoup(response.text, 'html.parser')\n",
    "description_1={}\n",
    "for i in range(len(aaa)):\n",
    "    iii = html_soup.find_all('dt', class_=\"listing-features__term\")[i].text\n",
    "    try:\n",
    "        yyy = html_soup.find_all('dd', class_=\"listing-features__description\")[i].find('span', class_=\"listing-features__main-description\").text\n",
    "    except:\n",
    "        yyy=None\n",
    "    description_1.update({iii:yyy})"
   ]
  },
  {
   "cell_type": "code",
   "execution_count": 61,
   "metadata": {},
   "outputs": [
    {
     "data": {
      "text/html": [
       "<div>\n",
       "<style scoped>\n",
       "    .dataframe tbody tr th:only-of-type {\n",
       "        vertical-align: middle;\n",
       "    }\n",
       "\n",
       "    .dataframe tbody tr th {\n",
       "        vertical-align: top;\n",
       "    }\n",
       "\n",
       "    .dataframe thead th {\n",
       "        text-align: right;\n",
       "    }\n",
       "</style>\n",
       "<table border=\"1\" class=\"dataframe\">\n",
       "  <thead>\n",
       "    <tr style=\"text-align: right;\">\n",
       "      <th></th>\n",
       "      <th>Offered since</th>\n",
       "      <th>Available</th>\n",
       "    </tr>\n",
       "  </thead>\n",
       "  <tbody>\n",
       "    <tr>\n",
       "      <th>0</th>\n",
       "      <td>12-10-2021</td>\n",
       "      <td>Immediately</td>\n",
       "    </tr>\n",
       "  </tbody>\n",
       "</table>\n",
       "</div>"
      ],
      "text/plain": [
       "  Offered since    Available\n",
       "0    12-10-2021  Immediately"
      ]
     },
     "execution_count": 61,
     "metadata": {},
     "output_type": "execute_result"
    }
   ],
   "source": [
    "pd.DataFrame([description_1])[['Offered since','Available']]"
   ]
  }
 ],
 "metadata": {
  "kernelspec": {
   "display_name": "Python 3",
   "language": "python",
   "name": "python3"
  },
  "language_info": {
   "codemirror_mode": {
    "name": "ipython",
    "version": 3
   },
   "file_extension": ".py",
   "mimetype": "text/x-python",
   "name": "python",
   "nbconvert_exporter": "python",
   "pygments_lexer": "ipython3",
   "version": "3.8.5"
  }
 },
 "nbformat": 4,
 "nbformat_minor": 4
}
