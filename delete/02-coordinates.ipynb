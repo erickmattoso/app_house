{
 "cells": [
  {
   "cell_type": "markdown",
   "metadata": {},
   "source": [
    "# imports"
   ]
  },
  {
   "cell_type": "code",
   "execution_count": 1,
   "metadata": {},
   "outputs": [],
   "source": [
    "from geopy.geocoders import Nominatim\n",
    "import pandas as pd\n",
    "from scipy import spatial\n",
    "import glob\n",
    "import os"
   ]
  },
  {
   "cell_type": "markdown",
   "metadata": {},
   "source": [
    "# all zipcodes"
   ]
  },
  {
   "cell_type": "code",
   "execution_count": 2,
   "metadata": {},
   "outputs": [],
   "source": [
    "zipcode_df = pd.read_csv('data/processed/zipcode.csv',index_col=[0])\n",
    "\n",
    "zipcode_df = zipcode_df.rename(columns={\n",
    "    'Latitude':'latitude',\n",
    "    'Longitude':'longitude',\n",
    "})"
   ]
  },
  {
   "cell_type": "markdown",
   "metadata": {},
   "source": [
    "# all df_pararius"
   ]
  },
  {
   "cell_type": "code",
   "execution_count": 3,
   "metadata": {},
   "outputs": [
    {
     "data": {
      "text/html": [
       "<div>\n",
       "<style scoped>\n",
       "    .dataframe tbody tr th:only-of-type {\n",
       "        vertical-align: middle;\n",
       "    }\n",
       "\n",
       "    .dataframe tbody tr th {\n",
       "        vertical-align: top;\n",
       "    }\n",
       "\n",
       "    .dataframe thead th {\n",
       "        text-align: right;\n",
       "    }\n",
       "</style>\n",
       "<table border=\"1\" class=\"dataframe\">\n",
       "  <thead>\n",
       "    <tr style=\"text-align: right;\">\n",
       "      <th></th>\n",
       "      <th>price</th>\n",
       "      <th>address</th>\n",
       "      <th>street</th>\n",
       "      <th>agency</th>\n",
       "      <th>irl</th>\n",
       "      <th>image</th>\n",
       "      <th>surface-area</th>\n",
       "      <th>status</th>\n",
       "      <th>number-of-rooms</th>\n",
       "      <th>interior</th>\n",
       "      <th>garden-surface-area</th>\n",
       "      <th>construction-period</th>\n",
       "      <th>plot-size</th>\n",
       "      <th>postcode</th>\n",
       "      <th>date</th>\n",
       "    </tr>\n",
       "  </thead>\n",
       "  <tbody>\n",
       "    <tr>\n",
       "      <th>4860</th>\n",
       "      <td>2100.0</td>\n",
       "      <td>2561 DN Den Haag (Valkenboskwartier)</td>\n",
       "      <td>Apartment Fahrenheitstraat 11</td>\n",
       "      <td>Tweelwonen.nl Rotterdam</td>\n",
       "      <td>/apartment-for-rent/den-haag/ffc29911/fahrenhe...</td>\n",
       "      <td>https://casco-media-prod.global.ssl.fastly.net...</td>\n",
       "      <td>102</td>\n",
       "      <td>NaN</td>\n",
       "      <td>6</td>\n",
       "      <td>Upholstered</td>\n",
       "      <td>NaN</td>\n",
       "      <td>NaN</td>\n",
       "      <td>NaN</td>\n",
       "      <td>2561DN</td>\n",
       "      <td>2021-10-12</td>\n",
       "    </tr>\n",
       "  </tbody>\n",
       "</table>\n",
       "</div>"
      ],
      "text/plain": [
       "       price                               address  \\\n",
       "4860  2100.0  2561 DN Den Haag (Valkenboskwartier)   \n",
       "\n",
       "                             street                   agency  \\\n",
       "4860  Apartment Fahrenheitstraat 11  Tweelwonen.nl Rotterdam   \n",
       "\n",
       "                                                    irl  \\\n",
       "4860  /apartment-for-rent/den-haag/ffc29911/fahrenhe...   \n",
       "\n",
       "                                                  image  surface-area status  \\\n",
       "4860  https://casco-media-prod.global.ssl.fastly.net...           102    NaN   \n",
       "\n",
       "      number-of-rooms     interior  garden-surface-area construction-period  \\\n",
       "4860                6  Upholstered                  NaN                 NaN   \n",
       "\n",
       "      plot-size postcode        date  \n",
       "4860        NaN   2561DN  2021-10-12  "
      ]
     },
     "execution_count": 3,
     "metadata": {},
     "output_type": "execute_result"
    }
   ],
   "source": [
    "list_of_files = glob.glob(\"data/temp/df_pararius_*.csv\") # * means all if need specific format then *.csv\n",
    "latest_file = max(list_of_files, key=os.path.getctime)\n",
    "df_pararius = pd.read_csv(latest_file, index_col=[0])\n",
    "df_pararius.sample()"
   ]
  },
  {
   "cell_type": "markdown",
   "metadata": {},
   "source": [
    "# What is new?"
   ]
  },
  {
   "cell_type": "code",
   "execution_count": 4,
   "metadata": {
    "scrolled": true
   },
   "outputs": [
    {
     "name": "stdout",
     "output_type": "stream",
     "text": [
      "30\n"
     ]
    }
   ],
   "source": [
    "temp1 = df_pararius['postcode'].unique()\n",
    "temp2 = zipcode_df['postcode'].unique()\n",
    "cep = list(set(temp1) - set(temp2))\n",
    "print(len(cep))"
   ]
  },
  {
   "cell_type": "code",
   "execution_count": 5,
   "metadata": {
    "scrolled": true
   },
   "outputs": [],
   "source": [
    "geolocator = Nominatim(user_agent=\"myGeocoder\")\n",
    "post_code=[]\n",
    "erro_code=[]\n",
    "\n",
    "for zipcode in cep[:]:\n",
    "    try:\n",
    "        dict_zip = {\n",
    "            'zipcode':zipcode, \n",
    "            'geolocator':geolocator.geocode(zipcode).address, \n",
    "            'latitude':geolocator.geocode(zipcode).latitude, \n",
    "            'longitude':geolocator.geocode(zipcode).longitude, \n",
    "        }\n",
    "        post_code.append(dict_zip)\n",
    "\n",
    "    except:\n",
    "        erro_code.append(zipcode)"
   ]
  },
  {
   "cell_type": "code",
   "execution_count": 6,
   "metadata": {},
   "outputs": [
    {
     "name": "stderr",
     "output_type": "stream",
     "text": [
      "<ipython-input-6-b9944e94601d>:5: FutureWarning: In a future version of pandas all arguments of DataFrame.drop except for the argument 'labels' will be keyword-only\n",
      "  zipcode = zipcode.drop(['geolocator'],1)\n"
     ]
    }
   ],
   "source": [
    "zipcode = pd.DataFrame(post_code)\n",
    "splited = zipcode['geolocator'].str.split(\",\",expand=True)\n",
    "zipcode['Plaats'] = splited[0]\n",
    "zipcode['Provincie'] = splited[1]\n",
    "zipcode = zipcode.drop(['geolocator'],1)"
   ]
  },
  {
   "cell_type": "markdown",
   "metadata": {},
   "source": [
    "# Manual Coordinates"
   ]
  },
  {
   "cell_type": "markdown",
   "metadata": {},
   "source": [
    "## Not Found"
   ]
  },
  {
   "cell_type": "code",
   "execution_count": 7,
   "metadata": {},
   "outputs": [
    {
     "data": {
      "text/plain": [
       "['2595BW', '2595BX']"
      ]
     },
     "execution_count": 7,
     "metadata": {},
     "output_type": "execute_result"
    }
   ],
   "source": [
    "erro_code"
   ]
  },
  {
   "cell_type": "markdown",
   "metadata": {},
   "source": [
    "# Save list zipcodes"
   ]
  },
  {
   "cell_type": "code",
   "execution_count": 8,
   "metadata": {},
   "outputs": [
    {
     "name": "stderr",
     "output_type": "stream",
     "text": [
      "<ipython-input-8-815d2116adb3>:1: FutureWarning: In a future version of pandas all arguments of concat except for the argument 'objs' will be keyword-only\n",
      "  zipcode_df = pd.concat([zipcode_df,zipcode],0).drop_duplicates(subset=['postcode']).reset_index(drop=True)\n"
     ]
    }
   ],
   "source": [
    "zipcode_df = pd.concat([zipcode_df,zipcode],0).drop_duplicates(subset=['postcode']).reset_index(drop=True)"
   ]
  },
  {
   "cell_type": "code",
   "execution_count": 9,
   "metadata": {},
   "outputs": [],
   "source": [
    "zipcode_df = zipcode_df.drop(['zipcode'], axis=1)"
   ]
  },
  {
   "cell_type": "markdown",
   "metadata": {},
   "source": [
    "# Add Coord into df_pararius"
   ]
  },
  {
   "cell_type": "code",
   "execution_count": 10,
   "metadata": {},
   "outputs": [],
   "source": [
    "zipcode_df = zipcode_df.rename(columns={'zipcode':'postcode'})\n",
    "df_pararius_coo=pd.merge(df_pararius, zipcode_df, on='postcode',how='left')"
   ]
  },
  {
   "cell_type": "markdown",
   "metadata": {},
   "source": [
    "# organizing before saving"
   ]
  },
  {
   "cell_type": "code",
   "execution_count": 11,
   "metadata": {},
   "outputs": [],
   "source": [
    "df_pararius_coo = df_pararius_coo.fillna(0).drop_duplicates(subset=['irl']).reset_index(drop=True)"
   ]
  },
  {
   "cell_type": "code",
   "execution_count": 12,
   "metadata": {},
   "outputs": [],
   "source": [
    "df_pararius_coo.loc[df_pararius_coo['interior']==0, 'interior'] = 'Upholstered'\n",
    "df_pararius_coo.loc[df_pararius_coo['status']==0, 'status'] = 'Free'"
   ]
  },
  {
   "cell_type": "code",
   "execution_count": 13,
   "metadata": {},
   "outputs": [],
   "source": [
    "df_pararius_coo['city'] = df_pararius_coo['irl'].str.split(\"/\",expand=True)[2].str.replace(\"-\", \" \").str.title()"
   ]
  },
  {
   "cell_type": "code",
   "execution_count": 14,
   "metadata": {},
   "outputs": [],
   "source": [
    "# prepare link on streamlit\n",
    "df_pararius_coo['url'] = 'https://www.pararius.com' + df_pararius_coo['irl']\n",
    "df_pararius_coo['link'] = \"<a target='_blank' href=\" + (df_pararius_coo['url']).astype(str) + \">\" + (df_pararius_coo['street']).astype(str) + \"</a>\"\n",
    "df_pararius_coo['img'] = \"<a href=\" + df_pararius_coo['url'] + \" target='blank'><img src=\" + df_pararius_coo['image'] + \"title='rent' width='150' height='100'/></a>\""
   ]
  },
  {
   "cell_type": "markdown",
   "metadata": {},
   "source": [
    "# save data"
   ]
  },
  {
   "cell_type": "code",
   "execution_count": 15,
   "metadata": {},
   "outputs": [],
   "source": [
    "df_pararius_coo.to_csv('app/df_coo_pararius.csv')\n",
    "zipcode_df.to_csv('data/processed/zipcode.csv')"
   ]
  }
 ],
 "metadata": {
  "kernelspec": {
   "display_name": "Python 3",
   "language": "python",
   "name": "python3"
  },
  "language_info": {
   "codemirror_mode": {
    "name": "ipython",
    "version": 3
   },
   "file_extension": ".py",
   "mimetype": "text/x-python",
   "name": "python",
   "nbconvert_exporter": "python",
   "pygments_lexer": "ipython3",
   "version": "3.8.5"
  }
 },
 "nbformat": 4,
 "nbformat_minor": 4
}
