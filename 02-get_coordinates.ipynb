{
 "cells": [
  {
   "cell_type": "markdown",
   "metadata": {},
   "source": [
    "# libs"
   ]
  },
  {
   "cell_type": "code",
   "execution_count": 1,
   "metadata": {},
   "outputs": [],
   "source": [
    "from geopy.geocoders import Nominatim\n",
    "import pandas as pd\n",
    "from scipy import spatial\n",
    "import glob"
   ]
  },
  {
   "cell_type": "markdown",
   "metadata": {},
   "source": [
    "# all zipcodes"
   ]
  },
  {
   "cell_type": "code",
   "execution_count": 2,
   "metadata": {},
   "outputs": [],
   "source": [
    "zipcode_df = pd.read_csv('data/processed/zipcode.csv',index_col=[0])\n",
    "\n",
    "zipcode_df = zipcode_df.rename(columns={\n",
    "    'Latitude':'latitude',\n",
    "    'Longitude':'longitude',\n",
    "})"
   ]
  },
  {
   "cell_type": "markdown",
   "metadata": {},
   "source": [
    "# all df_pararius"
   ]
  },
  {
   "cell_type": "code",
   "execution_count": 3,
   "metadata": {},
   "outputs": [],
   "source": [
    "all_files = glob.glob(\"data/temp/df_pararius_*.csv\")\n",
    "li = []\n",
    "\n",
    "for filename in all_files:\n",
    "    df = pd.read_csv(filename, index_col=[0])\n",
    "    li.append(df)\n",
    "\n",
    "df_pararius = pd.concat(li, axis=0, ignore_index=True)"
   ]
  },
  {
   "cell_type": "markdown",
   "metadata": {},
   "source": [
    "# What is new?"
   ]
  },
  {
   "cell_type": "code",
   "execution_count": 4,
   "metadata": {
    "scrolled": true
   },
   "outputs": [
    {
     "name": "stdout",
     "output_type": "stream",
     "text": [
      "20\n"
     ]
    }
   ],
   "source": [
    "temp1 = df_pararius['postcode'].unique()\n",
    "temp2 = zipcode_df['postcode'].unique()\n",
    "cep = list(set(temp1) - set(temp2))\n",
    "print(len(cep))"
   ]
  },
  {
   "cell_type": "code",
   "execution_count": 5,
   "metadata": {
    "scrolled": true
   },
   "outputs": [
    {
     "name": "stdout",
     "output_type": "stream",
     "text": [
      "bom -  1066LH\n",
      "bom -  2517LB\n",
      "bom -  3545DC\n",
      "bom -  5521WX\n",
      "bom -  1019VR\n",
      "bom -  2611DV\n",
      "bom -  1341CL\n",
      "bom -  2592EX\n",
      "bom -  7773DG\n",
      "erro -  2595BX\n",
      "bom -  2265BT\n",
      "bom -  3648LC\n",
      "bom -  3253MS\n",
      "bom -  3541HA\n",
      "bom -  4711SJ\n",
      "bom -  2553DN\n",
      "bom -  3931XZ\n",
      "bom -  5961RV\n",
      "erro -  2595BW\n",
      "bom -  3015GL\n"
     ]
    }
   ],
   "source": [
    "geolocator = Nominatim(user_agent=\"myGeocoder\")\n",
    "post_code=[]\n",
    "erro_code=[]\n",
    "\n",
    "for zipcode in cep[:]:\n",
    "    try:\n",
    "        dict_zip = {\n",
    "            'zipcode':zipcode, \n",
    "            'geolocator':geolocator.geocode(zipcode).address, \n",
    "            'latitude':geolocator.geocode(zipcode).latitude, \n",
    "            'longitude':geolocator.geocode(zipcode).longitude, \n",
    "        }\n",
    "        post_code.append(dict_zip)\n",
    "        print('bom - ',zipcode)\n",
    "\n",
    "    except:\n",
    "        print('erro - ',zipcode)\n",
    "        erro_code.append(zipcode)"
   ]
  },
  {
   "cell_type": "code",
   "execution_count": 6,
   "metadata": {},
   "outputs": [
    {
     "name": "stderr",
     "output_type": "stream",
     "text": [
      "<ipython-input-6-484058219571>:5: FutureWarning: In a future version of pandas all arguments of DataFrame.drop except for the argument 'labels' will be keyword-only\n",
      "  zipcode = zipcode.drop(['geolocator'],1)\n"
     ]
    },
    {
     "data": {
      "text/html": [
       "<div>\n",
       "<style scoped>\n",
       "    .dataframe tbody tr th:only-of-type {\n",
       "        vertical-align: middle;\n",
       "    }\n",
       "\n",
       "    .dataframe tbody tr th {\n",
       "        vertical-align: top;\n",
       "    }\n",
       "\n",
       "    .dataframe thead th {\n",
       "        text-align: right;\n",
       "    }\n",
       "</style>\n",
       "<table border=\"1\" class=\"dataframe\">\n",
       "  <thead>\n",
       "    <tr style=\"text-align: right;\">\n",
       "      <th></th>\n",
       "      <th>zipcode</th>\n",
       "      <th>latitude</th>\n",
       "      <th>longitude</th>\n",
       "      <th>Plaats</th>\n",
       "      <th>Provincie</th>\n",
       "    </tr>\n",
       "  </thead>\n",
       "  <tbody>\n",
       "    <tr>\n",
       "      <th>0</th>\n",
       "      <td>1066LH</td>\n",
       "      <td>52.341948</td>\n",
       "      <td>4.826624</td>\n",
       "      <td>Amsterdam</td>\n",
       "      <td>Noord-Holland</td>\n",
       "    </tr>\n",
       "    <tr>\n",
       "      <th>1</th>\n",
       "      <td>2517LB</td>\n",
       "      <td>52.085374</td>\n",
       "      <td>4.275228</td>\n",
       "      <td>Den Haag</td>\n",
       "      <td>Zuid-Holland</td>\n",
       "    </tr>\n",
       "    <tr>\n",
       "      <th>2</th>\n",
       "      <td>3545DC</td>\n",
       "      <td>52.077211</td>\n",
       "      <td>5.065480</td>\n",
       "      <td>Utrecht</td>\n",
       "      <td>Nederland</td>\n",
       "    </tr>\n",
       "    <tr>\n",
       "      <th>3</th>\n",
       "      <td>5521WX</td>\n",
       "      <td>51.356630</td>\n",
       "      <td>5.330286</td>\n",
       "      <td>Eersel</td>\n",
       "      <td>Noord-Brabant</td>\n",
       "    </tr>\n",
       "    <tr>\n",
       "      <th>4</th>\n",
       "      <td>1019VR</td>\n",
       "      <td>52.368184</td>\n",
       "      <td>4.954946</td>\n",
       "      <td>Amsterdam</td>\n",
       "      <td>Noord-Holland</td>\n",
       "    </tr>\n",
       "    <tr>\n",
       "      <th>5</th>\n",
       "      <td>2611DV</td>\n",
       "      <td>52.005150</td>\n",
       "      <td>4.356429</td>\n",
       "      <td>Delft</td>\n",
       "      <td>Zuid-Holland</td>\n",
       "    </tr>\n",
       "    <tr>\n",
       "      <th>6</th>\n",
       "      <td>1341CL</td>\n",
       "      <td>52.358668</td>\n",
       "      <td>5.278395</td>\n",
       "      <td>Almere</td>\n",
       "      <td>Flevoland</td>\n",
       "    </tr>\n",
       "    <tr>\n",
       "      <th>7</th>\n",
       "      <td>2592EX</td>\n",
       "      <td>52.085850</td>\n",
       "      <td>4.356995</td>\n",
       "      <td>Den Haag</td>\n",
       "      <td>Zuid-Holland</td>\n",
       "    </tr>\n",
       "    <tr>\n",
       "      <th>8</th>\n",
       "      <td>7773DG</td>\n",
       "      <td>52.582108</td>\n",
       "      <td>6.603512</td>\n",
       "      <td>Hardenberg</td>\n",
       "      <td>Overijssel</td>\n",
       "    </tr>\n",
       "    <tr>\n",
       "      <th>9</th>\n",
       "      <td>2265BT</td>\n",
       "      <td>52.081247</td>\n",
       "      <td>4.393413</td>\n",
       "      <td>Leidschendam</td>\n",
       "      <td>Leidschendam-Voorburg</td>\n",
       "    </tr>\n",
       "    <tr>\n",
       "      <th>10</th>\n",
       "      <td>3648LC</td>\n",
       "      <td>52.202789</td>\n",
       "      <td>4.891560</td>\n",
       "      <td>Wilnis</td>\n",
       "      <td>De Ronde Venen</td>\n",
       "    </tr>\n",
       "    <tr>\n",
       "      <th>11</th>\n",
       "      <td>3253MS</td>\n",
       "      <td>51.824008</td>\n",
       "      <td>3.930127</td>\n",
       "      <td>Ouddorp</td>\n",
       "      <td>Goeree-Overflakkee</td>\n",
       "    </tr>\n",
       "    <tr>\n",
       "      <th>12</th>\n",
       "      <td>3541HA</td>\n",
       "      <td>52.089344</td>\n",
       "      <td>5.075015</td>\n",
       "      <td>Utrecht</td>\n",
       "      <td>Nederland</td>\n",
       "    </tr>\n",
       "    <tr>\n",
       "      <th>13</th>\n",
       "      <td>4711SJ</td>\n",
       "      <td>51.555498</td>\n",
       "      <td>4.595887</td>\n",
       "      <td>St. Willebrord</td>\n",
       "      <td>Rucphen</td>\n",
       "    </tr>\n",
       "    <tr>\n",
       "      <th>14</th>\n",
       "      <td>2553DN</td>\n",
       "      <td>52.040008</td>\n",
       "      <td>4.232102</td>\n",
       "      <td>Den Haag</td>\n",
       "      <td>Zuid-Holland</td>\n",
       "    </tr>\n",
       "    <tr>\n",
       "      <th>15</th>\n",
       "      <td>3931XZ</td>\n",
       "      <td>52.085926</td>\n",
       "      <td>5.415323</td>\n",
       "      <td>Woudenberg</td>\n",
       "      <td>Utrecht</td>\n",
       "    </tr>\n",
       "    <tr>\n",
       "      <th>16</th>\n",
       "      <td>5961RV</td>\n",
       "      <td>51.453458</td>\n",
       "      <td>6.041077</td>\n",
       "      <td>Horst</td>\n",
       "      <td>Horst aan de Maas</td>\n",
       "    </tr>\n",
       "    <tr>\n",
       "      <th>17</th>\n",
       "      <td>3015GL</td>\n",
       "      <td>51.908702</td>\n",
       "      <td>4.464320</td>\n",
       "      <td>Centrum</td>\n",
       "      <td>Rotterdam</td>\n",
       "    </tr>\n",
       "  </tbody>\n",
       "</table>\n",
       "</div>"
      ],
      "text/plain": [
       "   zipcode   latitude  longitude          Plaats               Provincie\n",
       "0   1066LH  52.341948   4.826624       Amsterdam           Noord-Holland\n",
       "1   2517LB  52.085374   4.275228        Den Haag            Zuid-Holland\n",
       "2   3545DC  52.077211   5.065480         Utrecht               Nederland\n",
       "3   5521WX  51.356630   5.330286          Eersel           Noord-Brabant\n",
       "4   1019VR  52.368184   4.954946       Amsterdam           Noord-Holland\n",
       "5   2611DV  52.005150   4.356429           Delft            Zuid-Holland\n",
       "6   1341CL  52.358668   5.278395          Almere               Flevoland\n",
       "7   2592EX  52.085850   4.356995        Den Haag            Zuid-Holland\n",
       "8   7773DG  52.582108   6.603512      Hardenberg              Overijssel\n",
       "9   2265BT  52.081247   4.393413    Leidschendam   Leidschendam-Voorburg\n",
       "10  3648LC  52.202789   4.891560          Wilnis          De Ronde Venen\n",
       "11  3253MS  51.824008   3.930127         Ouddorp      Goeree-Overflakkee\n",
       "12  3541HA  52.089344   5.075015         Utrecht               Nederland\n",
       "13  4711SJ  51.555498   4.595887  St. Willebrord                 Rucphen\n",
       "14  2553DN  52.040008   4.232102        Den Haag            Zuid-Holland\n",
       "15  3931XZ  52.085926   5.415323      Woudenberg                 Utrecht\n",
       "16  5961RV  51.453458   6.041077           Horst       Horst aan de Maas\n",
       "17  3015GL  51.908702   4.464320         Centrum               Rotterdam"
      ]
     },
     "execution_count": 6,
     "metadata": {},
     "output_type": "execute_result"
    }
   ],
   "source": [
    "zipcode = pd.DataFrame(post_code)\n",
    "splited = zipcode['geolocator'].str.split(\",\",expand=True)\n",
    "zipcode['Plaats'] = splited[0]\n",
    "zipcode['Provincie'] = splited[1]\n",
    "zipcode = zipcode.drop(['geolocator'],1)\n",
    "zipcode"
   ]
  },
  {
   "cell_type": "markdown",
   "metadata": {},
   "source": [
    "# Manual Coordinates"
   ]
  },
  {
   "cell_type": "markdown",
   "metadata": {},
   "source": [
    "## Not Found"
   ]
  },
  {
   "cell_type": "code",
   "execution_count": 7,
   "metadata": {},
   "outputs": [
    {
     "data": {
      "text/plain": [
       "['2595BX', '2595BW']"
      ]
     },
     "execution_count": 7,
     "metadata": {},
     "output_type": "execute_result"
    }
   ],
   "source": [
    "erro_code"
   ]
  },
  {
   "cell_type": "markdown",
   "metadata": {},
   "source": [
    "## Add manually [Source](https://postcodebijadres.nl/2511EX)"
   ]
  },
  {
   "cell_type": "code",
   "execution_count": 8,
   "metadata": {},
   "outputs": [],
   "source": [
    "# df_2511EX = pd.DataFrame({})\n",
    "# df_2511EX['Plaats'] = ['Schiphol']\n",
    "# df_2511EX['Provincie'] = ['Noord-Holland']\n",
    "# df_2511EX['latitude'] = 52.2921522\n",
    "# df_2511EX['longitude'] = 4.7552736\n",
    "# df_2511EX['postcode'] = '1118LL'\n",
    "# zipcode_df = pd.concat([zipcode_df,df_2511EX],0)\n",
    "# zipcode_df.tail()"
   ]
  },
  {
   "cell_type": "markdown",
   "metadata": {},
   "source": [
    "# Save list zipcodes"
   ]
  },
  {
   "cell_type": "code",
   "execution_count": 9,
   "metadata": {},
   "outputs": [
    {
     "name": "stderr",
     "output_type": "stream",
     "text": [
      "<ipython-input-9-815d2116adb3>:1: FutureWarning: In a future version of pandas all arguments of concat except for the argument 'objs' will be keyword-only\n",
      "  zipcode_df = pd.concat([zipcode_df,zipcode],0).drop_duplicates(subset=['postcode']).reset_index(drop=True)\n"
     ]
    }
   ],
   "source": [
    "zipcode_df = pd.concat([zipcode_df,zipcode],0).drop_duplicates(subset=['postcode']).reset_index(drop=True)"
   ]
  },
  {
   "cell_type": "code",
   "execution_count": 10,
   "metadata": {},
   "outputs": [],
   "source": [
    "zipcode_df = zipcode_df.drop(['zipcode'], axis=1)"
   ]
  },
  {
   "cell_type": "markdown",
   "metadata": {},
   "source": [
    "# Add Coord into df_pararius"
   ]
  },
  {
   "cell_type": "code",
   "execution_count": 11,
   "metadata": {},
   "outputs": [],
   "source": [
    "zipcode_df = zipcode_df.rename(columns={'zipcode':'postcode'})\n",
    "df_pararius_coo=pd.merge(df_pararius, zipcode_df, on='postcode',how='left')"
   ]
  },
  {
   "cell_type": "markdown",
   "metadata": {},
   "source": [
    "# Final info"
   ]
  },
  {
   "cell_type": "code",
   "execution_count": 12,
   "metadata": {},
   "outputs": [],
   "source": [
    "df_pararius_coo = df_pararius_coo[df_pararius_coo['date'] == df_pararius_coo['date'].max()].reset_index(drop=True)"
   ]
  },
  {
   "cell_type": "code",
   "execution_count": 13,
   "metadata": {},
   "outputs": [],
   "source": [
    "df_pararius_coo = df_pararius_coo.fillna(0).drop_duplicates(subset=['irl']).reset_index(drop=True)"
   ]
  },
  {
   "cell_type": "code",
   "execution_count": 14,
   "metadata": {},
   "outputs": [],
   "source": [
    "df_pararius_coo.loc[df_pararius_coo['interior']==0, 'interior'] = 'Upholstered'\n",
    "df_pararius_coo.loc[df_pararius_coo['status']==0, 'status'] = 'Free'"
   ]
  },
  {
   "cell_type": "code",
   "execution_count": 15,
   "metadata": {},
   "outputs": [],
   "source": [
    "df_pararius_coo['price'] = df_pararius_coo['price'].astype(float)"
   ]
  },
  {
   "cell_type": "code",
   "execution_count": 16,
   "metadata": {},
   "outputs": [],
   "source": [
    "# prepare link on streamlit\n",
    "df_pararius_coo['url'] = 'https://www.pararius.com' + df_pararius_coo['irl']\n",
    "df_pararius_coo['link'] = \"<a target='_blank' href=\" + (df_pararius_coo['url']).astype(str) + \">\" + (df_pararius_coo['street']).astype(str) + \"</a>\"\n",
    "df_pararius_coo['img'] = \"<a href=\" + df_pararius_coo['url'] + \" target='blank'><img src=\" + df_pararius_coo['image'] + \"title='rent' width='150' height='100'/></a>\""
   ]
  },
  {
   "cell_type": "code",
   "execution_count": 17,
   "metadata": {},
   "outputs": [],
   "source": [
    "try:\n",
    "    stations = pd.read_csv('https://raw.githubusercontent.com/trainline-eu/stations/master/stations.csv', sep=';',low_memory=False)\n",
    "    stations.to_csv('data/processed/stations.csv')\n",
    "except:\n",
    "    print('local')\n",
    "    stations = pd.read_csv('data/processed/stations.csv')\n",
    "    \n",
    "stations = stations[stations['country']=='NL'][['name','latitude', 'longitude']]\n",
    "stations = stations[stations['latitude'].notna()].reset_index(drop=True)\n",
    "\n",
    "\n",
    "coordinates_1 = list(zip(df_pararius_coo['latitude'], df_pararius_coo['longitude']))\n",
    "coordinates_2 = list(zip(stations['latitude'], stations['longitude']))\n",
    "tree = spatial.KDTree(coordinates_2)\n",
    "\n",
    "\n",
    "distance=[]\n",
    "for i in range(len(df_pararius_coo)):\n",
    "    teste = coordinates_1[i]\n",
    "    distance.append(tree.query(teste)[0])\n",
    "\n",
    "    \n",
    "df_pararius_coo['train'] = distance"
   ]
  },
  {
   "cell_type": "code",
   "execution_count": 18,
   "metadata": {},
   "outputs": [],
   "source": [
    "# clc_area   = ((df_pararius_coo['Living area'] - df_pararius_coo['Living area'].mean())/df_pararius_coo['Living area'].std())\n",
    "# clc_room   = ((df_pararius_coo['Rooms'] - df_pararius_coo['Rooms'].mean())/df_pararius_coo['Rooms'].std())\n",
    "# clc_garden = ((df_pararius_coo['garden area'] - df_pararius_coo['garden area'].mean())/df_pararius_coo['garden area'].std())\n",
    "# clc_price  = ((df_pararius_coo['price'] - df_pararius_coo['price'].mean())/df_pararius_coo['price'].std())\n",
    "# clc_train  = ((df_pararius_coo['train'] - df_pararius_coo['train'].mean())/df_pararius_coo['train'].std())"
   ]
  },
  {
   "cell_type": "code",
   "execution_count": 19,
   "metadata": {},
   "outputs": [],
   "source": [
    "clc_area   = df_pararius_coo['Living area']\n",
    "clc_room   = df_pararius_coo['Rooms']\n",
    "clc_garden = df_pararius_coo['garden area']\n",
    "clc_price  = df_pararius_coo['price']\n",
    "clc_train  = df_pararius_coo['train'] "
   ]
  },
  {
   "cell_type": "code",
   "execution_count": 20,
   "metadata": {},
   "outputs": [],
   "source": [
    "# df_pararius_coo['deal'] = 100 * ((3*clc_area + clc_room + 2*clc_garden) / (3*clc_price + 2*clc_train))\n",
    "df_pararius_coo['deal'] = ((clc_area + clc_room + clc_garden) / (clc_price + clc_train))"
   ]
  },
  {
   "cell_type": "markdown",
   "metadata": {},
   "source": [
    "# Save results"
   ]
  },
  {
   "cell_type": "code",
   "execution_count": 21,
   "metadata": {},
   "outputs": [],
   "source": [
    "df_pararius_coo['city'] = df_pararius_coo['irl'].str.split(\"/\",expand=True)[2].str.replace(\"-\", \" \").str.title()"
   ]
  },
  {
   "cell_type": "code",
   "execution_count": 22,
   "metadata": {},
   "outputs": [],
   "source": [
    "df_pararius_coo.to_csv('app/df_coo_pararius.csv')\n",
    "zipcode_df.to_csv('data/processed/zipcode.csv')"
   ]
  },
  {
   "cell_type": "code",
   "execution_count": null,
   "metadata": {},
   "outputs": [],
   "source": []
  }
 ],
 "metadata": {
  "kernelspec": {
   "display_name": "Python 3",
   "language": "python",
   "name": "python3"
  },
  "language_info": {
   "codemirror_mode": {
    "name": "ipython",
    "version": 3
   },
   "file_extension": ".py",
   "mimetype": "text/x-python",
   "name": "python",
   "nbconvert_exporter": "python",
   "pygments_lexer": "ipython3",
   "version": "3.8.5"
  }
 },
 "nbformat": 4,
 "nbformat_minor": 4
}
